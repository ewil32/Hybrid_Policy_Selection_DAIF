{
 "cells": [
  {
   "cell_type": "markdown",
   "metadata": {
    "collapsed": true,
    "pycharm": {
     "name": "#%% md\n"
    }
   },
   "source": [
    "# The Habitual Action Network\n",
    "\n",
    "Habitual network\n",
    "\n",
    "Assuming generative model is perfect, then action selected would always be the action that maximises chance of observing prior preferences. Hence habitual network can be trained to output maximally rewarding actions, as these actions are the free energy minimising actions.\n",
    "\n",
    "Also has a nice interpretation as long as the generative models keep training. Eventually the generative model is less sure about old things. Why people eventually revisit old states they were previously certain about.\n",
    "\n",
    "As far as an agent knows, if observations are confirming perfectly to expectations then it has a perfect world model. So why would it change it? It’s only when an uncertain observation comes in that the agent needs to reconsider whether or not it has the best model of the world.\n",
    "\n",
    "\n",
    "I think this network should be performing policy gradient method but instead of minimising the discounted reward sequence it should minimise the discounted external EFE/FEEF component sequence. That way in the end the end the fast and slow thinking methods should be converging as the world model continues to improve\n",
    "\n",
    "\n",
    "What is this network trying to learn?\n",
    "- This network is trying to learn the state action mapping that maximises the probability of being in the preferred states\n",
    "- It is also trying to learn to output actions that maximise the extrinsic part of the EFE/FEEF\n",
    "\n",
    "\n",
    "What does this network take as input?\n",
    "- Current state\n",
    "- Maybe sequence of previous states and actions\n",
    "\n",
    "What should this network output?\n",
    "- The action that leads to the next state that maximally achieves the prior preferences\n",
    "\n",
    "How should this network learn?\n",
    "- It should learn by outputting\n",
    "\n"
   ]
  },
  {
   "cell_type": "code",
   "execution_count": 1,
   "outputs": [],
   "source": [
    "from util import random_observation_sequence, transform_observations\n",
    "import matplotlib.pyplot as plt\n",
    "import gym"
   ],
   "metadata": {
    "collapsed": false,
    "pycharm": {
     "name": "#%%\n"
    }
   }
  },
  {
   "cell_type": "code",
   "execution_count": 2,
   "outputs": [],
   "source": [
    "import tensorflow as tf\n",
    "import tensorflow_probability as tfp\n",
    "import keras\n",
    "from keras import layers\n",
    "import numpy as np\n",
    "import matplotlib.pyplot as plt\n",
    "\n",
    "# Hide GPU from visible devices\n",
    "tf.config.set_visible_devices([], 'GPU')"
   ],
   "metadata": {
    "collapsed": false,
    "pycharm": {
     "name": "#%%\n"
    }
   }
  },
  {
   "cell_type": "code",
   "execution_count": 3,
   "outputs": [
    {
     "data": {
      "text/plain": "array([1.        , 0.99      , 0.9801    , 0.970299  , 0.96059601])"
     },
     "execution_count": 3,
     "metadata": {},
     "output_type": "execute_result"
    }
   ],
   "source": [
    "gamma = np.ones(5)*0.99\n",
    "rewards = np.array([-1,-1,-1,-1, 1]).reshape((5,1))\n",
    "gamma_t = np.power(gamma, np.arange(rewards.shape[0]))\n",
    "gamma_t"
   ],
   "metadata": {
    "collapsed": false,
    "pycharm": {
     "name": "#%%\n"
    }
   }
  },
  {
   "cell_type": "code",
   "execution_count": 4,
   "outputs": [
    {
     "name": "stdout",
     "output_type": "stream",
     "text": [
      "(200, 2) (200, 1) (200, 1)\n"
     ]
    }
   ],
   "source": [
    "env = gym.make('MountainCarContinuous-v0')\n",
    "env.action_space.seed(42)\n",
    "\n",
    "observation_max = np.array([0.6, 0.07])\n",
    "observation_min = np.array([-1.2, -0.07])\n",
    "\n",
    "all_observations = []\n",
    "all_observations_scaled = []\n",
    "actions = []\n",
    "rewards = []\n",
    "num_episodes = 1\n",
    "\n",
    "# obs_stddev = [0.05, 0.05]\n",
    "obs_stddev = [0, 0]\n",
    "\n",
    "t_max = 200\n",
    "\n",
    "for i in range(num_episodes):\n",
    "    o, a, r = random_observation_sequence(env, t_max, epsilon=0.1)\n",
    "    # o_scaled = transform_observations(o, observation_max, observation_min, [0.05, 0.05])\n",
    "    # o_scaled = transform_observations(o, observation_max, observation_min, obs_stddev)\n",
    "    o_scaled = o\n",
    "    actions.append(a)\n",
    "\n",
    "    rewards.append(r)\n",
    "\n",
    "    # o = transform_observations(o, observation_max, observation_min, [0, 0])\n",
    "\n",
    "    all_observations_scaled.append(o_scaled)\n",
    "    all_observations.append(o[:-1])\n",
    "\n",
    "all_observations = np.vstack(all_observations)\n",
    "all_observations_scaled = np.vstack(all_observations_scaled)\n",
    "actions = np.vstack(actions)\n",
    "rewards = np.vstack(rewards).T\n",
    "# rewards = rewards.reshape(rewards.shape[0])\n",
    "print(all_observations.shape, actions.shape, rewards.shape)"
   ],
   "metadata": {
    "collapsed": false,
    "pycharm": {
     "name": "#%%\n"
    }
   }
  },
  {
   "cell_type": "code",
   "execution_count": 5,
   "outputs": [
    {
     "data": {
      "text/plain": "array([[-5.80922246e-01,  0.00000000e+00],\n       [-5.80871999e-01,  5.02401053e-05],\n       [-5.80771863e-01,  1.00109006e-04],\n       [-5.80622613e-01,  1.49237923e-04],\n       [-5.80425322e-01,  1.97263857e-04],\n       [-5.80181479e-01,  2.43831630e-04],\n       [-5.79562306e-01,  6.19182480e-04],\n       [-5.78572333e-01,  9.89955617e-04],\n       [-5.77218950e-01,  1.35340646e-03],\n       [-5.75512111e-01,  1.70684129e-03],\n       [-5.73464453e-01,  2.04763492e-03],\n       [-5.71091175e-01,  2.37324974e-03],\n       [-5.68409920e-01,  2.68125441e-03],\n       [-5.65440595e-01,  2.96934228e-03],\n       [-5.62205255e-01,  3.23534803e-03],\n       [-5.57418704e-01,  4.78656217e-03],\n       [-5.51116586e-01,  6.30208896e-03],\n       [-5.43346047e-01,  7.77055090e-03],\n       [-5.34165144e-01,  9.18088108e-03],\n       [-5.23642719e-01,  1.05224280e-02],\n       [-5.11857629e-01,  1.17850704e-02],\n       [-4.98898298e-01,  1.29593424e-02],\n       [-4.84861732e-01,  1.40365707e-02],\n       [-4.69852716e-01,  1.50090083e-02],\n       [-4.53982741e-01,  1.58699695e-02],\n       [-4.37368780e-01,  1.66139491e-02],\n       [-4.20132041e-01,  1.72367264e-02],\n       [-4.02396590e-01,  1.77354403e-02],\n       [-3.84287953e-01,  1.81086343e-02],\n       [-3.65931690e-01,  1.83562674e-02],\n       [-3.47452015e-01,  1.84796788e-02],\n       [-3.28970492e-01,  1.84815247e-02],\n       [-3.10604841e-01,  1.83656644e-02],\n       [-2.92467803e-01,  1.81370303e-02],\n       [-2.74666339e-01,  1.78014673e-02],\n       [-2.57300794e-01,  1.73655506e-02],\n       [-2.40464389e-01,  1.68364011e-02],\n       [-2.24242896e-01,  1.62214972e-02],\n       [-2.08714396e-01,  1.55284991e-02],\n       [-1.93949312e-01,  1.47650773e-02],\n       [-1.80010542e-01,  1.39387688e-02],\n       [-1.66953698e-01,  1.30568501e-02],\n       [-1.54827461e-01,  1.21262390e-02],\n       [-1.43674046e-01,  1.11534176e-02],\n       [-1.33529663e-01,  1.01443818e-02],\n       [-1.24425046e-01,  9.10461601e-03],\n       [-1.16385959e-01,  8.03908333e-03],\n       [-1.09433718e-01,  6.95224293e-03],\n       [-1.03585638e-01,  5.84807666e-03],\n       [-9.88555029e-02,  4.73013334e-03],\n       [-9.52539220e-02,  3.60158202e-03],\n       [-9.27886441e-02,  2.46527651e-03],\n       [-9.14648175e-02,  1.32382463e-03],\n       [-9.12851542e-02,  1.79663461e-04],\n       [-9.22500193e-02, -9.64862469e-04],\n       [-9.43574384e-02, -2.10742117e-03],\n       [-9.89195257e-02, -4.56208922e-03],\n       [-1.05926499e-01, -7.00697629e-03],\n       [-1.15362465e-01, -9.43596847e-03],\n       [-1.27204359e-01, -1.18418997e-02],\n       [-1.41420588e-01, -1.42162256e-02],\n       [-1.57969341e-01, -1.65487472e-02],\n       [-1.76796734e-01, -1.88273899e-02],\n       [-1.97834820e-01, -2.10380778e-02],\n       [-2.20999524e-01, -2.31647063e-02],\n       [-2.46188775e-01, -2.51892451e-02],\n       [-2.73280770e-01, -2.70919949e-02],\n       [-3.02132756e-01, -2.88519990e-02],\n       [-3.32580388e-01, -3.04476265e-02],\n       [-3.64437670e-01, -3.18572931e-02],\n       [-3.97497982e-01, -3.30603197e-02],\n       [-4.31535810e-01, -3.40378433e-02],\n       [-4.66309547e-01, -3.47737335e-02],\n       [-5.01564980e-01, -3.52554545e-02],\n       [-5.37039757e-01, -3.54747511e-02],\n       [-5.72467864e-01, -3.54281329e-02],\n       [-6.07584953e-01, -3.51170897e-02],\n       [-6.42132938e-01, -3.45479995e-02],\n       [-6.75864697e-01, -3.37317735e-02],\n       [-7.08547950e-01, -3.26832458e-02],\n       [-7.39968300e-01, -3.14203762e-02],\n       [-7.69931674e-01, -2.99633481e-02],\n       [-7.98265338e-01, -2.83336416e-02],\n       [-8.24818492e-01, -2.65531335e-02],\n       [-8.49461794e-01, -2.46433057e-02],\n       [-8.72086406e-01, -2.26245895e-02],\n       [-8.92602265e-01, -2.05158610e-02],\n       [-9.10936356e-01, -1.83341112e-02],\n       [-9.27030623e-01, -1.60942618e-02],\n       [-9.40839767e-01, -1.38091249e-02],\n       [-9.52329218e-01, -1.14894724e-02],\n       [-9.61473405e-01, -9.14420467e-03],\n       [-9.68253970e-01, -6.78058574e-03],\n       [-9.72658515e-01, -4.40453319e-03],\n       [-9.74679470e-01, -2.02094251e-03],\n       [-9.74091053e-01,  5.88410650e-04],\n       [-9.70894217e-01,  3.19680735e-03],\n       [-9.65094328e-01,  5.79987559e-03],\n       [-9.56701636e-01,  8.39270558e-03],\n       [-9.45732236e-01,  1.09694209e-02],\n       [-9.32209492e-01,  1.35227740e-02],\n       [-9.16165709e-01,  1.60437748e-02],\n       [-8.97644341e-01,  1.85213760e-02],\n       [-8.76702130e-01,  2.09422316e-02],\n       [-8.53411555e-01,  2.32905596e-02],\n       [-8.27863395e-01,  2.55481359e-02],\n       [-8.00168931e-01,  2.76944563e-02],\n       [-7.70461857e-01,  2.97070779e-02],\n       [-7.38899708e-01,  3.15621682e-02],\n       [-7.05664456e-01,  3.32352482e-02],\n       [-6.70962334e-01,  3.47021334e-02],\n       [-6.35022342e-01,  3.59399915e-02],\n       [-5.98093867e-01,  3.69284749e-02],\n       [-5.60443044e-01,  3.76508310e-02],\n       [-5.22348166e-01,  3.80948819e-02],\n       [-4.84094381e-01,  3.82537842e-02],\n       [-4.45967913e-01,  3.81264761e-02],\n       [-4.08250123e-01,  3.77177745e-02],\n       [-3.71212006e-01,  3.70381065e-02],\n       [-3.35109115e-01,  3.61028835e-02],\n       [-3.00177485e-01,  3.49316373e-02],\n       [-2.66630560e-01,  3.35469395e-02],\n       [-2.34657302e-01,  3.19732614e-02],\n       [-2.04421446e-01,  3.02358512e-02],\n       [-1.76061749e-01,  2.83597000e-02],\n       [-1.49693072e-01,  2.63686739e-02],\n       [-1.25408232e-01,  2.42848378e-02],\n       [-1.03280261e-01,  2.21279748e-02],\n       [-8.33649561e-02,  1.99153014e-02],\n       [-6.57035932e-02,  1.76613610e-02],\n       [-4.99411449e-02,  1.57624483e-02],\n       [-3.60980108e-02,  1.38431340e-02],\n       [-2.41875518e-02,  1.19104590e-02],\n       [-1.42178349e-02,  9.96971689e-03],\n       [-6.19316474e-03,  8.02467018e-03],\n       [-1.15383664e-04,  6.07778085e-03],\n       [ 4.01507691e-03,  4.13046032e-03],\n       [ 6.19839784e-03,  2.18332116e-03],\n       [ 6.43483084e-03,  2.36432781e-04],\n       [ 4.72440897e-03, -1.71042199e-03],\n       [ 1.06691744e-03, -3.65749141e-03],\n       [-6.16778620e-03, -7.23470375e-03],\n       [-1.69792864e-02, -1.08115012e-02],\n       [-3.13647687e-02, -1.43854842e-02],\n       [-4.93164174e-02, -1.79516505e-02],\n       [-7.08179846e-02, -2.15015635e-02],\n       [-9.58405659e-02, -2.50225794e-02],\n       [-1.24337748e-01, -2.84971781e-02],\n       [-1.56240240e-01, -3.19024883e-02],\n       [-1.91450328e-01, -3.52100804e-02],\n       [-2.29836494e-01, -3.83861698e-02],\n       [-2.71228790e-01, -4.13922891e-02],\n       [-3.15415353e-01, -4.41865735e-02],\n       [-3.62140983e-01, -4.67256308e-02],\n       [-4.11107987e-01, -4.89669889e-02],\n       [-4.61979955e-01, -5.08719720e-02],\n       [-5.13673484e-01, -5.16935177e-02],\n       [-5.66358447e-01, -5.26849441e-02],\n       [-6.19640589e-01, -5.32821231e-02],\n       [-6.73129320e-01, -5.34887351e-02],\n       [-7.26450801e-01, -5.33214919e-02],\n       [-7.79260099e-01, -5.28092831e-02],\n       [-8.29715431e-01, -5.04553206e-02],\n       [-8.77565205e-01, -4.78497706e-02],\n       [-9.22736764e-01, -4.51715589e-02],\n       [-9.65085566e-01, -4.23488058e-02],\n       [-1.00451481e+00, -3.94292697e-02],\n       [-1.04000366e+00, -3.54888067e-02],\n       [-1.07153213e+00, -3.15284580e-02],\n       [-1.09910631e+00, -2.75741853e-02],\n       [-1.12274981e+00, -2.36435067e-02],\n       [-1.14249635e+00, -1.97465178e-02],\n       [-1.15838337e+00, -1.58870630e-02],\n       [-1.17044735e+00, -1.20639233e-02],\n       [-1.17871928e+00, -8.27194750e-03],\n       [-1.18322241e+00, -4.50310716e-03],\n       [-1.18396986e+00, -7.47459766e-04],\n       [-1.18096387e+00,  3.00595723e-03],\n       [-1.17419565e+00,  6.76827412e-03],\n       [-1.16364574e+00,  1.05499430e-02],\n       [-1.14928591e+00,  1.43598672e-02],\n       [-1.13108146e+00,  1.82044636e-02],\n       [-1.10899484e+00,  2.20866501e-02],\n       [-1.08299005e+00,  2.60047410e-02],\n       [-1.05303884e+00,  2.99512725e-02],\n       [-1.01912701e+00,  3.39118205e-02],\n       [-9.81263101e-01,  3.78638916e-02],\n       [-9.39487040e-01,  4.17760722e-02],\n       [-8.93879414e-01,  4.56076190e-02],\n       [-8.44570696e-01,  4.93087322e-02],\n       [-7.91748881e-01,  5.28218150e-02],\n       [-7.35665023e-01,  5.60838692e-02],\n       [-6.79035306e-01,  5.66297360e-02],\n       [-6.22221053e-01,  5.68142310e-02],\n       [-5.65617383e-01,  5.66036664e-02],\n       [-5.09638906e-01,  5.59784845e-02],\n       [-4.54704583e-01,  5.49343266e-02],\n       [-4.01222795e-01,  5.34818023e-02],\n       [-3.49577814e-01,  5.16449735e-02],\n       [-3.00119013e-01,  4.94588129e-02]], dtype=float32)"
     },
     "execution_count": 5,
     "metadata": {},
     "output_type": "execute_result"
    }
   ],
   "source": [
    "all_observations"
   ],
   "metadata": {
    "collapsed": false,
    "pycharm": {
     "name": "#%%\n"
    }
   }
  },
  {
   "cell_type": "code",
   "execution_count": 6,
   "outputs": [
    {
     "ename": "NameError",
     "evalue": "name 'HabitualAction' is not defined",
     "output_type": "error",
     "traceback": [
      "\u001B[0;31m---------------------------------------------------------------------------\u001B[0m",
      "\u001B[0;31mNameError\u001B[0m                                 Traceback (most recent call last)",
      "Input \u001B[0;32mIn [6]\u001B[0m, in \u001B[0;36m<cell line: 1>\u001B[0;34m()\u001B[0m\n\u001B[0;32m----> 1\u001B[0m act_net \u001B[38;5;241m=\u001B[39m \u001B[43mHabitualAction\u001B[49m(\u001B[38;5;241m2\u001B[39m, \u001B[38;5;241m1\u001B[39m, \u001B[38;5;241m10\u001B[39m, [\u001B[38;5;241m100\u001B[39m])\n\u001B[1;32m      3\u001B[0m act_net\u001B[38;5;241m.\u001B[39mcompile(optimizer\u001B[38;5;241m=\u001B[39mtf\u001B[38;5;241m.\u001B[39mkeras\u001B[38;5;241m.\u001B[39moptimizers\u001B[38;5;241m.\u001B[39mAdam())\n\u001B[1;32m      5\u001B[0m act_net\u001B[38;5;241m.\u001B[39mhabit_action_model\u001B[38;5;241m.\u001B[39msummary()\n",
      "\u001B[0;31mNameError\u001B[0m: name 'HabitualAction' is not defined"
     ]
    }
   ],
   "source": [
    "act_net = HabitualAction(2, 1, 10, [100])\n",
    "\n",
    "act_net.compile(optimizer=tf.keras.optimizers.Adam())\n",
    "\n",
    "act_net.habit_action_model.summary()"
   ],
   "metadata": {
    "collapsed": false,
    "pycharm": {
     "name": "#%%\n"
    }
   }
  },
  {
   "cell_type": "code",
   "execution_count": null,
   "outputs": [],
   "source": [
    "# act_net.fit(all_observations, (actions, cum_rewards), batch_size=all_observations.shape[0], epochs=100)\n",
    "\n",
    "# act_net.train_on_batch(all_observations, (actions, cum_rewards))"
   ],
   "metadata": {
    "collapsed": false,
    "pycharm": {
     "name": "#%%\n"
    }
   }
  },
  {
   "cell_type": "markdown",
   "source": [
    "## How about multiple runs?"
   ],
   "metadata": {
    "collapsed": false,
    "pycharm": {
     "name": "#%% md\n"
    }
   }
  },
  {
   "cell_type": "code",
   "execution_count": 7,
   "outputs": [
    {
     "ename": "NameError",
     "evalue": "name 'HabitualAction' is not defined",
     "output_type": "error",
     "traceback": [
      "\u001B[0;31m---------------------------------------------------------------------------\u001B[0m",
      "\u001B[0;31mNameError\u001B[0m                                 Traceback (most recent call last)",
      "Input \u001B[0;32mIn [7]\u001B[0m, in \u001B[0;36m<cell line: 1>\u001B[0;34m()\u001B[0m\n\u001B[0;32m----> 1\u001B[0m act_net \u001B[38;5;241m=\u001B[39m \u001B[43mHabitualAction\u001B[49m(\u001B[38;5;241m2\u001B[39m, \u001B[38;5;241m1\u001B[39m, \u001B[38;5;241m10\u001B[39m, [\u001B[38;5;241m20\u001B[39m, \u001B[38;5;241m20\u001B[39m])\n\u001B[1;32m      3\u001B[0m act_net\u001B[38;5;241m.\u001B[39mcompile(optimizer\u001B[38;5;241m=\u001B[39mtf\u001B[38;5;241m.\u001B[39mkeras\u001B[38;5;241m.\u001B[39moptimizers\u001B[38;5;241m.\u001B[39mAdam())\n\u001B[1;32m      5\u001B[0m act_net\u001B[38;5;241m.\u001B[39mhabit_action_model\u001B[38;5;241m.\u001B[39msummary()\n",
      "\u001B[0;31mNameError\u001B[0m: name 'HabitualAction' is not defined"
     ]
    }
   ],
   "source": [
    "act_net = HabitualAction(2, 1, 10, [20, 20])\n",
    "\n",
    "act_net.compile(optimizer=tf.keras.optimizers.Adam())\n",
    "\n",
    "act_net.habit_action_model.summary()"
   ],
   "metadata": {
    "collapsed": false,
    "pycharm": {
     "name": "#%%\n"
    }
   }
  },
  {
   "cell_type": "code",
   "execution_count": 8,
   "outputs": [
    {
     "ename": "NameError",
     "evalue": "name 'compute_discounted_cumulative_reward' is not defined",
     "output_type": "error",
     "traceback": [
      "\u001B[0;31m---------------------------------------------------------------------------\u001B[0m",
      "\u001B[0;31mNameError\u001B[0m                                 Traceback (most recent call last)",
      "Input \u001B[0;32mIn [8]\u001B[0m, in \u001B[0;36m<cell line: 4>\u001B[0;34m()\u001B[0m\n\u001B[1;32m     21\u001B[0m rewards \u001B[38;5;241m=\u001B[39m np\u001B[38;5;241m.\u001B[39mvstack(rewards)\u001B[38;5;241m.\u001B[39mT\n\u001B[1;32m     22\u001B[0m \u001B[38;5;66;03m# rewards = rewards.reshape(rewards.shape[1])\u001B[39;00m\n\u001B[1;32m     23\u001B[0m \n\u001B[1;32m     24\u001B[0m \u001B[38;5;66;03m# print(all_observations.shape, actions.shape, rewards.shape)\u001B[39;00m\n\u001B[0;32m---> 26\u001B[0m cum_rewards \u001B[38;5;241m=\u001B[39m \u001B[43mcompute_discounted_cumulative_reward\u001B[49m(rewards, \u001B[38;5;241m0.99\u001B[39m)\n\u001B[1;32m     27\u001B[0m \u001B[38;5;66;03m# cum_rewards\u001B[39;00m\n\u001B[1;32m     29\u001B[0m cum_rewards \u001B[38;5;241m=\u001B[39m cum_rewards\n",
      "\u001B[0;31mNameError\u001B[0m: name 'compute_discounted_cumulative_reward' is not defined"
     ]
    }
   ],
   "source": [
    "t_max = 1000\n",
    "num_episodes = 250\n",
    "\n",
    "for i in range(num_episodes):\n",
    "\n",
    "    all_observations = []\n",
    "    actions = []\n",
    "    rewards = []\n",
    "\n",
    "    o, a, r = random_observation_sequence(env, t_max, epsilon=0.1)\n",
    "    # o_scaled = transform_observations(o, observation_max, observation_min, [0.05, 0.05])\n",
    "    o = transform_observations(o, observation_max, observation_min, obs_stddev)\n",
    "    actions.append(a)\n",
    "    rewards.append(r)\n",
    "\n",
    "    all_observations.append(o[:-1])\n",
    "\n",
    "    all_observations = np.vstack(all_observations)\n",
    "    all_observations_scaled = np.vstack(all_observations_scaled)\n",
    "    actions = np.vstack(actions)\n",
    "    rewards = np.vstack(rewards).T\n",
    "    # rewards = rewards.reshape(rewards.shape[1])\n",
    "\n",
    "    # print(all_observations.shape, actions.shape, rewards.shape)\n",
    "\n",
    "    cum_rewards = compute_discounted_cumulative_reward(rewards, 0.99)\n",
    "    # cum_rewards\n",
    "\n",
    "    cum_rewards = cum_rewards\n",
    "\n",
    "    # print(cum_rewards.shape[0])\n",
    "    loss = act_net.train_on_batch(all_observations, (actions, cum_rewards))\n",
    "    print(loss)"
   ],
   "metadata": {
    "collapsed": false,
    "pycharm": {
     "name": "#%%\n"
    }
   }
  },
  {
   "cell_type": "code",
   "execution_count": 9,
   "outputs": [
    {
     "ename": "NameError",
     "evalue": "name 'act_net' is not defined",
     "output_type": "error",
     "traceback": [
      "\u001B[0;31m---------------------------------------------------------------------------\u001B[0m",
      "\u001B[0;31mNameError\u001B[0m                                 Traceback (most recent call last)",
      "Input \u001B[0;32mIn [9]\u001B[0m, in \u001B[0;36m<cell line: 1>\u001B[0;34m()\u001B[0m\n\u001B[0;32m----> 1\u001B[0m \u001B[43mact_net\u001B[49m(all_observations)\n",
      "\u001B[0;31mNameError\u001B[0m: name 'act_net' is not defined"
     ]
    }
   ],
   "source": [
    "act_net(all_observations)"
   ],
   "metadata": {
    "collapsed": false,
    "pycharm": {
     "name": "#%%\n"
    }
   }
  },
  {
   "cell_type": "code",
   "execution_count": 12,
   "outputs": [
    {
     "data": {
      "text/plain": "[<matplotlib.lines.Line2D at 0x17dba66a0>,\n <matplotlib.lines.Line2D at 0x17dba6550>]"
     },
     "execution_count": 12,
     "metadata": {},
     "output_type": "execute_result"
    },
    {
     "data": {
      "text/plain": "<Figure size 432x288 with 1 Axes>",
      "image/png": "[encoded data removed]"
     },
     "metadata": {
      "needs_background": "light"
     },
     "output_type": "display_data"
    }
   ],
   "source": [
    "obs_pos = np.vstack([np.linspace(-1, 1, 100), np.zeros(100)]).T\n",
    "actions_pred = act_net(obs_pos)\n",
    "\n",
    "actions_pred\n",
    "\n",
    "\n",
    "plt.plot(obs_pos, actions_pred)"
   ],
   "metadata": {
    "collapsed": false,
    "pycharm": {
     "name": "#%%\n"
    }
   }
  },
  {
   "cell_type": "code",
   "execution_count": 13,
   "outputs": [
    {
     "name": "stdout",
     "output_type": "stream",
     "text": [
      "tf.Tensor(\n",
      "[[-0.31013045]\n",
      " [-0.304491  ]\n",
      " [-0.29876006]\n",
      " [-0.29300746]\n",
      " [-0.28723356]\n",
      " [-0.2814387 ]\n",
      " [-0.2756233 ]\n",
      " [-0.26978764]\n",
      " [-0.26393202]\n",
      " [-0.25805688]\n",
      " [-0.25216267]\n",
      " [-0.24624962]\n",
      " [-0.24031821]\n",
      " [-0.2343688 ]\n",
      " [-0.22840181]\n",
      " [-0.22241755]\n",
      " [-0.21641651]\n",
      " [-0.2103991 ]\n",
      " [-0.20436564]\n",
      " [-0.1983167 ]\n",
      " [-0.19225259]\n",
      " [-0.18617374]\n",
      " [-0.18008061]\n",
      " [-0.17397363]\n",
      " [-0.16738912]\n",
      " [-0.16059497]\n",
      " [-0.15378556]\n",
      " [-0.14696153]\n",
      " [-0.14012344]\n",
      " [-0.133272  ]\n",
      " [-0.12640776]\n",
      " [-0.11953144]\n",
      " [-0.11264361]\n",
      " [-0.10574493]\n",
      " [-0.09883604]\n",
      " [-0.09191763]\n",
      " [-0.08499034]\n",
      " [-0.07805482]\n",
      " [-0.07111175]\n",
      " [-0.06416176]\n",
      " [-0.05690729]\n",
      " [-0.04948502]\n",
      " [-0.04320386]\n",
      " [-0.03603539]\n",
      " [-0.0242275 ]\n",
      " [-0.00848999]\n",
      " [ 0.00681748]\n",
      " [ 0.02055343]\n",
      " [ 0.03384443]\n",
      " [ 0.04626157]\n",
      " [ 0.05806721]\n",
      " [ 0.0694987 ]\n",
      " [ 0.07780202]\n",
      " [ 0.08919108]\n",
      " [ 0.10048411]\n",
      " [ 0.11039207]\n",
      " [ 0.1189672 ]\n",
      " [ 0.1270141 ]\n",
      " [ 0.13225175]\n",
      " [ 0.13751256]\n",
      " [ 0.14276569]\n",
      " [ 0.14801072]\n",
      " [ 0.15324745]\n",
      " [ 0.1584756 ]\n",
      " [ 0.16369487]\n",
      " [ 0.16890499]\n",
      " [ 0.17410566]\n",
      " [ 0.17904373]\n",
      " [ 0.1842535 ]\n",
      " [ 0.19038433]\n",
      " [ 0.19650035]\n",
      " [ 0.20260108]\n",
      " [ 0.20868619]\n",
      " [ 0.21475513]\n",
      " [ 0.2208075 ]\n",
      " [ 0.22684294]\n",
      " [ 0.23286107]\n",
      " [ 0.23886137]\n",
      " [ 0.24484345]\n",
      " [ 0.250807  ]\n",
      " [ 0.25675154]\n",
      " [ 0.26267675]\n",
      " [ 0.2685822 ]\n",
      " [ 0.2744675 ]\n",
      " [ 0.28033233]\n",
      " [ 0.2861938 ]\n",
      " [ 0.29206586]\n",
      " [ 0.297916  ]\n",
      " [ 0.30374384]\n",
      " [ 0.309549  ]\n",
      " [ 0.31533128]\n",
      " [ 0.32109016]\n",
      " [ 0.32682544]\n",
      " [ 0.3325367 ]\n",
      " [ 0.3382237 ]\n",
      " [ 0.3438861 ]\n",
      " [ 0.34952357]\n",
      " [ 0.3551359 ]\n",
      " [ 0.36072272]\n",
      " [ 0.3662838 ]], shape=(100, 1), dtype=float32)\n"
     ]
    },
    {
     "data": {
      "text/plain": "[<matplotlib.lines.Line2D at 0x17e2bce80>,\n <matplotlib.lines.Line2D at 0x17dbd3c70>]"
     },
     "execution_count": 13,
     "metadata": {},
     "output_type": "execute_result"
    },
    {
     "data": {
      "text/plain": "<Figure size 432x288 with 1 Axes>",
      "image/png": "[encoded data removed]"
     },
     "metadata": {
      "needs_background": "light"
     },
     "output_type": "display_data"
    }
   ],
   "source": [
    "vel_pos = np.vstack([np.zeros(100), np.linspace(-1, 1, 100)]).T\n",
    "actions_pred = act_net(vel_pos)\n",
    "print(actions_pred)\n",
    "\n",
    "plt.plot(obs_pos, actions_pred)"
   ],
   "metadata": {
    "collapsed": false,
    "pycharm": {
     "name": "#%%\n"
    }
   }
  },
  {
   "cell_type": "markdown",
   "source": [
    "## Can it solve the environment?"
   ],
   "metadata": {
    "collapsed": false,
    "pycharm": {
     "name": "#%% md\n"
    }
   }
  },
  {
   "cell_type": "code",
   "execution_count": 14,
   "outputs": [
    {
     "name": "stdout",
     "output_type": "stream",
     "text": [
      "490\n",
      "success\n",
      "99.14761416596713\n"
     ]
    },
    {
     "name": "stderr",
     "output_type": "stream",
     "text": [
      "\n",
      "KeyboardInterrupt\n",
      "\n"
     ]
    }
   ],
   "source": [
    "num_episodes = 10\n",
    "\n",
    "observation_max = np.array([0.6, 0.07])\n",
    "observation_min = np.array([-1.2, -0.07])\n",
    "\n",
    "# obs_stddev = [0.05, 0.05]\n",
    "obs_stddev = [0, 0]\n",
    "\n",
    "\n",
    "t_max = 1000\n",
    "\n",
    "for i in range(num_episodes):\n",
    "\n",
    "    env = gym.make('MountainCarContinuous-v0')\n",
    "\n",
    "    obs = env.reset()\n",
    "\n",
    "    done = False\n",
    "    rewards = []\n",
    "\n",
    "    t = 0\n",
    "    while not done:\n",
    "\n",
    "        env.render()\n",
    "\n",
    "        obs = obs.reshape(1, obs.shape[0])\n",
    "        obs = transform_observations(obs, observation_max, observation_min, obs_stddev)\n",
    "\n",
    "        # print(obs)\n",
    "\n",
    "        action = act_net(obs)\n",
    "        action = action.numpy()\n",
    "\n",
    "        obs, reward, done, info = env.step(action)\n",
    "\n",
    "        # print(obs)\n",
    "\n",
    "        rewards.append(reward)\n",
    "\n",
    "        t += 1\n",
    "\n",
    "        if t == t_max:\n",
    "            done = True\n",
    "\n",
    "    print(t)\n",
    "    if t < t_max:\n",
    "        print(\"success\")\n",
    "    else:\n",
    "        print(\"Failure\")\n",
    "        print(\"max obs\", obs)\n",
    "\n",
    "    print(np.sum(rewards))\n",
    "    # print(rewards)\n",
    "\n",
    "\n",
    "\n",
    "\n",
    "env.close()"
   ],
   "metadata": {
    "collapsed": false,
    "pycharm": {
     "name": "#%%\n"
    }
   }
  },
  {
   "cell_type": "code",
   "execution_count": 13,
   "outputs": [
    {
     "data": {
      "text/plain": "<tf.Tensor: shape=(10000, 1), dtype=float32, numpy=\narray([[-0.409816  ],\n       [-0.4060031 ],\n       [-0.40266117],\n       ...,\n       [ 0.5045513 ],\n       [ 0.50988096],\n       [ 0.5151719 ]], dtype=float32)>"
     },
     "execution_count": 13,
     "metadata": {},
     "output_type": "execute_result"
    }
   ],
   "source": [
    "n = 50\n",
    "both = [[i/n, j/n] for i in range(-1*n, n) for j in range(-1*n, n)]\n",
    "both = np.array(both)\n",
    "both\n",
    "\n",
    "both_acts = act_net(both)\n",
    "\n",
    "both_acts"
   ],
   "metadata": {
    "collapsed": false,
    "pycharm": {
     "name": "#%%\n"
    }
   }
  },
  {
   "cell_type": "code",
   "execution_count": 115,
   "outputs": [
    {
     "data": {
      "text/plain": "array([[-1.  , -1.  ],\n       [-1.  , -0.98],\n       [-1.  , -0.96],\n       ...,\n       [ 0.98,  0.94],\n       [ 0.98,  0.96],\n       [ 0.98,  0.98]])"
     },
     "execution_count": 115,
     "metadata": {},
     "output_type": "execute_result"
    }
   ],
   "source": [
    "n = 50\n",
    "coords = [[i/n, j/n] for i in range(-1*n, n) for j in range(-1*n, n)]\n",
    "coords = np.array(coords)\n",
    "coords\n"
   ],
   "metadata": {
    "collapsed": false,
    "pycharm": {
     "name": "#%%\n"
    }
   }
  },
  {
   "cell_type": "code",
   "execution_count": 101,
   "outputs": [
    {
     "data": {
      "text/plain": "array([[-5. , -4.5, -4. , -3.5, -3. , -2.5, -2. , -1.5, -1. , -0.5,  0. ,\n         0.5,  1. ,  1.5,  2. ,  2.5,  3. ,  3.5,  4. ,  4.5,  5. ],\n       [-5. , -4.5, -4. , -3.5, -3. , -2.5, -2. , -1.5, -1. , -0.5,  0. ,\n         0.5,  1. ,  1.5,  2. ,  2.5,  3. ,  3.5,  4. ,  4.5,  5. ],\n       [-5. , -4.5, -4. , -3.5, -3. , -2.5, -2. , -1.5, -1. , -0.5,  0. ,\n         0.5,  1. ,  1.5,  2. ,  2.5,  3. ,  3.5,  4. ,  4.5,  5. ],\n       [-5. , -4.5, -4. , -3.5, -3. , -2.5, -2. , -1.5, -1. , -0.5,  0. ,\n         0.5,  1. ,  1.5,  2. ,  2.5,  3. ,  3.5,  4. ,  4.5,  5. ],\n       [-5. , -4.5, -4. , -3.5, -3. , -2.5, -2. , -1.5, -1. , -0.5,  0. ,\n         0.5,  1. ,  1.5,  2. ,  2.5,  3. ,  3.5,  4. ,  4.5,  5. ],\n       [-5. , -4.5, -4. , -3.5, -3. , -2.5, -2. , -1.5, -1. , -0.5,  0. ,\n         0.5,  1. ,  1.5,  2. ,  2.5,  3. ,  3.5,  4. ,  4.5,  5. ],\n       [-5. , -4.5, -4. , -3.5, -3. , -2.5, -2. , -1.5, -1. , -0.5,  0. ,\n         0.5,  1. ,  1.5,  2. ,  2.5,  3. ,  3.5,  4. ,  4.5,  5. ],\n       [-5. , -4.5, -4. , -3.5, -3. , -2.5, -2. , -1.5, -1. , -0.5,  0. ,\n         0.5,  1. ,  1.5,  2. ,  2.5,  3. ,  3.5,  4. ,  4.5,  5. ],\n       [-5. , -4.5, -4. , -3.5, -3. , -2.5, -2. , -1.5, -1. , -0.5,  0. ,\n         0.5,  1. ,  1.5,  2. ,  2.5,  3. ,  3.5,  4. ,  4.5,  5. ],\n       [-5. , -4.5, -4. , -3.5, -3. , -2.5, -2. , -1.5, -1. , -0.5,  0. ,\n         0.5,  1. ,  1.5,  2. ,  2.5,  3. ,  3.5,  4. ,  4.5,  5. ],\n       [-5. , -4.5, -4. , -3.5, -3. , -2.5, -2. , -1.5, -1. , -0.5,  0. ,\n         0.5,  1. ,  1.5,  2. ,  2.5,  3. ,  3.5,  4. ,  4.5,  5. ],\n       [-5. , -4.5, -4. , -3.5, -3. , -2.5, -2. , -1.5, -1. , -0.5,  0. ,\n         0.5,  1. ,  1.5,  2. ,  2.5,  3. ,  3.5,  4. ,  4.5,  5. ],\n       [-5. , -4.5, -4. , -3.5, -3. , -2.5, -2. , -1.5, -1. , -0.5,  0. ,\n         0.5,  1. ,  1.5,  2. ,  2.5,  3. ,  3.5,  4. ,  4.5,  5. ],\n       [-5. , -4.5, -4. , -3.5, -3. , -2.5, -2. , -1.5, -1. , -0.5,  0. ,\n         0.5,  1. ,  1.5,  2. ,  2.5,  3. ,  3.5,  4. ,  4.5,  5. ],\n       [-5. , -4.5, -4. , -3.5, -3. , -2.5, -2. , -1.5, -1. , -0.5,  0. ,\n         0.5,  1. ,  1.5,  2. ,  2.5,  3. ,  3.5,  4. ,  4.5,  5. ],\n       [-5. , -4.5, -4. , -3.5, -3. , -2.5, -2. , -1.5, -1. , -0.5,  0. ,\n         0.5,  1. ,  1.5,  2. ,  2.5,  3. ,  3.5,  4. ,  4.5,  5. ],\n       [-5. , -4.5, -4. , -3.5, -3. , -2.5, -2. , -1.5, -1. , -0.5,  0. ,\n         0.5,  1. ,  1.5,  2. ,  2.5,  3. ,  3.5,  4. ,  4.5,  5. ],\n       [-5. , -4.5, -4. , -3.5, -3. , -2.5, -2. , -1.5, -1. , -0.5,  0. ,\n         0.5,  1. ,  1.5,  2. ,  2.5,  3. ,  3.5,  4. ,  4.5,  5. ],\n       [-5. , -4.5, -4. , -3.5, -3. , -2.5, -2. , -1.5, -1. , -0.5,  0. ,\n         0.5,  1. ,  1.5,  2. ,  2.5,  3. ,  3.5,  4. ,  4.5,  5. ],\n       [-5. , -4.5, -4. , -3.5, -3. , -2.5, -2. , -1.5, -1. , -0.5,  0. ,\n         0.5,  1. ,  1.5,  2. ,  2.5,  3. ,  3.5,  4. ,  4.5,  5. ],\n       [-5. , -4.5, -4. , -3.5, -3. , -2.5, -2. , -1.5, -1. , -0.5,  0. ,\n         0.5,  1. ,  1.5,  2. ,  2.5,  3. ,  3.5,  4. ,  4.5,  5. ]])"
     },
     "execution_count": 101,
     "metadata": {},
     "output_type": "execute_result"
    }
   ],
   "source": [
    "x = np.arange(-5, 5.1, 0.5)\n",
    "y = np.arange(-5, 5.1, 0.5)\n",
    "X,Y = np.meshgrid(x,y)\n",
    "\n",
    "X"
   ],
   "metadata": {
    "collapsed": false,
    "pycharm": {
     "name": "#%%\n"
    }
   }
  },
  {
   "cell_type": "code",
   "execution_count": null,
   "outputs": [],
   "source": [],
   "metadata": {
    "collapsed": false,
    "pycharm": {
     "name": "#%%\n"
    }
   }
  }
 ],
 "metadata": {
  "kernelspec": {
   "display_name": "Python 3",
   "language": "python",
   "name": "python3"
  },
  "language_info": {
   "codemirror_mode": {
    "name": "ipython",
    "version": 2
   },
   "file_extension": ".py",
   "mimetype": "text/x-python",
   "name": "python",
   "nbconvert_exporter": "python",
   "pygments_lexer": "ipython2",
   "version": "2.7.6"
  }
 },
 "nbformat": 4,
 "nbformat_minor": 0
}