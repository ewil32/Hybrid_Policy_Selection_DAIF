{
 "cells": [
  {
   "cell_type": "markdown",
   "metadata": {
    "collapsed": true,
    "pycharm": {
     "name": "#%% md\n"
    }
   },
   "source": [
    "# The Habitual Action Network\n",
    "\n",
    "Habitual network\n",
    "\n",
    "Assuming generative model is perfect, then action selected would always be the action that maximises chance of observing prior preferences. Hence habitual network can be trained to output maximally rewarding actions, as these actions are the free energy minimising actions.\n",
    "\n",
    "Also has a nice interpretation as long as the generative models keep training. Eventually the generative model is less sure about old things. Why people eventually revisit old states they were previously certain about.\n",
    "\n",
    "As far as an agent knows, if observations are confirming perfectly to expectations then it has a perfect world model. So why would it change it? It’s only when an uncertain observation comes in that the agent needs to reconsider whether or not it has the best model of the world.\n",
    "\n",
    "\n",
    "I think this network should be performing policy gradient method but instead of minimising the discounted reward sequence it should minimise the discounted external EFE/FEEF component sequence. That way in the end the end the fast and slow thinking methods should be converging as the world model continues to improve\n",
    "\n",
    "\n",
    "What is this network trying to learn?\n",
    "- This network is trying to learn the state action mapping that maximises the probability of being in the preferred states\n",
    "- It is also trying to learn to output actions that maximise the extrinsic part of the EFE/FEEF\n",
    "\n",
    "\n",
    "What does this network take as input?\n",
    "- Current state\n",
    "- Maybe sequence of previous states and actions\n",
    "\n",
    "What should this network output?\n",
    "- The action that leads to the next state that maximally achieves the prior preferences\n",
    "\n",
    "How should this network learn?\n",
    "- It should learn by outputting\n",
    "\n"
   ]
  },
  {
   "cell_type": "code",
   "execution_count": 1,
   "outputs": [],
   "source": [
    "from util import random_observation_sequence, transform_observations\n",
    "import matplotlib.pyplot as plt\n",
    "import gym"
   ],
   "metadata": {
    "collapsed": false,
    "pycharm": {
     "name": "#%%\n"
    }
   }
  },
  {
   "cell_type": "code",
   "execution_count": 2,
   "outputs": [],
   "source": [
    "import tensorflow as tf\n",
    "import tensorflow_probability as tfp\n",
    "import keras\n",
    "from keras import layers\n",
    "import numpy as np\n",
    "import matplotlib.pyplot as plt\n",
    "\n",
    "# Hide GPU from visible devices\n",
    "tf.config.set_visible_devices([], 'GPU')"
   ],
   "metadata": {
    "collapsed": false,
    "pycharm": {
     "name": "#%%\n"
    }
   }
  },
  {
   "cell_type": "code",
   "execution_count": 3,
   "outputs": [],
   "source": [
    "class HabitualAction(keras.Model):\n",
    "\n",
    "    def __init__(self, latent_dim, action_dim, planning_horizon, dense_units, action_std_dev=0.05, **kwargs):\n",
    "        super(HabitualAction, self).__init__(**kwargs)\n",
    "\n",
    "        habit_action_inputs = layers.Input(latent_dim)\n",
    "        h = habit_action_inputs\n",
    "        for d in dense_units:\n",
    "            h = layers.Dense(d, activation=\"relu\")(h)\n",
    "\n",
    "        a_mean = layers.Dense(action_dim, activation=\"tanh\", name=\"z_mean\")(h)\n",
    "        # a_log_sd = layers.Dense(action_dim, name=\"z_log_var\")(h)\n",
    "        # a_stddev = tf.exp(a_log_sd)\n",
    "\n",
    "        # self.habit_action_model = keras.Model(habit_action_inputs, [a_mean, a_stddev], name=\"habit_action\")\n",
    "        self.habit_action_model = keras.Model(habit_action_inputs, a_mean, name=\"habit_action\")\n",
    "\n",
    "        # add the loss over all time steps\n",
    "        self.loss_tracker = keras.metrics.Sum(name=\"loss\")\n",
    "\n",
    "        self.action_std_dev = action_std_dev\n",
    "\n",
    "    def call(self, inputs, training=None, mask=None):\n",
    "        return self.habit_action_model(inputs)\n",
    "\n",
    "\n",
    "    @property\n",
    "    def metrics(self):\n",
    "        return [self.loss_tracker]\n",
    "\n",
    "\n",
    "    def train_step(self, data):\n",
    "        # Unpack the data. Its structure depends on your model and\n",
    "        # on what you pass to `fit()`.\n",
    "\n",
    "        latent_states, outcomes = data\n",
    "        true_actions, cum_discounted_rewards = outcomes\n",
    "\n",
    "        # TODO what do I assume the\n",
    "        with tf.GradientTape() as tape:\n",
    "            # a_mean, a_stddev = self.habit_action_model(latent_states, training=True)  # Forward pass\n",
    "            a_mean = self.habit_action_model(latent_states, training=True)  # Forward pass\n",
    "\n",
    "            print(a_mean, true_actions)\n",
    "\n",
    "            log_loss = ll_gaussian(a_mean, true_actions, self.action_std_dev**2, use_consts=False)\n",
    "            weighted_log_loss = log_loss * cum_discounted_rewards\n",
    "\n",
    "            # need to multiply by negative one because neural net does gradient descent not ascent\n",
    "            neg_weighted_log_loss = -1 * weighted_log_loss\n",
    "\n",
    "        # Compute gradients\n",
    "        trainable_vars = self.trainable_variables\n",
    "        gradients = tape.gradient(neg_weighted_log_loss, trainable_vars)\n",
    "        # Update weights\n",
    "        self.optimizer.apply_gradients(zip(gradients, trainable_vars))\n",
    "        # Update metrics (includes the metric that tracks the loss)\n",
    "        self.loss_tracker.update_state(neg_weighted_log_loss)\n",
    "        return {\n",
    "            \"loss\": self.loss_tracker.result()\n",
    "        }\n",
    "\n",
    "\n",
    "def compute_discounted_cumulative_reward(rewards, discount_factor):\n",
    "\n",
    "    gamma = np.ones_like(rewards) * discount_factor\n",
    "    # print(gamma.shape)\n",
    "    gamma_t = np.power(gamma, np.arange(rewards.shape[0]).reshape(rewards.shape[0], 1))  # discounted through time\n",
    "\n",
    "    # print(gamma_t)\n",
    "    # print(gamma_t.shape)\n",
    "\n",
    "    # discounted rewards starting from the start\n",
    "    discounted_rewards = np.multiply(rewards, gamma_t)\n",
    "\n",
    "    # print(rewards)\n",
    "    # print(discounted_rewards)\n",
    "\n",
    "    n = rewards.shape[0]\n",
    "\n",
    "    # upper trianglur matrix with row i equal to 1/(discount_factor**i)  indexing from 0\n",
    "    discount_factor_matrix = (np.tril(np.ones((n,n))) * (1/gamma_t)).T\n",
    "    discount_factor_matrix\n",
    "\n",
    "    # cumulative discounted_rewards\n",
    "    cumulative_discounted_rewards = np.matmul(discount_factor_matrix, discounted_rewards)\n",
    "    return cumulative_discounted_rewards\n",
    "\n",
    "\n",
    "\n",
    "def ll_gaussian(pred, target, variance, use_consts=True):\n",
    "\n",
    "    log_prob = -1 * ((pred - target)**2/(2*variance))\n",
    "\n",
    "    if use_consts:\n",
    "        const = 0.5*np.log(2*np.pi*variance)\n",
    "        log_prob += const\n",
    "\n",
    "    return tf.reduce_sum(log_prob, axis=1)"
   ],
   "metadata": {
    "collapsed": false,
    "pycharm": {
     "name": "#%%\n"
    }
   }
  },
  {
   "cell_type": "code",
   "execution_count": 4,
   "outputs": [
    {
     "data": {
      "text/plain": "array([1.        , 0.99      , 0.9801    , 0.970299  , 0.96059601])"
     },
     "execution_count": 4,
     "metadata": {},
     "output_type": "execute_result"
    }
   ],
   "source": [
    "gamma = np.ones(5)*0.99\n",
    "rewards = np.array([-1,-1,-1,-1, 1]).reshape((5,1))\n",
    "gamma_t = np.power(gamma, np.arange(rewards.shape[0]))\n",
    "gamma_t"
   ],
   "metadata": {
    "collapsed": false,
    "pycharm": {
     "name": "#%%\n"
    }
   }
  },
  {
   "cell_type": "code",
   "execution_count": 5,
   "outputs": [
    {
     "name": "stdout",
     "output_type": "stream",
     "text": [
      "(200, 2) (200, 1) (200, 1)\n"
     ]
    }
   ],
   "source": [
    "env = gym.make('MountainCarContinuous-v0')\n",
    "env.action_space.seed(42)\n",
    "\n",
    "observation_max = np.array([0.6, 0.07])\n",
    "observation_min = np.array([-1.2, -0.07])\n",
    "\n",
    "all_observations = []\n",
    "all_observations_scaled = []\n",
    "actions = []\n",
    "rewards = []\n",
    "num_episodes = 1\n",
    "\n",
    "# obs_stddev = [0.05, 0.05]\n",
    "obs_stddev = [0, 0]\n",
    "\n",
    "t_max = 200\n",
    "\n",
    "for i in range(num_episodes):\n",
    "    o, a, r = random_observation_sequence(env, t_max, epsilon=0.1)\n",
    "    # o_scaled = transform_observations(o, observation_max, observation_min, [0.05, 0.05])\n",
    "    # o_scaled = transform_observations(o, observation_max, observation_min, obs_stddev)\n",
    "    o_scaled = o\n",
    "    actions.append(a)\n",
    "\n",
    "    rewards.append(r)\n",
    "\n",
    "    # o = transform_observations(o, observation_max, observation_min, [0, 0])\n",
    "\n",
    "    all_observations_scaled.append(o_scaled)\n",
    "    all_observations.append(o[:-1])\n",
    "\n",
    "all_observations = np.vstack(all_observations)\n",
    "all_observations_scaled = np.vstack(all_observations_scaled)\n",
    "actions = np.vstack(actions)\n",
    "rewards = np.vstack(rewards).T\n",
    "# rewards = rewards.reshape(rewards.shape[0])\n",
    "print(all_observations.shape, actions.shape, rewards.shape)"
   ],
   "metadata": {
    "collapsed": false,
    "pycharm": {
     "name": "#%%\n"
    }
   }
  },
  {
   "cell_type": "code",
   "execution_count": 6,
   "outputs": [
    {
     "data": {
      "text/plain": "array([[-4.13707405e-01,  0.00000000e+00],\n       [-4.14563715e-01, -8.56321130e-04],\n       [-4.16270286e-01, -1.70656305e-03],\n       [-4.18814957e-01, -2.54467386e-03],\n       [-4.22179610e-01, -3.36465752e-03],\n       [-4.26340222e-01, -4.16060397e-03],\n       [-4.31266934e-01, -4.92672157e-03],\n       [-4.36924309e-01, -5.65737346e-03],\n       [-4.41962123e-01, -5.03781904e-03],\n       [-4.46343809e-01, -4.38167900e-03],\n       [-4.50037420e-01, -3.69360554e-03],\n       [-4.53015953e-01, -2.97853583e-03],\n       [-4.55257595e-01, -2.24164734e-03],\n       [-4.56745893e-01, -1.48831040e-03],\n       [-4.58786398e-01, -2.04051589e-03],\n       [-4.61364120e-01, -2.57771532e-03],\n       [-4.64460045e-01, -3.09593184e-03],\n       [-4.68051344e-01, -3.59131279e-03],\n       [-4.72111493e-01, -4.06015664e-03],\n       [-4.76387978e-01, -4.27649496e-03],\n       [-4.80849087e-01, -4.46111104e-03],\n       [-4.85461652e-01, -4.61257296e-03],\n       [-4.90191340e-01, -4.72969515e-03],\n       [-4.94618505e-01, -4.42715222e-03],\n       [-4.98710066e-01, -4.09155106e-03],\n       [-5.02435446e-01, -3.72536364e-03],\n       [-5.05766749e-01, -3.33130267e-03],\n       [-5.08679032e-01, -2.91229971e-03],\n       [-5.11150539e-01, -2.47148098e-03],\n       [-5.13162673e-01, -2.01214175e-03],\n       [-5.14700413e-01, -1.53772032e-03],\n       [-5.15752196e-01, -1.05177076e-03],\n       [-5.17940044e-01, -2.18783994e-03],\n       [-5.21247566e-01, -3.30750365e-03],\n       [-5.25649905e-01, -4.40236274e-03],\n       [-5.31114101e-01, -5.46420459e-03],\n       [-5.37599146e-01, -6.48506964e-03],\n       [-5.45056462e-01, -7.45732291e-03],\n       [-5.53430200e-01, -8.37372616e-03],\n       [-5.62657714e-01, -9.22751427e-03],\n       [-5.72670162e-01, -1.00124674e-02],\n       [-5.83393157e-01, -1.07229855e-02],\n       [-5.94032109e-01, -1.06389625e-02],\n       [-6.04508758e-01, -1.04766684e-02],\n       [-6.14746571e-01, -1.02378186e-02],\n       [-6.24671280e-01, -9.92473122e-03],\n       [-6.34211540e-01, -9.54028405e-03],\n       [-6.43299401e-01, -9.08786431e-03],\n       [-6.51870728e-01, -8.57131463e-03],\n       [-6.59865618e-01, -7.99487717e-03],\n       [-6.67228758e-01, -7.36313872e-03],\n       [-6.73909724e-01, -6.68097381e-03],\n       [-6.79863214e-01, -5.95349446e-03],\n       [-6.85049236e-01, -5.18600317e-03],\n       [-6.89433157e-01, -4.38395096e-03],\n       [-6.92986071e-01, -3.55290272e-03],\n       [-6.95684552e-01, -2.69850623e-03],\n       [-6.97511017e-01, -1.82646839e-03],\n       [-6.98453546e-01, -9.42535989e-04],\n       [-6.98505998e-01, -5.24801071e-05],\n       [-6.97668076e-01,  8.37916275e-04],\n       [-6.95945203e-01,  1.72286981e-03],\n       [-6.93348587e-01,  2.59660743e-03],\n       [-6.90450191e-01,  2.89841369e-03],\n       [-6.85732961e-01,  4.71723964e-03],\n       [-6.79228067e-01,  6.50490774e-03],\n       [-6.70978844e-01,  8.24922789e-03],\n       [-6.61040902e-01,  9.93796159e-03],\n       [-6.49482012e-01,  1.15588624e-02],\n       [-6.36382282e-01,  1.30997505e-02],\n       [-6.21833682e-01,  1.45486258e-02],\n       [-6.05939865e-01,  1.58938151e-02],\n       [-5.88815689e-01,  1.71241574e-02],\n       [-5.70586503e-01,  1.82292163e-02],\n       [-5.51387012e-01,  1.91995054e-02],\n       [-5.31360269e-01,  2.00267229e-02],\n       [-5.10656297e-01,  2.07039751e-02],\n       [-4.89430308e-01,  2.12259777e-02],\n       [-4.67841089e-01,  2.15892084e-02],\n       [-4.46173102e-01,  2.16679778e-02],\n       [-4.24585611e-01,  2.15874985e-02],\n       [-4.03234839e-01,  2.13507768e-02],\n       [-3.82272303e-01,  2.09625419e-02],\n       [-3.61843228e-01,  2.04290692e-02],\n       [-3.42085272e-01,  1.97579637e-02],\n       [-3.23127359e-01,  1.89579055e-02],\n       [-3.05088967e-01,  1.80383883e-02],\n       [-2.88079530e-01,  1.70094464e-02],\n       [-2.72198141e-01,  1.58814024e-02],\n       [-2.57533491e-01,  1.46646397e-02],\n       [-2.44164094e-01,  1.33694001e-02],\n       [-2.32158467e-01,  1.20056299e-02],\n       [-2.21575603e-01,  1.05828652e-02],\n       [-2.12465450e-01,  9.11015738e-03],\n       [-2.04869404e-01,  7.59604247e-03],\n       [-1.98820859e-01,  6.04854897e-03],\n       [-1.94345623e-01,  4.47523454e-03],\n       [-1.91462368e-01,  2.88325339e-03],\n       [-1.90182924e-01,  1.27944478e-03],\n       [-1.90512493e-01, -3.29561968e-04],\n       [-1.92449719e-01, -1.93723268e-03],\n       [-1.95986733e-01, -3.53700877e-03],\n       [-2.01108918e-01, -5.12218848e-03],\n       [-2.07794726e-01, -6.68581482e-03],\n       [-2.16015309e-01, -8.22057854e-03],\n       [-2.25734040e-01, -9.71873570e-03],\n       [-2.36906096e-01, -1.11720534e-02],\n       [-2.49477878e-01, -1.25717819e-02],\n       [-2.63386548e-01, -1.39086656e-02],\n       [-2.78559536e-01, -1.51729900e-02],\n       [-2.94914216e-01, -1.63546707e-02],\n       [-3.12357605e-01, -1.74433868e-02],\n       [-3.30786347e-01, -1.84287559e-02],\n       [-3.50086898e-01, -1.93005409e-02],\n       [-3.70135784e-01, -2.00488977e-02],\n       [-3.90800416e-01, -2.06646342e-02],\n       [-4.11939889e-01, -2.11394783e-02],\n       [-4.33406234e-01, -2.14663409e-02],\n       [-4.55045789e-01, -2.16395557e-02],\n       [-4.76700872e-01, -2.16550808e-02],\n       [-4.98211533e-01, -2.15106513e-02],\n       [-5.19417405e-01, -2.12058667e-02],\n       [-5.40159643e-01, -2.07422208e-02],\n       [-5.60282707e-01, -2.01230608e-02],\n       [-5.79636216e-01, -1.93534810e-02],\n       [-5.98076403e-01, -1.84401721e-02],\n       [-6.15467608e-01, -1.73912216e-02],\n       [-6.31683469e-01, -1.62158906e-02],\n       [-6.46607876e-01, -1.49243809e-02],\n       [-6.60135508e-01, -1.35276048e-02],\n       [-6.72172487e-01, -1.20369699e-02],\n       [-6.82636678e-01, -1.04641933e-02],\n       [-6.91457808e-01, -8.82114563e-03],\n       [-6.98577523e-01, -7.11973663e-03],\n       [-7.03949332e-01, -5.37183695e-03],\n       [-7.07538545e-01, -3.58923757e-03],\n       [-7.09322155e-01, -1.78363908e-03],\n       [-7.09288836e-01,  3.33320968e-05],\n       [-7.07438767e-01,  1.85009115e-03],\n       [-7.03783691e-01,  3.65505228e-03],\n       [-6.98347092e-01,  5.43658668e-03],\n       [-6.91164076e-01,  7.18299067e-03],\n       [-6.82281613e-01,  8.88246950e-03],\n       [-6.71758473e-01,  1.05231507e-02],\n       [-6.59665346e-01,  1.20931249e-02],\n       [-6.46084845e-01,  1.35805244e-02],\n       [-6.30145252e-01,  1.59395672e-02],\n       [-6.14359617e-01,  1.57856382e-02],\n       [-5.98841131e-01,  1.55184753e-02],\n       [-5.83702624e-01,  1.51385237e-02],\n       [-5.69055259e-01,  1.46473749e-02],\n       [-5.55007517e-01,  1.40477540e-02],\n       [-5.39591789e-01,  1.54157337e-02],\n       [-5.22923410e-01,  1.66683979e-02],\n       [-5.06600857e-01,  1.63225383e-02],\n       [-4.90734309e-01,  1.58665497e-02],\n       [-4.75442410e-01,  1.52919069e-02],\n       [-4.60838974e-01,  1.46034304e-02],\n       [-4.47032034e-01,  1.38069494e-02],\n       [-4.34185237e-01,  1.28467856e-02],\n       [-4.22391981e-01,  1.17932474e-02],\n       [-4.11737114e-01,  1.06548555e-02],\n       [-4.03186619e-01,  8.55049212e-03],\n       [-3.96800756e-01,  6.38585491e-03],\n       [-3.92705262e-01,  4.09549149e-03],\n       [-3.90928596e-01,  1.77667814e-03],\n       [-3.91483039e-01, -5.54432336e-04],\n       [-3.94364744e-01, -2.88170832e-03],\n       [-3.96816313e-01, -2.45155441e-03],\n       [-3.98820668e-01, -2.00435286e-03],\n       [-4.00363833e-01, -1.54317636e-03],\n       [-4.03974652e-01, -3.61080561e-03],\n       [-4.09627795e-01, -5.65313129e-03],\n       [-4.17283416e-01, -7.65563501e-03],\n       [-4.26887244e-01, -9.60382912e-03],\n       [-4.38370556e-01, -1.14833107e-02],\n       [-4.51650411e-01, -1.32798590e-02],\n       [-4.66629982e-01, -1.49795702e-02],\n       [-4.83199030e-01, -1.65690389e-02],\n       [-5.01234591e-01, -1.80355739e-02],\n       [-5.20602047e-01, -1.93674583e-02],\n       [-5.41156232e-01, -2.05542129e-02],\n       [-5.60354114e-01, -1.91978738e-02],\n       [-5.78052163e-01, -1.76980477e-02],\n       [-5.96529245e-01, -1.84771046e-02],\n       [-6.15649343e-01, -1.91201214e-02],\n       [-6.35355115e-01, -1.97057743e-02],\n       [-6.52766705e-01, -1.74115691e-02],\n       [-6.67761922e-01, -1.49952248e-02],\n       [-6.80237651e-01, -1.24757458e-02],\n       [-6.90109730e-01, -9.87206772e-03],\n       [-6.97312593e-01, -7.20288092e-03],\n       [-7.01799154e-01, -4.48655710e-03],\n       [-7.03540325e-01, -1.74116460e-03],\n       [-7.02524900e-01,  1.01544720e-03],\n       [-6.98759377e-01,  3.76552017e-03],\n       [-6.92268133e-01,  6.49124244e-03],\n       [-6.83093548e-01,  9.17461421e-03],\n       [-6.71296179e-01,  1.17973480e-02],\n       [-6.56955361e-01,  1.43408338e-02]], dtype=float32)"
     },
     "execution_count": 6,
     "metadata": {},
     "output_type": "execute_result"
    }
   ],
   "source": [
    "all_observations"
   ],
   "metadata": {
    "collapsed": false,
    "pycharm": {
     "name": "#%%\n"
    }
   }
  },
  {
   "cell_type": "code",
   "execution_count": 7,
   "outputs": [
    {
     "name": "stdout",
     "output_type": "stream",
     "text": [
      "Model: \"habit_action\"\n",
      "_________________________________________________________________\n",
      " Layer (type)                Output Shape              Param #   \n",
      "=================================================================\n",
      " input_1 (InputLayer)        [(None, 2)]               0         \n",
      "                                                                 \n",
      " dense (Dense)               (None, 100)               300       \n",
      "                                                                 \n",
      " z_mean (Dense)              (None, 1)                 101       \n",
      "                                                                 \n",
      "=================================================================\n",
      "Total params: 401\n",
      "Trainable params: 401\n",
      "Non-trainable params: 0\n",
      "_________________________________________________________________\n"
     ]
    }
   ],
   "source": [
    "act_net = HabitualAction(2, 1, 10, [100])\n",
    "\n",
    "act_net.compile(optimizer=tf.keras.optimizers.Adam())\n",
    "\n",
    "act_net.habit_action_model.summary()"
   ],
   "metadata": {
    "collapsed": false,
    "pycharm": {
     "name": "#%%\n"
    }
   }
  },
  {
   "cell_type": "code",
   "execution_count": 8,
   "outputs": [],
   "source": [
    "# act_net.fit(all_observations, (actions, cum_rewards), batch_size=all_observations.shape[0], epochs=100)\n",
    "\n",
    "# act_net.train_on_batch(all_observations, (actions, cum_rewards))"
   ],
   "metadata": {
    "collapsed": false,
    "pycharm": {
     "name": "#%%\n"
    }
   }
  },
  {
   "cell_type": "markdown",
   "source": [
    "## How about multiple runs?"
   ],
   "metadata": {
    "collapsed": false,
    "pycharm": {
     "name": "#%% md\n"
    }
   }
  },
  {
   "cell_type": "code",
   "execution_count": 9,
   "outputs": [
    {
     "name": "stdout",
     "output_type": "stream",
     "text": [
      "Model: \"habit_action\"\n",
      "_________________________________________________________________\n",
      " Layer (type)                Output Shape              Param #   \n",
      "=================================================================\n",
      " input_2 (InputLayer)        [(None, 2)]               0         \n",
      "                                                                 \n",
      " dense_1 (Dense)             (None, 20)                60        \n",
      "                                                                 \n",
      " dense_2 (Dense)             (None, 20)                420       \n",
      "                                                                 \n",
      " z_mean (Dense)              (None, 1)                 21        \n",
      "                                                                 \n",
      "=================================================================\n",
      "Total params: 501\n",
      "Trainable params: 501\n",
      "Non-trainable params: 0\n",
      "_________________________________________________________________\n"
     ]
    }
   ],
   "source": [
    "act_net = HabitualAction(2, 1, 10, [20, 20])\n",
    "\n",
    "act_net.compile(optimizer=tf.keras.optimizers.Adam())\n",
    "\n",
    "act_net.habit_action_model.summary()"
   ],
   "metadata": {
    "collapsed": false,
    "pycharm": {
     "name": "#%%\n"
    }
   }
  },
  {
   "cell_type": "code",
   "execution_count": 10,
   "outputs": [
    {
     "name": "stdout",
     "output_type": "stream",
     "text": [
      "Tensor(\"habit_action/z_mean/Tanh:0\", shape=(803, 1), dtype=float32) Tensor(\"IteratorGetNext:1\", shape=(803, 1), dtype=float32)\n",
      "Tensor(\"habit_action/z_mean/Tanh:0\", shape=(803, 1), dtype=float32) Tensor(\"IteratorGetNext:1\", shape=(803, 1), dtype=float32)\n",
      "3810164480.0\n",
      "Tensor(\"habit_action/z_mean/Tanh:0\", shape=(387, 1), dtype=float32) Tensor(\"IteratorGetNext:1\", shape=(387, 1), dtype=float32)\n",
      "809458048.0\n",
      "Tensor(\"habit_action/z_mean/Tanh:0\", shape=(None, 1), dtype=float32) Tensor(\"IteratorGetNext:1\", shape=(None, 1), dtype=float32)\n"
     ]
    },
    {
     "name": "stderr",
     "output_type": "stream",
     "text": [
      "2022-08-23 15:05:07.393665: W tensorflow/core/platform/profile_utils/cpu_utils.cc:128] Failed to get CPU frequency: 0 Hz\n"
     ]
    },
    {
     "name": "stdout",
     "output_type": "stream",
     "text": [
      "741325824.0\n",
      "5002441728.0\n",
      "411475840.0\n",
      "-672789376.0\n",
      "959866624.0\n",
      "556951296.0\n",
      "640797440.0\n",
      "4897180672.0\n",
      "1762817024.0\n",
      "222622416.0\n",
      "2532931328.0\n",
      "1175451520.0\n",
      "1102832640.0\n",
      "190986928.0\n",
      "693313728.0\n",
      "147131168.0\n",
      "1427008000.0\n",
      "733771456.0\n",
      "164166160.0\n",
      "460739328.0\n",
      "879793216.0\n",
      "577780736.0\n",
      "3289129216.0\n",
      "2244201728.0\n",
      "934701312.0\n",
      "326885696.0\n",
      "5469630464.0\n",
      "4230863104.0\n",
      "609048960.0\n",
      "3199848960.0\n",
      "140247168.0\n",
      "2505379584.0\n",
      "118448136.0\n",
      "256578416.0\n",
      "404302464.0\n",
      "4673155072.0\n",
      "2608010752.0\n",
      "410805824.0\n",
      "173007392.0\n",
      "1365113600.0\n",
      "2572195840.0\n",
      "1739176960.0\n",
      "1833107456.0\n",
      "1136237824.0\n",
      "565774656.0\n",
      "-990277632.0\n",
      "-1123750912.0\n",
      "-1056337472.0\n",
      "131900544.0\n",
      "2920847360.0\n",
      "1316939264.0\n",
      "-917056448.0\n",
      "89384384.0\n",
      "1075774336.0\n",
      "2101997184.0\n",
      "499278688.0\n",
      "342216832.0\n",
      "313640704.0\n",
      "1336166016.0\n",
      "-711653632.0\n",
      "-808329024.0\n",
      "1166472576.0\n",
      "798263424.0\n",
      "-908910976.0\n",
      "3547071488.0\n",
      "3888150272.0\n",
      "4091119872.0\n",
      "5233551360.0\n",
      "2633767424.0\n",
      "354448128.0\n",
      "3014722560.0\n",
      "375080512.0\n",
      "2157673216.0\n",
      "-467630752.0\n",
      "1707118208.0\n",
      "-1181191296.0\n",
      "589459520.0\n",
      "287038976.0\n",
      "3091329280.0\n",
      "1519476480.0\n",
      "857773760.0\n",
      "5017728000.0\n",
      "-796452032.0\n",
      "1403045376.0\n",
      "153944352.0\n",
      "1841799424.0\n",
      "269809344.0\n",
      "1426882432.0\n",
      "604901440.0\n",
      "2327078912.0\n",
      "908331904.0\n",
      "-1170006400.0\n",
      "1348395136.0\n",
      "651849600.0\n",
      "150615264.0\n",
      "-941317888.0\n",
      "-1353347840.0\n",
      "1238923392.0\n",
      "509757824.0\n",
      "-996940608.0\n",
      "1033137984.0\n",
      "-792239808.0\n",
      "84377688.0\n",
      "417858048.0\n",
      "-1333455104.0\n",
      "1885786496.0\n",
      "913337088.0\n",
      "529635200.0\n",
      "167292672.0\n",
      "2139583744.0\n",
      "3546416896.0\n",
      "594517696.0\n",
      "4050599424.0\n",
      "-722521728.0\n",
      "-693311488.0\n",
      "1505076352.0\n",
      "3340539392.0\n",
      "161918016.0\n",
      "1576960128.0\n",
      "1263877504.0\n",
      "162703456.0\n",
      "436139616.0\n",
      "-919347072.0\n",
      "1685733248.0\n",
      "837521920.0\n",
      "988482176.0\n",
      "2295895552.0\n",
      "-753950208.0\n",
      "371533536.0\n",
      "1387488896.0\n",
      "621554688.0\n",
      "729263232.0\n",
      "822552960.0\n",
      "3598314496.0\n",
      "2064870400.0\n",
      "891247104.0\n",
      "4814873088.0\n",
      "1926696192.0\n",
      "322745952.0\n",
      "86307312.0\n",
      "1867085312.0\n",
      "168787216.0\n",
      "301878464.0\n",
      "484049408.0\n",
      "168447824.0\n",
      "1101544320.0\n",
      "2700822528.0\n",
      "-1342232448.0\n",
      "2479666432.0\n",
      "-642941632.0\n",
      "3959871744.0\n",
      "719364096.0\n",
      "1926213760.0\n",
      "-1116300160.0\n",
      "1176141440.0\n",
      "2627090688.0\n",
      "1260877696.0\n",
      "-633557376.0\n",
      "-1309352576.0\n",
      "2133629312.0\n",
      "1584643328.0\n",
      "1555038464.0\n",
      "323154400.0\n",
      "-973585216.0\n",
      "5410369536.0\n",
      "-1200700928.0\n",
      "350747360.0\n",
      "444503648.0\n",
      "380368160.0\n",
      "-1020828160.0\n",
      "298621568.0\n",
      "4421575168.0\n",
      "1366698624.0\n",
      "3958738944.0\n",
      "1113041664.0\n",
      "276195904.0\n",
      "3040725760.0\n",
      "913338432.0\n",
      "-1326529152.0\n",
      "-834993728.0\n",
      "3970499840.0\n",
      "4625195520.0\n",
      "1124821760.0\n",
      "3211590144.0\n",
      "740470656.0\n",
      "286991232.0\n",
      "126760448.0\n",
      "-1130711296.0\n",
      "524911488.0\n",
      "173678096.0\n",
      "-1396633344.0\n",
      "4749193728.0\n",
      "944105344.0\n",
      "434774272.0\n",
      "150786784.0\n",
      "361421472.0\n",
      "1382649728.0\n",
      "1478729728.0\n",
      "1005840384.0\n",
      "4234825728.0\n",
      "2021897216.0\n",
      "120985416.0\n",
      "2481817088.0\n",
      "494584576.0\n",
      "1821488256.0\n",
      "467892352.0\n",
      "2256907264.0\n",
      "2279368960.0\n",
      "-923458560.0\n",
      "-901136768.0\n",
      "4613037056.0\n",
      "361358240.0\n",
      "1555104896.0\n",
      "508416256.0\n",
      "3344444160.0\n",
      "-1344977408.0\n",
      "442144160.0\n",
      "-863609088.0\n",
      "3174210304.0\n",
      "-866697088.0\n",
      "119033424.0\n",
      "2833984000.0\n",
      "4303364096.0\n",
      "2799235840.0\n",
      "-755700800.0\n",
      "-1069666944.0\n",
      "294650880.0\n",
      "-1114088832.0\n",
      "744575872.0\n",
      "4788322304.0\n",
      "1745640704.0\n",
      "818761984.0\n",
      "599081984.0\n",
      "-926381760.0\n",
      "4548253184.0\n",
      "1401855872.0\n",
      "-1049275968.0\n",
      "-1212960896.0\n",
      "1804473728.0\n",
      "1010384128.0\n",
      "-1747898880.0\n",
      "3807200512.0\n",
      "2401032960.0\n",
      "1489138688.0\n",
      "-922913024.0\n",
      "-944152704.0\n",
      "584522112.0\n",
      "2326337280.0\n"
     ]
    }
   ],
   "source": [
    "t_max = 1000\n",
    "num_episodes = 250\n",
    "\n",
    "for i in range(num_episodes):\n",
    "\n",
    "    all_observations = []\n",
    "    actions = []\n",
    "    rewards = []\n",
    "\n",
    "    o, a, r = random_observation_sequence(env, t_max, epsilon=0.1)\n",
    "    # o_scaled = transform_observations(o, observation_max, observation_min, [0.05, 0.05])\n",
    "    o = transform_observations(o, observation_max, observation_min, obs_stddev)\n",
    "    actions.append(a)\n",
    "    rewards.append(r)\n",
    "\n",
    "    all_observations.append(o[:-1])\n",
    "\n",
    "    all_observations = np.vstack(all_observations)\n",
    "    all_observations_scaled = np.vstack(all_observations_scaled)\n",
    "    actions = np.vstack(actions)\n",
    "    rewards = np.vstack(rewards).T\n",
    "    # rewards = rewards.reshape(rewards.shape[1])\n",
    "\n",
    "    # print(all_observations.shape, actions.shape, rewards.shape)\n",
    "\n",
    "    cum_rewards = compute_discounted_cumulative_reward(rewards, 0.99)\n",
    "    # cum_rewards\n",
    "\n",
    "    cum_rewards = cum_rewards\n",
    "\n",
    "    # print(cum_rewards.shape[0])\n",
    "    loss = act_net.train_on_batch(all_observations, (actions, cum_rewards))\n",
    "    print(loss)"
   ],
   "metadata": {
    "collapsed": false,
    "pycharm": {
     "name": "#%%\n"
    }
   }
  },
  {
   "cell_type": "code",
   "execution_count": 11,
   "outputs": [
    {
     "data": {
      "text/plain": "<tf.Tensor: shape=(678, 1), dtype=float32, numpy=\narray([[-2.25654542e-02],\n       [-2.38488428e-02],\n       [-2.52445098e-02],\n       [-2.66693532e-02],\n       [-2.81127188e-02],\n       [-2.95637622e-02],\n       [-3.10116690e-02],\n       [-3.24455984e-02],\n       [-3.38548534e-02],\n       [-3.52289230e-02],\n       [-3.65575776e-02],\n       [-3.78309414e-02],\n       [-3.90395485e-02],\n       [-4.01744731e-02],\n       [-4.12273593e-02],\n       [-4.21904474e-02],\n       [-4.30566408e-02],\n       [-3.72288600e-02],\n       [-3.10961269e-02],\n       [-2.51452811e-02],\n       [-1.81959886e-02],\n       [-1.12311477e-02],\n       [-3.68169602e-03],\n       [ 9.48200654e-03],\n       [ 2.26804614e-02],\n       [ 3.58056352e-02],\n       [ 4.88026142e-02],\n       [ 6.16999194e-02],\n       [ 7.22329021e-02],\n       [ 8.12345296e-02],\n       [ 8.99222046e-02],\n       [ 9.81372073e-02],\n       [ 1.05857685e-01],\n       [ 9.89551693e-02],\n       [ 9.08214077e-02],\n       [ 8.72167051e-02],\n       [ 8.29135776e-02],\n       [ 7.79446736e-02],\n       [ 7.41657913e-02],\n       [ 6.94361255e-02],\n       [ 6.40104860e-02],\n       [ 5.78494295e-02],\n       [ 5.09586297e-02],\n       [ 4.35592681e-02],\n       [ 3.55140530e-02],\n       [ 2.62993798e-02],\n       [ 1.69765465e-02],\n       [ 8.27744231e-03],\n       [-6.03022811e-04],\n       [-9.35812294e-03],\n       [-1.55097209e-02],\n       [-2.14363225e-02],\n       [-2.73540374e-02],\n       [-2.59466786e-02],\n       [-2.42564734e-02],\n       [-2.20892299e-02],\n       [-1.95303503e-02],\n       [-1.67155061e-02],\n       [-1.36221601e-02],\n       [-1.02724209e-02],\n       [-1.79100819e-02],\n       [-2.56486535e-02],\n       [-3.34302895e-02],\n       [-4.03552912e-02],\n       [-4.57928702e-02],\n       [-4.96982224e-02],\n       [-5.47512397e-02],\n       [-5.94697148e-02],\n       [-6.27817959e-02],\n       [-6.56553805e-02],\n       [-6.84010610e-02],\n       [-6.89712912e-02],\n       [-6.92264959e-02],\n       [-6.87884912e-02],\n       [-6.80577978e-02],\n       [-6.74110651e-02],\n       [-6.76891282e-02],\n       [-6.80028200e-02],\n       [-6.81564137e-02],\n       [-6.74781203e-02],\n       [-6.51813298e-02],\n       [-6.10812791e-02],\n       [-5.66415042e-02],\n       [-5.10665365e-02],\n       [-5.02513200e-02],\n       [-4.79895361e-02],\n       [-4.01683375e-02],\n       [-3.10250353e-02],\n       [-2.14296188e-02],\n       [-1.18240509e-02],\n       [-1.14849245e-03],\n       [ 1.30190616e-02],\n       [ 2.71925442e-02],\n       [ 4.12601233e-02],\n       [ 5.51505983e-02],\n       [ 6.70717433e-02],\n       [ 7.66372085e-02],\n       [ 8.58409330e-02],\n       [ 9.45358202e-02],\n       [ 9.18151140e-02],\n       [ 8.80758464e-02],\n       [ 8.34221393e-02],\n       [ 7.78883472e-02],\n       [ 7.10383952e-02],\n       [ 6.09867200e-02],\n       [ 4.92898561e-02],\n       [ 3.67264040e-02],\n       [ 2.33606305e-02],\n       [ 8.97315424e-03],\n       [-6.02226891e-03],\n       [-1.66335553e-02],\n       [-2.72383057e-02],\n       [-3.51032168e-02],\n       [-4.22408767e-02],\n       [-4.73188795e-02],\n       [-5.10168597e-02],\n       [-5.61150163e-02],\n       [-6.10140748e-02],\n       [-6.39857277e-02],\n       [-6.68868273e-02],\n       [-6.96725324e-02],\n       [-7.23101422e-02],\n       [-7.47783780e-02],\n       [-7.70533681e-02],\n       [-7.91262239e-02],\n       [-7.74415433e-02],\n       [-7.47018903e-02],\n       [-7.30428696e-02],\n       [-7.23522380e-02],\n       [-7.18907043e-02],\n       [-6.93559051e-02],\n       [-6.21237978e-02],\n       [-5.40271476e-02],\n       [-4.50193621e-02],\n       [-3.46311517e-02],\n       [-2.35844366e-02],\n       [-1.27890101e-02],\n       [-3.33040021e-04],\n       [ 1.60122830e-02],\n       [ 3.23752016e-02],\n       [ 4.86247949e-02],\n       [ 6.37924671e-02],\n       [ 7.51856193e-02],\n       [ 8.62504989e-02],\n       [ 9.67423320e-02],\n       [ 1.06696621e-01],\n       [ 1.16091259e-01],\n       [ 1.24857858e-01],\n       [ 1.32935718e-01],\n       [ 1.38886467e-01],\n       [ 1.35313168e-01],\n       [ 1.30874634e-01],\n       [ 1.25759766e-01],\n       [ 1.20010749e-01],\n       [ 1.13673352e-01],\n       [ 1.06796175e-01],\n       [ 9.92457569e-02],\n       [ 9.09161121e-02],\n       [ 8.18689689e-02],\n       [ 6.92176446e-02],\n       [ 5.28709628e-02],\n       [ 3.17424610e-02],\n       [ 1.26077058e-02],\n       [-6.02247007e-03],\n       [-1.72312688e-02],\n       [-2.71585844e-02],\n       [-3.04149725e-02],\n       [-3.30370329e-02],\n       [-3.58015448e-02],\n       [-4.93272431e-02],\n       [-6.19430952e-02],\n       [-7.18818754e-02],\n       [-8.18358362e-02],\n       [-9.17486250e-02],\n       [-1.01656817e-01],\n       [-1.05531134e-01],\n       [-1.08838975e-01],\n       [-1.10345088e-01],\n       [-1.10785291e-01],\n       [-1.10418834e-01],\n       [-1.09255590e-01],\n       [-1.13615952e-01],\n       [-1.17179349e-01],\n       [-1.19952083e-01],\n       [-1.22519180e-01],\n       [-1.25179559e-01],\n       [-1.27335429e-01],\n       [-1.18866391e-01],\n       [-1.13260068e-01],\n       [-1.08023472e-01],\n       [-1.02746762e-01],\n       [-1.01928771e-01],\n       [-1.00868084e-01],\n       [-1.00233302e-01],\n       [-1.00091182e-01],\n       [-9.97707248e-02],\n       [-9.92738232e-02],\n       [-9.75534543e-02],\n       [-9.50789526e-02],\n       [-9.23880190e-02],\n       [-8.91996250e-02],\n       [-8.28569978e-02],\n       [-7.59328678e-02],\n       [-6.87154382e-02],\n       [-5.69512807e-02],\n       [-4.61216271e-02],\n       [-3.51027772e-02],\n       [-2.39550658e-02],\n       [-1.27441650e-02],\n       [ 2.87959166e-03],\n       [ 2.02435888e-02],\n       [ 3.73263210e-02],\n       [ 5.13795875e-02],\n       [ 6.41175210e-02],\n       [ 7.63584599e-02],\n       [ 8.71662050e-02],\n       [ 1.03184462e-01],\n       [ 1.18645586e-01],\n       [ 1.33414075e-01],\n       [ 1.47361383e-01],\n       [ 1.60368949e-01],\n       [ 1.71519578e-01],\n       [ 1.78697318e-01],\n       [ 1.83849096e-01],\n       [ 1.87935159e-01],\n       [ 1.90967262e-01],\n       [ 1.92947373e-01],\n       [ 1.92569509e-01],\n       [ 1.90655470e-01],\n       [ 1.87859818e-01],\n       [ 1.84230775e-01],\n       [ 1.79938346e-01],\n       [ 1.74420729e-01],\n       [ 1.67662069e-01],\n       [ 1.60330817e-01],\n       [ 1.52494967e-01],\n       [ 1.44311115e-01],\n       [ 1.39581472e-01],\n       [ 1.36928111e-01],\n       [ 1.34912655e-01],\n       [ 1.32518217e-01],\n       [ 1.27290756e-01],\n       [ 1.20971680e-01],\n       [ 1.12036772e-01],\n       [ 9.95849818e-02],\n       [ 8.79826546e-02],\n       [ 7.49836415e-02],\n       [ 3.72178741e-02],\n       [-7.47474667e-04],\n       [-3.66978981e-02],\n       [-4.11109813e-02],\n       [-4.44592386e-02],\n       [-4.90093157e-02],\n       [-5.22224605e-02],\n       [-5.53342365e-02],\n       [-5.76287620e-02],\n       [-5.91898374e-02],\n       [-6.02191873e-02],\n       [-6.06737360e-02],\n       [-6.33836240e-02],\n       [-6.75908551e-02],\n       [-7.11735263e-02],\n       [-7.40791261e-02],\n       [-7.53311962e-02],\n       [-7.67477304e-02],\n       [-7.81671256e-02],\n       [-8.12674314e-02],\n       [-8.21508020e-02],\n       [-8.22593495e-02],\n       [-7.86654130e-02],\n       [-7.37141445e-02],\n       [-7.05737919e-02],\n       [-6.77338839e-02],\n       [-6.51377961e-02],\n       [-6.24027811e-02],\n       [-6.03186898e-02],\n       [-5.64836673e-02],\n       [-4.80607525e-02],\n       [-3.80530804e-02],\n       [-2.76629999e-02],\n       [-1.66314580e-02],\n       [-4.98955138e-03],\n       [ 1.19379079e-02],\n       [ 2.88619623e-02],\n       [ 4.57809828e-02],\n       [ 6.27347156e-02],\n       [ 7.60041699e-02],\n       [ 8.81445482e-02],\n       [ 9.98781994e-02],\n       [ 1.11190043e-01],\n       [ 1.22086525e-01],\n       [ 1.31749377e-01],\n       [ 1.37139961e-01],\n       [ 1.41936600e-01],\n       [ 1.34382442e-01],\n       [ 1.26094058e-01],\n       [ 1.17135353e-01],\n       [ 1.07490510e-01],\n       [ 9.70584601e-02],\n       [ 8.54992047e-02],\n       [ 7.97080398e-02],\n       [ 7.21329302e-02],\n       [ 6.29135966e-02],\n       [ 5.15669845e-02],\n       [ 3.93152609e-02],\n       [ 2.73657534e-02],\n       [ 1.61708742e-02],\n       [ 5.31377783e-03],\n       [-4.79021342e-03],\n       [-1.22903297e-02],\n       [-1.81494299e-02],\n       [-2.49777790e-02],\n       [-3.32798585e-02],\n       [-4.09284458e-02],\n       [-4.76428978e-02],\n       [-5.13460338e-02],\n       [-5.43741137e-02],\n       [-5.69198318e-02],\n       [-5.74615449e-02],\n       [-5.70304580e-02],\n       [-5.68658859e-02],\n       [-5.63044548e-02],\n       [-5.53813018e-02],\n       [-5.33974394e-02],\n       [-5.22825606e-02],\n       [-5.14667667e-02],\n       [-5.00918478e-02],\n       [-4.52941209e-02],\n       [-3.99797186e-02],\n       [-3.42392176e-02],\n       [-4.18013893e-02],\n       [-4.94245812e-02],\n       [-5.53219505e-02],\n       [-5.88186160e-02],\n       [-6.23559095e-02],\n       [-6.44537210e-02],\n       [-6.72259033e-02],\n       [-7.04325810e-02],\n       [-7.34834671e-02],\n       [-7.63572901e-02],\n       [-7.90347382e-02],\n       [-8.14985037e-02],\n       [-8.37334543e-02],\n       [-8.57268870e-02],\n       [-8.74684006e-02],\n       [-8.84622335e-02],\n       [-8.97224024e-02],\n       [-9.07680765e-02],\n       [-9.15958509e-02],\n       [-9.22038555e-02],\n       [-9.38255712e-02],\n       [-9.52960923e-02],\n       [-9.66102406e-02],\n       [-9.77640599e-02],\n       [-9.65314209e-02],\n       [-9.50090587e-02],\n       [-9.43303481e-02],\n       [-9.39305946e-02],\n       [-9.33193415e-02],\n       [-8.73220935e-02],\n       [-7.87019655e-02],\n       [-6.74807876e-02],\n       [-5.29788733e-02],\n       [-3.89958844e-02],\n       [-2.51824167e-02],\n       [-1.11536132e-02],\n       [ 9.71603114e-03],\n       [ 3.18991914e-02],\n       [ 5.17031439e-02],\n       [ 6.86677992e-02],\n       [ 8.47181603e-02],\n       [ 9.94211584e-02],\n       [ 1.13542832e-01],\n       [ 1.26958802e-01],\n       [ 1.39551148e-01],\n       [ 1.51211247e-01],\n       [ 1.61842465e-01],\n       [ 1.70181707e-01],\n       [ 1.74374476e-01],\n       [ 1.77600145e-01],\n       [ 1.79781601e-01],\n       [ 1.80946842e-01],\n       [ 1.80825591e-01],\n       [ 1.79230213e-01],\n       [ 1.75764784e-01],\n       [ 1.71599269e-01],\n       [ 1.65002882e-01],\n       [ 1.57498926e-01],\n       [ 1.48504525e-01],\n       [ 1.38970852e-01],\n       [ 1.28948808e-01],\n       [ 1.19094551e-01],\n       [ 1.10931695e-01],\n       [ 1.06046245e-01],\n       [ 1.00879356e-01],\n       [ 9.40484330e-02],\n       [ 8.37404206e-02],\n       [ 7.03837350e-02],\n       [ 5.40231541e-02],\n       [ 3.38236392e-02],\n       [ 9.93102323e-03],\n       [-1.36418771e-02],\n       [-3.37958485e-02],\n       [-4.75929528e-02],\n       [-6.07593171e-02],\n       [-7.33129606e-02],\n       [-8.60748962e-02],\n       [-1.00998916e-01],\n       [-1.13638327e-01],\n       [-1.22708030e-01],\n       [-1.30809367e-01],\n       [-1.38591781e-01],\n       [-1.46071211e-01],\n       [-1.52249202e-01],\n       [-1.58948824e-01],\n       [-1.69015989e-01],\n       [-1.78500682e-01],\n       [-1.86249942e-01],\n       [-1.92681625e-01],\n       [-1.93513975e-01],\n       [-1.93188310e-01],\n       [-1.91791862e-01],\n       [-1.89454451e-01],\n       [-1.76734641e-01],\n       [-1.67452753e-01],\n       [-1.60183325e-01],\n       [-1.54800460e-01],\n       [-1.50351703e-01],\n       [-1.46653607e-01],\n       [-1.42512038e-01],\n       [-1.38025835e-01],\n       [-1.33133054e-01],\n       [-1.28475651e-01],\n       [-1.28317744e-01],\n       [-1.25616193e-01],\n       [-1.17664278e-01],\n       [-1.04565077e-01],\n       [-8.43728036e-02],\n       [-6.96764812e-02],\n       [-5.37205860e-02],\n       [-3.72570008e-02],\n       [-2.03374904e-02],\n       [ 2.39178701e-03],\n       [ 2.39752196e-02],\n       [ 4.21639122e-02],\n       [ 6.09392487e-02],\n       [ 7.90298283e-02],\n       [ 9.67467278e-02],\n       [ 1.13492899e-01],\n       [ 1.29044682e-01],\n       [ 1.43786386e-01],\n       [ 1.57547936e-01],\n       [ 1.70168087e-01],\n       [ 1.92810208e-01],\n       [ 2.13761017e-01],\n       [ 2.27073640e-01],\n       [ 2.38560662e-01],\n       [ 2.48643488e-01],\n       [ 2.55470246e-01],\n       [ 2.59347707e-01],\n       [ 2.56131679e-01],\n       [ 2.51826108e-01],\n       [ 2.43433341e-01],\n       [ 2.34243959e-01],\n       [ 2.23664135e-01],\n       [ 2.10176006e-01],\n       [ 1.94922492e-01],\n       [ 1.78967535e-01],\n       [ 1.66305810e-01],\n       [ 1.59241185e-01],\n       [ 1.55077323e-01],\n       [ 1.46084547e-01],\n       [ 1.34867325e-01],\n       [ 1.12268649e-01],\n       [ 9.19552073e-02],\n       [ 6.08814172e-02],\n       [ 2.88845394e-02],\n       [-5.11757843e-03],\n       [-4.01354171e-02],\n       [-6.54175133e-02],\n       [-8.08246434e-02],\n       [-9.75813121e-02],\n       [-1.11548908e-01],\n       [-1.26374543e-01],\n       [-1.39673129e-01],\n       [-1.51950672e-01],\n       [-1.63052097e-01],\n       [-1.72657683e-01],\n       [-1.75792217e-01],\n       [-1.82613328e-01],\n       [-1.89908445e-01],\n       [-1.97971031e-01],\n       [-2.05587134e-01],\n       [-2.11901724e-01],\n       [-2.17379987e-01],\n       [-2.22515926e-01],\n       [-2.28525087e-01],\n       [-2.33570546e-01],\n       [-2.31866062e-01],\n       [-2.27340937e-01],\n       [-2.21883222e-01],\n       [-2.15682819e-01],\n       [-2.08927915e-01],\n       [-2.02530116e-01],\n       [-2.01146230e-01],\n       [-1.99691311e-01],\n       [-1.98242679e-01],\n       [-1.98006704e-01],\n       [-1.99140355e-01],\n       [-1.48909464e-01],\n       [-1.42856777e-01],\n       [-1.35217726e-01],\n       [-1.26125604e-01],\n       [-1.11641996e-01],\n       [-9.72478539e-02],\n       [-8.00876096e-02],\n       [-6.02280796e-02],\n       [-3.94366942e-02],\n       [-1.77380592e-02],\n       [ 1.31287687e-02],\n       [ 3.69289070e-02],\n       [ 6.10462874e-02],\n       [ 8.50818828e-02],\n       [ 1.09333575e-01],\n       [ 1.33149818e-01],\n       [ 1.55646756e-01],\n       [ 1.77575663e-01],\n       [ 1.98652580e-01],\n       [ 2.18971491e-01],\n       [ 2.37985879e-01],\n       [ 2.51195669e-01],\n       [ 2.59142607e-01],\n       [ 2.65465319e-01],\n       [ 2.70087421e-01],\n       [ 2.71008044e-01],\n       [ 2.69240856e-01],\n       [ 2.66020805e-01],\n       [ 2.61734873e-01],\n       [ 2.56130069e-01],\n       [ 2.53250569e-01],\n       [ 2.49177858e-01],\n       [ 2.44236872e-01],\n       [ 2.37307385e-01],\n       [ 2.28279397e-01],\n       [ 2.18579501e-01],\n       [ 2.14974567e-01],\n       [ 2.11572915e-01],\n       [ 2.10980192e-01],\n       [ 2.15717271e-01],\n       [ 2.19768450e-01],\n       [ 2.15697438e-01],\n       [ 2.10652068e-01],\n       [ 2.05668092e-01],\n       [ 2.00772092e-01],\n       [ 1.95983499e-01],\n       [ 1.87628880e-01],\n       [ 1.77726626e-01],\n       [ 1.68267637e-01],\n       [ 1.58833474e-01],\n       [ 1.48420885e-01],\n       [ 1.38483137e-01],\n       [ 1.28996119e-01],\n       [ 1.19924732e-01],\n       [ 1.11246340e-01],\n       [ 1.02928720e-01],\n       [ 9.49381813e-02],\n       [ 8.72399434e-02],\n       [ 8.01435485e-02],\n       [ 7.32625797e-02],\n       [ 6.61334768e-02],\n       [ 5.91291599e-02],\n       [ 5.22135533e-02],\n       [ 4.54118401e-02],\n       [ 3.90651859e-02],\n       [ 3.27021852e-02],\n       [ 2.62864046e-02],\n       [ 1.97930448e-02],\n       [ 1.31915435e-02],\n       [ 6.45230524e-03],\n       [-4.52906708e-04],\n       [-7.55057298e-03],\n       [-1.52984317e-02],\n       [-2.35147979e-02],\n       [-3.26670855e-02],\n       [-4.30074446e-02],\n       [-5.37427254e-02],\n       [-6.64891973e-02],\n       [-8.03010985e-02],\n       [-9.41904411e-02],\n       [-1.08291090e-01],\n       [-1.22762620e-01],\n       [-1.35419905e-01],\n       [-1.41300365e-01],\n       [-1.44104779e-01],\n       [-1.45526305e-01],\n       [-1.46526352e-01],\n       [-1.63116962e-01],\n       [-1.79530740e-01],\n       [-1.94870889e-01],\n       [-2.11554289e-01],\n       [-2.26783156e-01],\n       [-2.40732327e-01],\n       [-2.51788378e-01],\n       [-2.54785746e-01],\n       [-2.43366003e-01],\n       [-2.39020064e-01],\n       [-2.36152336e-01],\n       [-2.32401669e-01],\n       [-2.28444695e-01],\n       [-2.23802194e-01],\n       [-2.22351938e-01],\n       [-2.16780305e-01],\n       [-2.16080382e-01],\n       [-2.14293793e-01],\n       [-2.03407973e-01],\n       [-1.91727504e-01],\n       [-1.82277232e-01],\n       [-1.76102132e-01],\n       [-1.70163229e-01],\n       [-1.66804925e-01],\n       [-1.63986817e-01],\n       [-1.63222328e-01],\n       [-1.62259191e-01],\n       [-1.61115915e-01],\n       [-1.59806982e-01],\n       [-1.58378422e-01],\n       [-1.56867161e-01],\n       [-1.55210018e-01],\n       [-1.53408661e-01],\n       [-1.51462317e-01],\n       [-1.48909464e-01],\n       [-1.45415366e-01],\n       [-1.41491175e-01],\n       [-1.36805385e-01],\n       [-1.31827623e-01],\n       [-1.25807330e-01],\n       [-1.16176337e-01],\n       [-1.07015550e-01],\n       [-9.73841026e-02],\n       [-8.69067684e-02],\n       [-7.37385303e-02],\n       [-5.01561612e-02],\n       [-2.55433396e-02],\n       [ 7.63370004e-03],\n       [ 3.97683419e-02],\n       [ 7.22031444e-02],\n       [ 1.04893938e-01],\n       [ 1.37597889e-01],\n       [ 1.68851733e-01],\n       [ 1.99761793e-01],\n       [ 2.30517849e-01],\n       [ 2.60473669e-01],\n       [ 2.82137513e-01],\n       [ 2.98156917e-01],\n       [ 3.12402695e-01],\n       [ 3.21999907e-01],\n       [ 3.27906847e-01],\n       [ 3.31956416e-01],\n       [ 3.34430993e-01],\n       [ 3.34274888e-01],\n       [ 3.30519766e-01],\n       [ 3.25464934e-01],\n       [ 3.19353342e-01],\n       [ 3.12233627e-01],\n       [ 3.02546471e-01],\n       [ 2.91750222e-01],\n       [ 2.87843138e-01],\n       [ 2.82980978e-01],\n       [ 2.81363219e-01],\n       [ 2.83715993e-01],\n       [ 2.82985657e-01],\n       [ 2.78829604e-01],\n       [ 2.75080621e-01],\n       [ 2.70547569e-01],\n       [ 2.66728789e-01],\n       [ 2.63654798e-01],\n       [ 2.59998083e-01],\n       [ 2.55006015e-01]], dtype=float32)>"
     },
     "execution_count": 11,
     "metadata": {},
     "output_type": "execute_result"
    }
   ],
   "source": [
    "act_net(all_observations)"
   ],
   "metadata": {
    "collapsed": false,
    "pycharm": {
     "name": "#%%\n"
    }
   }
  },
  {
   "cell_type": "code",
   "execution_count": 12,
   "outputs": [
    {
     "data": {
      "text/plain": "[<matplotlib.lines.Line2D at 0x166d2fc70>,\n <matplotlib.lines.Line2D at 0x166d2fd30>]"
     },
     "execution_count": 12,
     "metadata": {},
     "output_type": "execute_result"
    },
    {
     "data": {
      "text/plain": "<Figure size 432x288 with 1 Axes>",
      "image/png": "[encoded data removed]"
     },
     "metadata": {
      "needs_background": "light"
     },
     "output_type": "display_data"
    }
   ],
   "source": [
    "obs_pos = np.vstack([np.linspace(-1, 1, 100), np.zeros(100)]).T\n",
    "actions_pred = act_net(obs_pos)\n",
    "\n",
    "actions_pred\n",
    "\n",
    "\n",
    "plt.plot(obs_pos, actions_pred)"
   ],
   "metadata": {
    "collapsed": false,
    "pycharm": {
     "name": "#%%\n"
    }
   }
  },
  {
   "cell_type": "code",
   "execution_count": 13,
   "outputs": [
    {
     "name": "stdout",
     "output_type": "stream",
     "text": [
      "tf.Tensor(\n",
      "[[-0.25044248]\n",
      " [-0.24634488]\n",
      " [-0.24223854]\n",
      " [-0.23812342]\n",
      " [-0.23399977]\n",
      " [-0.22986773]\n",
      " [-0.2257273 ]\n",
      " [-0.22157873]\n",
      " [-0.21741652]\n",
      " [-0.21315154]\n",
      " [-0.20887828]\n",
      " [-0.20459718]\n",
      " [-0.20030816]\n",
      " [-0.19601145]\n",
      " [-0.1917072 ]\n",
      " [-0.18739559]\n",
      " [-0.18307666]\n",
      " [-0.17875075]\n",
      " [-0.17441785]\n",
      " [-0.17007822]\n",
      " [-0.1657319 ]\n",
      " [-0.16137923]\n",
      " [-0.1570203 ]\n",
      " [-0.15265517]\n",
      " [-0.14828409]\n",
      " [-0.14390723]\n",
      " [-0.13952476]\n",
      " [-0.13513678]\n",
      " [-0.13074346]\n",
      " [-0.12614667]\n",
      " [-0.12122537]\n",
      " [-0.1162981 ]\n",
      " [-0.11136515]\n",
      " [-0.10642662]\n",
      " [-0.1013028 ]\n",
      " [-0.09591065]\n",
      " [-0.09051283]\n",
      " [-0.08510972]\n",
      " [-0.07970157]\n",
      " [-0.07428877]\n",
      " [-0.0681168 ]\n",
      " [-0.06182038]\n",
      " [-0.05551907]\n",
      " [-0.04785036]\n",
      " [-0.03901978]\n",
      " [-0.02949328]\n",
      " [-0.01505133]\n",
      " [ 0.00373974]\n",
      " [ 0.02596716]\n",
      " [ 0.04135086]\n",
      " [ 0.05567277]\n",
      " [ 0.0678949 ]\n",
      " [ 0.07700461]\n",
      " [ 0.0871534 ]\n",
      " [ 0.09775699]\n",
      " [ 0.10833845]\n",
      " [ 0.11881272]\n",
      " [ 0.12913631]\n",
      " [ 0.13887256]\n",
      " [ 0.14858198]\n",
      " [ 0.15826286]\n",
      " [ 0.16768046]\n",
      " [ 0.17674321]\n",
      " [ 0.18577607]\n",
      " [ 0.19482212]\n",
      " [ 0.20359683]\n",
      " [ 0.21233897]\n",
      " [ 0.22106464]\n",
      " [ 0.22978388]\n",
      " [ 0.23846644]\n",
      " [ 0.24711107]\n",
      " [ 0.2557164 ]\n",
      " [ 0.26428154]\n",
      " [ 0.27280515]\n",
      " [ 0.28128615]\n",
      " [ 0.28972346]\n",
      " [ 0.29811588]\n",
      " [ 0.30646256]\n",
      " [ 0.31476235]\n",
      " [ 0.3230143 ]\n",
      " [ 0.3312174 ]\n",
      " [ 0.3393708 ]\n",
      " [ 0.3474734 ]\n",
      " [ 0.35552454]\n",
      " [ 0.36352324]\n",
      " [ 0.3714687 ]\n",
      " [ 0.37936   ]\n",
      " [ 0.38719666]\n",
      " [ 0.39497775]\n",
      " [ 0.40270248]\n",
      " [ 0.4103704 ]\n",
      " [ 0.41798067]\n",
      " [ 0.4255327 ]\n",
      " [ 0.43302593]\n",
      " [ 0.44045976]\n",
      " [ 0.4478337 ]\n",
      " [ 0.4551472 ]\n",
      " [ 0.46239984]\n",
      " [ 0.46959114]\n",
      " [ 0.47672066]], shape=(100, 1), dtype=float32)\n"
     ]
    },
    {
     "data": {
      "text/plain": "[<matplotlib.lines.Line2D at 0x17af79df0>,\n <matplotlib.lines.Line2D at 0x1736e1100>]"
     },
     "execution_count": 13,
     "metadata": {},
     "output_type": "execute_result"
    },
    {
     "data": {
      "text/plain": "<Figure size 432x288 with 1 Axes>",
      "image/png": "[encoded data removed]"
     },
     "metadata": {
      "needs_background": "light"
     },
     "output_type": "display_data"
    }
   ],
   "source": [
    "vel_pos = np.vstack([np.zeros(100), np.linspace(-1, 1, 100)]).T\n",
    "actions_pred = act_net(vel_pos)\n",
    "print(actions_pred)\n",
    "\n",
    "plt.plot(obs_pos, actions_pred)"
   ],
   "metadata": {
    "collapsed": false,
    "pycharm": {
     "name": "#%%\n"
    }
   }
  },
  {
   "cell_type": "markdown",
   "source": [
    "## Can it solve the environment?"
   ],
   "metadata": {
    "collapsed": false,
    "pycharm": {
     "name": "#%% md\n"
    }
   }
  },
  {
   "cell_type": "code",
   "execution_count": 13,
   "outputs": [
    {
     "name": "stdout",
     "output_type": "stream",
     "text": [
      "762\n",
      "success\n",
      "99.20545377010609\n",
      "747\n",
      "success\n",
      "98.81060835096568\n",
      "505\n",
      "success\n",
      "98.96460237112511\n",
      "831\n",
      "success\n",
      "99.14034716394394\n",
      "658\n",
      "success\n",
      "98.91230608623175\n",
      "873\n",
      "success\n",
      "99.01944949716578\n",
      "782\n",
      "success\n",
      "98.82260315444415\n",
      "672\n",
      "success\n",
      "98.81597150803844\n",
      "503\n",
      "success\n",
      "98.98914997008887\n",
      "681\n",
      "success\n",
      "99.14920619863372\n"
     ]
    }
   ],
   "source": [
    "num_episodes = 10\n",
    "\n",
    "observation_max = np.array([0.6, 0.07])\n",
    "observation_min = np.array([-1.2, -0.07])\n",
    "\n",
    "# obs_stddev = [0.05, 0.05]\n",
    "obs_stddev = [0, 0]\n",
    "\n",
    "\n",
    "t_max = 1000\n",
    "\n",
    "for i in range(num_episodes):\n",
    "\n",
    "    env = gym.make('MountainCarContinuous-v0')\n",
    "\n",
    "    obs = env.reset()\n",
    "\n",
    "    done = False\n",
    "    rewards = []\n",
    "\n",
    "    t = 0\n",
    "    while not done:\n",
    "\n",
    "        env.render()\n",
    "\n",
    "        obs = obs.reshape(1, obs.shape[0])\n",
    "        obs = transform_observations(obs, observation_max, observation_min, obs_stddev)\n",
    "\n",
    "        # print(obs)\n",
    "\n",
    "        action = act_net(obs)\n",
    "        action = action.numpy()\n",
    "\n",
    "        obs, reward, done, info = env.step(action)\n",
    "\n",
    "        # print(obs)\n",
    "\n",
    "        rewards.append(reward)\n",
    "\n",
    "        t += 1\n",
    "\n",
    "        if t == t_max:\n",
    "            done = True\n",
    "\n",
    "    print(t)\n",
    "    if t < t_max:\n",
    "        print(\"success\")\n",
    "    else:\n",
    "        print(\"Failure\")\n",
    "\n",
    "    print(np.sum(rewards))\n",
    "    # print(rewards)\n",
    "\n",
    "\n",
    "\n",
    "\n",
    "env.close()"
   ],
   "metadata": {
    "collapsed": false,
    "pycharm": {
     "name": "#%%\n"
    }
   }
  },
  {
   "cell_type": "code",
   "execution_count": 13,
   "outputs": [
    {
     "data": {
      "text/plain": "<tf.Tensor: shape=(10000, 1), dtype=float32, numpy=\narray([[-0.409816  ],\n       [-0.4060031 ],\n       [-0.40266117],\n       ...,\n       [ 0.5045513 ],\n       [ 0.50988096],\n       [ 0.5151719 ]], dtype=float32)>"
     },
     "execution_count": 13,
     "metadata": {},
     "output_type": "execute_result"
    }
   ],
   "source": [
    "n = 50\n",
    "both = [[i/n, j/n] for i in range(-1*n, n) for j in range(-1*n, n)]\n",
    "both = np.array(both)\n",
    "both\n",
    "\n",
    "both_acts = act_net(both)\n",
    "\n",
    "both_acts"
   ],
   "metadata": {
    "collapsed": false,
    "pycharm": {
     "name": "#%%\n"
    }
   }
  },
  {
   "cell_type": "code",
   "execution_count": 115,
   "outputs": [
    {
     "data": {
      "text/plain": "array([[-1.  , -1.  ],\n       [-1.  , -0.98],\n       [-1.  , -0.96],\n       ...,\n       [ 0.98,  0.94],\n       [ 0.98,  0.96],\n       [ 0.98,  0.98]])"
     },
     "execution_count": 115,
     "metadata": {},
     "output_type": "execute_result"
    }
   ],
   "source": [
    "n = 50\n",
    "coords = [[i/n, j/n] for i in range(-1*n, n) for j in range(-1*n, n)]\n",
    "coords = np.array(coords)\n",
    "coords\n"
   ],
   "metadata": {
    "collapsed": false,
    "pycharm": {
     "name": "#%%\n"
    }
   }
  },
  {
   "cell_type": "code",
   "execution_count": 101,
   "outputs": [
    {
     "data": {
      "text/plain": "array([[-5. , -4.5, -4. , -3.5, -3. , -2.5, -2. , -1.5, -1. , -0.5,  0. ,\n         0.5,  1. ,  1.5,  2. ,  2.5,  3. ,  3.5,  4. ,  4.5,  5. ],\n       [-5. , -4.5, -4. , -3.5, -3. , -2.5, -2. , -1.5, -1. , -0.5,  0. ,\n         0.5,  1. ,  1.5,  2. ,  2.5,  3. ,  3.5,  4. ,  4.5,  5. ],\n       [-5. , -4.5, -4. , -3.5, -3. , -2.5, -2. , -1.5, -1. , -0.5,  0. ,\n         0.5,  1. ,  1.5,  2. ,  2.5,  3. ,  3.5,  4. ,  4.5,  5. ],\n       [-5. , -4.5, -4. , -3.5, -3. , -2.5, -2. , -1.5, -1. , -0.5,  0. ,\n         0.5,  1. ,  1.5,  2. ,  2.5,  3. ,  3.5,  4. ,  4.5,  5. ],\n       [-5. , -4.5, -4. , -3.5, -3. , -2.5, -2. , -1.5, -1. , -0.5,  0. ,\n         0.5,  1. ,  1.5,  2. ,  2.5,  3. ,  3.5,  4. ,  4.5,  5. ],\n       [-5. , -4.5, -4. , -3.5, -3. , -2.5, -2. , -1.5, -1. , -0.5,  0. ,\n         0.5,  1. ,  1.5,  2. ,  2.5,  3. ,  3.5,  4. ,  4.5,  5. ],\n       [-5. , -4.5, -4. , -3.5, -3. , -2.5, -2. , -1.5, -1. , -0.5,  0. ,\n         0.5,  1. ,  1.5,  2. ,  2.5,  3. ,  3.5,  4. ,  4.5,  5. ],\n       [-5. , -4.5, -4. , -3.5, -3. , -2.5, -2. , -1.5, -1. , -0.5,  0. ,\n         0.5,  1. ,  1.5,  2. ,  2.5,  3. ,  3.5,  4. ,  4.5,  5. ],\n       [-5. , -4.5, -4. , -3.5, -3. , -2.5, -2. , -1.5, -1. , -0.5,  0. ,\n         0.5,  1. ,  1.5,  2. ,  2.5,  3. ,  3.5,  4. ,  4.5,  5. ],\n       [-5. , -4.5, -4. , -3.5, -3. , -2.5, -2. , -1.5, -1. , -0.5,  0. ,\n         0.5,  1. ,  1.5,  2. ,  2.5,  3. ,  3.5,  4. ,  4.5,  5. ],\n       [-5. , -4.5, -4. , -3.5, -3. , -2.5, -2. , -1.5, -1. , -0.5,  0. ,\n         0.5,  1. ,  1.5,  2. ,  2.5,  3. ,  3.5,  4. ,  4.5,  5. ],\n       [-5. , -4.5, -4. , -3.5, -3. , -2.5, -2. , -1.5, -1. , -0.5,  0. ,\n         0.5,  1. ,  1.5,  2. ,  2.5,  3. ,  3.5,  4. ,  4.5,  5. ],\n       [-5. , -4.5, -4. , -3.5, -3. , -2.5, -2. , -1.5, -1. , -0.5,  0. ,\n         0.5,  1. ,  1.5,  2. ,  2.5,  3. ,  3.5,  4. ,  4.5,  5. ],\n       [-5. , -4.5, -4. , -3.5, -3. , -2.5, -2. , -1.5, -1. , -0.5,  0. ,\n         0.5,  1. ,  1.5,  2. ,  2.5,  3. ,  3.5,  4. ,  4.5,  5. ],\n       [-5. , -4.5, -4. , -3.5, -3. , -2.5, -2. , -1.5, -1. , -0.5,  0. ,\n         0.5,  1. ,  1.5,  2. ,  2.5,  3. ,  3.5,  4. ,  4.5,  5. ],\n       [-5. , -4.5, -4. , -3.5, -3. , -2.5, -2. , -1.5, -1. , -0.5,  0. ,\n         0.5,  1. ,  1.5,  2. ,  2.5,  3. ,  3.5,  4. ,  4.5,  5. ],\n       [-5. , -4.5, -4. , -3.5, -3. , -2.5, -2. , -1.5, -1. , -0.5,  0. ,\n         0.5,  1. ,  1.5,  2. ,  2.5,  3. ,  3.5,  4. ,  4.5,  5. ],\n       [-5. , -4.5, -4. , -3.5, -3. , -2.5, -2. , -1.5, -1. , -0.5,  0. ,\n         0.5,  1. ,  1.5,  2. ,  2.5,  3. ,  3.5,  4. ,  4.5,  5. ],\n       [-5. , -4.5, -4. , -3.5, -3. , -2.5, -2. , -1.5, -1. , -0.5,  0. ,\n         0.5,  1. ,  1.5,  2. ,  2.5,  3. ,  3.5,  4. ,  4.5,  5. ],\n       [-5. , -4.5, -4. , -3.5, -3. , -2.5, -2. , -1.5, -1. , -0.5,  0. ,\n         0.5,  1. ,  1.5,  2. ,  2.5,  3. ,  3.5,  4. ,  4.5,  5. ],\n       [-5. , -4.5, -4. , -3.5, -3. , -2.5, -2. , -1.5, -1. , -0.5,  0. ,\n         0.5,  1. ,  1.5,  2. ,  2.5,  3. ,  3.5,  4. ,  4.5,  5. ]])"
     },
     "execution_count": 101,
     "metadata": {},
     "output_type": "execute_result"
    }
   ],
   "source": [
    "x = np.arange(-5, 5.1, 0.5)\n",
    "y = np.arange(-5, 5.1, 0.5)\n",
    "X,Y = np.meshgrid(x,y)\n",
    "\n",
    "X"
   ],
   "metadata": {
    "collapsed": false,
    "pycharm": {
     "name": "#%%\n"
    }
   }
  },
  {
   "cell_type": "code",
   "execution_count": null,
   "outputs": [],
   "source": [],
   "metadata": {
    "collapsed": false,
    "pycharm": {
     "name": "#%%\n"
    }
   }
  }
 ],
 "metadata": {
  "kernelspec": {
   "display_name": "Python 3",
   "language": "python",
   "name": "python3"
  },
  "language_info": {
   "codemirror_mode": {
    "name": "ipython",
    "version": 2
   },
   "file_extension": ".py",
   "mimetype": "text/x-python",
   "name": "python",
   "nbconvert_exporter": "python",
   "pygments_lexer": "ipython2",
   "version": "2.7.6"
  }
 },
 "nbformat": 4,
 "nbformat_minor": 0
}