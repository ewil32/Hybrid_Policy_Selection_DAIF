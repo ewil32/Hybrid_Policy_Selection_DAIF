{
 "cells": [
  {
   "cell_type": "markdown",
   "metadata": {
    "collapsed": true,
    "pycharm": {
     "name": "#%% md\n"
    }
   },
   "source": [
    "# The Habitual Action Network\n",
    "\n",
    "Habitual network\n",
    "\n",
    "Assuming generative model is perfect, then action selected would always be the action that maximises chance of observing prior preferences. Hence habitual network can be trained to output maximally rewarding actions, as these actions are the free energy minimising actions.\n",
    "\n",
    "Also has a nice interpretation as long as the generative models keep training. Eventually the generative model is less sure about old things. Why people eventually revisit old states they were previously certain about.\n",
    "\n",
    "As far as an agent knows, if observations are confirming perfectly to expectations then it has a perfect world model. So why would it change it? It’s only when an uncertain observation comes in that the agent needs to reconsider whether or not it has the best model of the world.\n",
    "\n",
    "\n",
    "I think this network should be performing policy gradient method but instead of minimising the discounted reward sequence it should minimise the discounted external EFE/FEEF component sequence. That way in the end the end the fast and slow thinking methods should be converging as the world model continues to improve\n",
    "\n",
    "\n",
    "What is this network trying to learn?\n",
    "- This network is trying to learn the state action mapping that maximises the probability of being in the preferred states\n",
    "- It is also trying to learn to output actions that maximise the extrinsic part of the EFE/FEEF\n",
    "\n",
    "\n",
    "What does this network take as input?\n",
    "- Current state\n",
    "- Maybe sequence of previous states and actions\n",
    "\n",
    "What should this network output?\n",
    "- The action that leads to the next state that maximally achieves the prior preferences\n",
    "\n",
    "How should this network learn?\n",
    "- It should learn by outputting\n",
    "\n"
   ]
  },
  {
   "cell_type": "code",
   "execution_count": 1,
   "outputs": [],
   "source": [
    "from util import random_observation_sequence, transform_observations\n",
    "import matplotlib.pyplot as plt\n",
    "import gym"
   ],
   "metadata": {
    "collapsed": false,
    "pycharm": {
     "name": "#%%\n"
    }
   }
  },
  {
   "cell_type": "code",
   "execution_count": 2,
   "outputs": [],
   "source": [
    "import tensorflow as tf\n",
    "import tensorflow_probability as tfp\n",
    "import keras\n",
    "from keras import layers\n",
    "import numpy as np\n",
    "import matplotlib.pyplot as plt\n",
    "\n",
    "\n",
    "class HabitualAction(keras.Model):\n",
    "\n",
    "    def __init__(self, latent_dim, action_dim, planning_horizon, dense_units, action_std_dev=0.05, **kwargs):\n",
    "        super(HabitualAction, self).__init__(**kwargs)\n",
    "\n",
    "        habit_action_inputs = layers.Input(latent_dim)\n",
    "        h = habit_action_inputs\n",
    "        for d in dense_units:\n",
    "            h = layers.Dense(d, activation=\"relu\")(h)\n",
    "\n",
    "        a_mean = layers.Dense(action_dim, activation=\"tanh\", name=\"z_mean\")(h)\n",
    "        # a_log_sd = layers.Dense(action_dim, name=\"z_log_var\")(h)\n",
    "        # a_stddev = tf.exp(a_log_sd)\n",
    "\n",
    "        # self.habit_action_model = keras.Model(habit_action_inputs, [a_mean, a_stddev], name=\"habit_action\")\n",
    "        self.habit_action_model = keras.Model(habit_action_inputs, a_mean, name=\"habit_action\")\n",
    "\n",
    "        # add the loss over all time steps\n",
    "        self.loss_tracker = keras.metrics.Sum(name=\"loss\")\n",
    "\n",
    "        self.action_std_dev = action_std_dev\n",
    "\n",
    "    def call(self, inputs, training=None, mask=None):\n",
    "        return self.habit_action_model(inputs)\n",
    "\n",
    "\n",
    "    @property\n",
    "    def metrics(self):\n",
    "        return [self.loss_tracker]\n",
    "\n",
    "\n",
    "    # def train(self, states, actions, rewards, gamma):\n",
    "    #     \"\"\"\n",
    "    #     In state s, took action a, recieved reward/EFE_external r\n",
    "    #     :param states:\n",
    "    #     :param actions:\n",
    "    #     :param rewards:\n",
    "    #     :return:\n",
    "    #     \"\"\"\n",
    "    #\n",
    "    #     # find the discounted future rewards\n",
    "    #     cumulative_discounted_rewards = compute_discounted_cumulative_reward(rewards, discount_factor=gamma)\n",
    "    #\n",
    "    #     # call fit after calculating the cumulative discounted rewards\n",
    "    #     self.fit(states, (actions, cumulative_discounted_rewards))\n",
    "\n",
    "\n",
    "    def train_step(self, data):\n",
    "        # Unpack the data. Its structure depends on your model and\n",
    "        # on what you pass to `fit()`.\n",
    "\n",
    "        latent_states, outcomes = data\n",
    "        true_actions, cum_discounted_rewards = outcomes\n",
    "\n",
    "        # TODO what do I assume the\n",
    "        with tf.GradientTape() as tape:\n",
    "            # a_mean, a_stddev = self.habit_action_model(latent_states, training=True)  # Forward pass\n",
    "            a_mean = self.habit_action_model(latent_states, training=True)  # Forward pass\n",
    "\n",
    "            print(a_mean, true_actions)\n",
    "\n",
    "            log_loss = ll_gaussian(a_mean, true_actions, self.action_std_dev**2, use_consts=False)\n",
    "            weighted_log_loss = log_loss * cum_discounted_rewards\n",
    "\n",
    "            # need to multiply by negative one because neural net does gradient descent not ascent\n",
    "            neg_weighted_log_loss = -1 * weighted_log_loss\n",
    "\n",
    "        # Compute gradients\n",
    "        trainable_vars = self.trainable_variables\n",
    "        gradients = tape.gradient(neg_weighted_log_loss, trainable_vars)\n",
    "        # Update weights\n",
    "        self.optimizer.apply_gradients(zip(gradients, trainable_vars))\n",
    "        # Update metrics (includes the metric that tracks the loss)\n",
    "        self.loss_tracker.update_state(neg_weighted_log_loss)\n",
    "        return {\n",
    "            \"loss\": self.loss_tracker.result()\n",
    "        }\n",
    "\n",
    "\n",
    "def compute_discounted_cumulative_reward(rewards, discount_factor):\n",
    "\n",
    "    gamma = np.ones_like(rewards) * discount_factor\n",
    "    # print(gamma.shape)\n",
    "    gamma_t = np.power(gamma, np.arange(rewards.shape[0]).reshape(rewards.shape[0], 1))  # discounted through time\n",
    "\n",
    "    # print(gamma_t)\n",
    "    # print(gamma_t.shape)\n",
    "\n",
    "    # discounted rewards starting from the start\n",
    "    discounted_rewards = np.multiply(rewards, gamma_t)\n",
    "\n",
    "    # print(rewards)\n",
    "    # print(discounted_rewards)\n",
    "\n",
    "    n = rewards.shape[0]\n",
    "\n",
    "    # upper trianglur matrix with row i equal to 1/(discount_factor**i)  indexing from 0\n",
    "    discount_factor_matrix = (np.tril(np.ones((n,n))) * (1/gamma_t)).T\n",
    "    discount_factor_matrix\n",
    "\n",
    "    # cumulative discounted_rewards\n",
    "    cumulative_discounted_rewards = np.matmul(discount_factor_matrix, discounted_rewards)\n",
    "    return cumulative_discounted_rewards\n",
    "\n",
    "\n",
    "\n",
    "def ll_gaussian(pred, target, variance, use_consts=True):\n",
    "\n",
    "    log_prob = -1 * ((pred - target)**2/(2*variance))\n",
    "\n",
    "    if use_consts:\n",
    "        const = 0.5*np.log(2*np.pi*variance)\n",
    "        log_prob += const\n",
    "\n",
    "    return tf.reduce_sum(log_prob, axis=1)"
   ],
   "metadata": {
    "collapsed": false,
    "pycharm": {
     "name": "#%%\n"
    }
   }
  },
  {
   "cell_type": "code",
   "execution_count": 3,
   "outputs": [
    {
     "data": {
      "text/plain": "array([1.        , 0.99      , 0.9801    , 0.970299  , 0.96059601])"
     },
     "execution_count": 3,
     "metadata": {},
     "output_type": "execute_result"
    }
   ],
   "source": [
    "gamma = np.ones(5)*0.99\n",
    "rewards = np.array([-1,-1,-1,-1, 1]).reshape((5,1))\n",
    "gamma_t = np.power(gamma, np.arange(rewards.shape[0]))\n",
    "gamma_t"
   ],
   "metadata": {
    "collapsed": false,
    "pycharm": {
     "name": "#%%\n"
    }
   }
  },
  {
   "cell_type": "code",
   "execution_count": 4,
   "outputs": [
    {
     "name": "stdout",
     "output_type": "stream",
     "text": [
      "(377, 2) (377, 1) (377, 1)\n"
     ]
    }
   ],
   "source": [
    "env = gym.make('MountainCarContinuous-v0')\n",
    "env.action_space.seed(42)\n",
    "\n",
    "observation_max = np.array([0.6, 0.07])\n",
    "observation_min = np.array([-1.2, -0.07])\n",
    "\n",
    "all_observations = []\n",
    "all_observations_scaled = []\n",
    "actions = []\n",
    "rewards = []\n",
    "num_episodes = 1\n",
    "\n",
    "# obs_stddev = [0.05, 0.05]\n",
    "obs_stddev = [0, 0]\n",
    "\n",
    "\n",
    "for i in range(num_episodes):\n",
    "    o, a, r = random_observation_sequence(env, 1000, epsilon=0.1)\n",
    "    # o_scaled = transform_observations(o, observation_max, observation_min, [0.05, 0.05])\n",
    "    o_scaled = transform_observations(o, observation_max, observation_min, obs_stddev)\n",
    "    o_scaled\n",
    "    actions.append(a)\n",
    "\n",
    "    rewards.append(r)\n",
    "\n",
    "    o = transform_observations(o, observation_max, observation_min, [0, 0])\n",
    "\n",
    "    all_observations_scaled.append(o_scaled)\n",
    "    all_observations.append(o[:-1])\n",
    "\n",
    "all_observations = np.vstack(all_observations)\n",
    "all_observations_scaled = np.vstack(all_observations_scaled)\n",
    "actions = np.vstack(actions)\n",
    "rewards = np.vstack(rewards).T\n",
    "# rewards = rewards.reshape(rewards.shape[0])\n",
    "print(all_observations.shape, actions.shape, rewards.shape)"
   ],
   "metadata": {
    "collapsed": false,
    "pycharm": {
     "name": "#%%\n"
    }
   }
  },
  {
   "cell_type": "code",
   "execution_count": 5,
   "outputs": [
    {
     "name": "stdout",
     "output_type": "stream",
     "text": [
      "Metal device set to: Apple M1 Pro\n",
      "Model: \"habit_action\"\n",
      "_________________________________________________________________\n",
      " Layer (type)                Output Shape              Param #   \n",
      "=================================================================\n",
      " input_1 (InputLayer)        [(None, 2)]               0         \n",
      "                                                                 \n",
      " dense (Dense)               (None, 100)               300       \n",
      "                                                                 \n",
      " z_mean (Dense)              (None, 1)                 101       \n",
      "                                                                 \n",
      "=================================================================\n",
      "Total params: 401\n",
      "Trainable params: 401\n",
      "Non-trainable params: 0\n",
      "_________________________________________________________________\n"
     ]
    },
    {
     "name": "stderr",
     "output_type": "stream",
     "text": [
      "2022-08-22 10:10:26.884847: I tensorflow/core/common_runtime/pluggable_device/pluggable_device_factory.cc:305] Could not identify NUMA node of platform GPU ID 0, defaulting to 0. Your kernel may not have been built with NUMA support.\n",
      "2022-08-22 10:10:26.885014: I tensorflow/core/common_runtime/pluggable_device/pluggable_device_factory.cc:271] Created TensorFlow device (/job:localhost/replica:0/task:0/device:GPU:0 with 0 MB memory) -> physical PluggableDevice (device: 0, name: METAL, pci bus id: <undefined>)\n"
     ]
    }
   ],
   "source": [
    "act_net = HabitualAction(2, 1, 10, [100])\n",
    "\n",
    "act_net.compile(optimizer=tf.keras.optimizers.Adam())\n",
    "\n",
    "act_net.habit_action_model.summary()"
   ],
   "metadata": {
    "collapsed": false,
    "pycharm": {
     "name": "#%%\n"
    }
   }
  },
  {
   "cell_type": "code",
   "execution_count": 6,
   "outputs": [],
   "source": [
    "# act_net.fit(all_observations, (actions, cum_rewards), batch_size=all_observations.shape[0], epochs=100)\n",
    "\n",
    "# act_net.train_on_batch(all_observations, (actions, cum_rewards))"
   ],
   "metadata": {
    "collapsed": false,
    "pycharm": {
     "name": "#%%\n"
    }
   }
  },
  {
   "cell_type": "markdown",
   "source": [
    "## How about multiple runs?"
   ],
   "metadata": {
    "collapsed": false,
    "pycharm": {
     "name": "#%% md\n"
    }
   }
  },
  {
   "cell_type": "code",
   "execution_count": 7,
   "outputs": [
    {
     "name": "stdout",
     "output_type": "stream",
     "text": [
      "Model: \"habit_action\"\n",
      "_________________________________________________________________\n",
      " Layer (type)                Output Shape              Param #   \n",
      "=================================================================\n",
      " input_2 (InputLayer)        [(None, 2)]               0         \n",
      "                                                                 \n",
      " dense_1 (Dense)             (None, 64)                192       \n",
      "                                                                 \n",
      " dense_2 (Dense)             (None, 64)                4160      \n",
      "                                                                 \n",
      " z_mean (Dense)              (None, 1)                 65        \n",
      "                                                                 \n",
      "=================================================================\n",
      "Total params: 4,417\n",
      "Trainable params: 4,417\n",
      "Non-trainable params: 0\n",
      "_________________________________________________________________\n"
     ]
    }
   ],
   "source": [
    "act_net = HabitualAction(2, 1, 10, [64, 64])\n",
    "\n",
    "act_net.compile(optimizer=tf.keras.optimizers.Adam())\n",
    "\n",
    "act_net.habit_action_model.summary()"
   ],
   "metadata": {
    "collapsed": false,
    "pycharm": {
     "name": "#%%\n"
    }
   }
  },
  {
   "cell_type": "code",
   "execution_count": 17,
   "outputs": [
    {
     "name": "stdout",
     "output_type": "stream",
     "text": [
      "-11742972.0\n",
      "-4922325.0\n",
      "-3983017.5\n",
      "178112080.0\n",
      "-7250375.5\n",
      "-21778648.0\n",
      "-8968784.0\n",
      "-2024148.25\n",
      "-4679858.0\n",
      "-12791094.0\n",
      "-4502807.0\n",
      "-22300176.0\n",
      "-9785820.0\n",
      "-5132476.5\n",
      "-10713549.0\n",
      "-8478798.0\n",
      "-8643561.0\n",
      "-14043957.0\n",
      "-5870828.0\n",
      "-17940272.0\n",
      "-11314962.0\n",
      "220508656.0\n",
      "-4601605.5\n",
      "-10702923.0\n",
      "-4682615.5\n",
      "-14748121.0\n",
      "-10883867.0\n",
      "-7098004.0\n",
      "-11383687.0\n",
      "-11606142.0\n",
      "-5818407.0\n",
      "-8436833.0\n",
      "-11649523.0\n",
      "-5854264.0\n",
      "-4264864.0\n",
      "-3053912.75\n",
      "-8907108.0\n",
      "-5420939.0\n",
      "-8932172.0\n",
      "-4010764.5\n",
      "-9502233.0\n",
      "-20694292.0\n",
      "-8388592.5\n",
      "-6748480.5\n",
      "-1930831.0\n",
      "-8420117.0\n",
      "48909876.0\n",
      "219004944.0\n",
      "-5470197.0\n",
      "-15202698.0\n",
      "-3945286.5\n",
      "198322720.0\n",
      "-5316696.0\n",
      "-11174040.0\n",
      "-7298977.0\n",
      "-6844663.0\n",
      "-4924411.0\n",
      "-1104755.125\n",
      "-7156427.0\n",
      "65630968.0\n",
      "-6094444.0\n",
      "-14047692.0\n",
      "-14806435.0\n",
      "-3659564.0\n",
      "-24795768.0\n",
      "66352108.0\n",
      "-6650771.0\n",
      "-8084193.0\n",
      "-510099.1875\n",
      "-8911898.0\n",
      "-7655352.0\n",
      "-3764352.75\n",
      "-16745619.0\n",
      "-16088917.0\n",
      "-13974079.0\n",
      "-6205340.0\n",
      "-3631158.5\n",
      "-12042264.0\n",
      "-3415202.25\n",
      "-12479796.0\n",
      "-9599582.0\n",
      "-8203972.0\n",
      "-15777425.0\n",
      "86212344.0\n",
      "-9302088.0\n",
      "-11381144.0\n",
      "-10376920.0\n",
      "-9071938.0\n",
      "-14802132.0\n",
      "-4347938.0\n",
      "-8131990.0\n",
      "-2885791.0\n",
      "-4757589.0\n",
      "-8561116.0\n",
      "69342784.0\n",
      "-3442974.75\n",
      "-14582152.0\n",
      "-9047607.0\n",
      "-15662537.0\n",
      "183542944.0\n",
      "-19215772.0\n",
      "-5237706.0\n",
      "-3032923.0\n",
      "-4618696.0\n",
      "-3795317.5\n",
      "-9251103.0\n",
      "-7553600.0\n",
      "-22780000.0\n",
      "-9635096.0\n",
      "-6604427.0\n",
      "-5725090.5\n",
      "-10568738.0\n",
      "-8350744.5\n",
      "-13246011.0\n",
      "98400704.0\n",
      "-2424384.75\n",
      "-9235550.0\n",
      "-6410463.0\n",
      "-8332271.0\n",
      "-6741380.0\n",
      "-6700002.5\n",
      "-5911832.0\n",
      "-6893506.0\n",
      "-2868239.5\n",
      "-6177455.0\n",
      "-4992085.0\n",
      "-10181906.0\n",
      "-13636076.0\n",
      "-6957829.0\n",
      "-8381353.0\n",
      "-7355738.5\n",
      "-20105956.0\n",
      "-2925950.5\n",
      "-6137019.0\n",
      "-21357394.0\n",
      "-7452366.0\n",
      "-11371276.0\n",
      "-15143166.0\n",
      "-8143593.0\n",
      "-8671258.0\n",
      "-10896738.0\n",
      "-7706587.5\n",
      "-14190930.0\n",
      "-6649608.5\n",
      "-5400111.0\n",
      "321168320.0\n",
      "-10367312.0\n",
      "-3608964.0\n",
      "-7597030.5\n",
      "-4487301.0\n",
      "-8737768.0\n",
      "-10095274.0\n",
      "-13743317.0\n",
      "-4617541.0\n",
      "-28263370.0\n",
      "-2633451.0\n",
      "-896408.75\n",
      "-7990107.0\n",
      "-836596.25\n",
      "-1545347.5\n",
      "-11485642.0\n",
      "-5820067.0\n",
      "-4530129.5\n",
      "-26514842.0\n",
      "-2735373.5\n",
      "-4494149.0\n",
      "-5922765.0\n",
      "-3005067.25\n",
      "-7482865.0\n",
      "-4403185.0\n",
      "-7035969.0\n",
      "-14256844.0\n",
      "-3760814.5\n",
      "-18071988.0\n",
      "-11980970.0\n",
      "-12467110.0\n",
      "-5063709.0\n",
      "-3446261.25\n",
      "-38368960.0\n",
      "-13300150.0\n",
      "-4346982.5\n",
      "-5720566.0\n",
      "-21354708.0\n",
      "-4951625.5\n",
      "-13328648.0\n",
      "-4529596.5\n",
      "-4986594.0\n",
      "-5489941.5\n",
      "-4466873.5\n",
      "113390144.0\n",
      "-4004360.75\n",
      "-17996172.0\n",
      "-12499144.0\n",
      "-11751211.0\n",
      "-4218232.0\n",
      "-9246776.0\n",
      "-12868368.0\n",
      "-5686105.0\n",
      "-6458929.0\n",
      "-4661581.5\n",
      "-12506006.0\n",
      "-23609546.0\n",
      "-4416896.0\n",
      "-3966616.5\n",
      "-8965708.0\n",
      "-20713960.0\n",
      "-5204752.0\n",
      "-3844607.0\n",
      "213117376.0\n",
      "-14430802.0\n",
      "-16893016.0\n",
      "-11849747.0\n",
      "-8630347.0\n",
      "-9584088.0\n",
      "-6389717.0\n",
      "-5994308.5\n",
      "30593456.0\n",
      "-8649720.0\n",
      "-6074195.0\n",
      "-13263025.0\n",
      "-9607848.0\n",
      "-19062620.0\n",
      "-5085843.0\n",
      "-5208068.0\n",
      "-5582222.5\n",
      "-4400347.0\n",
      "121286008.0\n",
      "120376112.0\n",
      "-15010660.0\n",
      "-5700836.0\n",
      "-19649394.0\n",
      "-20094316.0\n",
      "-7374260.0\n",
      "-4487745.0\n",
      "-7017253.0\n",
      "-5066548.5\n",
      "-11627448.0\n",
      "177321072.0\n",
      "-6750811.0\n",
      "-8702254.0\n",
      "-16241408.0\n",
      "-19443010.0\n",
      "383491136.0\n",
      "-6537950.5\n",
      "-7878601.0\n",
      "-9862320.0\n",
      "-10272912.0\n",
      "-19965458.0\n",
      "-9443506.0\n",
      "-9779588.0\n"
     ]
    }
   ],
   "source": [
    "num_episodes = 250\n",
    "\n",
    "for i in range(num_episodes):\n",
    "\n",
    "    all_observations = []\n",
    "    actions = []\n",
    "    rewards = []\n",
    "\n",
    "    o, a, r = random_observation_sequence(env, 1000, epsilon=0.1)\n",
    "    # o_scaled = transform_observations(o, observation_max, observation_min, [0.05, 0.05])\n",
    "    o = transform_observations(o, observation_max, observation_min, obs_stddev)\n",
    "    actions.append(a)\n",
    "    rewards.append(r)\n",
    "\n",
    "    all_observations.append(o[:-1])\n",
    "\n",
    "    all_observations = np.vstack(all_observations)\n",
    "    all_observations_scaled = np.vstack(all_observations_scaled)\n",
    "    actions = np.vstack(actions)\n",
    "    rewards = np.vstack(rewards).T\n",
    "    # rewards = rewards.reshape(rewards.shape[1])\n",
    "\n",
    "    # print(all_observations.shape, actions.shape, rewards.shape)\n",
    "\n",
    "    cum_rewards = compute_discounted_cumulative_reward(rewards, 0.99)\n",
    "    # cum_rewards\n",
    "\n",
    "    # print(cum_rewards.shape[0])\n",
    "    loss = act_net.train_on_batch(all_observations, (actions, cum_rewards))\n",
    "    print(loss)"
   ],
   "metadata": {
    "collapsed": false,
    "pycharm": {
     "name": "#%%\n"
    }
   }
  },
  {
   "cell_type": "code",
   "execution_count": 18,
   "outputs": [
    {
     "data": {
      "text/plain": "<tf.Tensor: shape=(200, 1), dtype=float32, numpy=\narray([[ 1.38770312e-01],\n       [ 1.32095560e-01],\n       [ 1.56606257e-01],\n       [ 1.78424120e-01],\n       [ 1.99130759e-01],\n       [ 2.20526174e-01],\n       [ 2.21581742e-01],\n       [ 2.22096547e-01],\n       [ 2.22643733e-01],\n       [ 2.22446278e-01],\n       [ 2.21586972e-01],\n       [ 2.20001087e-01],\n       [ 2.17729241e-01],\n       [ 2.14861855e-01],\n       [ 2.11418480e-01],\n       [ 2.07410619e-01],\n       [ 2.02871785e-01],\n       [ 1.97735354e-01],\n       [ 1.92102253e-01],\n       [ 1.85722634e-01],\n       [ 1.78776547e-01],\n       [ 1.55576184e-01],\n       [ 1.33959517e-01],\n       [ 1.11087427e-01],\n       [ 8.71044695e-02],\n       [ 6.29451275e-02],\n       [ 3.92580852e-02],\n       [ 1.82604585e-02],\n       [ 2.25991756e-03],\n       [-1.28298486e-02],\n       [-2.61190645e-02],\n       [-3.80123742e-02],\n       [-4.75791320e-02],\n       [-4.83889282e-02],\n       [-4.83097658e-02],\n       [-4.70810644e-02],\n       [-4.43812124e-02],\n       [-4.04149555e-02],\n       [-3.52833793e-02],\n       [-2.92543881e-02],\n       [-2.22747568e-02],\n       [-1.43546546e-02],\n       [-4.43217903e-03],\n       [ 6.55027712e-03],\n       [ 1.94728300e-02],\n       [ 3.36884037e-02],\n       [ 3.58933061e-02],\n       [ 3.86839770e-02],\n       [ 4.20516618e-02],\n       [ 4.59670015e-02],\n       [ 5.03976680e-02],\n       [ 5.53727858e-02],\n       [ 6.09614961e-02],\n       [ 6.69661835e-02],\n       [ 7.33454004e-02],\n       [ 8.03759769e-02],\n       [ 8.80480781e-02],\n       [ 9.60041285e-02],\n       [ 1.22353494e-01],\n       [ 1.48610845e-01],\n       [ 1.73545107e-01],\n       [ 1.96321741e-01],\n       [ 2.18084916e-01],\n       [ 2.37567380e-01],\n       [ 2.56785065e-01],\n       [ 2.75214791e-01],\n       [ 2.96866745e-01],\n       [ 3.15721095e-01],\n       [ 3.31562340e-01],\n       [ 3.45185727e-01],\n       [ 3.61926317e-01],\n       [ 3.85579199e-01],\n       [ 4.05811071e-01],\n       [ 4.21980381e-01],\n       [ 4.33865190e-01],\n       [ 4.42892283e-01],\n       [ 4.52326655e-01],\n       [ 4.61043417e-01],\n       [ 4.69044477e-01],\n       [ 4.74770874e-01],\n       [ 4.77653205e-01],\n       [ 4.79107797e-01],\n       [ 4.78957891e-01],\n       [ 4.76899058e-01],\n       [ 4.73175645e-01],\n       [ 4.68379378e-01],\n       [ 4.62171972e-01],\n       [ 4.54839021e-01],\n       [ 4.47318256e-01],\n       [ 4.39541608e-01],\n       [ 4.31486785e-01],\n       [ 4.23638791e-01],\n       [ 4.15637970e-01],\n       [ 4.06693578e-01],\n       [ 3.98528785e-01],\n       [ 3.81378293e-01],\n       [ 3.61872435e-01],\n       [ 3.44007105e-01],\n       [ 3.24124306e-01],\n       [ 3.03639203e-01],\n       [ 2.81404585e-01],\n       [ 2.59721190e-01],\n       [ 2.39559814e-01],\n       [ 2.19398931e-01],\n       [ 1.99529454e-01],\n       [ 1.81852102e-01],\n       [ 1.65710777e-01],\n       [ 1.50079444e-01],\n       [ 1.24331392e-01],\n       [ 9.65646654e-02],\n       [ 6.79907501e-02],\n       [ 3.73117924e-02],\n       [ 1.11366380e-02],\n       [-1.46112237e-02],\n       [-3.81140485e-02],\n       [-5.92305362e-02],\n       [-8.01120028e-02],\n       [-9.55873802e-02],\n       [-1.04506671e-01],\n       [-1.11902975e-01],\n       [-1.20704666e-01],\n       [-1.36350632e-01],\n       [-1.44572482e-01],\n       [-1.50607929e-01],\n       [-1.54909298e-01],\n       [-1.65926382e-01],\n       [-1.70071065e-01],\n       [-1.72410622e-01],\n       [-1.75472021e-01],\n       [-1.80609465e-01],\n       [-1.84585497e-01],\n       [-1.84435144e-01],\n       [-1.81088939e-01],\n       [-1.74669683e-01],\n       [-1.73856616e-01],\n       [-1.71957403e-01],\n       [-1.71601802e-01],\n       [-1.67708293e-01],\n       [-1.53084993e-01],\n       [-1.32003561e-01],\n       [-1.08021826e-01],\n       [-7.90333673e-02],\n       [-4.57162000e-02],\n       [ 3.54104937e-04],\n       [ 5.41789457e-02],\n       [ 1.08159788e-01],\n       [ 1.64002866e-01],\n       [ 2.20429972e-01],\n       [ 2.71231681e-01],\n       [ 3.17382395e-01],\n       [ 3.64133239e-01],\n       [ 4.07697022e-01],\n       [ 4.24345583e-01],\n       [ 4.38510269e-01],\n       [ 4.50834990e-01],\n       [ 4.60540950e-01],\n       [ 4.68516707e-01],\n       [ 4.75568682e-01],\n       [ 5.03018320e-01],\n       [ 5.29153466e-01],\n       [ 5.31989515e-01],\n       [ 5.40217578e-01],\n       [ 5.43037474e-01],\n       [ 5.44324279e-01],\n       [ 5.44009149e-01],\n       [ 5.41983902e-01],\n       [ 5.39459050e-01],\n       [ 5.35478354e-01],\n       [ 5.28728724e-01],\n       [ 5.19082785e-01],\n       [ 5.07076323e-01],\n       [ 4.93224263e-01],\n       [ 4.76875931e-01],\n       [ 4.58430469e-01],\n       [ 4.38144833e-01],\n       [ 4.16281074e-01],\n       [ 3.92643511e-01],\n       [ 3.68575245e-01],\n       [ 3.44103247e-01],\n       [ 3.19453359e-01],\n       [ 2.91151017e-01],\n       [ 2.58672446e-01],\n       [ 2.24133179e-01],\n       [ 1.90378264e-01],\n       [ 1.51744828e-01],\n       [ 1.19028404e-01],\n       [ 9.35038403e-02],\n       [ 6.61683381e-02],\n       [ 3.67062055e-02],\n       [ 1.20681934e-02],\n       [-1.25770206e-02],\n       [-3.34154107e-02],\n       [-4.80767563e-02],\n       [-6.14437200e-02],\n       [-7.65084699e-02],\n       [-8.98086727e-02],\n       [-1.02054402e-01],\n       [-1.12663060e-01],\n       [-1.22216411e-01],\n       [-1.31192744e-01]], dtype=float32)>"
     },
     "execution_count": 18,
     "metadata": {},
     "output_type": "execute_result"
    }
   ],
   "source": [
    "act_net(all_observations)"
   ],
   "metadata": {
    "collapsed": false,
    "pycharm": {
     "name": "#%%\n"
    }
   }
  },
  {
   "cell_type": "code",
   "execution_count": 19,
   "outputs": [
    {
     "data": {
      "text/plain": "[<matplotlib.lines.Line2D at 0x158616130>,\n <matplotlib.lines.Line2D at 0x1586161f0>]"
     },
     "execution_count": 19,
     "metadata": {},
     "output_type": "execute_result"
    },
    {
     "data": {
      "text/plain": "<Figure size 432x288 with 1 Axes>",
      "image/png": "[encoded data removed]"
     },
     "metadata": {
      "needs_background": "light"
     },
     "output_type": "display_data"
    }
   ],
   "source": [
    "obs_pos = np.vstack([np.linspace(-1, 1, 100), np.zeros(100)]).T\n",
    "actions_pred = act_net(obs_pos)\n",
    "\n",
    "actions_pred\n",
    "\n",
    "\n",
    "plt.plot(obs_pos, actions_pred)"
   ],
   "metadata": {
    "collapsed": false,
    "pycharm": {
     "name": "#%%\n"
    }
   }
  },
  {
   "cell_type": "code",
   "execution_count": 20,
   "outputs": [
    {
     "name": "stdout",
     "output_type": "stream",
     "text": [
      "tf.Tensor(\n",
      "[[-0.23458125]\n",
      " [-0.22939514]\n",
      " [-0.22419597]\n",
      " [-0.21898405]\n",
      " [-0.21375963]\n",
      " [-0.20852293]\n",
      " [-0.2032742 ]\n",
      " [-0.19801377]\n",
      " [-0.19274195]\n",
      " [-0.18745895]\n",
      " [-0.1821651 ]\n",
      " [-0.1768606 ]\n",
      " [-0.17154585]\n",
      " [-0.16622111]\n",
      " [-0.16088675]\n",
      " [-0.15554284]\n",
      " [-0.15018988]\n",
      " [-0.14482802]\n",
      " [-0.13945772]\n",
      " [-0.13407919]\n",
      " [-0.12869273]\n",
      " [-0.12329863]\n",
      " [-0.11779919]\n",
      " [-0.1119592 ]\n",
      " [-0.10611158]\n",
      " [-0.1002566 ]\n",
      " [-0.0943946 ]\n",
      " [-0.08851381]\n",
      " [-0.08262563]\n",
      " [-0.07673162]\n",
      " [-0.07061376]\n",
      " [-0.06439085]\n",
      " [-0.05818819]\n",
      " [-0.05189301]\n",
      " [-0.04490902]\n",
      " [-0.03788565]\n",
      " [-0.03060185]\n",
      " [-0.02279012]\n",
      " [-0.01528951]\n",
      " [-0.00790172]\n",
      " [-0.0009911 ]\n",
      " [ 0.00665404]\n",
      " [ 0.01676529]\n",
      " [ 0.03065684]\n",
      " [ 0.0454653 ]\n",
      " [ 0.06140594]\n",
      " [ 0.07832884]\n",
      " [ 0.09682482]\n",
      " [ 0.11324929]\n",
      " [ 0.12903997]\n",
      " [ 0.14445134]\n",
      " [ 0.16009441]\n",
      " [ 0.17565866]\n",
      " [ 0.19150218]\n",
      " [ 0.20718475]\n",
      " [ 0.22313002]\n",
      " [ 0.23911652]\n",
      " [ 0.25497478]\n",
      " [ 0.27075335]\n",
      " [ 0.28622213]\n",
      " [ 0.30150244]\n",
      " [ 0.3166294 ]\n",
      " [ 0.331597  ]\n",
      " [ 0.34639952]\n",
      " [ 0.3610315 ]\n",
      " [ 0.3754879 ]\n",
      " [ 0.3897639 ]\n",
      " [ 0.4038514 ]\n",
      " [ 0.4177231 ]\n",
      " [ 0.43140274]\n",
      " [ 0.4448868 ]\n",
      " [ 0.45817217]\n",
      " [ 0.471256  ]\n",
      " [ 0.4841356 ]\n",
      " [ 0.4968087 ]\n",
      " [ 0.5092735 ]\n",
      " [ 0.52152824]\n",
      " [ 0.5335715 ]\n",
      " [ 0.5454022 ]\n",
      " [ 0.5570195 ]\n",
      " [ 0.5684228 ]\n",
      " [ 0.5795942 ]\n",
      " [ 0.5904475 ]\n",
      " [ 0.6010914 ]\n",
      " [ 0.6115262 ]\n",
      " [ 0.6217526 ]\n",
      " [ 0.6317435 ]\n",
      " [ 0.64152277]\n",
      " [ 0.6510979 ]\n",
      " [ 0.6604701 ]\n",
      " [ 0.669641  ]\n",
      " [ 0.6786121 ]\n",
      " [ 0.6873852 ]\n",
      " [ 0.69596195]\n",
      " [ 0.70434177]\n",
      " [ 0.7125298 ]\n",
      " [ 0.72052824]\n",
      " [ 0.7283408 ]\n",
      " [ 0.7359691 ]\n",
      " [ 0.74341506]], shape=(100, 1), dtype=float32)\n"
     ]
    },
    {
     "data": {
      "text/plain": "[<matplotlib.lines.Line2D at 0x175ac1a30>,\n <matplotlib.lines.Line2D at 0x175ac1af0>]"
     },
     "execution_count": 20,
     "metadata": {},
     "output_type": "execute_result"
    },
    {
     "data": {
      "text/plain": "<Figure size 432x288 with 1 Axes>",
      "image/png": "[encoded data removed]"
     },
     "metadata": {
      "needs_background": "light"
     },
     "output_type": "display_data"
    }
   ],
   "source": [
    "vel_pos = np.vstack([np.zeros(100), np.linspace(-1, 1, 100)]).T\n",
    "actions_pred = act_net(vel_pos)\n",
    "print(actions_pred)\n",
    "\n",
    "plt.plot(obs_pos, actions_pred)"
   ],
   "metadata": {
    "collapsed": false,
    "pycharm": {
     "name": "#%%\n"
    }
   }
  },
  {
   "cell_type": "markdown",
   "source": [
    "## Can it solve the environment?"
   ],
   "metadata": {
    "collapsed": false,
    "pycharm": {
     "name": "#%% md\n"
    }
   }
  },
  {
   "cell_type": "code",
   "execution_count": 21,
   "outputs": [
    {
     "name": "stdout",
     "output_type": "stream",
     "text": [
      "200\n",
      "success\n"
     ]
    }
   ],
   "source": [
    "num_episodes = 1\n",
    "\n",
    "observation_max = np.array([0.6, 0.07])\n",
    "observation_min = np.array([-1.2, -0.07])\n",
    "\n",
    "# obs_stddev = [0.05, 0.05]\n",
    "obs_stddev = [0, 0]\n",
    "\n",
    "for i in range(num_episodes):\n",
    "\n",
    "    env = gym.make('MountainCarContinuous-v0')\n",
    "\n",
    "    obs = env.reset()\n",
    "\n",
    "    done = False\n",
    "\n",
    "    t = 0\n",
    "    while not done:\n",
    "\n",
    "        env.render()\n",
    "\n",
    "        obs = obs.reshape(1, obs.shape[0])\n",
    "        obs = transform_observations(obs, observation_max, observation_min, obs_stddev)\n",
    "        # print(\"a\", obs)\n",
    "\n",
    "        action = act_net(obs)\n",
    "        action = action.numpy()\n",
    "        # print(action.shape)\n",
    "\n",
    "        obs, reward, done, info = env.step(action)\n",
    "\n",
    "        t += 1\n",
    "\n",
    "        # print(\"b\", obs.shape)\n",
    "\n",
    "        # obs = obs.reshape(1, obs.shape[0])\n",
    "        if t == 200:\n",
    "            done = True\n",
    "\n",
    "    print(t)\n",
    "    if done and t < 999:\n",
    "        print(\"success\")\n",
    "    else:\n",
    "        print(\"Failure\")\n",
    "\n",
    "\n",
    "env.close()"
   ],
   "metadata": {
    "collapsed": false,
    "pycharm": {
     "name": "#%%\n"
    }
   }
  },
  {
   "cell_type": "code",
   "execution_count": 100,
   "outputs": [
    {
     "data": {
      "text/plain": "<tf.Tensor: shape=(10000, 1), dtype=float32, numpy=\narray([[-0.35480517],\n       [-0.35092133],\n       [-0.3470253 ],\n       ...,\n       [ 0.46241665],\n       [ 0.46681368],\n       [ 0.47118697]], dtype=float32)>"
     },
     "execution_count": 100,
     "metadata": {},
     "output_type": "execute_result"
    }
   ],
   "source": [
    "n = 50\n",
    "both = [[i/n, j/n] for i in range(-1*n, n) for j in range(-1*n, n)]\n",
    "both = np.array(both)\n",
    "both\n",
    "\n",
    "both_acts = act_net(both)\n",
    "\n",
    "both_acts"
   ],
   "metadata": {
    "collapsed": false,
    "pycharm": {
     "name": "#%%\n"
    }
   }
  },
  {
   "cell_type": "code",
   "execution_count": 115,
   "outputs": [
    {
     "data": {
      "text/plain": "array([[-1.  , -1.  ],\n       [-1.  , -0.98],\n       [-1.  , -0.96],\n       ...,\n       [ 0.98,  0.94],\n       [ 0.98,  0.96],\n       [ 0.98,  0.98]])"
     },
     "execution_count": 115,
     "metadata": {},
     "output_type": "execute_result"
    }
   ],
   "source": [
    "n = 50\n",
    "coords = [[i/n, j/n] for i in range(-1*n, n) for j in range(-1*n, n)]\n",
    "coords = np.array(coords)\n",
    "coords\n"
   ],
   "metadata": {
    "collapsed": false,
    "pycharm": {
     "name": "#%%\n"
    }
   }
  },
  {
   "cell_type": "code",
   "execution_count": 101,
   "outputs": [
    {
     "data": {
      "text/plain": "array([[-5. , -4.5, -4. , -3.5, -3. , -2.5, -2. , -1.5, -1. , -0.5,  0. ,\n         0.5,  1. ,  1.5,  2. ,  2.5,  3. ,  3.5,  4. ,  4.5,  5. ],\n       [-5. , -4.5, -4. , -3.5, -3. , -2.5, -2. , -1.5, -1. , -0.5,  0. ,\n         0.5,  1. ,  1.5,  2. ,  2.5,  3. ,  3.5,  4. ,  4.5,  5. ],\n       [-5. , -4.5, -4. , -3.5, -3. , -2.5, -2. , -1.5, -1. , -0.5,  0. ,\n         0.5,  1. ,  1.5,  2. ,  2.5,  3. ,  3.5,  4. ,  4.5,  5. ],\n       [-5. , -4.5, -4. , -3.5, -3. , -2.5, -2. , -1.5, -1. , -0.5,  0. ,\n         0.5,  1. ,  1.5,  2. ,  2.5,  3. ,  3.5,  4. ,  4.5,  5. ],\n       [-5. , -4.5, -4. , -3.5, -3. , -2.5, -2. , -1.5, -1. , -0.5,  0. ,\n         0.5,  1. ,  1.5,  2. ,  2.5,  3. ,  3.5,  4. ,  4.5,  5. ],\n       [-5. , -4.5, -4. , -3.5, -3. , -2.5, -2. , -1.5, -1. , -0.5,  0. ,\n         0.5,  1. ,  1.5,  2. ,  2.5,  3. ,  3.5,  4. ,  4.5,  5. ],\n       [-5. , -4.5, -4. , -3.5, -3. , -2.5, -2. , -1.5, -1. , -0.5,  0. ,\n         0.5,  1. ,  1.5,  2. ,  2.5,  3. ,  3.5,  4. ,  4.5,  5. ],\n       [-5. , -4.5, -4. , -3.5, -3. , -2.5, -2. , -1.5, -1. , -0.5,  0. ,\n         0.5,  1. ,  1.5,  2. ,  2.5,  3. ,  3.5,  4. ,  4.5,  5. ],\n       [-5. , -4.5, -4. , -3.5, -3. , -2.5, -2. , -1.5, -1. , -0.5,  0. ,\n         0.5,  1. ,  1.5,  2. ,  2.5,  3. ,  3.5,  4. ,  4.5,  5. ],\n       [-5. , -4.5, -4. , -3.5, -3. , -2.5, -2. , -1.5, -1. , -0.5,  0. ,\n         0.5,  1. ,  1.5,  2. ,  2.5,  3. ,  3.5,  4. ,  4.5,  5. ],\n       [-5. , -4.5, -4. , -3.5, -3. , -2.5, -2. , -1.5, -1. , -0.5,  0. ,\n         0.5,  1. ,  1.5,  2. ,  2.5,  3. ,  3.5,  4. ,  4.5,  5. ],\n       [-5. , -4.5, -4. , -3.5, -3. , -2.5, -2. , -1.5, -1. , -0.5,  0. ,\n         0.5,  1. ,  1.5,  2. ,  2.5,  3. ,  3.5,  4. ,  4.5,  5. ],\n       [-5. , -4.5, -4. , -3.5, -3. , -2.5, -2. , -1.5, -1. , -0.5,  0. ,\n         0.5,  1. ,  1.5,  2. ,  2.5,  3. ,  3.5,  4. ,  4.5,  5. ],\n       [-5. , -4.5, -4. , -3.5, -3. , -2.5, -2. , -1.5, -1. , -0.5,  0. ,\n         0.5,  1. ,  1.5,  2. ,  2.5,  3. ,  3.5,  4. ,  4.5,  5. ],\n       [-5. , -4.5, -4. , -3.5, -3. , -2.5, -2. , -1.5, -1. , -0.5,  0. ,\n         0.5,  1. ,  1.5,  2. ,  2.5,  3. ,  3.5,  4. ,  4.5,  5. ],\n       [-5. , -4.5, -4. , -3.5, -3. , -2.5, -2. , -1.5, -1. , -0.5,  0. ,\n         0.5,  1. ,  1.5,  2. ,  2.5,  3. ,  3.5,  4. ,  4.5,  5. ],\n       [-5. , -4.5, -4. , -3.5, -3. , -2.5, -2. , -1.5, -1. , -0.5,  0. ,\n         0.5,  1. ,  1.5,  2. ,  2.5,  3. ,  3.5,  4. ,  4.5,  5. ],\n       [-5. , -4.5, -4. , -3.5, -3. , -2.5, -2. , -1.5, -1. , -0.5,  0. ,\n         0.5,  1. ,  1.5,  2. ,  2.5,  3. ,  3.5,  4. ,  4.5,  5. ],\n       [-5. , -4.5, -4. , -3.5, -3. , -2.5, -2. , -1.5, -1. , -0.5,  0. ,\n         0.5,  1. ,  1.5,  2. ,  2.5,  3. ,  3.5,  4. ,  4.5,  5. ],\n       [-5. , -4.5, -4. , -3.5, -3. , -2.5, -2. , -1.5, -1. , -0.5,  0. ,\n         0.5,  1. ,  1.5,  2. ,  2.5,  3. ,  3.5,  4. ,  4.5,  5. ],\n       [-5. , -4.5, -4. , -3.5, -3. , -2.5, -2. , -1.5, -1. , -0.5,  0. ,\n         0.5,  1. ,  1.5,  2. ,  2.5,  3. ,  3.5,  4. ,  4.5,  5. ]])"
     },
     "execution_count": 101,
     "metadata": {},
     "output_type": "execute_result"
    }
   ],
   "source": [
    "x = np.arange(-5, 5.1, 0.5)\n",
    "y = np.arange(-5, 5.1, 0.5)\n",
    "X,Y = np.meshgrid(x,y)\n",
    "\n",
    "X"
   ],
   "metadata": {
    "collapsed": false,
    "pycharm": {
     "name": "#%%\n"
    }
   }
  },
  {
   "cell_type": "code",
   "execution_count": null,
   "outputs": [],
   "source": [],
   "metadata": {
    "collapsed": false,
    "pycharm": {
     "name": "#%%\n"
    }
   }
  }
 ],
 "metadata": {
  "kernelspec": {
   "display_name": "Python 3",
   "language": "python",
   "name": "python3"
  },
  "language_info": {
   "codemirror_mode": {
    "name": "ipython",
    "version": 2
   },
   "file_extension": ".py",
   "mimetype": "text/x-python",
   "name": "python",
   "nbconvert_exporter": "python",
   "pygments_lexer": "ipython2",
   "version": "2.7.6"
  }
 },
 "nbformat": 4,
 "nbformat_minor": 0
}