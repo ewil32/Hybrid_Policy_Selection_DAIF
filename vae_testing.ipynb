{
 "cells": [
  {
   "cell_type": "markdown",
   "metadata": {
    "collapsed": true,
    "pycharm": {
     "name": "#%% md\n"
    }
   },
   "source": [
    "# Test to see if VAE can produce a good model"
   ]
  },
  {
   "cell_type": "code",
   "execution_count": 195,
   "outputs": [],
   "source": [
    "import tensorflow as tf\n",
    "import tensorflow_probability as tfp\n",
    "import keras\n",
    "from keras import layers\n",
    "import numpy as np\n",
    "import matplotlib.pyplot as plt\n",
    "import gym"
   ],
   "metadata": {
    "collapsed": false,
    "pycharm": {
     "name": "#%%\n"
    }
   }
  },
  {
   "cell_type": "code",
   "execution_count": 196,
   "outputs": [],
   "source": [
    "from vae_recurrent import VAE, create_decoder, create_encoder\n",
    "from util import random_observation_sequence, transform_observations"
   ],
   "metadata": {
    "collapsed": false,
    "pycharm": {
     "name": "#%%\n"
    }
   }
  },
  {
   "cell_type": "code",
   "execution_count": 200,
   "outputs": [
    {
     "data": {
      "text/plain": "(4834, 2)"
     },
     "execution_count": 200,
     "metadata": {},
     "output_type": "execute_result"
    }
   ],
   "source": [
    "env = gym.make('MountainCarContinuous-v0')\n",
    "env.action_space.seed(42)\n",
    "\n",
    "observation_max = np.array([0.6, 0.07])\n",
    "observation_min = np.array([-1.2, -0.07])\n",
    "\n",
    "all_observations = []\n",
    "all_observations_scaled = []\n",
    "num_episodes = 10\n",
    "\n",
    "obs_stddev = [0.05, 0.05]\n",
    "# obs_stddev = [0, 0]\n",
    "\n",
    "for i in range(num_episodes):\n",
    "    o, a, r = random_observation_sequence(env, 1000, epsilon=0.1)\n",
    "    # o_scaled = transform_observations(o, observation_max, observation_min, [0.05, 0.05])\n",
    "    o_scaled = transform_observations(o, observation_max, observation_min, obs_stddev)\n",
    "    o_scaled\n",
    "\n",
    "    o = transform_observations(o, observation_max, observation_min, [0, 0])\n",
    "\n",
    "    all_observations_scaled.append(o_scaled)\n",
    "    all_observations.append(o)\n",
    "\n",
    "all_observations = np.vstack(all_observations)\n",
    "all_observations_scaled = np.vstack(all_observations_scaled)\n",
    "all_observations.shape"
   ],
   "metadata": {
    "collapsed": false,
    "pycharm": {
     "name": "#%%\n"
    }
   }
  },
  {
   "cell_type": "code",
   "execution_count": 201,
   "outputs": [],
   "source": [
    "enc = create_encoder(2, 2, [20])\n",
    "dec = create_decoder(2, 2, [20])\n",
    "\n",
    "vae = VAE(enc, dec, [0, 0], [0.3, 0.3], llik_scaling=1, kl_scaling=1)\n",
    "vae.compile(optimizer=tf.keras.optimizers.Adam())"
   ],
   "metadata": {
    "collapsed": false,
    "pycharm": {
     "name": "#%%\n"
    }
   }
  },
  {
   "cell_type": "code",
   "execution_count": 202,
   "outputs": [
    {
     "name": "stdout",
     "output_type": "stream",
     "text": [
      "Epoch 1/5\n"
     ]
    },
    {
     "name": "stderr",
     "output_type": "stream",
     "text": [
      "2022-08-07 14:12:29.063746: I tensorflow/core/grappler/optimizers/custom_graph_optimizer_registry.cc:113] Plugin optimizer for device_type GPU is enabled.\n"
     ]
    },
    {
     "name": "stdout",
     "output_type": "stream",
     "text": [
      "403/403 [==============================] - 5s 9ms/step - loss: 0.6870 - reconstruction_loss: 0.6785 - kl_loss: 5.4863e-04\n",
      "Epoch 2/5\n",
      "403/403 [==============================] - 4s 9ms/step - loss: 0.6294 - reconstruction_loss: 0.6108 - kl_loss: 8.6298e-04\n",
      "Epoch 3/5\n",
      "403/403 [==============================] - 4s 9ms/step - loss: 0.5930 - reconstruction_loss: 0.5910 - kl_loss: 0.0012\n",
      "Epoch 4/5\n",
      "403/403 [==============================] - 4s 9ms/step - loss: 0.5904 - reconstruction_loss: 0.5904 - kl_loss: 0.0012\n",
      "Epoch 5/5\n",
      "403/403 [==============================] - 4s 9ms/step - loss: 0.5900 - reconstruction_loss: 0.5903 - kl_loss: 0.0012\n"
     ]
    },
    {
     "data": {
      "text/plain": "<keras.callbacks.History at 0x385c105e0>"
     },
     "execution_count": 202,
     "metadata": {},
     "output_type": "execute_result"
    }
   ],
   "source": [
    "vae.fit(all_observations_scaled, epochs=5, batch_size=12)"
   ],
   "metadata": {
    "collapsed": false,
    "pycharm": {
     "name": "#%%\n"
    }
   }
  },
  {
   "cell_type": "code",
   "execution_count": 185,
   "outputs": [
    {
     "data": {
      "text/plain": "array([[4.17684903e-01, 5.00000000e-01],\n       [4.17163511e-01, 4.93296495e-01],\n       [4.16124552e-01, 4.86642001e-01],\n       [4.14575626e-01, 4.80085263e-01],\n       [4.12528091e-01, 4.73674488e-01],\n       [4.09996980e-01, 4.67457058e-01],\n       [4.07184584e-01, 4.63840556e-01],\n       [4.04111667e-01, 4.60491001e-01],\n       [4.00800976e-01, 4.57433915e-01],\n       [3.97277084e-01, 4.54692763e-01],\n       [3.93566214e-01, 4.52288734e-01],\n       [3.89696035e-01, 4.50240519e-01],\n       [3.85695471e-01, 4.48564129e-01],\n       [3.81594472e-01, 4.47272700e-01],\n       [3.77423737e-01, 4.46376359e-01],\n       [3.73214556e-01, 4.45882106e-01],\n       [3.68998521e-01, 4.45793730e-01],\n       [3.64807222e-01, 4.46111760e-01],\n       [3.60672050e-01, 4.46833478e-01],\n       [3.56623934e-01, 4.47952951e-01],\n       [3.52693141e-01, 4.49461102e-01],\n       [3.48908941e-01, 4.51345823e-01],\n       [3.45299449e-01, 4.53592126e-01],\n       [3.42618797e-01, 4.65534439e-01],\n       [3.40886785e-01, 4.77731435e-01],\n       [3.40116196e-01, 4.90092635e-01],\n       [3.39581344e-01, 4.93123398e-01],\n       [3.39409749e-01, 4.97793668e-01],\n       [3.39816219e-01, 5.05225860e-01],\n       [3.40797742e-01, 5.12619602e-01],\n       [3.42347099e-01, 5.19920428e-01],\n       [3.44452898e-01, 5.27074394e-01],\n       [3.46194049e-01, 5.22386222e-01],\n       [3.47557671e-01, 5.17532420e-01],\n       [3.48533697e-01, 5.12548724e-01],\n       [3.49114842e-01, 5.07471964e-01],\n       [3.49296835e-01, 5.02339758e-01],\n       [3.49078284e-01, 4.97190183e-01],\n       [3.48858178e-01, 4.97169975e-01],\n       [3.48638137e-01, 4.97170769e-01],\n       [3.48419785e-01, 4.97192555e-01],\n       [3.48204745e-01, 4.97235170e-01],\n       [3.47994606e-01, 4.97298292e-01],\n       [3.47790956e-01, 4.97381453e-01],\n       [3.47595255e-01, 4.97484028e-01],\n       [3.47408990e-01, 4.97605259e-01],\n       [3.46925232e-01, 4.93780207e-01],\n       [3.46147557e-01, 4.90001247e-01],\n       [3.45081727e-01, 4.86296344e-01],\n       [3.43735622e-01, 4.82692858e-01],\n       [3.42119177e-01, 4.79217317e-01],\n       [3.41097719e-01, 4.86866951e-01],\n       [3.40678765e-01, 4.94613409e-01],\n       [3.40865393e-01, 5.02399552e-01],\n       [3.41656248e-01, 5.10168019e-01],\n       [3.43045466e-01, 5.17861546e-01],\n       [3.45022817e-01, 5.25423290e-01],\n       [3.47573698e-01, 5.32797156e-01],\n       [3.50679232e-01, 5.39928157e-01],\n       [3.54316341e-01, 5.46762794e-01],\n       [3.58457969e-01, 5.53249486e-01],\n       [3.63073223e-01, 5.59338998e-01],\n       [3.68127598e-01, 5.64984942e-01],\n       [3.73583277e-01, 5.70144249e-01],\n       [3.79399333e-01, 5.74777679e-01],\n       [3.85532121e-01, 5.78850306e-01],\n       [3.91935713e-01, 5.82331969e-01],\n       [3.98562193e-01, 5.85197682e-01],\n       [4.05362139e-01, 5.87427973e-01],\n       [4.12285070e-01, 5.89009139e-01],\n       [4.19279890e-01, 5.89933377e-01],\n       [4.26295357e-01, 5.90198831e-01],\n       [4.33280541e-01, 5.89809511e-01],\n       [4.40185275e-01, 5.88775098e-01],\n       [4.46960552e-01, 5.87110652e-01],\n       [4.53558919e-01, 5.84836202e-01],\n       [4.59934844e-01, 5.81976290e-01],\n       [4.66045015e-01, 5.78559421e-01],\n       [4.71848604e-01, 5.74617518e-01],\n       [4.77307462e-01, 5.70185347e-01],\n       [4.82386341e-01, 5.65299962e-01],\n       [4.87053020e-01, 5.60000158e-01],\n       [4.91278377e-01, 5.54326012e-01],\n       [4.95036483e-01, 5.48318445e-01],\n       [4.98235712e-01, 5.41132879e-01],\n       [5.00856992e-01, 5.33702219e-01],\n       [5.03421532e-01, 5.32972648e-01],\n       [5.05914397e-01, 5.32051154e-01],\n       [5.08321249e-01, 5.30945188e-01],\n       [5.10628379e-01, 5.29663100e-01],\n       [5.12822807e-01, 5.28214045e-01],\n       [5.14892313e-01, 5.26607889e-01],\n       [5.16825491e-01, 5.24855125e-01],\n       [5.18611792e-01, 5.22966786e-01],\n       [5.20241582e-01, 5.20954364e-01],\n       [5.21706118e-01, 5.18829743e-01],\n       [5.22997634e-01, 5.16605127e-01],\n       [5.24109311e-01, 5.14292989e-01],\n       [5.25035335e-01, 5.11906011e-01],\n       [5.25770889e-01, 5.09457044e-01],\n       [5.26312149e-01, 5.06959068e-01],\n       [5.26656333e-01, 5.04425159e-01],\n       [5.26801652e-01, 5.01868458e-01],\n       [5.26747379e-01, 4.99302147e-01],\n       [5.26493778e-01, 4.96739424e-01],\n       [5.26042157e-01, 4.94193482e-01],\n       [5.25394850e-01, 4.91677484e-01],\n       [5.24555203e-01, 4.89204537e-01],\n       [5.23527569e-01, 4.86787670e-01],\n       [5.22317330e-01, 4.84439798e-01],\n       [5.20930843e-01, 4.82173686e-01],\n       [5.19375443e-01, 4.80001907e-01],\n       [5.16325855e-01, 4.60790937e-01],\n       [5.11798534e-01, 4.41791654e-01],\n       [5.05818417e-01, 4.23112762e-01],\n       [4.98419262e-01, 4.04868007e-01],\n       [4.89644133e-01, 3.87177002e-01],\n       [4.79545881e-01, 3.70165358e-01],\n       [4.69338785e-01, 3.68765846e-01],\n       [4.59088773e-01, 3.68214064e-01],\n       [4.48864109e-01, 3.68539987e-01],\n       [4.38734730e-01, 3.69765142e-01],\n       [4.28771532e-01, 3.71901782e-01],\n       [4.19045611e-01, 3.74952356e-01],\n       [4.09627431e-01, 3.78909186e-01],\n       [4.00586118e-01, 3.83754485e-01],\n       [3.91988612e-01, 3.89460632e-01],\n       [3.83898987e-01, 3.95990667e-01],\n       [3.76377808e-01, 4.03299028e-01],\n       [3.69481451e-01, 4.11332397e-01],\n       [3.63261607e-01, 4.20030657e-01],\n       [3.57764900e-01, 4.29327884e-01],\n       [3.53032390e-01, 4.39153330e-01],\n       [3.49099345e-01, 4.49432354e-01],\n       [3.45995035e-01, 4.60087256e-01],\n       [3.43742443e-01, 4.71038027e-01],\n       [3.42358225e-01, 4.82202991e-01],\n       [3.41852612e-01, 4.93499354e-01],\n       [3.42229346e-01, 5.04843669e-01],\n       [3.43485647e-01, 5.16152257e-01],\n       [3.44793571e-01, 5.16816208e-01],\n       [3.46143484e-01, 5.17355876e-01],\n       [3.47525385e-01, 5.17767114e-01],\n       [3.48929008e-01, 5.18046721e-01],\n       [3.50343989e-01, 5.18192475e-01],\n       [3.51759798e-01, 5.18203142e-01],\n       [3.53165905e-01, 5.18078500e-01],\n       [3.54551845e-01, 5.17819342e-01],\n       [3.55907321e-01, 5.17427475e-01],\n       [3.57222199e-01, 5.16905707e-01],\n       [3.58486712e-01, 5.16257827e-01],\n       [3.59691388e-01, 5.15488585e-01],\n       [3.60827221e-01, 5.14603649e-01],\n       [3.61885733e-01, 5.13609570e-01],\n       [3.62859011e-01, 5.12513730e-01],\n       [3.63739802e-01, 5.11324284e-01],\n       [3.64521484e-01, 5.10050097e-01],\n       [3.65205016e-01, 5.08788075e-01],\n       [3.65785268e-01, 5.07460256e-01],\n       [3.66257899e-01, 5.06076569e-01],\n       [3.66619368e-01, 5.04647371e-01],\n       [3.66832289e-01, 5.02737710e-01],\n       [3.66895106e-01, 5.00807543e-01],\n       [3.66807322e-01, 4.98871324e-01],\n       [3.66569599e-01, 4.96943561e-01],\n       [3.65689205e-01, 4.88680769e-01],\n       [3.64172763e-01, 4.80502757e-01],\n       [3.62031599e-01, 4.72470722e-01],\n       [3.59236704e-01, 4.64065467e-01],\n       [3.55808940e-01, 4.55928818e-01],\n       [3.51773904e-01, 4.48121095e-01],\n       [3.47161664e-01, 4.40699718e-01],\n       [3.42006458e-01, 4.33718597e-01],\n       [3.36346368e-01, 4.27227538e-01],\n       [3.31743863e-01, 4.40824888e-01],\n       [3.28232586e-01, 4.54854817e-01],\n       [3.25838036e-01, 4.69213027e-01],\n       [3.23166688e-01, 4.65654274e-01],\n       [3.20237848e-01, 4.62343302e-01],\n       [3.17072511e-01, 4.59302793e-01],\n       [3.13693292e-01, 4.56553103e-01],\n       [3.10124232e-01, 4.54112087e-01],\n       [3.06390497e-01, 4.51994958e-01],\n       [3.02518282e-01, 4.50214193e-01],\n       [2.99861670e-01, 4.65843731e-01],\n       [2.97099955e-01, 4.64492073e-01],\n       [2.94252045e-01, 4.63383856e-01],\n       [2.91337311e-01, 4.62524963e-01],\n       [2.88375490e-01, 4.61919381e-01],\n       [2.85386417e-01, 4.61569207e-01],\n       [2.82344659e-01, 4.60891480e-01],\n       [2.79270218e-01, 4.60471670e-01],\n       [2.76183228e-01, 4.60310182e-01],\n       [2.74625295e-01, 4.79969452e-01],\n       [2.74606420e-01, 4.99757418e-01],\n       [2.76126736e-01, 5.19546941e-01],\n       [2.79176474e-01, 5.39210889e-01],\n       [2.83735898e-01, 5.58621088e-01],\n       [2.89775140e-01, 5.77647443e-01],\n       [2.97254066e-01, 5.96157473e-01],\n       [3.06122012e-01, 6.14016355e-01],\n       [3.16317717e-01, 6.31087724e-01],\n       [3.27769359e-01, 6.47235194e-01],\n       [3.40394616e-01, 6.62324735e-01],\n       [3.54101234e-01, 6.76227798e-01],\n       [3.68787620e-01, 6.88825107e-01],\n       [3.84344002e-01, 7.00010836e-01],\n       [4.00653770e-01, 7.09696937e-01],\n       [4.17595115e-01, 7.17817218e-01],\n       [4.35043067e-01, 7.24330862e-01],\n       [4.52871677e-01, 7.29224882e-01],\n       [4.70956223e-01, 7.32515537e-01],\n       [4.89175525e-01, 7.34248223e-01],\n       [5.07414099e-01, 7.34495928e-01],\n       [5.25564045e-01, 7.33356548e-01],\n       [5.43526732e-01, 7.30948893e-01],\n       [5.61214030e-01, 7.27408084e-01],\n       [5.77377957e-01, 7.07821945e-01],\n       [5.91957692e-01, 6.87453747e-01],\n       [6.04906395e-01, 6.66483330e-01],\n       [6.16189095e-01, 6.45063257e-01],\n       [6.25780538e-01, 6.23318564e-01],\n       [6.33663163e-01, 6.01348046e-01],\n       [6.39825255e-01, 5.79226900e-01],\n       [6.44259379e-01, 5.57010166e-01],\n       [6.46961125e-01, 5.34736745e-01],\n       [6.47928196e-01, 5.12433764e-01],\n       [6.47159838e-01, 4.90121121e-01],\n       [6.44370200e-01, 4.64133218e-01],\n       [6.39561637e-01, 4.38175614e-01],\n       [6.32738945e-01, 4.12279671e-01],\n       [6.23910517e-01, 3.86491642e-01],\n       [6.13089964e-01, 3.60878608e-01],\n       [6.00298153e-01, 3.35533875e-01],\n       [5.85565607e-01, 3.10581588e-01],\n       [5.68935158e-01, 2.86179978e-01],\n       [5.50917046e-01, 2.68338619e-01],\n       [5.31584900e-01, 2.51443815e-01],\n       [5.11029535e-01, 2.35716651e-01],\n       [4.89359852e-01, 2.21389690e-01],\n       [4.66702968e-01, 2.08697253e-01],\n       [4.43203489e-01, 1.97863763e-01],\n       [4.19021669e-01, 1.89090944e-01],\n       [3.94330727e-01, 1.82545023e-01],\n       [3.69313134e-01, 1.78345211e-01],\n       [3.44156265e-01, 1.76554703e-01],\n       [3.18796310e-01, 1.73943514e-01],\n       [2.93417911e-01, 1.73706240e-01],\n       [2.68197927e-01, 1.75743229e-01],\n       [2.43301067e-01, 1.79897646e-01],\n       [2.18876077e-01, 1.85964520e-01],\n       [1.95052928e-01, 1.93702374e-01],\n       [1.71940962e-01, 2.02846285e-01],\n       [1.49628129e-01, 2.13120876e-01],\n       [1.28181087e-01, 2.24252256e-01],\n       [1.07646028e-01, 2.35978006e-01],\n       [8.80502727e-02, 2.48054812e-01],\n       [6.94040855e-02, 2.60263679e-01],\n       [5.17028305e-02, 2.72412756e-01],\n       [3.60293918e-02, 2.98484532e-01],\n       [2.23579407e-02, 3.24224333e-01],\n       [1.06581450e-02, 3.49573669e-01],\n       [8.98281733e-04, 3.74515871e-01],\n       [0.00000000e+00, 5.00000000e-01],\n       [8.20663240e-04, 5.10551548e-01],\n       [2.46475803e-03, 5.21137959e-01],\n       [4.93755605e-03, 5.31793261e-01],\n       [8.24700461e-03, 5.42549787e-01],\n       [1.34216812e-02, 5.66531596e-01],\n       [2.04767519e-02, 5.90707672e-01],\n       [2.94311576e-02, 6.15127768e-01],\n       [4.03062238e-02, 6.39822438e-01],\n       [5.31237390e-02, 6.64796904e-01],\n       [6.79034392e-02, 6.90024304e-01],\n       [8.46597619e-02, 7.15438727e-01],\n       [1.03398601e-01, 7.40928201e-01],\n       [1.24113037e-01, 7.66328587e-01],\n       [1.46778961e-01, 7.91419029e-01],\n       [1.71350545e-01, 8.15920556e-01],\n       [1.97755999e-01, 8.39498876e-01],\n       [2.25893928e-01, 8.61773159e-01],\n       [2.55630818e-01, 8.82331519e-01],\n       [2.86800537e-01, 9.00753665e-01],\n       [3.19241358e-01, 9.17096194e-01],\n       [3.52728771e-01, 9.30552555e-01],\n       [3.87017767e-01, 9.40858331e-01],\n       [4.21851632e-01, 9.47864085e-01],\n       [4.56972642e-01, 9.51555901e-01],\n       [4.92133157e-01, 9.52063765e-01],\n       [5.27106447e-01, 9.49656535e-01],\n       [5.61696074e-01, 9.44723746e-01],\n       [5.95743166e-01, 9.37748299e-01],\n       [6.29131122e-01, 9.29273716e-01],\n       [6.61787756e-01, 9.19871004e-01],\n       [6.93414247e-01, 9.06626319e-01],\n       [7.24024576e-01, 8.93561380e-01],\n       [7.53670375e-01, 8.81160208e-01],\n       [7.82436031e-01, 8.69844133e-01],\n       [8.10433732e-01, 8.59970517e-01],\n       [8.37798754e-01, 8.51836027e-01],\n       [8.64685184e-01, 8.45682592e-01],\n       [8.91262184e-01, 8.41704222e-01],\n       [9.17710801e-01, 8.40053625e-01]])"
     },
     "execution_count": 185,
     "metadata": {},
     "output_type": "execute_result"
    }
   ],
   "source": [
    "all_observations"
   ],
   "metadata": {
    "collapsed": false,
    "pycharm": {
     "name": "#%%\n"
    }
   }
  },
  {
   "cell_type": "code",
   "execution_count": 178,
   "outputs": [
    {
     "data": {
      "text/plain": "array([[0.49783672, 0.51990645],\n       [0.38634907, 0.41872482],\n       [0.32832671, 0.38859574],\n       ...,\n       [0.78312389, 0.96488556],\n       [0.82143616, 0.89354939],\n       [0.92623027, 0.89480476]])"
     },
     "execution_count": 178,
     "metadata": {},
     "output_type": "execute_result"
    }
   ],
   "source": [
    "all_observations_scaled"
   ],
   "metadata": {
    "collapsed": false,
    "pycharm": {
     "name": "#%%\n"
    }
   }
  },
  {
   "cell_type": "code",
   "execution_count": 179,
   "outputs": [
    {
     "data": {
      "text/plain": "<tf.Tensor: shape=(10755, 2), dtype=float32, numpy=\narray([[0.51328045, 0.51800674],\n       [0.40487203, 0.42447254],\n       [0.33217928, 0.3791114 ],\n       ...,\n       [0.7773116 , 0.9158826 ],\n       [0.8025669 , 0.8813088 ],\n       [0.85649186, 0.8805412 ]], dtype=float32)>"
     },
     "execution_count": 179,
     "metadata": {},
     "output_type": "execute_result"
    }
   ],
   "source": [
    "vae(all_observations_scaled)"
   ],
   "metadata": {
    "collapsed": false,
    "pycharm": {
     "name": "#%%\n"
    }
   }
  },
  {
   "cell_type": "markdown",
   "source": [
    "Random test to make sure posterior collapse is avoided"
   ],
   "metadata": {
    "collapsed": false,
    "pycharm": {
     "name": "#%% md\n"
    }
   }
  },
  {
   "cell_type": "code",
   "execution_count": 119,
   "outputs": [
    {
     "name": "stdout",
     "output_type": "stream",
     "text": [
      "[[0.12924743 0.30960184]\n",
      " [0.34146105 0.63325081]\n",
      " [0.2006226  0.23677983]\n",
      " [0.39715259 0.65883864]\n",
      " [0.33274673 0.92715291]\n",
      " [0.30385739 0.43389812]\n",
      " [0.20808629 0.38681099]\n",
      " [0.77297407 0.25049935]\n",
      " [0.63391301 0.06432549]\n",
      " [0.41720471 0.97503232]]\n"
     ]
    },
    {
     "data": {
      "text/plain": "<tf.Tensor: shape=(10, 2), dtype=float32, numpy=\narray([[0.2079564 , 0.3798874 ],\n       [0.17498101, 0.44049573],\n       [0.19405416, 0.3613656 ],\n       [0.1657172 , 0.4435221 ],\n       [0.18144417, 0.5038548 ],\n       [0.17846933, 0.3992164 ],\n       [0.19482864, 0.39318183],\n       [0.10141916, 0.33977422],\n       [0.11905786, 0.30723736],\n       [0.16754702, 0.51014173]], dtype=float32)>"
     },
     "execution_count": 119,
     "metadata": {},
     "output_type": "execute_result"
    }
   ],
   "source": [
    "a = np.random.random((10, 2))\n",
    "print(a)\n",
    "vae.decoder(a)"
   ],
   "metadata": {
    "collapsed": false,
    "pycharm": {
     "name": "#%%\n"
    }
   }
  },
  {
   "cell_type": "markdown",
   "source": [
    "## MNIST"
   ],
   "metadata": {
    "collapsed": false,
    "pycharm": {
     "name": "#%% md\n"
    }
   }
  },
  {
   "cell_type": "code",
   "execution_count": 120,
   "outputs": [],
   "source": [
    "num_classes = 10\n",
    "input_shape = (28, 28, 1)\n",
    "\n",
    "# Load the data and split it between train and test sets\n",
    "(x_train, y_train), (x_test, y_test) = keras.datasets.mnist.load_data()\n",
    "\n",
    "x_train = x_train/255\n",
    "x_train_flat = x_train.reshape(x_train.shape[0], x_train.shape[1]**2)"
   ],
   "metadata": {
    "collapsed": false,
    "pycharm": {
     "name": "#%%\n"
    }
   }
  },
  {
   "cell_type": "code",
   "execution_count": 121,
   "outputs": [
    {
     "data": {
      "text/plain": "1.0"
     },
     "execution_count": 121,
     "metadata": {},
     "output_type": "execute_result"
    }
   ],
   "source": [
    "x_train.max()"
   ],
   "metadata": {
    "collapsed": false,
    "pycharm": {
     "name": "#%%\n"
    }
   }
  },
  {
   "cell_type": "code",
   "execution_count": 122,
   "outputs": [],
   "source": [
    "enc = create_encoder(10, 784, [256, 128])\n",
    "dec = create_decoder(10, 784, [256, 128])\n",
    "\n",
    "vae = VAE(enc, dec, [0]*10, [1]*10, llik_scaling=100, kl_scaling=1)\n",
    "vae.compile(optimizer=tf.keras.optimizers.Adam())"
   ],
   "metadata": {
    "collapsed": false,
    "pycharm": {
     "name": "#%%\n"
    }
   }
  },
  {
   "cell_type": "code",
   "execution_count": 123,
   "outputs": [
    {
     "name": "stdout",
     "output_type": "stream",
     "text": [
      "Epoch 1/20\n"
     ]
    },
    {
     "name": "stderr",
     "output_type": "stream",
     "text": [
      "2022-08-07 13:54:56.950320: I tensorflow/core/grappler/optimizers/custom_graph_optimizer_registry.cc:113] Plugin optimizer for device_type GPU is enabled.\n"
     ]
    },
    {
     "name": "stdout",
     "output_type": "stream",
     "text": [
      "938/938 [==============================] - 10s 10ms/step - loss: 32.1690 - reconstruction_loss: 26.0431 - kl_loss: 1.0763\n",
      "Epoch 2/20\n",
      "938/938 [==============================] - 9s 10ms/step - loss: 24.7607 - reconstruction_loss: 22.7322 - kl_loss: 1.7090\n",
      "Epoch 3/20\n",
      "938/938 [==============================] - 9s 9ms/step - loss: 23.9416 - reconstruction_loss: 21.5231 - kl_loss: 2.2955\n",
      "Epoch 4/20\n",
      "938/938 [==============================] - 9s 9ms/step - loss: 23.3899 - reconstruction_loss: 20.2792 - kl_loss: 2.9727\n",
      "Epoch 5/20\n",
      "196/938 [=====>........................] - ETA: 7s - loss: 23.0395 - reconstruction_loss: 19.8954 - kl_loss: 3.1952"
     ]
    },
    {
     "ename": "KeyboardInterrupt",
     "evalue": "",
     "output_type": "error",
     "traceback": [
      "\u001B[0;31m---------------------------------------------------------------------------\u001B[0m",
      "\u001B[0;31mKeyboardInterrupt\u001B[0m                         Traceback (most recent call last)",
      "Input \u001B[0;32mIn [123]\u001B[0m, in \u001B[0;36m<cell line: 1>\u001B[0;34m()\u001B[0m\n\u001B[0;32m----> 1\u001B[0m \u001B[43mvae\u001B[49m\u001B[38;5;241;43m.\u001B[39;49m\u001B[43mfit\u001B[49m\u001B[43m(\u001B[49m\u001B[43mx_train_flat\u001B[49m\u001B[43m,\u001B[49m\u001B[43m \u001B[49m\u001B[43mbatch_size\u001B[49m\u001B[38;5;241;43m=\u001B[39;49m\u001B[38;5;241;43m64\u001B[39;49m\u001B[43m,\u001B[49m\u001B[43m \u001B[49m\u001B[43mepochs\u001B[49m\u001B[38;5;241;43m=\u001B[39;49m\u001B[38;5;241;43m20\u001B[39;49m\u001B[43m)\u001B[49m\n",
      "File \u001B[0;32m~/miniconda3/envs/tf_daif/lib/python3.8/site-packages/keras/utils/traceback_utils.py:64\u001B[0m, in \u001B[0;36mfilter_traceback.<locals>.error_handler\u001B[0;34m(*args, **kwargs)\u001B[0m\n\u001B[1;32m     62\u001B[0m filtered_tb \u001B[38;5;241m=\u001B[39m \u001B[38;5;28;01mNone\u001B[39;00m\n\u001B[1;32m     63\u001B[0m \u001B[38;5;28;01mtry\u001B[39;00m:\n\u001B[0;32m---> 64\u001B[0m   \u001B[38;5;28;01mreturn\u001B[39;00m \u001B[43mfn\u001B[49m\u001B[43m(\u001B[49m\u001B[38;5;241;43m*\u001B[39;49m\u001B[43margs\u001B[49m\u001B[43m,\u001B[49m\u001B[43m \u001B[49m\u001B[38;5;241;43m*\u001B[39;49m\u001B[38;5;241;43m*\u001B[39;49m\u001B[43mkwargs\u001B[49m\u001B[43m)\u001B[49m\n\u001B[1;32m     65\u001B[0m \u001B[38;5;28;01mexcept\u001B[39;00m \u001B[38;5;167;01mException\u001B[39;00m \u001B[38;5;28;01mas\u001B[39;00m e:  \u001B[38;5;66;03m# pylint: disable=broad-except\u001B[39;00m\n\u001B[1;32m     66\u001B[0m   filtered_tb \u001B[38;5;241m=\u001B[39m _process_traceback_frames(e\u001B[38;5;241m.\u001B[39m__traceback__)\n",
      "File \u001B[0;32m~/miniconda3/envs/tf_daif/lib/python3.8/site-packages/keras/engine/training.py:1384\u001B[0m, in \u001B[0;36mModel.fit\u001B[0;34m(self, x, y, batch_size, epochs, verbose, callbacks, validation_split, validation_data, shuffle, class_weight, sample_weight, initial_epoch, steps_per_epoch, validation_steps, validation_batch_size, validation_freq, max_queue_size, workers, use_multiprocessing)\u001B[0m\n\u001B[1;32m   1377\u001B[0m \u001B[38;5;28;01mwith\u001B[39;00m tf\u001B[38;5;241m.\u001B[39mprofiler\u001B[38;5;241m.\u001B[39mexperimental\u001B[38;5;241m.\u001B[39mTrace(\n\u001B[1;32m   1378\u001B[0m     \u001B[38;5;124m'\u001B[39m\u001B[38;5;124mtrain\u001B[39m\u001B[38;5;124m'\u001B[39m,\n\u001B[1;32m   1379\u001B[0m     epoch_num\u001B[38;5;241m=\u001B[39mepoch,\n\u001B[1;32m   1380\u001B[0m     step_num\u001B[38;5;241m=\u001B[39mstep,\n\u001B[1;32m   1381\u001B[0m     batch_size\u001B[38;5;241m=\u001B[39mbatch_size,\n\u001B[1;32m   1382\u001B[0m     _r\u001B[38;5;241m=\u001B[39m\u001B[38;5;241m1\u001B[39m):\n\u001B[1;32m   1383\u001B[0m   callbacks\u001B[38;5;241m.\u001B[39mon_train_batch_begin(step)\n\u001B[0;32m-> 1384\u001B[0m   tmp_logs \u001B[38;5;241m=\u001B[39m \u001B[38;5;28;43mself\u001B[39;49m\u001B[38;5;241;43m.\u001B[39;49m\u001B[43mtrain_function\u001B[49m\u001B[43m(\u001B[49m\u001B[43miterator\u001B[49m\u001B[43m)\u001B[49m\n\u001B[1;32m   1385\u001B[0m   \u001B[38;5;28;01mif\u001B[39;00m data_handler\u001B[38;5;241m.\u001B[39mshould_sync:\n\u001B[1;32m   1386\u001B[0m     context\u001B[38;5;241m.\u001B[39masync_wait()\n",
      "File \u001B[0;32m~/miniconda3/envs/tf_daif/lib/python3.8/site-packages/tensorflow/python/util/traceback_utils.py:150\u001B[0m, in \u001B[0;36mfilter_traceback.<locals>.error_handler\u001B[0;34m(*args, **kwargs)\u001B[0m\n\u001B[1;32m    148\u001B[0m filtered_tb \u001B[38;5;241m=\u001B[39m \u001B[38;5;28;01mNone\u001B[39;00m\n\u001B[1;32m    149\u001B[0m \u001B[38;5;28;01mtry\u001B[39;00m:\n\u001B[0;32m--> 150\u001B[0m   \u001B[38;5;28;01mreturn\u001B[39;00m \u001B[43mfn\u001B[49m\u001B[43m(\u001B[49m\u001B[38;5;241;43m*\u001B[39;49m\u001B[43margs\u001B[49m\u001B[43m,\u001B[49m\u001B[43m \u001B[49m\u001B[38;5;241;43m*\u001B[39;49m\u001B[38;5;241;43m*\u001B[39;49m\u001B[43mkwargs\u001B[49m\u001B[43m)\u001B[49m\n\u001B[1;32m    151\u001B[0m \u001B[38;5;28;01mexcept\u001B[39;00m \u001B[38;5;167;01mException\u001B[39;00m \u001B[38;5;28;01mas\u001B[39;00m e:\n\u001B[1;32m    152\u001B[0m   filtered_tb \u001B[38;5;241m=\u001B[39m _process_traceback_frames(e\u001B[38;5;241m.\u001B[39m__traceback__)\n",
      "File \u001B[0;32m~/miniconda3/envs/tf_daif/lib/python3.8/site-packages/tensorflow/python/eager/def_function.py:915\u001B[0m, in \u001B[0;36mFunction.__call__\u001B[0;34m(self, *args, **kwds)\u001B[0m\n\u001B[1;32m    912\u001B[0m compiler \u001B[38;5;241m=\u001B[39m \u001B[38;5;124m\"\u001B[39m\u001B[38;5;124mxla\u001B[39m\u001B[38;5;124m\"\u001B[39m \u001B[38;5;28;01mif\u001B[39;00m \u001B[38;5;28mself\u001B[39m\u001B[38;5;241m.\u001B[39m_jit_compile \u001B[38;5;28;01melse\u001B[39;00m \u001B[38;5;124m\"\u001B[39m\u001B[38;5;124mnonXla\u001B[39m\u001B[38;5;124m\"\u001B[39m\n\u001B[1;32m    914\u001B[0m \u001B[38;5;28;01mwith\u001B[39;00m OptionalXlaContext(\u001B[38;5;28mself\u001B[39m\u001B[38;5;241m.\u001B[39m_jit_compile):\n\u001B[0;32m--> 915\u001B[0m   result \u001B[38;5;241m=\u001B[39m \u001B[38;5;28;43mself\u001B[39;49m\u001B[38;5;241;43m.\u001B[39;49m\u001B[43m_call\u001B[49m\u001B[43m(\u001B[49m\u001B[38;5;241;43m*\u001B[39;49m\u001B[43margs\u001B[49m\u001B[43m,\u001B[49m\u001B[43m \u001B[49m\u001B[38;5;241;43m*\u001B[39;49m\u001B[38;5;241;43m*\u001B[39;49m\u001B[43mkwds\u001B[49m\u001B[43m)\u001B[49m\n\u001B[1;32m    917\u001B[0m new_tracing_count \u001B[38;5;241m=\u001B[39m \u001B[38;5;28mself\u001B[39m\u001B[38;5;241m.\u001B[39mexperimental_get_tracing_count()\n\u001B[1;32m    918\u001B[0m without_tracing \u001B[38;5;241m=\u001B[39m (tracing_count \u001B[38;5;241m==\u001B[39m new_tracing_count)\n",
      "File \u001B[0;32m~/miniconda3/envs/tf_daif/lib/python3.8/site-packages/tensorflow/python/eager/def_function.py:947\u001B[0m, in \u001B[0;36mFunction._call\u001B[0;34m(self, *args, **kwds)\u001B[0m\n\u001B[1;32m    944\u001B[0m   \u001B[38;5;28mself\u001B[39m\u001B[38;5;241m.\u001B[39m_lock\u001B[38;5;241m.\u001B[39mrelease()\n\u001B[1;32m    945\u001B[0m   \u001B[38;5;66;03m# In this case we have created variables on the first call, so we run the\u001B[39;00m\n\u001B[1;32m    946\u001B[0m   \u001B[38;5;66;03m# defunned version which is guaranteed to never create variables.\u001B[39;00m\n\u001B[0;32m--> 947\u001B[0m   \u001B[38;5;28;01mreturn\u001B[39;00m \u001B[38;5;28;43mself\u001B[39;49m\u001B[38;5;241;43m.\u001B[39;49m\u001B[43m_stateless_fn\u001B[49m\u001B[43m(\u001B[49m\u001B[38;5;241;43m*\u001B[39;49m\u001B[43margs\u001B[49m\u001B[43m,\u001B[49m\u001B[43m \u001B[49m\u001B[38;5;241;43m*\u001B[39;49m\u001B[38;5;241;43m*\u001B[39;49m\u001B[43mkwds\u001B[49m\u001B[43m)\u001B[49m  \u001B[38;5;66;03m# pylint: disable=not-callable\u001B[39;00m\n\u001B[1;32m    948\u001B[0m \u001B[38;5;28;01melif\u001B[39;00m \u001B[38;5;28mself\u001B[39m\u001B[38;5;241m.\u001B[39m_stateful_fn \u001B[38;5;129;01mis\u001B[39;00m \u001B[38;5;129;01mnot\u001B[39;00m \u001B[38;5;28;01mNone\u001B[39;00m:\n\u001B[1;32m    949\u001B[0m   \u001B[38;5;66;03m# Release the lock early so that multiple threads can perform the call\u001B[39;00m\n\u001B[1;32m    950\u001B[0m   \u001B[38;5;66;03m# in parallel.\u001B[39;00m\n\u001B[1;32m    951\u001B[0m   \u001B[38;5;28mself\u001B[39m\u001B[38;5;241m.\u001B[39m_lock\u001B[38;5;241m.\u001B[39mrelease()\n",
      "File \u001B[0;32m~/miniconda3/envs/tf_daif/lib/python3.8/site-packages/tensorflow/python/eager/function.py:2956\u001B[0m, in \u001B[0;36mFunction.__call__\u001B[0;34m(self, *args, **kwargs)\u001B[0m\n\u001B[1;32m   2953\u001B[0m \u001B[38;5;28;01mwith\u001B[39;00m \u001B[38;5;28mself\u001B[39m\u001B[38;5;241m.\u001B[39m_lock:\n\u001B[1;32m   2954\u001B[0m   (graph_function,\n\u001B[1;32m   2955\u001B[0m    filtered_flat_args) \u001B[38;5;241m=\u001B[39m \u001B[38;5;28mself\u001B[39m\u001B[38;5;241m.\u001B[39m_maybe_define_function(args, kwargs)\n\u001B[0;32m-> 2956\u001B[0m \u001B[38;5;28;01mreturn\u001B[39;00m \u001B[43mgraph_function\u001B[49m\u001B[38;5;241;43m.\u001B[39;49m\u001B[43m_call_flat\u001B[49m\u001B[43m(\u001B[49m\n\u001B[1;32m   2957\u001B[0m \u001B[43m    \u001B[49m\u001B[43mfiltered_flat_args\u001B[49m\u001B[43m,\u001B[49m\u001B[43m \u001B[49m\u001B[43mcaptured_inputs\u001B[49m\u001B[38;5;241;43m=\u001B[39;49m\u001B[43mgraph_function\u001B[49m\u001B[38;5;241;43m.\u001B[39;49m\u001B[43mcaptured_inputs\u001B[49m\u001B[43m)\u001B[49m\n",
      "File \u001B[0;32m~/miniconda3/envs/tf_daif/lib/python3.8/site-packages/tensorflow/python/eager/function.py:1853\u001B[0m, in \u001B[0;36mConcreteFunction._call_flat\u001B[0;34m(self, args, captured_inputs, cancellation_manager)\u001B[0m\n\u001B[1;32m   1849\u001B[0m possible_gradient_type \u001B[38;5;241m=\u001B[39m gradients_util\u001B[38;5;241m.\u001B[39mPossibleTapeGradientTypes(args)\n\u001B[1;32m   1850\u001B[0m \u001B[38;5;28;01mif\u001B[39;00m (possible_gradient_type \u001B[38;5;241m==\u001B[39m gradients_util\u001B[38;5;241m.\u001B[39mPOSSIBLE_GRADIENT_TYPES_NONE\n\u001B[1;32m   1851\u001B[0m     \u001B[38;5;129;01mand\u001B[39;00m executing_eagerly):\n\u001B[1;32m   1852\u001B[0m   \u001B[38;5;66;03m# No tape is watching; skip to running the function.\u001B[39;00m\n\u001B[0;32m-> 1853\u001B[0m   \u001B[38;5;28;01mreturn\u001B[39;00m \u001B[38;5;28mself\u001B[39m\u001B[38;5;241m.\u001B[39m_build_call_outputs(\u001B[38;5;28;43mself\u001B[39;49m\u001B[38;5;241;43m.\u001B[39;49m\u001B[43m_inference_function\u001B[49m\u001B[38;5;241;43m.\u001B[39;49m\u001B[43mcall\u001B[49m\u001B[43m(\u001B[49m\n\u001B[1;32m   1854\u001B[0m \u001B[43m      \u001B[49m\u001B[43mctx\u001B[49m\u001B[43m,\u001B[49m\u001B[43m \u001B[49m\u001B[43margs\u001B[49m\u001B[43m,\u001B[49m\u001B[43m \u001B[49m\u001B[43mcancellation_manager\u001B[49m\u001B[38;5;241;43m=\u001B[39;49m\u001B[43mcancellation_manager\u001B[49m\u001B[43m)\u001B[49m)\n\u001B[1;32m   1855\u001B[0m forward_backward \u001B[38;5;241m=\u001B[39m \u001B[38;5;28mself\u001B[39m\u001B[38;5;241m.\u001B[39m_select_forward_and_backward_functions(\n\u001B[1;32m   1856\u001B[0m     args,\n\u001B[1;32m   1857\u001B[0m     possible_gradient_type,\n\u001B[1;32m   1858\u001B[0m     executing_eagerly)\n\u001B[1;32m   1859\u001B[0m forward_function, args_with_tangents \u001B[38;5;241m=\u001B[39m forward_backward\u001B[38;5;241m.\u001B[39mforward()\n",
      "File \u001B[0;32m~/miniconda3/envs/tf_daif/lib/python3.8/site-packages/tensorflow/python/eager/function.py:499\u001B[0m, in \u001B[0;36m_EagerDefinedFunction.call\u001B[0;34m(self, ctx, args, cancellation_manager)\u001B[0m\n\u001B[1;32m    497\u001B[0m \u001B[38;5;28;01mwith\u001B[39;00m _InterpolateFunctionError(\u001B[38;5;28mself\u001B[39m):\n\u001B[1;32m    498\u001B[0m   \u001B[38;5;28;01mif\u001B[39;00m cancellation_manager \u001B[38;5;129;01mis\u001B[39;00m \u001B[38;5;28;01mNone\u001B[39;00m:\n\u001B[0;32m--> 499\u001B[0m     outputs \u001B[38;5;241m=\u001B[39m \u001B[43mexecute\u001B[49m\u001B[38;5;241;43m.\u001B[39;49m\u001B[43mexecute\u001B[49m\u001B[43m(\u001B[49m\n\u001B[1;32m    500\u001B[0m \u001B[43m        \u001B[49m\u001B[38;5;28;43mstr\u001B[39;49m\u001B[43m(\u001B[49m\u001B[38;5;28;43mself\u001B[39;49m\u001B[38;5;241;43m.\u001B[39;49m\u001B[43msignature\u001B[49m\u001B[38;5;241;43m.\u001B[39;49m\u001B[43mname\u001B[49m\u001B[43m)\u001B[49m\u001B[43m,\u001B[49m\n\u001B[1;32m    501\u001B[0m \u001B[43m        \u001B[49m\u001B[43mnum_outputs\u001B[49m\u001B[38;5;241;43m=\u001B[39;49m\u001B[38;5;28;43mself\u001B[39;49m\u001B[38;5;241;43m.\u001B[39;49m\u001B[43m_num_outputs\u001B[49m\u001B[43m,\u001B[49m\n\u001B[1;32m    502\u001B[0m \u001B[43m        \u001B[49m\u001B[43minputs\u001B[49m\u001B[38;5;241;43m=\u001B[39;49m\u001B[43margs\u001B[49m\u001B[43m,\u001B[49m\n\u001B[1;32m    503\u001B[0m \u001B[43m        \u001B[49m\u001B[43mattrs\u001B[49m\u001B[38;5;241;43m=\u001B[39;49m\u001B[43mattrs\u001B[49m\u001B[43m,\u001B[49m\n\u001B[1;32m    504\u001B[0m \u001B[43m        \u001B[49m\u001B[43mctx\u001B[49m\u001B[38;5;241;43m=\u001B[39;49m\u001B[43mctx\u001B[49m\u001B[43m)\u001B[49m\n\u001B[1;32m    505\u001B[0m   \u001B[38;5;28;01melse\u001B[39;00m:\n\u001B[1;32m    506\u001B[0m     outputs \u001B[38;5;241m=\u001B[39m execute\u001B[38;5;241m.\u001B[39mexecute_with_cancellation(\n\u001B[1;32m    507\u001B[0m         \u001B[38;5;28mstr\u001B[39m(\u001B[38;5;28mself\u001B[39m\u001B[38;5;241m.\u001B[39msignature\u001B[38;5;241m.\u001B[39mname),\n\u001B[1;32m    508\u001B[0m         num_outputs\u001B[38;5;241m=\u001B[39m\u001B[38;5;28mself\u001B[39m\u001B[38;5;241m.\u001B[39m_num_outputs,\n\u001B[0;32m   (...)\u001B[0m\n\u001B[1;32m    511\u001B[0m         ctx\u001B[38;5;241m=\u001B[39mctx,\n\u001B[1;32m    512\u001B[0m         cancellation_manager\u001B[38;5;241m=\u001B[39mcancellation_manager)\n",
      "File \u001B[0;32m~/miniconda3/envs/tf_daif/lib/python3.8/site-packages/tensorflow/python/eager/execute.py:54\u001B[0m, in \u001B[0;36mquick_execute\u001B[0;34m(op_name, num_outputs, inputs, attrs, ctx, name)\u001B[0m\n\u001B[1;32m     52\u001B[0m \u001B[38;5;28;01mtry\u001B[39;00m:\n\u001B[1;32m     53\u001B[0m   ctx\u001B[38;5;241m.\u001B[39mensure_initialized()\n\u001B[0;32m---> 54\u001B[0m   tensors \u001B[38;5;241m=\u001B[39m \u001B[43mpywrap_tfe\u001B[49m\u001B[38;5;241;43m.\u001B[39;49m\u001B[43mTFE_Py_Execute\u001B[49m\u001B[43m(\u001B[49m\u001B[43mctx\u001B[49m\u001B[38;5;241;43m.\u001B[39;49m\u001B[43m_handle\u001B[49m\u001B[43m,\u001B[49m\u001B[43m \u001B[49m\u001B[43mdevice_name\u001B[49m\u001B[43m,\u001B[49m\u001B[43m \u001B[49m\u001B[43mop_name\u001B[49m\u001B[43m,\u001B[49m\n\u001B[1;32m     55\u001B[0m \u001B[43m                                      \u001B[49m\u001B[43minputs\u001B[49m\u001B[43m,\u001B[49m\u001B[43m \u001B[49m\u001B[43mattrs\u001B[49m\u001B[43m,\u001B[49m\u001B[43m \u001B[49m\u001B[43mnum_outputs\u001B[49m\u001B[43m)\u001B[49m\n\u001B[1;32m     56\u001B[0m \u001B[38;5;28;01mexcept\u001B[39;00m core\u001B[38;5;241m.\u001B[39m_NotOkStatusException \u001B[38;5;28;01mas\u001B[39;00m e:\n\u001B[1;32m     57\u001B[0m   \u001B[38;5;28;01mif\u001B[39;00m name \u001B[38;5;129;01mis\u001B[39;00m \u001B[38;5;129;01mnot\u001B[39;00m \u001B[38;5;28;01mNone\u001B[39;00m:\n",
      "\u001B[0;31mKeyboardInterrupt\u001B[0m: "
     ]
    }
   ],
   "source": [
    "vae.fit(x_train_flat, batch_size=64, epochs=20)"
   ],
   "metadata": {
    "collapsed": false,
    "pycharm": {
     "name": "#%%\n"
    }
   }
  },
  {
   "cell_type": "code",
   "execution_count": null,
   "outputs": [],
   "source": [
    "out = vae(x_train_flat)\n",
    "out = out.numpy().reshape(out.shape[0], 28, 28)\n",
    "out.shape"
   ],
   "metadata": {
    "collapsed": false,
    "pycharm": {
     "name": "#%%\n"
    }
   }
  },
  {
   "cell_type": "code",
   "execution_count": null,
   "outputs": [],
   "source": [
    "example = 16\n",
    "plt.imshow(out[example])"
   ],
   "metadata": {
    "collapsed": false,
    "pycharm": {
     "name": "#%%\n"
    }
   }
  },
  {
   "cell_type": "code",
   "execution_count": null,
   "outputs": [],
   "source": [
    "plt.imshow(x_train[example])"
   ],
   "metadata": {
    "collapsed": false,
    "pycharm": {
     "name": "#%%\n"
    }
   }
  },
  {
   "cell_type": "code",
   "execution_count": null,
   "outputs": [],
   "source": [
    "z = np.random.normal([0]*10, scale=[1]*10, size=(1, 10))\n",
    "fake_num = vae.decoder(z).numpy().reshape(28,28)\n",
    "plt.imshow(fake_num)"
   ],
   "metadata": {
    "collapsed": false,
    "pycharm": {
     "name": "#%%\n"
    }
   }
  },
  {
   "cell_type": "code",
   "execution_count": null,
   "outputs": [],
   "source": [],
   "metadata": {
    "collapsed": false,
    "pycharm": {
     "name": "#%%\n"
    }
   }
  }
 ],
 "metadata": {
  "kernelspec": {
   "display_name": "Python 3",
   "language": "python",
   "name": "python3"
  },
  "language_info": {
   "codemirror_mode": {
    "name": "ipython",
    "version": 2
   },
   "file_extension": ".py",
   "mimetype": "text/x-python",
   "name": "python",
   "nbconvert_exporter": "python",
   "pygments_lexer": "ipython2",
   "version": "2.7.6"
  }
 },
 "nbformat": 4,
 "nbformat_minor": 0
}