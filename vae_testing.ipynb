{
 "cells": [
  {
   "cell_type": "markdown",
   "metadata": {
    "collapsed": true,
    "pycharm": {
     "name": "#%% md\n"
    }
   },
   "source": [
    "# Test to see if VAE can produce a good model"
   ]
  },
  {
   "cell_type": "code",
   "execution_count": 1,
   "outputs": [],
   "source": [
    "import tensorflow as tf\n",
    "import tensorflow_probability as tfp\n",
    "import keras\n",
    "from keras import layers\n",
    "import numpy as np\n",
    "import matplotlib.pyplot as plt\n",
    "import gym"
   ],
   "metadata": {
    "collapsed": false,
    "pycharm": {
     "name": "#%%\n"
    }
   }
  },
  {
   "cell_type": "code",
   "execution_count": 2,
   "outputs": [],
   "source": [
    "from vae_recurrent import VAE, create_decoder, create_encoder\n",
    "from util import random_observation_sequence, transform_observations"
   ],
   "metadata": {
    "collapsed": false,
    "pycharm": {
     "name": "#%%\n"
    }
   }
  },
  {
   "cell_type": "code",
   "execution_count": 3,
   "outputs": [
    {
     "data": {
      "text/plain": "array([[0.38368881, 0.5       ],\n       [0.38341977, 0.49654052],\n       [0.3830673 , 0.49546828],\n       ...,\n       [0.43643947, 0.40297936],\n       [0.42763166, 0.38675667],\n       [0.41788729, 0.37471523]])"
     },
     "execution_count": 3,
     "metadata": {},
     "output_type": "execute_result"
    }
   ],
   "source": [
    "env = gym.make('MountainCarContinuous-v0')\n",
    "env.action_space.seed(42)\n",
    "\n",
    "observation_max = np.array([0.6, 0.07])\n",
    "observation_min = np.array([-1.2, -0.07])\n",
    "\n",
    "o, a, r = random_observation_sequence(env, 4096)\n",
    "# o_scaled = transform_observations(o, observation_max, observation_min, [0.05, 0.05])\n",
    "o_scaled = transform_observations(o, observation_max, observation_min, [0, 0])\n",
    "o_scaled"
   ],
   "metadata": {
    "collapsed": false,
    "pycharm": {
     "name": "#%%\n"
    }
   }
  },
  {
   "cell_type": "code",
   "execution_count": 6,
   "outputs": [],
   "source": [
    "enc = create_encoder(2, 2, [20])\n",
    "dec = create_decoder(2, 2, [20])\n",
    "\n",
    "vae = VAE(enc, dec, [0, 0], [0.3, 0.3], llik_scaling=1, kl_scaling=1)\n",
    "vae.compile(optimizer=tf.keras.optimizers.Adam())"
   ],
   "metadata": {
    "collapsed": false,
    "pycharm": {
     "name": "#%%\n"
    }
   }
  },
  {
   "cell_type": "code",
   "execution_count": 7,
   "outputs": [
    {
     "name": "stdout",
     "output_type": "stream",
     "text": [
      "Epoch 1/20\n",
      " 1/16 [>.............................] - ETA: 6s - loss: 7.5832 - reconstruction_loss: 0.7006 - kl_loss: 6.8826"
     ]
    },
    {
     "name": "stderr",
     "output_type": "stream",
     "text": [
      "2022-08-05 17:39:34.257835: I tensorflow/core/grappler/optimizers/custom_graph_optimizer_registry.cc:113] Plugin optimizer for device_type GPU is enabled.\n"
     ]
    },
    {
     "name": "stdout",
     "output_type": "stream",
     "text": [
      "16/16 [==============================] - 1s 13ms/step - loss: 7.1811 - reconstruction_loss: 0.6944 - kl_loss: 6.1504\n",
      "Epoch 2/20\n",
      "16/16 [==============================] - 0s 9ms/step - loss: 5.7105 - reconstruction_loss: 0.6889 - kl_loss: 4.7643\n",
      "Epoch 3/20\n",
      "16/16 [==============================] - 0s 9ms/step - loss: 4.5758 - reconstruction_loss: 0.6863 - kl_loss: 3.6932\n",
      "Epoch 4/20\n",
      "16/16 [==============================] - 0s 10ms/step - loss: 3.6884 - reconstruction_loss: 0.6835 - kl_loss: 2.8526\n",
      "Epoch 5/20\n",
      "16/16 [==============================] - 0s 10ms/step - loss: 2.9963 - reconstruction_loss: 0.6817 - kl_loss: 2.1841\n",
      "Epoch 6/20\n",
      "16/16 [==============================] - 0s 9ms/step - loss: 2.4364 - reconstruction_loss: 0.6806 - kl_loss: 1.6523\n",
      "Epoch 7/20\n",
      "16/16 [==============================] - 0s 9ms/step - loss: 2.0079 - reconstruction_loss: 0.6797 - kl_loss: 1.2344\n",
      "Epoch 8/20\n",
      "16/16 [==============================] - 0s 9ms/step - loss: 1.6456 - reconstruction_loss: 0.6790 - kl_loss: 0.9101\n",
      "Epoch 9/20\n",
      "16/16 [==============================] - 0s 8ms/step - loss: 1.3865 - reconstruction_loss: 0.6785 - kl_loss: 0.6633\n",
      "Epoch 10/20\n",
      "16/16 [==============================] - 0s 8ms/step - loss: 1.1886 - reconstruction_loss: 0.6784 - kl_loss: 0.4783\n",
      "Epoch 11/20\n",
      "16/16 [==============================] - 0s 8ms/step - loss: 1.0475 - reconstruction_loss: 0.6782 - kl_loss: 0.3417\n",
      "Epoch 12/20\n",
      "16/16 [==============================] - 0s 8ms/step - loss: 0.9401 - reconstruction_loss: 0.6781 - kl_loss: 0.2422\n",
      "Epoch 13/20\n",
      "16/16 [==============================] - 0s 8ms/step - loss: 0.8599 - reconstruction_loss: 0.6781 - kl_loss: 0.1706\n",
      "Epoch 14/20\n",
      "16/16 [==============================] - 0s 9ms/step - loss: 0.8079 - reconstruction_loss: 0.6781 - kl_loss: 0.1199\n",
      "Epoch 15/20\n",
      "16/16 [==============================] - 0s 9ms/step - loss: 0.7693 - reconstruction_loss: 0.6781 - kl_loss: 0.0844\n",
      "Epoch 16/20\n",
      "16/16 [==============================] - 0s 9ms/step - loss: 0.7421 - reconstruction_loss: 0.6781 - kl_loss: 0.0597\n",
      "Epoch 17/20\n",
      "16/16 [==============================] - 0s 9ms/step - loss: 0.7234 - reconstruction_loss: 0.6781 - kl_loss: 0.0428\n",
      "Epoch 18/20\n",
      "16/16 [==============================] - 0s 8ms/step - loss: 0.7121 - reconstruction_loss: 0.6780 - kl_loss: 0.0314\n",
      "Epoch 19/20\n",
      "16/16 [==============================] - 0s 8ms/step - loss: 0.7038 - reconstruction_loss: 0.6781 - kl_loss: 0.0239\n",
      "Epoch 20/20\n",
      "16/16 [==============================] - 0s 9ms/step - loss: 0.6985 - reconstruction_loss: 0.6781 - kl_loss: 0.0188\n"
     ]
    },
    {
     "data": {
      "text/plain": "<keras.callbacks.History at 0x17510d760>"
     },
     "execution_count": 7,
     "metadata": {},
     "output_type": "execute_result"
    }
   ],
   "source": [
    "vae.fit(o_scaled, epochs=20, batch_size=64)"
   ],
   "metadata": {
    "collapsed": false,
    "pycharm": {
     "name": "#%%\n"
    }
   }
  },
  {
   "cell_type": "code",
   "execution_count": 8,
   "outputs": [
    {
     "data": {
      "text/plain": "array([[0.38368881, 0.5       ],\n       [0.38341977, 0.49654052],\n       [0.3830673 , 0.49546828],\n       ...,\n       [0.43643947, 0.40297936],\n       [0.42763166, 0.38675667],\n       [0.41788729, 0.37471523]])"
     },
     "execution_count": 8,
     "metadata": {},
     "output_type": "execute_result"
    }
   ],
   "source": [
    "o_scaled"
   ],
   "metadata": {
    "collapsed": false,
    "pycharm": {
     "name": "#%%\n"
    }
   }
  },
  {
   "cell_type": "code",
   "execution_count": 9,
   "outputs": [
    {
     "data": {
      "text/plain": "<tf.Tensor: shape=(1000, 2), dtype=float32, numpy=\narray([[0.36937124, 0.50063986],\n       [0.37738952, 0.5028568 ],\n       [0.3769708 , 0.49754095],\n       ...,\n       [0.37855145, 0.49886635],\n       [0.37820333, 0.50229603],\n       [0.3787679 , 0.49969763]], dtype=float32)>"
     },
     "execution_count": 9,
     "metadata": {},
     "output_type": "execute_result"
    }
   ],
   "source": [
    "vae(o_scaled)"
   ],
   "metadata": {
    "collapsed": false,
    "pycharm": {
     "name": "#%%\n"
    }
   }
  },
  {
   "cell_type": "code",
   "execution_count": 29,
   "outputs": [
    {
     "data": {
      "text/plain": "<tf.Tensor: shape=(100, 2), dtype=float32, numpy=\narray([[0.37518728, 0.4894246 ],\n       [0.3734936 , 0.48822287],\n       [0.36795327, 0.48412043],\n       [0.3670117 , 0.484143  ],\n       [0.38132215, 0.49441734],\n       [0.3803811 , 0.49602962],\n       [0.37199798, 0.48713404],\n       [0.36572155, 0.4837453 ],\n       [0.36640424, 0.4833987 ],\n       [0.36714956, 0.48486206],\n       [0.37582153, 0.48941264],\n       [0.37596548, 0.49572447],\n       [0.35149646, 0.47657195],\n       [0.3846336 , 0.4961655 ],\n       [0.3614956 , 0.48020732],\n       [0.37209067, 0.48700848],\n       [0.35718486, 0.48053756],\n       [0.36536002, 0.48376405],\n       [0.37735426, 0.49476093],\n       [0.36873078, 0.48457542],\n       [0.38088804, 0.4932334 ],\n       [0.38093433, 0.49468377],\n       [0.36484897, 0.48438194],\n       [0.34998766, 0.4749647 ],\n       [0.37071866, 0.4892286 ],\n       [0.37639737, 0.4929357 ],\n       [0.35325596, 0.4771693 ],\n       [0.36219457, 0.48085365],\n       [0.3756031 , 0.49314034],\n       [0.35071528, 0.47472498],\n       [0.37082824, 0.4859557 ],\n       [0.36861077, 0.48579738],\n       [0.36948252, 0.49034473],\n       [0.37447867, 0.4901915 ],\n       [0.37436897, 0.4950758 ],\n       [0.36517212, 0.48222557],\n       [0.37200296, 0.49275854],\n       [0.3644685 , 0.4851077 ],\n       [0.37754518, 0.49060503],\n       [0.3715191 , 0.4910471 ],\n       [0.35799837, 0.48168534],\n       [0.36360568, 0.48121074],\n       [0.3813444 , 0.49341932],\n       [0.36235648, 0.48227564],\n       [0.37564832, 0.4960136 ],\n       [0.36779532, 0.48429224],\n       [0.37924933, 0.49182394],\n       [0.36919683, 0.48902673],\n       [0.35289666, 0.47804546],\n       [0.36996165, 0.4854831 ],\n       [0.36421353, 0.4818678 ],\n       [0.36758852, 0.48382947],\n       [0.3759955 , 0.48954472],\n       [0.37366724, 0.48793206],\n       [0.36406645, 0.4815011 ],\n       [0.38163412, 0.49400628],\n       [0.3804398 , 0.49483573],\n       [0.37032577, 0.4925153 ],\n       [0.36205178, 0.48381126],\n       [0.3811941 , 0.4933493 ],\n       [0.37213695, 0.48710215],\n       [0.3736294 , 0.488647  ],\n       [0.3564008 , 0.4777718 ],\n       [0.37874857, 0.49146432],\n       [0.35018754, 0.47653046],\n       [0.36290577, 0.4814455 ],\n       [0.361063  , 0.4799117 ],\n       [0.37240428, 0.4870294 ],\n       [0.36660817, 0.48316833],\n       [0.3839164 , 0.49595848],\n       [0.38297924, 0.4958795 ],\n       [0.3649669 , 0.48207697],\n       [0.36536494, 0.4833044 ],\n       [0.38156566, 0.4935675 ],\n       [0.37503424, 0.4894231 ],\n       [0.3800383 , 0.49577618],\n       [0.36201885, 0.48194116],\n       [0.3820913 , 0.49505383],\n       [0.38389552, 0.49584132],\n       [0.38237637, 0.49420732],\n       [0.37852716, 0.49132973],\n       [0.37899438, 0.49246156],\n       [0.38234815, 0.49419725],\n       [0.35676518, 0.47870663],\n       [0.3810181 , 0.49332258],\n       [0.35411108, 0.4766013 ],\n       [0.3674465 , 0.48781186],\n       [0.37791267, 0.49099147],\n       [0.36745217, 0.48397842],\n       [0.37732875, 0.49095246],\n       [0.3815752 , 0.49458998],\n       [0.37150902, 0.48875564],\n       [0.3748298 , 0.49224207],\n       [0.35910216, 0.47908002],\n       [0.38066512, 0.4939379 ],\n       [0.35944593, 0.47864363],\n       [0.35393843, 0.47741395],\n       [0.3637867 , 0.4844058 ],\n       [0.36643457, 0.48309404],\n       [0.37421045, 0.4884695 ]], dtype=float32)>"
     },
     "execution_count": 29,
     "metadata": {},
     "output_type": "execute_result"
    }
   ],
   "source": [
    "a = np.random.random((100, 2))\n",
    "vae.decoder(a)"
   ],
   "metadata": {
    "collapsed": false,
    "pycharm": {
     "name": "#%%\n"
    }
   }
  },
  {
   "cell_type": "markdown",
   "source": [
    "## MNIST"
   ],
   "metadata": {
    "collapsed": false,
    "pycharm": {
     "name": "#%% md\n"
    }
   }
  },
  {
   "cell_type": "code",
   "execution_count": 10,
   "outputs": [],
   "source": [
    "num_classes = 10\n",
    "input_shape = (28, 28, 1)\n",
    "\n",
    "# Load the data and split it between train and test sets\n",
    "(x_train, y_train), (x_test, y_test) = keras.datasets.mnist.load_data()\n",
    "\n",
    "x_train = x_train/255\n",
    "x_train_flat = x_train.reshape(x_train.shape[0], x_train.shape[1]**2)"
   ],
   "metadata": {
    "collapsed": false,
    "pycharm": {
     "name": "#%%\n"
    }
   }
  },
  {
   "cell_type": "code",
   "execution_count": 11,
   "outputs": [
    {
     "data": {
      "text/plain": "1.0"
     },
     "execution_count": 11,
     "metadata": {},
     "output_type": "execute_result"
    }
   ],
   "source": [
    "x_train.max()"
   ],
   "metadata": {
    "collapsed": false,
    "pycharm": {
     "name": "#%%\n"
    }
   }
  },
  {
   "cell_type": "code",
   "execution_count": 14,
   "outputs": [],
   "source": [
    "enc = create_encoder(10, 784, [256, 128])\n",
    "dec = create_decoder(10, 784, [256, 128])\n",
    "\n",
    "vae = VAE(enc, dec, [0]*10, [1]*10, llik_scaling=100, kl_scaling=1)\n",
    "vae.compile(optimizer=tf.keras.optimizers.Adam())"
   ],
   "metadata": {
    "collapsed": false,
    "pycharm": {
     "name": "#%%\n"
    }
   }
  },
  {
   "cell_type": "code",
   "execution_count": 15,
   "outputs": [
    {
     "name": "stdout",
     "output_type": "stream",
     "text": [
      "Epoch 1/20\n"
     ]
    },
    {
     "name": "stderr",
     "output_type": "stream",
     "text": [
      "2022-08-05 17:42:56.687580: I tensorflow/core/grappler/optimizers/custom_graph_optimizer_registry.cc:113] Plugin optimizer for device_type GPU is enabled.\n"
     ]
    },
    {
     "name": "stdout",
     "output_type": "stream",
     "text": [
      "938/938 [==============================] - 10s 10ms/step - loss: 31.9837 - reconstruction_loss: 26.0411 - kl_loss: 1.0561\n",
      "Epoch 2/20\n",
      "938/938 [==============================] - 9s 9ms/step - loss: 24.9714 - reconstruction_loss: 23.2876 - kl_loss: 1.4308\n",
      "Epoch 3/20\n",
      "938/938 [==============================] - 9s 9ms/step - loss: 23.9756 - reconstruction_loss: 21.2906 - kl_loss: 2.4547\n",
      "Epoch 4/20\n",
      "938/938 [==============================] - 9s 9ms/step - loss: 23.2562 - reconstruction_loss: 20.1164 - kl_loss: 3.0498\n",
      "Epoch 5/20\n",
      "938/938 [==============================] - 9s 9ms/step - loss: 22.9598 - reconstruction_loss: 19.5454 - kl_loss: 3.3720\n",
      "Epoch 6/20\n",
      "938/938 [==============================] - 9s 9ms/step - loss: 22.7624 - reconstruction_loss: 19.0245 - kl_loss: 3.6659\n",
      "Epoch 7/20\n",
      "938/938 [==============================] - 9s 9ms/step - loss: 22.5649 - reconstruction_loss: 18.6936 - kl_loss: 3.8337\n",
      "Epoch 8/20\n",
      "938/938 [==============================] - 9s 9ms/step - loss: 22.4186 - reconstruction_loss: 18.4722 - kl_loss: 3.9409\n",
      "Epoch 9/20\n",
      "938/938 [==============================] - 9s 9ms/step - loss: 22.3376 - reconstruction_loss: 18.3122 - kl_loss: 4.0302\n",
      "Epoch 10/20\n",
      "938/938 [==============================] - 9s 10ms/step - loss: 22.2997 - reconstruction_loss: 18.1939 - kl_loss: 4.0877\n",
      "Epoch 11/20\n",
      "938/938 [==============================] - 9s 9ms/step - loss: 22.2137 - reconstruction_loss: 18.0739 - kl_loss: 4.1491\n",
      "Epoch 12/20\n",
      "938/938 [==============================] - 9s 10ms/step - loss: 22.2051 - reconstruction_loss: 17.9805 - kl_loss: 4.2118\n",
      "Epoch 13/20\n",
      "938/938 [==============================] - 9s 10ms/step - loss: 22.1080 - reconstruction_loss: 17.8768 - kl_loss: 4.2556\n",
      "Epoch 14/20\n",
      "938/938 [==============================] - 9s 10ms/step - loss: 22.1148 - reconstruction_loss: 17.7938 - kl_loss: 4.3082\n",
      "Epoch 15/20\n",
      "938/938 [==============================] - 9s 10ms/step - loss: 22.0125 - reconstruction_loss: 17.7183 - kl_loss: 4.3358\n",
      "Epoch 16/20\n",
      "938/938 [==============================] - 9s 10ms/step - loss: 22.0461 - reconstruction_loss: 17.6483 - kl_loss: 4.3859\n",
      "Epoch 17/20\n",
      "938/938 [==============================] - 9s 10ms/step - loss: 22.0104 - reconstruction_loss: 17.5835 - kl_loss: 4.4109\n",
      "Epoch 18/20\n",
      "938/938 [==============================] - 9s 10ms/step - loss: 21.9740 - reconstruction_loss: 17.5377 - kl_loss: 4.4443\n",
      "Epoch 19/20\n",
      "938/938 [==============================] - 9s 10ms/step - loss: 21.9703 - reconstruction_loss: 17.4894 - kl_loss: 4.4689\n",
      "Epoch 20/20\n",
      "938/938 [==============================] - 9s 10ms/step - loss: 21.9365 - reconstruction_loss: 17.4484 - kl_loss: 4.4848\n"
     ]
    },
    {
     "data": {
      "text/plain": "<keras.callbacks.History at 0x2ceee6c10>"
     },
     "execution_count": 15,
     "metadata": {},
     "output_type": "execute_result"
    }
   ],
   "source": [
    "vae.fit(x_train_flat, batch_size=64, epochs=20)"
   ],
   "metadata": {
    "collapsed": false,
    "pycharm": {
     "name": "#%%\n"
    }
   }
  },
  {
   "cell_type": "code",
   "execution_count": 16,
   "outputs": [
    {
     "data": {
      "text/plain": "(60000, 28, 28)"
     },
     "execution_count": 16,
     "metadata": {},
     "output_type": "execute_result"
    }
   ],
   "source": [
    "out = vae(x_train_flat)\n",
    "out = out.numpy().reshape(out.shape[0], 28, 28)\n",
    "out.shape"
   ],
   "metadata": {
    "collapsed": false,
    "pycharm": {
     "name": "#%%\n"
    }
   }
  },
  {
   "cell_type": "code",
   "execution_count": 17,
   "outputs": [
    {
     "data": {
      "text/plain": "<matplotlib.image.AxesImage at 0x29a12e1f0>"
     },
     "execution_count": 17,
     "metadata": {},
     "output_type": "execute_result"
    },
    {
     "data": {
      "text/plain": "<Figure size 432x288 with 1 Axes>",
      "image/png": "[encoded data removed]"
     },
     "metadata": {
      "needs_background": "light"
     },
     "output_type": "display_data"
    }
   ],
   "source": [
    "example = 16\n",
    "plt.imshow(out[example])"
   ],
   "metadata": {
    "collapsed": false,
    "pycharm": {
     "name": "#%%\n"
    }
   }
  },
  {
   "cell_type": "code",
   "execution_count": 18,
   "outputs": [
    {
     "data": {
      "text/plain": "<matplotlib.image.AxesImage at 0x29a1fda60>"
     },
     "execution_count": 18,
     "metadata": {},
     "output_type": "execute_result"
    },
    {
     "data": {
      "text/plain": "<Figure size 432x288 with 1 Axes>",
      "image/png": "[encoded data removed]"
     },
     "metadata": {
      "needs_background": "light"
     },
     "output_type": "display_data"
    }
   ],
   "source": [
    "plt.imshow(x_train[example])"
   ],
   "metadata": {
    "collapsed": false,
    "pycharm": {
     "name": "#%%\n"
    }
   }
  },
  {
   "cell_type": "code",
   "execution_count": 198,
   "outputs": [
    {
     "data": {
      "text/plain": "<matplotlib.image.AxesImage at 0x42b174190>"
     },
     "execution_count": 198,
     "metadata": {},
     "output_type": "execute_result"
    },
    {
     "data": {
      "text/plain": "<Figure size 432x288 with 1 Axes>",
      "image/png": "[encoded data removed]"
     },
     "metadata": {
      "needs_background": "light"
     },
     "output_type": "display_data"
    }
   ],
   "source": [
    "z = np.random.normal([0]*10, scale=[1]*10, size=(1, 10))\n",
    "fake_num = vae.decoder(z).numpy().reshape(28,28)\n",
    "plt.imshow(fake_num)"
   ],
   "metadata": {
    "collapsed": false,
    "pycharm": {
     "name": "#%%\n"
    }
   }
  },
  {
   "cell_type": "code",
   "execution_count": null,
   "outputs": [],
   "source": [],
   "metadata": {
    "collapsed": false,
    "pycharm": {
     "name": "#%%\n"
    }
   }
  }
 ],
 "metadata": {
  "kernelspec": {
   "display_name": "Python 3",
   "language": "python",
   "name": "python3"
  },
  "language_info": {
   "codemirror_mode": {
    "name": "ipython",
    "version": 2
   },
   "file_extension": ".py",
   "mimetype": "text/x-python",
   "name": "python",
   "nbconvert_exporter": "python",
   "pygments_lexer": "ipython2",
   "version": "2.7.6"
  }
 },
 "nbformat": 4,
 "nbformat_minor": 0
}