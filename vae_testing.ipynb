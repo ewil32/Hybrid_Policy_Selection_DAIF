{
 "cells": [
  {
   "cell_type": "markdown",
   "metadata": {
    "collapsed": true,
    "pycharm": {
     "name": "#%% md\n"
    }
   },
   "source": [
    "# Test to see if VAE can produce a good model"
   ]
  },
  {
   "cell_type": "code",
   "execution_count": 1,
   "outputs": [],
   "source": [
    "import tensorflow as tf\n",
    "import tensorflow_probability as tfp\n",
    "import keras\n",
    "from keras import layers\n",
    "import numpy as np\n",
    "import matplotlib.pyplot as plt\n",
    "import gym"
   ],
   "metadata": {
    "collapsed": false,
    "pycharm": {
     "name": "#%%\n"
    }
   }
  },
  {
   "cell_type": "code",
   "execution_count": 2,
   "outputs": [],
   "source": [
    "from vae_recurrent import VAE, create_decoder, create_encoder\n",
    "from util import random_observation_sequence, transform_observations"
   ],
   "metadata": {
    "collapsed": false,
    "pycharm": {
     "name": "#%%\n"
    }
   }
  },
  {
   "cell_type": "code",
   "execution_count": 170,
   "outputs": [
    {
     "data": {
      "text/plain": "array([[0.4443481 , 0.5       ],\n       [0.44363574, 0.49084106],\n       [0.44239965, 0.48410753],\n       ...,\n       [0.35148658, 0.41183006],\n       [0.3439957 , 0.4036885 ],\n       [0.33618928, 0.39963185]])"
     },
     "execution_count": 170,
     "metadata": {},
     "output_type": "execute_result"
    }
   ],
   "source": [
    "env = gym.make('MountainCarContinuous-v0')\n",
    "env.action_space.seed(42)\n",
    "\n",
    "observation_max = np.array([0.6, 0.07])\n",
    "observation_min = np.array([-1.2, -0.07])\n",
    "\n",
    "o, a, r = random_observation_sequence(env, 4096)\n",
    "# o_scaled = transform_observations(o, observation_max, observation_min, [0.05, 0.05])\n",
    "o_scaled = transform_observations(o, observation_max, observation_min, [0, 0])\n",
    "o_scaled"
   ],
   "metadata": {
    "collapsed": false,
    "pycharm": {
     "name": "#%%\n"
    }
   }
  },
  {
   "cell_type": "code",
   "execution_count": 175,
   "outputs": [],
   "source": [
    "enc = create_encoder(2, 2, [20])\n",
    "dec = create_decoder(2, 2, [20])\n",
    "\n",
    "vae = VAE(enc, dec, [0, 0], [0.3, 0.3], llik_scaling=1000000, kl_scaling=1)\n",
    "vae.compile(optimizer=tf.keras.optimizers.Adam())"
   ],
   "metadata": {
    "collapsed": false,
    "pycharm": {
     "name": "#%%\n"
    }
   }
  },
  {
   "cell_type": "code",
   "execution_count": 176,
   "outputs": [
    {
     "name": "stdout",
     "output_type": "stream",
     "text": [
      "Epoch 1/20\n"
     ]
    },
    {
     "name": "stderr",
     "output_type": "stream",
     "text": [
      "2022-08-05 09:35:45.032835: I tensorflow/core/grappler/optimizers/custom_graph_optimizer_registry.cc:113] Plugin optimizer for device_type GPU is enabled.\n"
     ]
    },
    {
     "name": "stdout",
     "output_type": "stream",
     "text": [
      "16/16 [==============================] - 2s 23ms/step - loss: 694563.8272 - reconstruction_loss: 692658.1250 - kl_loss: 7.9593\n",
      "Epoch 2/20\n",
      "16/16 [==============================] - 0s 11ms/step - loss: 687684.4412 - reconstruction_loss: 686989.2500 - kl_loss: 7.0016\n",
      "Epoch 3/20\n",
      "16/16 [==============================] - 0s 9ms/step - loss: 684260.3676 - reconstruction_loss: 684002.2500 - kl_loss: 6.6674\n",
      "Epoch 4/20\n",
      "16/16 [==============================] - 0s 9ms/step - loss: 682220.4265 - reconstruction_loss: 681780.3125 - kl_loss: 6.6413\n",
      "Epoch 5/20\n",
      "16/16 [==============================] - 0s 9ms/step - loss: 680713.6324 - reconstruction_loss: 680649.8125 - kl_loss: 6.6230\n",
      "Epoch 6/20\n",
      "16/16 [==============================] - 0s 9ms/step - loss: 680257.2022 - reconstruction_loss: 679712.7500 - kl_loss: 6.4871\n",
      "Epoch 7/20\n",
      "16/16 [==============================] - 0s 9ms/step - loss: 679668.0110 - reconstruction_loss: 679247.9375 - kl_loss: 6.2259\n",
      "Epoch 8/20\n",
      "16/16 [==============================] - 0s 8ms/step - loss: 678654.4816 - reconstruction_loss: 678907.0000 - kl_loss: 5.8647\n",
      "Epoch 9/20\n",
      "16/16 [==============================] - 0s 9ms/step - loss: 678886.4449 - reconstruction_loss: 678853.7500 - kl_loss: 5.4265\n",
      "Epoch 10/20\n",
      "16/16 [==============================] - 0s 9ms/step - loss: 678388.1360 - reconstruction_loss: 678673.8750 - kl_loss: 5.0135\n",
      "Epoch 11/20\n",
      "16/16 [==============================] - 0s 8ms/step - loss: 678321.9485 - reconstruction_loss: 678352.2500 - kl_loss: 4.7004\n",
      "Epoch 12/20\n",
      "16/16 [==============================] - 0s 8ms/step - loss: 678403.1949 - reconstruction_loss: 678298.3125 - kl_loss: 4.4800\n",
      "Epoch 13/20\n",
      "16/16 [==============================] - 0s 8ms/step - loss: 678295.4743 - reconstruction_loss: 678255.5625 - kl_loss: 4.2618\n",
      "Epoch 14/20\n",
      "16/16 [==============================] - 0s 8ms/step - loss: 678257.7757 - reconstruction_loss: 678211.8750 - kl_loss: 4.0796\n",
      "Epoch 15/20\n",
      "16/16 [==============================] - 0s 8ms/step - loss: 678059.1434 - reconstruction_loss: 678193.3750 - kl_loss: 3.9324\n",
      "Epoch 16/20\n",
      "16/16 [==============================] - 0s 9ms/step - loss: 678038.8860 - reconstruction_loss: 678115.9375 - kl_loss: 3.8101\n",
      "Epoch 17/20\n",
      "16/16 [==============================] - 0s 9ms/step - loss: 678199.3162 - reconstruction_loss: 678066.5000 - kl_loss: 3.7082\n",
      "Epoch 18/20\n",
      "16/16 [==============================] - 0s 8ms/step - loss: 677799.2169 - reconstruction_loss: 678038.6250 - kl_loss: 3.6102\n",
      "Epoch 19/20\n",
      "16/16 [==============================] - 0s 8ms/step - loss: 678044.1691 - reconstruction_loss: 678077.1250 - kl_loss: 3.5260\n",
      "Epoch 20/20\n",
      "16/16 [==============================] - 0s 9ms/step - loss: 678140.5993 - reconstruction_loss: 678089.0000 - kl_loss: 3.4339\n"
     ]
    },
    {
     "data": {
      "text/plain": "<keras.callbacks.History at 0x4344ea520>"
     },
     "execution_count": 176,
     "metadata": {},
     "output_type": "execute_result"
    }
   ],
   "source": [
    "vae.fit(o_scaled, epochs=20, batch_size=64)"
   ],
   "metadata": {
    "collapsed": false,
    "pycharm": {
     "name": "#%%\n"
    }
   }
  },
  {
   "cell_type": "code",
   "execution_count": 173,
   "outputs": [
    {
     "data": {
      "text/plain": "array([[0.4443481 , 0.5       ],\n       [0.44363574, 0.49084106],\n       [0.44239965, 0.48410753],\n       ...,\n       [0.35148658, 0.41183006],\n       [0.3439957 , 0.4036885 ],\n       [0.33618928, 0.39963185]])"
     },
     "execution_count": 173,
     "metadata": {},
     "output_type": "execute_result"
    }
   ],
   "source": [
    "o_scaled"
   ],
   "metadata": {
    "collapsed": false,
    "pycharm": {
     "name": "#%%\n"
    }
   }
  },
  {
   "cell_type": "code",
   "execution_count": 174,
   "outputs": [
    {
     "data": {
      "text/plain": "<tf.Tensor: shape=(1000, 2), dtype=float32, numpy=\narray([[0.30486178, 0.4336493 ],\n       [0.4439383 , 0.54062766],\n       [0.41541928, 0.46143237],\n       ...,\n       [0.47370058, 0.53873515],\n       [0.51931304, 0.53330016],\n       [0.35853595, 0.4369621 ]], dtype=float32)>"
     },
     "execution_count": 174,
     "metadata": {},
     "output_type": "execute_result"
    }
   ],
   "source": [
    "vae(o_scaled)"
   ],
   "metadata": {
    "collapsed": false,
    "pycharm": {
     "name": "#%%\n"
    }
   }
  },
  {
   "cell_type": "code",
   "execution_count": 29,
   "outputs": [
    {
     "data": {
      "text/plain": "<tf.Tensor: shape=(100, 2), dtype=float32, numpy=\narray([[0.37518728, 0.4894246 ],\n       [0.3734936 , 0.48822287],\n       [0.36795327, 0.48412043],\n       [0.3670117 , 0.484143  ],\n       [0.38132215, 0.49441734],\n       [0.3803811 , 0.49602962],\n       [0.37199798, 0.48713404],\n       [0.36572155, 0.4837453 ],\n       [0.36640424, 0.4833987 ],\n       [0.36714956, 0.48486206],\n       [0.37582153, 0.48941264],\n       [0.37596548, 0.49572447],\n       [0.35149646, 0.47657195],\n       [0.3846336 , 0.4961655 ],\n       [0.3614956 , 0.48020732],\n       [0.37209067, 0.48700848],\n       [0.35718486, 0.48053756],\n       [0.36536002, 0.48376405],\n       [0.37735426, 0.49476093],\n       [0.36873078, 0.48457542],\n       [0.38088804, 0.4932334 ],\n       [0.38093433, 0.49468377],\n       [0.36484897, 0.48438194],\n       [0.34998766, 0.4749647 ],\n       [0.37071866, 0.4892286 ],\n       [0.37639737, 0.4929357 ],\n       [0.35325596, 0.4771693 ],\n       [0.36219457, 0.48085365],\n       [0.3756031 , 0.49314034],\n       [0.35071528, 0.47472498],\n       [0.37082824, 0.4859557 ],\n       [0.36861077, 0.48579738],\n       [0.36948252, 0.49034473],\n       [0.37447867, 0.4901915 ],\n       [0.37436897, 0.4950758 ],\n       [0.36517212, 0.48222557],\n       [0.37200296, 0.49275854],\n       [0.3644685 , 0.4851077 ],\n       [0.37754518, 0.49060503],\n       [0.3715191 , 0.4910471 ],\n       [0.35799837, 0.48168534],\n       [0.36360568, 0.48121074],\n       [0.3813444 , 0.49341932],\n       [0.36235648, 0.48227564],\n       [0.37564832, 0.4960136 ],\n       [0.36779532, 0.48429224],\n       [0.37924933, 0.49182394],\n       [0.36919683, 0.48902673],\n       [0.35289666, 0.47804546],\n       [0.36996165, 0.4854831 ],\n       [0.36421353, 0.4818678 ],\n       [0.36758852, 0.48382947],\n       [0.3759955 , 0.48954472],\n       [0.37366724, 0.48793206],\n       [0.36406645, 0.4815011 ],\n       [0.38163412, 0.49400628],\n       [0.3804398 , 0.49483573],\n       [0.37032577, 0.4925153 ],\n       [0.36205178, 0.48381126],\n       [0.3811941 , 0.4933493 ],\n       [0.37213695, 0.48710215],\n       [0.3736294 , 0.488647  ],\n       [0.3564008 , 0.4777718 ],\n       [0.37874857, 0.49146432],\n       [0.35018754, 0.47653046],\n       [0.36290577, 0.4814455 ],\n       [0.361063  , 0.4799117 ],\n       [0.37240428, 0.4870294 ],\n       [0.36660817, 0.48316833],\n       [0.3839164 , 0.49595848],\n       [0.38297924, 0.4958795 ],\n       [0.3649669 , 0.48207697],\n       [0.36536494, 0.4833044 ],\n       [0.38156566, 0.4935675 ],\n       [0.37503424, 0.4894231 ],\n       [0.3800383 , 0.49577618],\n       [0.36201885, 0.48194116],\n       [0.3820913 , 0.49505383],\n       [0.38389552, 0.49584132],\n       [0.38237637, 0.49420732],\n       [0.37852716, 0.49132973],\n       [0.37899438, 0.49246156],\n       [0.38234815, 0.49419725],\n       [0.35676518, 0.47870663],\n       [0.3810181 , 0.49332258],\n       [0.35411108, 0.4766013 ],\n       [0.3674465 , 0.48781186],\n       [0.37791267, 0.49099147],\n       [0.36745217, 0.48397842],\n       [0.37732875, 0.49095246],\n       [0.3815752 , 0.49458998],\n       [0.37150902, 0.48875564],\n       [0.3748298 , 0.49224207],\n       [0.35910216, 0.47908002],\n       [0.38066512, 0.4939379 ],\n       [0.35944593, 0.47864363],\n       [0.35393843, 0.47741395],\n       [0.3637867 , 0.4844058 ],\n       [0.36643457, 0.48309404],\n       [0.37421045, 0.4884695 ]], dtype=float32)>"
     },
     "execution_count": 29,
     "metadata": {},
     "output_type": "execute_result"
    }
   ],
   "source": [
    "a = np.random.random((100, 2))\n",
    "vae.decoder(a)"
   ],
   "metadata": {
    "collapsed": false,
    "pycharm": {
     "name": "#%%\n"
    }
   }
  },
  {
   "cell_type": "markdown",
   "source": [
    "## MNIST"
   ],
   "metadata": {
    "collapsed": false,
    "pycharm": {
     "name": "#%% md\n"
    }
   }
  },
  {
   "cell_type": "code",
   "execution_count": 85,
   "outputs": [],
   "source": [
    "num_classes = 10\n",
    "input_shape = (28, 28, 1)\n",
    "\n",
    "# Load the data and split it between train and test sets\n",
    "(x_train, y_train), (x_test, y_test) = keras.datasets.mnist.load_data()\n",
    "\n",
    "x_train = x_train/255\n",
    "x_train_flat = x_train.reshape(x_train.shape[0], x_train.shape[1]**2)"
   ],
   "metadata": {
    "collapsed": false,
    "pycharm": {
     "name": "#%%\n"
    }
   }
  },
  {
   "cell_type": "code",
   "execution_count": 86,
   "outputs": [
    {
     "data": {
      "text/plain": "1.0"
     },
     "execution_count": 86,
     "metadata": {},
     "output_type": "execute_result"
    }
   ],
   "source": [
    "x_train.max()"
   ],
   "metadata": {
    "collapsed": false,
    "pycharm": {
     "name": "#%%\n"
    }
   }
  },
  {
   "cell_type": "code",
   "execution_count": 208,
   "outputs": [],
   "source": [
    "enc = create_encoder(10, 784, [256, 128])\n",
    "dec = create_decoder(10, 784, [256, 128])\n",
    "\n",
    "vae = VAE(enc, dec, [0]*10, [1]*10, llik_scaling=100, kl_scaling=1)\n",
    "vae.compile(optimizer=tf.keras.optimizers.Adam())"
   ],
   "metadata": {
    "collapsed": false,
    "pycharm": {
     "name": "#%%\n"
    }
   }
  },
  {
   "cell_type": "code",
   "execution_count": 209,
   "outputs": [
    {
     "name": "stdout",
     "output_type": "stream",
     "text": [
      "Epoch 1/20\n"
     ]
    },
    {
     "name": "stderr",
     "output_type": "stream",
     "text": [
      "2022-08-05 09:56:52.973505: I tensorflow/core/grappler/optimizers/custom_graph_optimizer_registry.cc:113] Plugin optimizer for device_type GPU is enabled.\n"
     ]
    },
    {
     "name": "stdout",
     "output_type": "stream",
     "text": [
      "938/938 [==============================] - 10s 9ms/step - loss: 32.0656 - reconstruction_loss: 26.0213 - kl_loss: 1.0857\n",
      "Epoch 2/20\n",
      "938/938 [==============================] - 9s 9ms/step - loss: 24.9682 - reconstruction_loss: 23.2636 - kl_loss: 1.4521\n",
      "Epoch 3/20\n",
      "938/938 [==============================] - 9s 9ms/step - loss: 23.8953 - reconstruction_loss: 21.0532 - kl_loss: 2.5935\n",
      "Epoch 4/20\n",
      "938/938 [==============================] - 9s 9ms/step - loss: 23.2038 - reconstruction_loss: 20.0597 - kl_loss: 3.0766\n",
      "Epoch 5/20\n",
      "938/938 [==============================] - 9s 9ms/step - loss: 22.9454 - reconstruction_loss: 19.5753 - kl_loss: 3.3404\n",
      "Epoch 6/20\n",
      "938/938 [==============================] - 9s 9ms/step - loss: 22.7353 - reconstruction_loss: 19.0522 - kl_loss: 3.6307\n",
      "Epoch 7/20\n",
      "938/938 [==============================] - 9s 9ms/step - loss: 22.5322 - reconstruction_loss: 18.6739 - kl_loss: 3.8276\n",
      "Epoch 8/20\n",
      "938/938 [==============================] - 9s 9ms/step - loss: 22.4113 - reconstruction_loss: 18.3986 - kl_loss: 3.9857\n",
      "Epoch 9/20\n",
      "938/938 [==============================] - 9s 9ms/step - loss: 22.3333 - reconstruction_loss: 18.2331 - kl_loss: 4.0774\n",
      "Epoch 10/20\n",
      "938/938 [==============================] - 9s 9ms/step - loss: 22.2640 - reconstruction_loss: 18.1162 - kl_loss: 4.1302\n",
      "Epoch 11/20\n",
      "938/938 [==============================] - 9s 9ms/step - loss: 22.1843 - reconstruction_loss: 18.0190 - kl_loss: 4.1753\n",
      "Epoch 12/20\n",
      "938/938 [==============================] - 9s 9ms/step - loss: 22.1637 - reconstruction_loss: 17.9345 - kl_loss: 4.2205\n",
      "Epoch 13/20\n",
      "938/938 [==============================] - 9s 9ms/step - loss: 22.1514 - reconstruction_loss: 17.8569 - kl_loss: 4.2781\n",
      "Epoch 14/20\n",
      "938/938 [==============================] - 9s 9ms/step - loss: 22.0646 - reconstruction_loss: 17.8034 - kl_loss: 4.3012\n",
      "Epoch 15/20\n",
      "938/938 [==============================] - 9s 10ms/step - loss: 22.0581 - reconstruction_loss: 17.7415 - kl_loss: 4.3350\n",
      "Epoch 16/20\n",
      "938/938 [==============================] - 9s 10ms/step - loss: 22.0869 - reconstruction_loss: 17.6915 - kl_loss: 4.3702\n",
      "Epoch 17/20\n",
      "938/938 [==============================] - 9s 9ms/step - loss: 22.0477 - reconstruction_loss: 17.6401 - kl_loss: 4.3863\n",
      "Epoch 18/20\n",
      "938/938 [==============================] - 9s 9ms/step - loss: 22.0165 - reconstruction_loss: 17.5843 - kl_loss: 4.4140\n",
      "Epoch 19/20\n",
      "938/938 [==============================] - 9s 9ms/step - loss: 22.0001 - reconstruction_loss: 17.5479 - kl_loss: 4.4302\n",
      "Epoch 20/20\n",
      "938/938 [==============================] - 9s 9ms/step - loss: 21.9624 - reconstruction_loss: 17.5141 - kl_loss: 4.4605\n"
     ]
    },
    {
     "data": {
      "text/plain": "<keras.callbacks.History at 0x31f316d00>"
     },
     "execution_count": 209,
     "metadata": {},
     "output_type": "execute_result"
    }
   ],
   "source": [
    "vae.fit(x_train_flat, batch_size=64, epochs=20)"
   ],
   "metadata": {
    "collapsed": false,
    "pycharm": {
     "name": "#%%\n"
    }
   }
  },
  {
   "cell_type": "code",
   "execution_count": 210,
   "outputs": [
    {
     "data": {
      "text/plain": "(60000, 28, 28)"
     },
     "execution_count": 210,
     "metadata": {},
     "output_type": "execute_result"
    }
   ],
   "source": [
    "out = vae(x_train_flat)\n",
    "out = out.numpy().reshape(out.shape[0], 28, 28)\n",
    "out.shape"
   ],
   "metadata": {
    "collapsed": false,
    "pycharm": {
     "name": "#%%\n"
    }
   }
  },
  {
   "cell_type": "code",
   "execution_count": 221,
   "outputs": [
    {
     "data": {
      "text/plain": "<matplotlib.image.AxesImage at 0x15fe8e610>"
     },
     "execution_count": 221,
     "metadata": {},
     "output_type": "execute_result"
    },
    {
     "data": {
      "text/plain": "<Figure size 432x288 with 1 Axes>",
      "image/png": "[encoded data removed]"
     },
     "metadata": {
      "needs_background": "light"
     },
     "output_type": "display_data"
    }
   ],
   "source": [
    "example = 16\n",
    "plt.imshow(out[example])"
   ],
   "metadata": {
    "collapsed": false,
    "pycharm": {
     "name": "#%%\n"
    }
   }
  },
  {
   "cell_type": "code",
   "execution_count": 222,
   "outputs": [
    {
     "data": {
      "text/plain": "<matplotlib.image.AxesImage at 0x15fedecd0>"
     },
     "execution_count": 222,
     "metadata": {},
     "output_type": "execute_result"
    },
    {
     "data": {
      "text/plain": "<Figure size 432x288 with 1 Axes>",
      "image/png": "[encoded data removed]"
     },
     "metadata": {
      "needs_background": "light"
     },
     "output_type": "display_data"
    }
   ],
   "source": [
    "plt.imshow(x_train[example])"
   ],
   "metadata": {
    "collapsed": false,
    "pycharm": {
     "name": "#%%\n"
    }
   }
  },
  {
   "cell_type": "code",
   "execution_count": 198,
   "outputs": [
    {
     "data": {
      "text/plain": "<matplotlib.image.AxesImage at 0x42b174190>"
     },
     "execution_count": 198,
     "metadata": {},
     "output_type": "execute_result"
    },
    {
     "data": {
      "text/plain": "<Figure size 432x288 with 1 Axes>",
      "image/png": "[encoded data removed]"
     },
     "metadata": {
      "needs_background": "light"
     },
     "output_type": "display_data"
    }
   ],
   "source": [
    "z = np.random.normal([0]*10, scale=[1]*10, size=(1, 10))\n",
    "fake_num = vae.decoder(z).numpy().reshape(28,28)\n",
    "plt.imshow(fake_num)"
   ],
   "metadata": {
    "collapsed": false,
    "pycharm": {
     "name": "#%%\n"
    }
   }
  },
  {
   "cell_type": "code",
   "execution_count": null,
   "outputs": [],
   "source": [],
   "metadata": {
    "collapsed": false,
    "pycharm": {
     "name": "#%%\n"
    }
   }
  }
 ],
 "metadata": {
  "kernelspec": {
   "display_name": "Python 3",
   "language": "python",
   "name": "python3"
  },
  "language_info": {
   "codemirror_mode": {
    "name": "ipython",
    "version": 2
   },
   "file_extension": ".py",
   "mimetype": "text/x-python",
   "name": "python",
   "nbconvert_exporter": "python",
   "pygments_lexer": "ipython2",
   "version": "2.7.6"
  }
 },
 "nbformat": 4,
 "nbformat_minor": 0
}