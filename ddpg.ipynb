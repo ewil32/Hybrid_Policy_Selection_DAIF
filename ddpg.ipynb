{
 "cells": [
  {
   "cell_type": "markdown",
   "metadata": {
    "collapsed": true,
    "pycharm": {
     "name": "#%% md\n"
    }
   },
   "source": [
    "# The Habitual DDPG Network\n",
    "\n",
    "Habitual network\n",
    "\n",
    "Assuming generative model is perfect, then action selected would always be the action that maximises chance of observing prior preferences. Hence habitual network can be trained to output maximally rewarding actions, as these actions are the free energy minimising actions.\n",
    "\n",
    "Also has a nice interpretation as long as the generative models keep training. Eventually the generative model is less sure about old things. Why people eventually revisit old states they were previously certain about.\n",
    "\n",
    "As far as an agent knows, if observations are confirming perfectly to expectations then it has a perfect world model. So why would it change it? It’s only when an uncertain observation comes in that the agent needs to reconsider whether or not it has the best model of the world.\n",
    "\n",
    "\n",
    "I think this network should be performing policy gradient method but instead of minimising the discounted reward sequence it should minimise the discounted external EFE/FEEF component sequence. That way in the end the end the fast and slow thinking methods should be converging as the world model continues to improve\n",
    "\n",
    "\n",
    "What is this network trying to learn?\n",
    "- This network is trying to learn the state action mapping that maximises the probability of being in the preferred states\n",
    "- It is also trying to learn to output actions that minimise the extrinsic part of the EFE/FEEF\n",
    "\n",
    "\n",
    "What does this network take as input?\n",
    "- Current state\n",
    "- Maybe sequence of previous states and actions\n",
    "\n",
    "What should this network output?\n",
    "- The action that leads to the next state that maximally achieves the prior preferences\n",
    "\n",
    "How should this network learn?\n",
    "- It should learn by outputting\n",
    "\n",
    "\n",
    "Okay so new idea! DDPG seems pretty good so far. How about we have the Q function take latent states as input and use the VAEs good latent features as input. Then we'll have\n",
    "- Q(o, a)\n",
    "- p(s|o) and p(o|s)\n",
    "- p(s'|s, a)\n",
    "- V(o) or U(o)\n",
    "\n"
   ]
  },
  {
   "cell_type": "code",
   "execution_count": 1,
   "outputs": [],
   "source": [
    "from util import random_observation_sequence, transform_observations\n",
    "import matplotlib.pyplot as plt\n",
    "import gym\n",
    "\n",
    "from ddpg import *"
   ],
   "metadata": {
    "collapsed": false,
    "pycharm": {
     "name": "#%%\n"
    }
   }
  },
  {
   "cell_type": "code",
   "execution_count": 2,
   "outputs": [],
   "source": [
    "import tensorflow as tf\n",
    "import tensorflow_probability as tfp\n",
    "import keras\n",
    "from keras import layers\n",
    "import numpy as np\n",
    "import matplotlib.pyplot as plt\n",
    "\n",
    "# Hide GPU from visible devices\n",
    "tf.config.set_visible_devices([], 'GPU')"
   ],
   "metadata": {
    "collapsed": false,
    "pycharm": {
     "name": "#%%\n"
    }
   }
  },
  {
   "cell_type": "code",
   "execution_count": 3,
   "outputs": [
    {
     "name": "stdout",
     "output_type": "stream",
     "text": [
      "Size of State Space ->  2\n",
      "Size of Action Space ->  1\n",
      "Max Value of Action ->  1.0\n",
      "Min Value of Action ->  -1.0\n"
     ]
    }
   ],
   "source": [
    "env = gym.make('MountainCarContinuous-v0')\n",
    "\n",
    "num_states = env.observation_space.shape[0]\n",
    "print(\"Size of State Space ->  {}\".format(num_states))\n",
    "num_actions = env.action_space.shape[0]\n",
    "print(\"Size of Action Space ->  {}\".format(num_actions))\n",
    "\n",
    "upper_bound = env.action_space.high[0]\n",
    "lower_bound = env.action_space.low[0]\n",
    "\n",
    "print(\"Max Value of Action ->  {}\".format(upper_bound))\n",
    "print(\"Min Value of Action ->  {}\".format(lower_bound))"
   ],
   "metadata": {
    "collapsed": false,
    "pycharm": {
     "name": "#%%\n"
    }
   }
  },
  {
   "cell_type": "code",
   "execution_count": 4,
   "outputs": [],
   "source": [
    "# class Buffer:\n",
    "#     def __init__(self,\n",
    "#                  buffer_capacity=100000,\n",
    "#                  batch_size=64,\n",
    "#                  gamma=0.99,\n",
    "#                  observation_dim=2,\n",
    "#                  action_dim=1,\n",
    "#                  critic_optimizer=\"adam\",\n",
    "#                  actor_optimizer=\"adam\"):\n",
    "#\n",
    "#         # Number of \"experiences\" to store at max\n",
    "#         self.buffer_capacity = buffer_capacity\n",
    "#         # Num of tuples to train on.\n",
    "#         self.batch_size = batch_size\n",
    "#\n",
    "#         # Its tells us num of times record() was called.\n",
    "#         self.buffer_counter = 0\n",
    "#\n",
    "#         # Instead of list of tuples as the exp.replay concept go\n",
    "#         # We use different np.arrays for each tuple element\n",
    "#         self.state_buffer = np.zeros((self.buffer_capacity, observation_dim))\n",
    "#         self.action_buffer = np.zeros((self.buffer_capacity, action_dim))\n",
    "#         self.reward_buffer = np.zeros((self.buffer_capacity, 1))\n",
    "#         self.next_state_buffer = np.zeros((self.buffer_capacity, observation_dim))\n",
    "#\n",
    "#         self.gamma = gamma\n",
    "#\n",
    "#         self.critic_optimizer = critic_optimizer\n",
    "#         self.actor_optimizer = actor_optimizer\n",
    "#\n",
    "#     # Takes (s,a,r,s') obervation tuple as input\n",
    "#     def record(self, obs_tuple):\n",
    "#         # Set index to zero if buffer_capacity is exceeded,\n",
    "#         # replacing old records\n",
    "#         index = self.buffer_counter % self.buffer_capacity\n",
    "#\n",
    "#         self.state_buffer[index] = obs_tuple[0]\n",
    "#         self.action_buffer[index] = obs_tuple[1]\n",
    "#         self.reward_buffer[index] = obs_tuple[2]\n",
    "#         self.next_state_buffer[index] = obs_tuple[3]\n",
    "#\n",
    "#         self.buffer_counter += 1\n",
    "#\n",
    "#     # clears the buffer\n",
    "#     def clear(self):\n",
    "#         self.state_buffer= []\n",
    "#         self.action_buffer = []\n",
    "#         self.reward_buffer = []\n",
    "#         self.next_state_buffer = []\n",
    "#\n",
    "#     # Eager execution is turned on by default in TensorFlow 2. Decorating with tf.function allows\n",
    "#     # TensorFlow to build a static graph out of the logic and computations in our function.\n",
    "#     # This provides a large speed up for blocks of code that contain many small TensorFlow operations such as this one.\n",
    "#     @tf.function\n",
    "#     def update(\n",
    "#             self, state_batch, action_batch, reward_batch, next_state_batch,\n",
    "#     ):\n",
    "#         # Training and updating Actor & Critic networks.\n",
    "#         # See Pseudo Code.\n",
    "#         with tf.GradientTape() as tape:\n",
    "#             target_actions = target_actor(next_state_batch, training=True)\n",
    "#             y = reward_batch + self.gamma * target_critic(\n",
    "#                 [next_state_batch, target_actions], training=True\n",
    "#             )\n",
    "#             critic_value = critic_model([state_batch, action_batch], training=True)\n",
    "#             critic_loss = tf.math.reduce_mean(tf.math.square(y - critic_value))\n",
    "#\n",
    "#         critic_grad = tape.gradient(critic_loss, critic_model.trainable_variables)\n",
    "#         self.critic_optimizer.apply_gradients(\n",
    "#             zip(critic_grad, critic_model.trainable_variables)\n",
    "#         )\n",
    "#\n",
    "#         with tf.GradientTape() as tape:\n",
    "#             actions = actor_model(state_batch, training=True)\n",
    "#             critic_value = critic_model([state_batch, actions], training=True)\n",
    "#             # Used `-value` as we want to maximize the value given\n",
    "#             # by the critic for our actions\n",
    "#             actor_loss = -tf.math.reduce_mean(critic_value)\n",
    "#\n",
    "#         actor_grad = tape.gradient(actor_loss, actor_model.trainable_variables)\n",
    "#         self.actor_optimizer.apply_gradients(\n",
    "#             zip(actor_grad, actor_model.trainable_variables)\n",
    "#         )\n",
    "#\n",
    "#     # We compute the loss and update parameters\n",
    "#     def learn(self):\n",
    "#         # Get sampling range\n",
    "#         record_range = min(self.buffer_counter, self.buffer_capacity)\n",
    "#         # Randomly sample indices\n",
    "#         batch_indices = np.random.choice(record_range, self.batch_size)\n",
    "#\n",
    "#         # Convert to tensors\n",
    "#         state_batch = tf.convert_to_tensor(self.state_buffer[batch_indices])\n",
    "#         action_batch = tf.convert_to_tensor(self.action_buffer[batch_indices])\n",
    "#         reward_batch = tf.convert_to_tensor(self.reward_buffer[batch_indices])\n",
    "#         reward_batch = tf.cast(reward_batch, dtype=tf.float32)\n",
    "#         next_state_batch = tf.convert_to_tensor(self.next_state_buffer[batch_indices])\n",
    "#\n",
    "#         self.update(state_batch, action_batch, reward_batch, next_state_batch)\n"
   ],
   "metadata": {
    "collapsed": false,
    "pycharm": {
     "name": "#%%\n"
    }
   }
  },
  {
   "cell_type": "code",
   "execution_count": 5,
   "outputs": [],
   "source": [
    "# def get_actor(observation_dim, action_max):\n",
    "#     # Initialize weights between -3e-3 and 3-e3\n",
    "#     last_init = tf.random_uniform_initializer(minval=-0.003, maxval=0.003)\n",
    "#\n",
    "#     inputs = layers.Input(shape=(observation_dim,))\n",
    "#     out = layers.Dense(16, activation=\"relu\")(inputs)\n",
    "#     out = layers.Dense(32, activation=\"relu\")(out)\n",
    "#     out = layers.Dense(16, activation=\"relu\")(out)\n",
    "#     outputs = layers.Dense(1, activation=\"tanh\", kernel_initializer=last_init)(out)\n",
    "#\n",
    "#     # Our upper bound is 2.0 for Pendulum.\n",
    "#     outputs = outputs * action_max\n",
    "#     model = tf.keras.Model(inputs, outputs)\n",
    "#     return model\n",
    "#\n",
    "#\n",
    "# def get_critic(observation_dim, action_dim):\n",
    "#     # State as input\n",
    "#     state_input = layers.Input(shape=(observation_dim, ))\n",
    "#     state_out = layers.Dense(16, activation=\"relu\")(state_input)\n",
    "#     state_out = layers.Dense(32, activation=\"relu\")(state_out)\n",
    "#\n",
    "#     # Action as input\n",
    "#     action_input = layers.Input(shape=action_dim)\n",
    "#     action_out = layers.Dense(32, activation=\"relu\")(action_input)\n",
    "#\n",
    "#     # Both are passed through seperate layer before concatenating\n",
    "#     concat = layers.Concatenate()([state_out, action_out])\n",
    "#\n",
    "#     # was 256\n",
    "#     out = layers.Dense(128, activation=\"relu\")(concat)\n",
    "#     out = layers.Dense(128, activation=\"relu\")(out)\n",
    "#     outputs = layers.Dense(1)(out)\n",
    "#\n",
    "#     # Outputs single value for give state-action\n",
    "#     model = tf.keras.Model([state_input, action_input], outputs)\n",
    "#\n",
    "#     return model"
   ],
   "metadata": {
    "collapsed": false,
    "pycharm": {
     "name": "#%%\n"
    }
   }
  },
  {
   "cell_type": "code",
   "execution_count": 6,
   "outputs": [],
   "source": [
    "# class BasicDDPG:\n",
    "#\n",
    "#     def __init__(self, actor, critic, target_actor, target_critic, tau,\n",
    "#                  buffer_capacity=100000,\n",
    "#                  batch_size=64,\n",
    "#                  gamma=0.99,\n",
    "#                  observation_dim=2,\n",
    "#                  action_dim=1,\n",
    "#                  critic_optimizer=\"adam\",\n",
    "#                  actor_optimizer=\"adam\"):\n",
    "#\n",
    "#         self.actor_model = actor\n",
    "#         self.critic_model = critic\n",
    "#\n",
    "#         self.target_actor = target_actor\n",
    "#         self.target_critic = target_critic\n",
    "#\n",
    "#         # self.buffer = buffer\n",
    "#         self.tau = tau\n",
    "#\n",
    "#         # BUFFER\n",
    "#\n",
    "#         # Number of \"experiences\" to store at max\n",
    "#         self.buffer_capacity = buffer_capacity\n",
    "#         # Num of tuples to train on.\n",
    "#         self.batch_size = batch_size\n",
    "#\n",
    "#         # Its tells us num of times record() was called.\n",
    "#         self.buffer_counter = 0\n",
    "#\n",
    "#         # Instead of list of tuples as the exp.replay concept go\n",
    "#         # We use different np.arrays for each tuple element\n",
    "#         self.state_buffer = np.zeros((self.buffer_capacity, observation_dim))\n",
    "#         self.action_buffer = np.zeros((self.buffer_capacity, action_dim))\n",
    "#         self.reward_buffer = np.zeros((self.buffer_capacity, 1))\n",
    "#         self.next_state_buffer = np.zeros((self.buffer_capacity, observation_dim))\n",
    "#\n",
    "#         self.gamma = gamma\n",
    "#\n",
    "#         self.critic_optimizer = critic_optimizer\n",
    "#         self.actor_optimizer = actor_optimizer\n",
    "#\n",
    "#     def update_actor_target(self):\n",
    "#         update_target(self.target_actor.variables, self.actor_model.variables, self.tau)\n",
    "#\n",
    "#     def update_critic_target(self):\n",
    "#         update_target(self.target_critic.variables, self.critic_model.variables, self.tau)\n",
    "#\n",
    "#     # Takes (s,a,r,s') obervation tuple as input\n",
    "#     def record(self, obs_tuple):\n",
    "#         # Set index to zero if buffer_capacity is exceeded,\n",
    "#         # replacing old records\n",
    "#         index = self.buffer_counter % self.buffer_capacity\n",
    "#\n",
    "#         self.state_buffer[index] = obs_tuple[0]\n",
    "#         self.action_buffer[index] = obs_tuple[1]\n",
    "#         self.reward_buffer[index] = obs_tuple[2]\n",
    "#         self.next_state_buffer[index] = obs_tuple[3]\n",
    "#\n",
    "#         self.buffer_counter += 1\n",
    "#\n",
    "#     # clears the buffer\n",
    "#     def clear(self):\n",
    "#         self.state_buffer= []\n",
    "#         self.action_buffer = []\n",
    "#         self.reward_buffer = []\n",
    "#         self.next_state_buffer = []\n",
    "#\n",
    "#     # Eager execution is turned on by default in TensorFlow 2. Decorating with tf.function allows\n",
    "#     # TensorFlow to build a static graph out of the logic and computations in our function.\n",
    "#     # This provides a large speed up for blocks of code that contain many small TensorFlow operations such as this one.\n",
    "#     @tf.function\n",
    "#     def update(\n",
    "#             self, state_batch, action_batch, reward_batch, next_state_batch,\n",
    "#     ):\n",
    "#         # Training and updating Actor & Critic networks.\n",
    "#         # See Pseudo Code.\n",
    "#         with tf.GradientTape() as tape:\n",
    "#             target_actions = self.target_actor(next_state_batch, training=True)\n",
    "#             y = reward_batch + self.gamma * self.target_critic(\n",
    "#                 [next_state_batch, target_actions], training=True\n",
    "#             )\n",
    "#             critic_value = self.critic_model([state_batch, action_batch], training=True)\n",
    "#             critic_loss = tf.math.reduce_mean(tf.math.square(y - critic_value))\n",
    "#\n",
    "#         critic_grad = tape.gradient(critic_loss, self.critic_model.trainable_variables)\n",
    "#         self.critic_optimizer.apply_gradients(\n",
    "#             zip(critic_grad, self.critic_model.trainable_variables)\n",
    "#         )\n",
    "#\n",
    "#         with tf.GradientTape() as tape:\n",
    "#             actions = self.actor_model(state_batch, training=True)\n",
    "#             critic_value = self.critic_model([state_batch, actions], training=True)\n",
    "#             # Used `-value` as we want to maximize the value given\n",
    "#             # by the critic for our actions\n",
    "#             actor_loss = -tf.math.reduce_mean(critic_value)\n",
    "#\n",
    "#         actor_grad = tape.gradient(actor_loss, self.actor_model.trainable_variables)\n",
    "#         self.actor_optimizer.apply_gradients(\n",
    "#             zip(actor_grad, self.actor_model.trainable_variables)\n",
    "#         )\n",
    "#\n",
    "#     # We compute the loss and update parameters\n",
    "#     def learn(self):\n",
    "#         # Get sampling range\n",
    "#         record_range = min(self.buffer_counter, self.buffer_capacity)\n",
    "#         # Randomly sample indices\n",
    "#         batch_indices = np.random.choice(record_range, self.batch_size)\n",
    "#\n",
    "#         # Convert to tensors\n",
    "#         state_batch = tf.convert_to_tensor(self.state_buffer[batch_indices])\n",
    "#         action_batch = tf.convert_to_tensor(self.action_buffer[batch_indices])\n",
    "#         reward_batch = tf.convert_to_tensor(self.reward_buffer[batch_indices])\n",
    "#         reward_batch = tf.cast(reward_batch, dtype=tf.float32)\n",
    "#         next_state_batch = tf.convert_to_tensor(self.next_state_buffer[batch_indices])\n",
    "#\n",
    "#         self.update(state_batch, action_batch, reward_batch, next_state_batch)\n",
    "#\n",
    "#     def train(self):\n",
    "#         self.learn()\n",
    "#         self.update_actor_target()\n",
    "#         self.update_critic_target()\n",
    "#\n",
    "#\n",
    "# # This update target parameters slowly\n",
    "# # Based on rate `tau`, which is much less than one.\n",
    "# @tf.function\n",
    "# def update_target(target_weights, weights, tau):\n",
    "#     for (a, b) in zip(target_weights, weights):\n",
    "#         a.assign(b * tau + a * (1 - tau))"
   ],
   "metadata": {
    "collapsed": false,
    "pycharm": {
     "name": "#%%\n"
    }
   }
  },
  {
   "cell_type": "code",
   "execution_count": 7,
   "outputs": [],
   "source": [
    "actor_model = get_actor(2, 1)\n",
    "critic_model = get_critic(2, 1)\n",
    "\n",
    "target_actor = get_actor(2, 1)\n",
    "target_critic = get_critic(2, 1)\n",
    "\n",
    "# Making the weights equal initially\n",
    "target_actor.set_weights(actor_model.get_weights())\n",
    "target_critic.set_weights(critic_model.get_weights())\n",
    "\n",
    "# Learning rate for actor-critic models\n",
    "critic_lr = 0.0001\n",
    "actor_lr = 0.00005\n",
    "\n",
    "critic_optimizer = tf.keras.optimizers.Adam(critic_lr)\n",
    "actor_optimizer = tf.keras.optimizers.Adam(actor_lr)\n",
    "\n",
    "total_episodes = 100\n",
    "# Discount factor for future rewards\n",
    "gamma = 0.99\n",
    "# Used to update target networks\n",
    "tau = 0.005\n",
    "\n",
    "# buffer = Buffer(50000, 64, 0.99, 2, 1, critic_optimizer, actor_optimizer)\n",
    "\n",
    "ddpg = BasicDDPG(actor_model, critic_model, target_actor, target_critic, tau, critic_optimizer=critic_optimizer, actor_optimizer=actor_optimizer)"
   ],
   "metadata": {
    "collapsed": false,
    "pycharm": {
     "name": "#%%\n"
    }
   }
  },
  {
   "cell_type": "code",
   "execution_count": 8,
   "outputs": [
    {
     "name": "stderr",
     "output_type": "stream",
     "text": [
      "2022-09-06 21:52:17.536133: W tensorflow/core/platform/profile_utils/cpu_utils.cc:128] Failed to get CPU frequency: 0 Hz\n"
     ]
    },
    {
     "name": "stdout",
     "output_type": "stream",
     "text": [
      "-33.424322627462075\n",
      "0.06587567 0.014397912\n",
      "-35.35045031681202\n",
      "0.051338397 0.022356827\n",
      "72.27156689120763\n",
      "0.07101009 0.017263131\n",
      "-32.70369907036973\n",
      "0.6897657 -0.024086904\n",
      "90.77576154085813\n",
      "0.2173323 -0.031274978\n",
      "85.04573819991703\n",
      "0.963663 -0.0074115032\n",
      "74.0665016351666\n",
      "0.9999845 -0.085101694\n",
      "-32.47587974133253\n",
      "0.9999813 -0.14758924\n",
      "-28.873203949061825\n",
      "0.99999917 -0.15841354\n",
      "88.82792863606231\n",
      "1.0 -0.13598327\n",
      "-30.032951099197184\n",
      "0.99999976 -0.17659165\n",
      "87.90769479308469\n",
      "0.9999994 -0.2000603\n",
      "-32.16579916405158\n",
      "1.0 -0.35338718\n",
      "-35.31154210149196\n",
      "0.99999976 -0.35647464\n",
      "-31.158652382460517\n",
      "1.0 0.99999976\n",
      "77.2398679400852\n",
      "1.0 -0.3716555\n",
      "80.49772082162337\n",
      "1.0 -0.38257816\n",
      "-33.38279204495365\n",
      "1.0 -0.41619313\n",
      "86.00887659693429\n",
      "1.0 -0.4270042\n",
      "81.26184905768638\n",
      "1.0 -0.4468089\n",
      "78.30079055965817\n",
      "1.0 -0.41408217\n",
      "78.45110869198396\n",
      "1.0 -0.3927032\n",
      "84.58975929648372\n",
      "0.99999976 -0.420844\n",
      "75.01979424038088\n",
      "1.0 -0.38102672\n",
      "89.728579082291\n",
      "0.99999976 -0.28652906\n",
      "-32.68142277430651\n",
      "1.0 -0.43215403\n",
      "81.58584703213596\n",
      "1.0 -0.3459804\n",
      "-32.2742940924572\n",
      "0.99999976 -0.40663308\n",
      "80.97189163037902\n",
      "0.99999934 -0.47327358\n",
      "-32.13134167703842\n",
      "0.99999976 -0.84295535\n",
      "74.87787482728933\n",
      "0.99999976 -0.9351387\n",
      "86.0180487540367\n",
      "1.0 -0.9296269\n",
      "87.83573259246995\n",
      "0.99999976 -0.978566\n",
      "87.27840533192783\n",
      "1.0 -0.9877689\n",
      "74.01810377154543\n",
      "1.0 -0.99410117\n",
      "-27.943393389303377\n",
      "1.0 -0.9976636\n",
      "-33.97530705803488\n",
      "1.0 -0.998461\n",
      "82.8511885504449\n",
      "1.0 -0.999056\n",
      "78.53508077051438\n",
      "0.99999976 -0.9987094\n",
      "-35.60183150069747\n",
      "1.0 -0.9990527\n",
      "66.71873662804191\n",
      "1.0 -0.999787\n",
      "92.2463193797939\n",
      "1.0 -0.9997788\n",
      "83.22541879307383\n",
      "1.0 -0.9994128\n",
      "77.37521847096586\n",
      "0.99999976 -0.9995921\n",
      "-28.286333850768788\n",
      "1.0 -0.9999467\n",
      "-34.045877224544434\n",
      "1.0 -0.9999655\n",
      "-37.97938884779438\n",
      "0.8848054 -0.9999842\n",
      "80.97970755368007\n",
      "1.0 -0.9999242\n",
      "79.63487077922306\n",
      "0.99999976 -0.9999204\n",
      "84.28786386519087\n",
      "0.99999976 -0.99998057\n"
     ]
    }
   ],
   "source": [
    "t_max = 1000\n",
    "num_episodes = 50\n",
    "\n",
    "min_reward_cutoff = -1000\n",
    "min_reward_set = -0.5\n",
    "\n",
    "reward_increase = 0\n",
    "\n",
    "observation_max = np.array([0.6, 0.07])\n",
    "observation_min = np.array([-1.2, -0.07])\n",
    "\n",
    "for i in range(num_episodes):\n",
    "\n",
    "    all_observations = []\n",
    "    actions = []\n",
    "    rewards = []\n",
    "\n",
    "    total_reward = 0\n",
    "\n",
    "    o, a, r = random_observation_sequence(env, t_max, epsilon=0.2)\n",
    "    o = transform_observations(o, observation_max, observation_min, [0, 0])\n",
    "\n",
    "\n",
    "    for i in range(len(a)):\n",
    "\n",
    "        prev_state = o[i]\n",
    "        state = o[i+1]\n",
    "        action = a[i]\n",
    "        reward = r[i] + reward_increase\n",
    "\n",
    "        # if reward < 0:\n",
    "        #     print(\"yes\")\n",
    "\n",
    "        total_reward += reward\n",
    "\n",
    "        # ddpg.buffer.record((prev_state, action, reward, state))\n",
    "        # # episodic_reward += reward\n",
    "        #\n",
    "        # ddpg.buffer.learn()\n",
    "\n",
    "        ddpg.record((prev_state, action, reward, state))\n",
    "        # episodic_reward += reward\n",
    "\n",
    "        ddpg.train()\n",
    "\n",
    "        # ddpg.learn()\n",
    "        #\n",
    "        # ddpg.update_actor_target()\n",
    "        # ddpg.update_critic_target()\n",
    "\n",
    "        # buffer.record((prev_state, action, reward, state))\n",
    "        # # episodic_reward += reward\n",
    "        # #\n",
    "        # buffer.learn()\n",
    "        # update_target(target_actor.variables, actor_model.variables, tau)\n",
    "        # update_target(target_critic.variables, critic_model.variables, tau)\n",
    "\n",
    "    print(total_reward)\n",
    "\n",
    "    acts = ddpg.actor_model((np.random.random(size=(10, 2))*2 - 1))\n",
    "    print(np.max(acts), np.min(acts))\n"
   ],
   "metadata": {
    "collapsed": false,
    "pycharm": {
     "name": "#%%\n"
    }
   }
  },
  {
   "cell_type": "code",
   "execution_count": 9,
   "outputs": [
    {
     "data": {
      "text/plain": "<tf.Tensor: shape=(10, 1), dtype=float32, numpy=\narray([[5626.16  ],\n       [1278.3018],\n       [2108.9463],\n       [1838.2856],\n       [1254.0297],\n       [1424.8224],\n       [1419.4712],\n       [1090.5853],\n       [4454.496 ],\n       [8095.8843]], dtype=float32)>"
     },
     "execution_count": 9,
     "metadata": {},
     "output_type": "execute_result"
    }
   ],
   "source": [
    "ddpg.critic_model([(np.random.random(size=(10, 2))*2 - 1), (np.random.random(size=(10, 1))*2 - 1)])"
   ],
   "metadata": {
    "collapsed": false,
    "pycharm": {
     "name": "#%%\n"
    }
   }
  },
  {
   "cell_type": "code",
   "execution_count": 10,
   "outputs": [
    {
     "data": {
      "text/plain": "<tf.Tensor: shape=(10, 1), dtype=float32, numpy=\narray([[-0.9993459 ],\n       [-0.99995506],\n       [ 0.99999976],\n       [ 0.99999976],\n       [ 0.99999976],\n       [ 0.99999976],\n       [-0.9428255 ],\n       [ 0.99999976],\n       [ 1.        ],\n       [-0.99981874]], dtype=float32)>"
     },
     "execution_count": 10,
     "metadata": {},
     "output_type": "execute_result"
    }
   ],
   "source": [
    "ddpg.actor_model((np.random.random(size=(10, 2))*2 - 1))"
   ],
   "metadata": {
    "collapsed": false,
    "pycharm": {
     "name": "#%%\n"
    }
   }
  },
  {
   "cell_type": "code",
   "execution_count": 11,
   "outputs": [
    {
     "data": {
      "text/plain": "[<matplotlib.lines.Line2D at 0x16b2c01c0>,\n <matplotlib.lines.Line2D at 0x16b2c0280>]"
     },
     "execution_count": 11,
     "metadata": {},
     "output_type": "execute_result"
    },
    {
     "data": {
      "text/plain": "<Figure size 432x288 with 1 Axes>",
      "image/png": "[encoded data removed]"
     },
     "metadata": {
      "needs_background": "light"
     },
     "output_type": "display_data"
    }
   ],
   "source": [
    "obs_pos = np.vstack([np.linspace(-1, 1, 100), np.zeros(100)]).T\n",
    "actions_pred = ddpg.actor_model(obs_pos)\n",
    "\n",
    "actions_pred\n",
    "\n",
    "\n",
    "plt.plot(obs_pos, actions_pred)"
   ],
   "metadata": {
    "collapsed": false,
    "pycharm": {
     "name": "#%%\n"
    }
   }
  },
  {
   "cell_type": "code",
   "execution_count": 12,
   "outputs": [
    {
     "name": "stdout",
     "output_type": "stream",
     "text": [
      "tf.Tensor(\n",
      "[[-0.9999821 ]\n",
      " [-0.99998087]\n",
      " [-0.9999791 ]\n",
      " [-0.99997747]\n",
      " [-0.9999757 ]\n",
      " [-0.9999737 ]\n",
      " [-0.9999715 ]\n",
      " [-0.99996924]\n",
      " [-0.99996674]\n",
      " [-0.9999642 ]\n",
      " [-0.9999611 ]\n",
      " [-0.99995804]\n",
      " [-0.9999546 ]\n",
      " [-0.99995077]\n",
      " [-0.99994683]\n",
      " [-0.99994254]\n",
      " [-0.9999379 ]\n",
      " [-0.99993277]\n",
      " [-0.9999274 ]\n",
      " [-0.99992144]\n",
      " [-0.9999152 ]\n",
      " [-0.99990815]\n",
      " [-0.99990064]\n",
      " [-0.9998926 ]\n",
      " [-0.99988383]\n",
      " [-0.99987435]\n",
      " [-0.9998642 ]\n",
      " [-0.99985343]\n",
      " [-0.99984163]\n",
      " [-0.9998289 ]\n",
      " [-0.999815  ]\n",
      " [-0.9997995 ]\n",
      " [-0.99978274]\n",
      " [-0.99976444]\n",
      " [-0.9997448 ]\n",
      " [-0.999724  ]\n",
      " [-0.9997021 ]\n",
      " [-0.99967486]\n",
      " [-0.9996449 ]\n",
      " [-0.99961585]\n",
      " [-0.99958503]\n",
      " [-0.9995521 ]\n",
      " [-0.9995174 ]\n",
      " [-0.99947995]\n",
      " [-0.99944746]\n",
      " [-0.99941444]\n",
      " [-0.9993793 ]\n",
      " [-0.9993373 ]\n",
      " [-0.99929243]\n",
      " [-0.99924445]\n",
      " [-0.99919343]\n",
      " [-0.9991352 ]\n",
      " [-0.9990668 ]\n",
      " [-0.99896604]\n",
      " [-0.9988227 ]\n",
      " [-0.9986512 ]\n",
      " [-0.99841416]\n",
      " [-0.9979071 ]\n",
      " [-0.9787494 ]\n",
      " [-0.40187365]\n",
      " [ 0.88991016]\n",
      " [ 0.9971087 ]\n",
      " [ 0.9999282 ]\n",
      " [ 0.99999833]\n",
      " [ 0.99999976]\n",
      " [ 0.99999976]\n",
      " [ 0.99999976]\n",
      " [ 0.99999976]\n",
      " [ 0.99999976]\n",
      " [ 0.99999976]\n",
      " [ 0.99999976]\n",
      " [ 0.99999976]\n",
      " [ 0.99999976]\n",
      " [ 0.99999976]\n",
      " [ 0.99999976]\n",
      " [ 0.99999976]\n",
      " [ 0.99999976]\n",
      " [ 0.99999976]\n",
      " [ 0.99999976]\n",
      " [ 0.99999976]\n",
      " [ 0.99999976]\n",
      " [ 0.99999976]\n",
      " [ 0.99999976]\n",
      " [ 0.99999976]\n",
      " [ 0.99999976]\n",
      " [ 0.99999976]\n",
      " [ 0.99999976]\n",
      " [ 0.99999976]\n",
      " [ 0.99999976]\n",
      " [ 0.99999976]\n",
      " [ 0.99999976]\n",
      " [ 0.99999976]\n",
      " [ 0.99999976]\n",
      " [ 0.99999976]\n",
      " [ 0.99999976]\n",
      " [ 0.99999976]\n",
      " [ 0.99999976]\n",
      " [ 0.99999976]\n",
      " [ 0.99999976]\n",
      " [ 0.99999976]], shape=(100, 1), dtype=float32)\n"
     ]
    },
    {
     "data": {
      "text/plain": "[<matplotlib.lines.Line2D at 0x16b3bb670>,\n <matplotlib.lines.Line2D at 0x16b3bb790>]"
     },
     "execution_count": 12,
     "metadata": {},
     "output_type": "execute_result"
    },
    {
     "data": {
      "text/plain": "<Figure size 432x288 with 1 Axes>",
      "image/png": "[encoded data removed]"
     },
     "metadata": {
      "needs_background": "light"
     },
     "output_type": "display_data"
    }
   ],
   "source": [
    "vel_pos = np.vstack([np.zeros(100), np.linspace(-1, 1, 100)]).T\n",
    "actions_pred = ddpg.actor_model(vel_pos)\n",
    "print(actions_pred)\n",
    "\n",
    "plt.plot(obs_pos, actions_pred)"
   ],
   "metadata": {
    "collapsed": false,
    "pycharm": {
     "name": "#%%\n"
    }
   }
  },
  {
   "cell_type": "markdown",
   "source": [
    "## Can it solve the environment?"
   ],
   "metadata": {
    "collapsed": false
   }
  },
  {
   "cell_type": "code",
   "execution_count": 47,
   "outputs": [
    {
     "name": "stdout",
     "output_type": "stream",
     "text": [
      "67\n",
      "success\n",
      "93.4595678463096\n",
      "67\n",
      "success\n",
      "93.45142535320213\n",
      "66\n",
      "success\n",
      "93.52785287271396\n",
      "68\n",
      "success\n",
      "93.39642693701599\n",
      "68\n",
      "success\n",
      "93.402857427759\n",
      "66\n",
      "success\n",
      "93.5422590178614\n",
      "67\n",
      "success\n",
      "93.44712708842327\n",
      "67\n",
      "success\n",
      "93.45972519340326\n"
     ]
    },
    {
     "name": "stderr",
     "output_type": "stream",
     "text": [
      "\n",
      "KeyboardInterrupt\n",
      "\n"
     ]
    }
   ],
   "source": [
    "num_episodes = 10\n",
    "\n",
    "observation_max = np.array([0.6, 0.07])\n",
    "observation_min = np.array([-1.2, -0.07])\n",
    "\n",
    "# obs_stddev = [0.05, 0.05]\n",
    "obs_stddev = [0, 0]\n",
    "\n",
    "\n",
    "t_max = 1000\n",
    "\n",
    "for i in range(num_episodes):\n",
    "\n",
    "    env = gym.make('MountainCarContinuous-v0')\n",
    "\n",
    "    obs = env.reset()\n",
    "\n",
    "    done = False\n",
    "    rewards = []\n",
    "\n",
    "    t = 0\n",
    "    while not done:\n",
    "\n",
    "        env.render()\n",
    "\n",
    "        obs = obs.reshape(1, obs.shape[0])\n",
    "        obs = transform_observations(obs, observation_max, observation_min, obs_stddev)\n",
    "\n",
    "        # print(obs)\n",
    "\n",
    "        # action = act_net(obs) * 10\n",
    "        # action = np.clip(action.numpy(), -1, 1)\n",
    "\n",
    "        action = ddpg.actor_model(obs)\n",
    "        action = action.numpy()\n",
    "\n",
    "        obs, reward, done, info = env.step(action)\n",
    "\n",
    "        # print(obs)\n",
    "\n",
    "        rewards.append(reward)\n",
    "\n",
    "        t += 1\n",
    "\n",
    "        if t == t_max:\n",
    "            done = True\n",
    "\n",
    "    print(t)\n",
    "    if t < t_max:\n",
    "        print(\"success\")\n",
    "    else:\n",
    "        print(\"Failure\")\n",
    "        print(\"max obs\", obs)\n",
    "\n",
    "    print(np.sum(rewards))\n",
    "    # print(rewards)\n",
    "\n",
    "\n",
    "\n",
    "\n",
    "env.close()"
   ],
   "metadata": {
    "collapsed": false,
    "pycharm": {
     "name": "#%%\n"
    }
   }
  },
  {
   "cell_type": "code",
   "execution_count": 10,
   "outputs": [
    {
     "ename": "NameError",
     "evalue": "name 'act_net' is not defined",
     "output_type": "error",
     "traceback": [
      "\u001B[0;31m---------------------------------------------------------------------------\u001B[0m",
      "\u001B[0;31mNameError\u001B[0m                                 Traceback (most recent call last)",
      "Input \u001B[0;32mIn [10]\u001B[0m, in \u001B[0;36m<cell line: 6>\u001B[0;34m()\u001B[0m\n\u001B[1;32m      3\u001B[0m both \u001B[38;5;241m=\u001B[39m np\u001B[38;5;241m.\u001B[39marray(both)\n\u001B[1;32m      4\u001B[0m both\n\u001B[0;32m----> 6\u001B[0m both_acts \u001B[38;5;241m=\u001B[39m \u001B[43mact_net\u001B[49m(both)\n\u001B[1;32m      8\u001B[0m both_acts\n",
      "\u001B[0;31mNameError\u001B[0m: name 'act_net' is not defined"
     ]
    }
   ],
   "source": [
    "n = 50\n",
    "both = [[i/n, j/n] for i in range(-1*n, n) for j in range(-1*n, n)]\n",
    "both = np.array(both)\n",
    "both\n",
    "\n",
    "both_acts = act_net(both)\n",
    "\n",
    "both_acts"
   ],
   "metadata": {
    "collapsed": false,
    "pycharm": {
     "name": "#%%\n"
    }
   }
  },
  {
   "cell_type": "code",
   "execution_count": null,
   "outputs": [],
   "source": [
    "n = 50\n",
    "coords = [[i/n, j/n] for i in range(-1*n, n) for j in range(-1*n, n)]\n",
    "coords = np.array(coords)\n",
    "coords\n"
   ],
   "metadata": {
    "collapsed": false,
    "pycharm": {
     "name": "#%%\n"
    }
   }
  },
  {
   "cell_type": "code",
   "execution_count": null,
   "outputs": [],
   "source": [
    "x = np.arange(-5, 5.1, 0.5)\n",
    "y = np.arange(-5, 5.1, 0.5)\n",
    "X,Y = np.meshgrid(x,y)\n",
    "\n",
    "X"
   ],
   "metadata": {
    "collapsed": false,
    "pycharm": {
     "name": "#%%\n"
    }
   }
  },
  {
   "cell_type": "code",
   "execution_count": null,
   "outputs": [],
   "source": [],
   "metadata": {
    "collapsed": false,
    "pycharm": {
     "name": "#%%\n"
    }
   }
  }
 ],
 "metadata": {
  "kernelspec": {
   "display_name": "Python 3",
   "language": "python",
   "name": "python3"
  },
  "language_info": {
   "codemirror_mode": {
    "name": "ipython",
    "version": 2
   },
   "file_extension": ".py",
   "mimetype": "text/x-python",
   "name": "python",
   "nbconvert_exporter": "python",
   "pygments_lexer": "ipython2",
   "version": "2.7.6"
  }
 },
 "nbformat": 4,
 "nbformat_minor": 0
}