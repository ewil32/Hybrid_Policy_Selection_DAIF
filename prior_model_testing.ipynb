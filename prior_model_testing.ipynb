{
 "cells": [
  {
   "cell_type": "markdown",
   "metadata": {
    "collapsed": true,
    "pycharm": {
     "name": "#%% md\n"
    }
   },
   "source": [
    "# Test the prior model to see how well it works"
   ]
  },
  {
   "cell_type": "code",
   "execution_count": 2,
   "outputs": [],
   "source": [
    "import numpy as np\n",
    "import tensorflow as tf"
   ],
   "metadata": {
    "collapsed": false,
    "pycharm": {
     "name": "#%%\n"
    }
   }
  },
  {
   "cell_type": "code",
   "execution_count": 112,
   "outputs": [],
   "source": [
    "from prior_model import PriorModelBellman"
   ],
   "metadata": {
    "collapsed": false,
    "pycharm": {
     "name": "#%%\n"
    }
   }
  },
  {
   "cell_type": "code",
   "execution_count": 113,
   "outputs": [],
   "source": [
    "from util import random_observation_sequence, transform_observations\n",
    "import gym"
   ],
   "metadata": {
    "collapsed": false,
    "pycharm": {
     "name": "#%%\n"
    }
   }
  },
  {
   "cell_type": "code",
   "execution_count": 114,
   "outputs": [
    {
     "data": {
      "text/plain": "array([[-1.02089789e-03, -2.63429839e-02, -6.43045760e-02, ...,\n        -7.18121325e-02, -1.55811912e-06, -2.54941925e-02],\n       [-1.55399723e-02, -8.61167025e-02, -1.01720223e-02, ...,\n        -3.65342759e-03, -6.71025815e-02, -2.28344572e-02],\n       [-1.56588573e-04, -2.74510544e-03, -2.74038173e-02, ...,\n        -3.78842932e-02, -1.30653332e-02, -3.30236791e-02],\n       ...,\n       [-3.12667365e-02, -1.72479677e-03, -3.02168801e-03, ...,\n        -4.32834535e-04, -7.12517285e-02, -1.12898921e-02],\n       [-1.08957392e-02, -7.79804716e-02, -5.15022287e-02, ...,\n        -5.84160851e-02, -4.15068630e-02, -8.25505603e-02],\n       [-4.49697721e-02, -7.81647495e-02, -1.08266080e-02, ...,\n        -5.55745053e-02, -1.46954400e-02, -2.66901254e-02]])"
     },
     "execution_count": 114,
     "metadata": {},
     "output_type": "execute_result"
    }
   ],
   "source": [
    "env = gym.make('MountainCarContinuous-v0')\n",
    "\n",
    "num_seqs = 1200\n",
    "seq_length = 12\n",
    "ob_seqs = []\n",
    "next_obs = []\n",
    "rewards = []\n",
    "\n",
    "for i in range(num_seqs):\n",
    "    o, a, r = random_observation_sequence(env, seq_length)\n",
    "\n",
    "    train = o[:-1]\n",
    "    test = o[-1]\n",
    "\n",
    "    rewards.append(r)\n",
    "\n",
    "    ob_seqs.append(train)\n",
    "    next_obs.append(test)\n",
    "\n",
    "ob_seqs = np.array(ob_seqs)\n",
    "next_obs = np.array(next_obs)\n",
    "rewards = np.array(rewards)\n",
    "ob_seqs.shape\n",
    "\n",
    "ob_seqs_stddev = np.ones_like(ob_seqs)\n",
    "next_obs_stddev = np.ones_like(next_obs)\n",
    "\n",
    "next_obs\n",
    "rewards"
   ],
   "metadata": {
    "collapsed": false,
    "pycharm": {
     "name": "#%%\n"
    }
   }
  },
  {
   "cell_type": "code",
   "execution_count": 115,
   "outputs": [
    {
     "data": {
      "text/plain": "array([[-5.53517997e-01,  0.00000000e+00],\n       [-5.53142369e-01,  3.75652395e-04],\n       [-5.51775575e-01,  1.36682065e-03],\n       [-5.51400542e-01,  3.75043048e-04],\n       [-5.51913500e-01, -5.12973871e-04],\n       [-5.50954700e-01,  9.58819001e-04],\n       [-5.49935400e-01,  1.01928855e-03],\n       [-5.48296630e-01,  1.63875264e-03],\n       [-5.46126664e-01,  2.16995459e-03],\n       [-5.42930782e-01,  3.19589116e-03],\n       [-5.40861130e-01,  2.06966931e-03],\n       [-5.38667977e-01,  2.19315826e-03]])"
     },
     "execution_count": 115,
     "metadata": {},
     "output_type": "execute_result"
    }
   ],
   "source": [
    "ob_seqs[0]"
   ],
   "metadata": {
    "collapsed": false,
    "pycharm": {
     "name": "#%%\n"
    }
   }
  },
  {
   "cell_type": "code",
   "execution_count": 116,
   "outputs": [
    {
     "data": {
      "text/plain": "array([[-0.00000000e+00, -0.00000000e+00],\n       [-2.63429839e-02, -2.63429839e-02],\n       [-1.28609152e-01, -1.28609152e-01],\n       [-1.60246455e-01, -1.60246455e-01],\n       [-2.82100130e-01, -2.82100130e-01],\n       [-4.63810342e-03, -4.63810342e-03],\n       [-4.75216788e-02, -4.75216788e-02],\n       [-3.72745830e-02, -3.72745830e-02],\n       [-2.61202061e-01, -2.61202061e-01],\n       [-6.46309192e-01, -6.46309192e-01],\n       [-1.55811912e-05, -1.55811912e-05],\n       [-2.80436117e-01, -2.80436117e-01]])"
     },
     "execution_count": 116,
     "metadata": {},
     "output_type": "execute_result"
    }
   ],
   "source": [
    "np.stack([rewards[0]]*2).T * np.arange(12).reshape(12, 1)"
   ],
   "metadata": {
    "collapsed": false,
    "pycharm": {
     "name": "#%%\n"
    }
   }
  },
  {
   "cell_type": "code",
   "execution_count": 117,
   "outputs": [],
   "source": [
    "pm = PriorModelBellman(2)"
   ],
   "metadata": {
    "collapsed": false,
    "pycharm": {
     "name": "#%%\n"
    }
   }
  },
  {
   "cell_type": "code",
   "execution_count": 118,
   "outputs": [
    {
     "name": "stdout",
     "output_type": "stream",
     "text": [
      "1/1 [==============================] - 0s 114ms/step - loss: 4.1720e-04\n"
     ]
    },
    {
     "name": "stderr",
     "output_type": "stream",
     "text": [
      "2022-08-04 19:21:28.791784: I tensorflow/core/grappler/optimizers/custom_graph_optimizer_registry.cc:113] Plugin optimizer for device_type GPU is enabled.\n"
     ]
    }
   ],
   "source": [
    "pm.train(ob_seqs[0], rewards[0])"
   ],
   "metadata": {
    "collapsed": false,
    "pycharm": {
     "name": "#%%\n"
    }
   }
  },
  {
   "cell_type": "code",
   "execution_count": null,
   "outputs": [],
   "source": [],
   "metadata": {
    "collapsed": false,
    "pycharm": {
     "name": "#%%\n"
    }
   }
  }
 ],
 "metadata": {
  "kernelspec": {
   "display_name": "Python 3",
   "language": "python",
   "name": "python3"
  },
  "language_info": {
   "codemirror_mode": {
    "name": "ipython",
    "version": 2
   },
   "file_extension": ".py",
   "mimetype": "text/x-python",
   "name": "python",
   "nbconvert_exporter": "python",
   "pygments_lexer": "ipython2",
   "version": "2.7.6"
  }
 },
 "nbformat": 4,
 "nbformat_minor": 0
}