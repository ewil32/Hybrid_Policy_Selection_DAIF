{
 "cells": [
  {
   "cell_type": "markdown",
   "metadata": {
    "collapsed": true,
    "pycharm": {
     "name": "#%% md\n"
    }
   },
   "source": [
    "# Analyse the results of some of the experiments"
   ]
  },
  {
   "cell_type": "code",
   "execution_count": 1,
   "outputs": [],
   "source": [
    "import pandas as pd\n",
    "import matplotlib.pyplot as plt"
   ],
   "metadata": {
    "collapsed": false,
    "pycharm": {
     "name": "#%%\n"
    }
   }
  },
  {
   "cell_type": "code",
   "execution_count": 2,
   "outputs": [],
   "source": [
    "efe = pd.read_csv(\"experiments/efe_no_prior_model.csv\")\n",
    "feef_prior = pd.read_csv(\"experiments/feef_with_prior_model.csv\")\n",
    "# feef = pd.read_csv(\"experiments/feef_no_prior_model.csv\")"
   ],
   "metadata": {
    "collapsed": false,
    "pycharm": {
     "name": "#%%\n"
    }
   }
  },
  {
   "cell_type": "code",
   "execution_count": 3,
   "outputs": [
    {
     "data": {
      "text/plain": "     episode  success  sim_steps noise_stddev  agent_num\n0          0     True        420       [0, 0]          4\n1          1     True        387       [0, 0]          4\n2          2     True        638       [0, 0]          4\n3          3     True        947       [0, 0]          4\n4          4    False        999       [0, 0]          4\n..       ...      ...        ...          ...        ...\n295        5    False        999       [0, 0]          7\n296        6    False        999       [0, 0]          7\n297        7    False        999       [0, 0]          7\n298        8     True        625       [0, 0]          7\n299        9    False        999       [0, 0]          7\n\n[300 rows x 5 columns]",
      "text/html": "<div>\n<style scoped>\n    .dataframe tbody tr th:only-of-type {\n        vertical-align: middle;\n    }\n\n    .dataframe tbody tr th {\n        vertical-align: top;\n    }\n\n    .dataframe thead th {\n        text-align: right;\n    }\n</style>\n<table border=\"1\" class=\"dataframe\">\n  <thead>\n    <tr style=\"text-align: right;\">\n      <th></th>\n      <th>episode</th>\n      <th>success</th>\n      <th>sim_steps</th>\n      <th>noise_stddev</th>\n      <th>agent_num</th>\n    </tr>\n  </thead>\n  <tbody>\n    <tr>\n      <th>0</th>\n      <td>0</td>\n      <td>True</td>\n      <td>420</td>\n      <td>[0, 0]</td>\n      <td>4</td>\n    </tr>\n    <tr>\n      <th>1</th>\n      <td>1</td>\n      <td>True</td>\n      <td>387</td>\n      <td>[0, 0]</td>\n      <td>4</td>\n    </tr>\n    <tr>\n      <th>2</th>\n      <td>2</td>\n      <td>True</td>\n      <td>638</td>\n      <td>[0, 0]</td>\n      <td>4</td>\n    </tr>\n    <tr>\n      <th>3</th>\n      <td>3</td>\n      <td>True</td>\n      <td>947</td>\n      <td>[0, 0]</td>\n      <td>4</td>\n    </tr>\n    <tr>\n      <th>4</th>\n      <td>4</td>\n      <td>False</td>\n      <td>999</td>\n      <td>[0, 0]</td>\n      <td>4</td>\n    </tr>\n    <tr>\n      <th>...</th>\n      <td>...</td>\n      <td>...</td>\n      <td>...</td>\n      <td>...</td>\n      <td>...</td>\n    </tr>\n    <tr>\n      <th>295</th>\n      <td>5</td>\n      <td>False</td>\n      <td>999</td>\n      <td>[0, 0]</td>\n      <td>7</td>\n    </tr>\n    <tr>\n      <th>296</th>\n      <td>6</td>\n      <td>False</td>\n      <td>999</td>\n      <td>[0, 0]</td>\n      <td>7</td>\n    </tr>\n    <tr>\n      <th>297</th>\n      <td>7</td>\n      <td>False</td>\n      <td>999</td>\n      <td>[0, 0]</td>\n      <td>7</td>\n    </tr>\n    <tr>\n      <th>298</th>\n      <td>8</td>\n      <td>True</td>\n      <td>625</td>\n      <td>[0, 0]</td>\n      <td>7</td>\n    </tr>\n    <tr>\n      <th>299</th>\n      <td>9</td>\n      <td>False</td>\n      <td>999</td>\n      <td>[0, 0]</td>\n      <td>7</td>\n    </tr>\n  </tbody>\n</table>\n<p>300 rows × 5 columns</p>\n</div>"
     },
     "execution_count": 3,
     "metadata": {},
     "output_type": "execute_result"
    }
   ],
   "source": [
    "efe"
   ],
   "metadata": {
    "collapsed": false,
    "pycharm": {
     "name": "#%%\n"
    }
   }
  },
  {
   "cell_type": "code",
   "execution_count": 4,
   "outputs": [
    {
     "data": {
      "text/plain": "          success\nepisode          \n0        0.666667\n1        0.600000\n2        0.533333\n3        0.666667\n4        0.500000\n5        0.500000\n6        0.466667\n7        0.533333\n8        0.766667\n9        0.666667",
      "text/html": "<div>\n<style scoped>\n    .dataframe tbody tr th:only-of-type {\n        vertical-align: middle;\n    }\n\n    .dataframe tbody tr th {\n        vertical-align: top;\n    }\n\n    .dataframe thead th {\n        text-align: right;\n    }\n</style>\n<table border=\"1\" class=\"dataframe\">\n  <thead>\n    <tr style=\"text-align: right;\">\n      <th></th>\n      <th>success</th>\n    </tr>\n    <tr>\n      <th>episode</th>\n      <th></th>\n    </tr>\n  </thead>\n  <tbody>\n    <tr>\n      <th>0</th>\n      <td>0.666667</td>\n    </tr>\n    <tr>\n      <th>1</th>\n      <td>0.600000</td>\n    </tr>\n    <tr>\n      <th>2</th>\n      <td>0.533333</td>\n    </tr>\n    <tr>\n      <th>3</th>\n      <td>0.666667</td>\n    </tr>\n    <tr>\n      <th>4</th>\n      <td>0.500000</td>\n    </tr>\n    <tr>\n      <th>5</th>\n      <td>0.500000</td>\n    </tr>\n    <tr>\n      <th>6</th>\n      <td>0.466667</td>\n    </tr>\n    <tr>\n      <th>7</th>\n      <td>0.533333</td>\n    </tr>\n    <tr>\n      <th>8</th>\n      <td>0.766667</td>\n    </tr>\n    <tr>\n      <th>9</th>\n      <td>0.666667</td>\n    </tr>\n  </tbody>\n</table>\n</div>"
     },
     "execution_count": 4,
     "metadata": {},
     "output_type": "execute_result"
    }
   ],
   "source": [
    "mean_success = efe[[\"success\", \"episode\"]].groupby(\"episode\").mean()\n",
    "mean_success"
   ],
   "metadata": {
    "collapsed": false,
    "pycharm": {
     "name": "#%%\n"
    }
   }
  },
  {
   "cell_type": "code",
   "execution_count": 5,
   "outputs": [
    {
     "data": {
      "text/plain": "          sim_steps\nepisode            \n0        484.900000\n1        627.833333\n2        552.062500\n3        520.950000\n4        654.000000\n5        537.066667\n6        518.500000\n7        526.437500\n8        592.956522\n9        542.950000",
      "text/html": "<div>\n<style scoped>\n    .dataframe tbody tr th:only-of-type {\n        vertical-align: middle;\n    }\n\n    .dataframe tbody tr th {\n        vertical-align: top;\n    }\n\n    .dataframe thead th {\n        text-align: right;\n    }\n</style>\n<table border=\"1\" class=\"dataframe\">\n  <thead>\n    <tr style=\"text-align: right;\">\n      <th></th>\n      <th>sim_steps</th>\n    </tr>\n    <tr>\n      <th>episode</th>\n      <th></th>\n    </tr>\n  </thead>\n  <tbody>\n    <tr>\n      <th>0</th>\n      <td>484.900000</td>\n    </tr>\n    <tr>\n      <th>1</th>\n      <td>627.833333</td>\n    </tr>\n    <tr>\n      <th>2</th>\n      <td>552.062500</td>\n    </tr>\n    <tr>\n      <th>3</th>\n      <td>520.950000</td>\n    </tr>\n    <tr>\n      <th>4</th>\n      <td>654.000000</td>\n    </tr>\n    <tr>\n      <th>5</th>\n      <td>537.066667</td>\n    </tr>\n    <tr>\n      <th>6</th>\n      <td>518.500000</td>\n    </tr>\n    <tr>\n      <th>7</th>\n      <td>526.437500</td>\n    </tr>\n    <tr>\n      <th>8</th>\n      <td>592.956522</td>\n    </tr>\n    <tr>\n      <th>9</th>\n      <td>542.950000</td>\n    </tr>\n  </tbody>\n</table>\n</div>"
     },
     "execution_count": 5,
     "metadata": {},
     "output_type": "execute_result"
    }
   ],
   "source": [
    "mean_times = efe[efe.success == True][[\"sim_steps\", \"episode\"]].groupby(\"episode\").mean()\n",
    "mean_times"
   ],
   "metadata": {
    "collapsed": false,
    "pycharm": {
     "name": "#%%\n"
    }
   }
  },
  {
   "cell_type": "code",
   "execution_count": 6,
   "outputs": [
    {
     "data": {
      "text/plain": "          sim_steps\nepisode            \n0        235.809892\n1        195.571034\n2        201.798074\n3        219.632582\n4        199.250739\n5        243.648889\n6        231.580772\n7        246.489477\n8        250.780686\n9        174.061839",
      "text/html": "<div>\n<style scoped>\n    .dataframe tbody tr th:only-of-type {\n        vertical-align: middle;\n    }\n\n    .dataframe tbody tr th {\n        vertical-align: top;\n    }\n\n    .dataframe thead th {\n        text-align: right;\n    }\n</style>\n<table border=\"1\" class=\"dataframe\">\n  <thead>\n    <tr style=\"text-align: right;\">\n      <th></th>\n      <th>sim_steps</th>\n    </tr>\n    <tr>\n      <th>episode</th>\n      <th></th>\n    </tr>\n  </thead>\n  <tbody>\n    <tr>\n      <th>0</th>\n      <td>235.809892</td>\n    </tr>\n    <tr>\n      <th>1</th>\n      <td>195.571034</td>\n    </tr>\n    <tr>\n      <th>2</th>\n      <td>201.798074</td>\n    </tr>\n    <tr>\n      <th>3</th>\n      <td>219.632582</td>\n    </tr>\n    <tr>\n      <th>4</th>\n      <td>199.250739</td>\n    </tr>\n    <tr>\n      <th>5</th>\n      <td>243.648889</td>\n    </tr>\n    <tr>\n      <th>6</th>\n      <td>231.580772</td>\n    </tr>\n    <tr>\n      <th>7</th>\n      <td>246.489477</td>\n    </tr>\n    <tr>\n      <th>8</th>\n      <td>250.780686</td>\n    </tr>\n    <tr>\n      <th>9</th>\n      <td>174.061839</td>\n    </tr>\n  </tbody>\n</table>\n</div>"
     },
     "execution_count": 6,
     "metadata": {},
     "output_type": "execute_result"
    }
   ],
   "source": [
    "std_times = efe[efe[\"success\"] == True][[\"sim_steps\", \"episode\"]].groupby(\"episode\").std()\n",
    "std_times"
   ],
   "metadata": {
    "collapsed": false,
    "pycharm": {
     "name": "#%%\n"
    }
   }
  },
  {
   "cell_type": "code",
   "execution_count": 7,
   "outputs": [
    {
     "data": {
      "text/plain": "[<matplotlib.lines.Line2D at 0x127badeb0>]"
     },
     "execution_count": 7,
     "metadata": {},
     "output_type": "execute_result"
    },
    {
     "data": {
      "text/plain": "<Figure size 432x288 with 1 Axes>",
      "image/png": "[encoded data removed]"
     },
     "metadata": {
      "needs_background": "light"
     },
     "output_type": "display_data"
    }
   ],
   "source": [
    "plt.plot(mean_times)"
   ],
   "metadata": {
    "collapsed": false,
    "pycharm": {
     "name": "#%%\n"
    }
   }
  },
  {
   "cell_type": "code",
   "execution_count": 8,
   "outputs": [
    {
     "data": {
      "text/plain": "[<matplotlib.lines.Line2D at 0x127cac190>]"
     },
     "execution_count": 8,
     "metadata": {},
     "output_type": "execute_result"
    },
    {
     "data": {
      "text/plain": "<Figure size 432x288 with 1 Axes>",
      "image/png": "[encoded data removed]"
     },
     "metadata": {
      "needs_background": "light"
     },
     "output_type": "display_data"
    }
   ],
   "source": [
    "plt.plot(std_times)"
   ],
   "metadata": {
    "collapsed": false,
    "pycharm": {
     "name": "#%%\n"
    }
   }
  },
  {
   "cell_type": "code",
   "execution_count": 9,
   "outputs": [
    {
     "data": {
      "text/plain": "      0   True  493  [0.05, 0.05]  0.1\n0     1   True  332  [0.05, 0.05]    0\n1     2   True  506  [0.05, 0.05]    0\n2     3   True  366  [0.05, 0.05]    0\n3     4   True  275  [0.05, 0.05]    0\n4     5   True  133  [0.05, 0.05]    0\n..   ..    ...  ...           ...  ...\n394  35  False  999  [0.05, 0.05]    5\n395  36   True  618  [0.05, 0.05]    5\n396  37  False  999  [0.05, 0.05]    5\n397  38  False  999  [0.05, 0.05]    5\n398  39  False  999  [0.05, 0.05]    5\n\n[399 rows x 5 columns]",
      "text/html": "<div>\n<style scoped>\n    .dataframe tbody tr th:only-of-type {\n        vertical-align: middle;\n    }\n\n    .dataframe tbody tr th {\n        vertical-align: top;\n    }\n\n    .dataframe thead th {\n        text-align: right;\n    }\n</style>\n<table border=\"1\" class=\"dataframe\">\n  <thead>\n    <tr style=\"text-align: right;\">\n      <th></th>\n      <th>0</th>\n      <th>True</th>\n      <th>493</th>\n      <th>[0.05, 0.05]</th>\n      <th>0.1</th>\n    </tr>\n  </thead>\n  <tbody>\n    <tr>\n      <th>0</th>\n      <td>1</td>\n      <td>True</td>\n      <td>332</td>\n      <td>[0.05, 0.05]</td>\n      <td>0</td>\n    </tr>\n    <tr>\n      <th>1</th>\n      <td>2</td>\n      <td>True</td>\n      <td>506</td>\n      <td>[0.05, 0.05]</td>\n      <td>0</td>\n    </tr>\n    <tr>\n      <th>2</th>\n      <td>3</td>\n      <td>True</td>\n      <td>366</td>\n      <td>[0.05, 0.05]</td>\n      <td>0</td>\n    </tr>\n    <tr>\n      <th>3</th>\n      <td>4</td>\n      <td>True</td>\n      <td>275</td>\n      <td>[0.05, 0.05]</td>\n      <td>0</td>\n    </tr>\n    <tr>\n      <th>4</th>\n      <td>5</td>\n      <td>True</td>\n      <td>133</td>\n      <td>[0.05, 0.05]</td>\n      <td>0</td>\n    </tr>\n    <tr>\n      <th>...</th>\n      <td>...</td>\n      <td>...</td>\n      <td>...</td>\n      <td>...</td>\n      <td>...</td>\n    </tr>\n    <tr>\n      <th>394</th>\n      <td>35</td>\n      <td>False</td>\n      <td>999</td>\n      <td>[0.05, 0.05]</td>\n      <td>5</td>\n    </tr>\n    <tr>\n      <th>395</th>\n      <td>36</td>\n      <td>True</td>\n      <td>618</td>\n      <td>[0.05, 0.05]</td>\n      <td>5</td>\n    </tr>\n    <tr>\n      <th>396</th>\n      <td>37</td>\n      <td>False</td>\n      <td>999</td>\n      <td>[0.05, 0.05]</td>\n      <td>5</td>\n    </tr>\n    <tr>\n      <th>397</th>\n      <td>38</td>\n      <td>False</td>\n      <td>999</td>\n      <td>[0.05, 0.05]</td>\n      <td>5</td>\n    </tr>\n    <tr>\n      <th>398</th>\n      <td>39</td>\n      <td>False</td>\n      <td>999</td>\n      <td>[0.05, 0.05]</td>\n      <td>5</td>\n    </tr>\n  </tbody>\n</table>\n<p>399 rows × 5 columns</p>\n</div>"
     },
     "execution_count": 9,
     "metadata": {},
     "output_type": "execute_result"
    }
   ],
   "source": [
    "feef_prior"
   ],
   "metadata": {
    "collapsed": false,
    "pycharm": {
     "name": "#%%\n"
    }
   }
  },
  {
   "cell_type": "code",
   "execution_count": 10,
   "outputs": [
    {
     "ename": "KeyError",
     "evalue": "\"None of [Index(['success', 'episode'], dtype='object')] are in the [columns]\"",
     "output_type": "error",
     "traceback": [
      "\u001B[0;31m---------------------------------------------------------------------------\u001B[0m",
      "\u001B[0;31mKeyError\u001B[0m                                  Traceback (most recent call last)",
      "Input \u001B[0;32mIn [10]\u001B[0m, in \u001B[0;36m<cell line: 1>\u001B[0;34m()\u001B[0m\n\u001B[0;32m----> 1\u001B[0m mean_success \u001B[38;5;241m=\u001B[39m \u001B[43mfeef_prior\u001B[49m\u001B[43m[\u001B[49m\u001B[43m[\u001B[49m\u001B[38;5;124;43m\"\u001B[39;49m\u001B[38;5;124;43msuccess\u001B[39;49m\u001B[38;5;124;43m\"\u001B[39;49m\u001B[43m,\u001B[49m\u001B[43m \u001B[49m\u001B[38;5;124;43m\"\u001B[39;49m\u001B[38;5;124;43mepisode\u001B[39;49m\u001B[38;5;124;43m\"\u001B[39;49m\u001B[43m]\u001B[49m\u001B[43m]\u001B[49m\u001B[38;5;241m.\u001B[39mgroupby(\u001B[38;5;124m\"\u001B[39m\u001B[38;5;124mepisode\u001B[39m\u001B[38;5;124m\"\u001B[39m)\u001B[38;5;241m.\u001B[39mmean()\n\u001B[1;32m      2\u001B[0m mean_success\n",
      "File \u001B[0;32m~/miniconda3/envs/tf_daif/lib/python3.8/site-packages/pandas/core/frame.py:3511\u001B[0m, in \u001B[0;36mDataFrame.__getitem__\u001B[0;34m(self, key)\u001B[0m\n\u001B[1;32m   3509\u001B[0m     \u001B[38;5;28;01mif\u001B[39;00m is_iterator(key):\n\u001B[1;32m   3510\u001B[0m         key \u001B[38;5;241m=\u001B[39m \u001B[38;5;28mlist\u001B[39m(key)\n\u001B[0;32m-> 3511\u001B[0m     indexer \u001B[38;5;241m=\u001B[39m \u001B[38;5;28;43mself\u001B[39;49m\u001B[38;5;241;43m.\u001B[39;49m\u001B[43mcolumns\u001B[49m\u001B[38;5;241;43m.\u001B[39;49m\u001B[43m_get_indexer_strict\u001B[49m\u001B[43m(\u001B[49m\u001B[43mkey\u001B[49m\u001B[43m,\u001B[49m\u001B[43m \u001B[49m\u001B[38;5;124;43m\"\u001B[39;49m\u001B[38;5;124;43mcolumns\u001B[39;49m\u001B[38;5;124;43m\"\u001B[39;49m\u001B[43m)\u001B[49m[\u001B[38;5;241m1\u001B[39m]\n\u001B[1;32m   3513\u001B[0m \u001B[38;5;66;03m# take() does not accept boolean indexers\u001B[39;00m\n\u001B[1;32m   3514\u001B[0m \u001B[38;5;28;01mif\u001B[39;00m \u001B[38;5;28mgetattr\u001B[39m(indexer, \u001B[38;5;124m\"\u001B[39m\u001B[38;5;124mdtype\u001B[39m\u001B[38;5;124m\"\u001B[39m, \u001B[38;5;28;01mNone\u001B[39;00m) \u001B[38;5;241m==\u001B[39m \u001B[38;5;28mbool\u001B[39m:\n",
      "File \u001B[0;32m~/miniconda3/envs/tf_daif/lib/python3.8/site-packages/pandas/core/indexes/base.py:5782\u001B[0m, in \u001B[0;36mIndex._get_indexer_strict\u001B[0;34m(self, key, axis_name)\u001B[0m\n\u001B[1;32m   5779\u001B[0m \u001B[38;5;28;01melse\u001B[39;00m:\n\u001B[1;32m   5780\u001B[0m     keyarr, indexer, new_indexer \u001B[38;5;241m=\u001B[39m \u001B[38;5;28mself\u001B[39m\u001B[38;5;241m.\u001B[39m_reindex_non_unique(keyarr)\n\u001B[0;32m-> 5782\u001B[0m \u001B[38;5;28;43mself\u001B[39;49m\u001B[38;5;241;43m.\u001B[39;49m\u001B[43m_raise_if_missing\u001B[49m\u001B[43m(\u001B[49m\u001B[43mkeyarr\u001B[49m\u001B[43m,\u001B[49m\u001B[43m \u001B[49m\u001B[43mindexer\u001B[49m\u001B[43m,\u001B[49m\u001B[43m \u001B[49m\u001B[43maxis_name\u001B[49m\u001B[43m)\u001B[49m\n\u001B[1;32m   5784\u001B[0m keyarr \u001B[38;5;241m=\u001B[39m \u001B[38;5;28mself\u001B[39m\u001B[38;5;241m.\u001B[39mtake(indexer)\n\u001B[1;32m   5785\u001B[0m \u001B[38;5;28;01mif\u001B[39;00m \u001B[38;5;28misinstance\u001B[39m(key, Index):\n\u001B[1;32m   5786\u001B[0m     \u001B[38;5;66;03m# GH 42790 - Preserve name from an Index\u001B[39;00m\n",
      "File \u001B[0;32m~/miniconda3/envs/tf_daif/lib/python3.8/site-packages/pandas/core/indexes/base.py:5842\u001B[0m, in \u001B[0;36mIndex._raise_if_missing\u001B[0;34m(self, key, indexer, axis_name)\u001B[0m\n\u001B[1;32m   5840\u001B[0m     \u001B[38;5;28;01mif\u001B[39;00m use_interval_msg:\n\u001B[1;32m   5841\u001B[0m         key \u001B[38;5;241m=\u001B[39m \u001B[38;5;28mlist\u001B[39m(key)\n\u001B[0;32m-> 5842\u001B[0m     \u001B[38;5;28;01mraise\u001B[39;00m \u001B[38;5;167;01mKeyError\u001B[39;00m(\u001B[38;5;124mf\u001B[39m\u001B[38;5;124m\"\u001B[39m\u001B[38;5;124mNone of [\u001B[39m\u001B[38;5;132;01m{\u001B[39;00mkey\u001B[38;5;132;01m}\u001B[39;00m\u001B[38;5;124m] are in the [\u001B[39m\u001B[38;5;132;01m{\u001B[39;00maxis_name\u001B[38;5;132;01m}\u001B[39;00m\u001B[38;5;124m]\u001B[39m\u001B[38;5;124m\"\u001B[39m)\n\u001B[1;32m   5844\u001B[0m not_found \u001B[38;5;241m=\u001B[39m \u001B[38;5;28mlist\u001B[39m(ensure_index(key)[missing_mask\u001B[38;5;241m.\u001B[39mnonzero()[\u001B[38;5;241m0\u001B[39m]]\u001B[38;5;241m.\u001B[39munique())\n\u001B[1;32m   5845\u001B[0m \u001B[38;5;28;01mraise\u001B[39;00m \u001B[38;5;167;01mKeyError\u001B[39;00m(\u001B[38;5;124mf\u001B[39m\u001B[38;5;124m\"\u001B[39m\u001B[38;5;132;01m{\u001B[39;00mnot_found\u001B[38;5;132;01m}\u001B[39;00m\u001B[38;5;124m not in index\u001B[39m\u001B[38;5;124m\"\u001B[39m)\n",
      "\u001B[0;31mKeyError\u001B[0m: \"None of [Index(['success', 'episode'], dtype='object')] are in the [columns]\""
     ]
    }
   ],
   "source": [
    "mean_success = feef_prior[[\"success\", \"episode\"]].groupby(\"episode\").mean()\n",
    "mean_success"
   ],
   "metadata": {
    "collapsed": false,
    "pycharm": {
     "name": "#%%\n"
    }
   }
  },
  {
   "cell_type": "code",
   "execution_count": null,
   "outputs": [],
   "source": [],
   "metadata": {
    "collapsed": false,
    "pycharm": {
     "name": "#%%\n"
    }
   }
  }
 ],
 "metadata": {
  "kernelspec": {
   "display_name": "Python 3",
   "language": "python",
   "name": "python3"
  },
  "language_info": {
   "codemirror_mode": {
    "name": "ipython",
    "version": 2
   },
   "file_extension": ".py",
   "mimetype": "text/x-python",
   "name": "python",
   "nbconvert_exporter": "python",
   "pygments_lexer": "ipython2",
   "version": "2.7.6"
  }
 },
 "nbformat": 4,
 "nbformat_minor": 0
}