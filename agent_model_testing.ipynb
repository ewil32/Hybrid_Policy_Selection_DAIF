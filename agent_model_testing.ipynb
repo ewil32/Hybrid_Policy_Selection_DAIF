{
 "cells": [
  {
   "cell_type": "markdown",
   "source": [
    "# Test on mountain car"
   ],
   "metadata": {
    "collapsed": false,
    "pycharm": {
     "name": "#%% md\n"
    }
   }
  },
  {
   "cell_type": "code",
   "execution_count": 1,
   "metadata": {
    "collapsed": true
   },
   "outputs": [],
   "source": [
    "import tensorflow as tf\n",
    "import tensorflow_probability as tfp\n",
    "import keras\n",
    "from keras import layers\n",
    "import numpy as np\n",
    "import matplotlib.pyplot as plt\n",
    "import gym"
   ]
  },
  {
   "cell_type": "code",
   "execution_count": 2,
   "outputs": [],
   "source": [
    "from vae import VAE, create_decoder, create_encoder\n",
    "from transition import TransitionModel\n",
    "from agent import DAIFAgent"
   ],
   "metadata": {
    "collapsed": false,
    "pycharm": {
     "name": "#%%\n"
    }
   }
  },
  {
   "cell_type": "code",
   "execution_count": 3,
   "outputs": [
    {
     "name": "stdout",
     "output_type": "stream",
     "text": [
      "Metal device set to: Apple M1 Pro\n"
     ]
    },
    {
     "name": "stderr",
     "output_type": "stream",
     "text": [
      "2022-07-07 06:11:59.968729: I tensorflow/core/common_runtime/pluggable_device/pluggable_device_factory.cc:305] Could not identify NUMA node of platform GPU ID 0, defaulting to 0. Your kernel may not have been built with NUMA support.\n",
      "2022-07-07 06:11:59.968933: I tensorflow/core/common_runtime/pluggable_device/pluggable_device_factory.cc:271] Created TensorFlow device (/job:localhost/replica:0/task:0/device:GPU:0 with 0 MB memory) -> physical PluggableDevice (device: 0, name: METAL, pci bus id: <undefined>)\n"
     ]
    }
   ],
   "source": [
    "enc = create_encoder(2, 2)\n",
    "dec = create_decoder(2, 2)\n",
    "tran = TransitionModel(2, 1)\n",
    "\n",
    "# create the prior distribution\n",
    "# prior_observations = tf.convert_to_tensor(np.array([0.5, 100]).astype(\"float\"))\n",
    "# prior = tfp.distributions.MultivariateNormalDiag(loc=prior_observations, scale_diag=np.ones_like())\n",
    "\n",
    "daifa = DAIFAgent(\"test\", enc, dec, tran, 10, 100, 100)"
   ],
   "metadata": {
    "collapsed": false,
    "pycharm": {
     "name": "#%%\n"
    }
   }
  },
  {
   "cell_type": "markdown",
   "source": [
    "## Test training the models"
   ],
   "metadata": {
    "collapsed": false
   }
  },
  {
   "cell_type": "code",
   "execution_count": 4,
   "outputs": [],
   "source": [
    "from util import random_observation_sequence, transform_observations"
   ],
   "metadata": {
    "collapsed": false,
    "pycharm": {
     "name": "#%%\n"
    }
   }
  },
  {
   "cell_type": "code",
   "execution_count": 5,
   "outputs": [
    {
     "ename": "TypeError",
     "evalue": "transform_observations() missing 1 required positional argument: 'noise_stddev'",
     "output_type": "error",
     "traceback": [
      "\u001B[0;31m---------------------------------------------------------------------------\u001B[0m",
      "\u001B[0;31mTypeError\u001B[0m                                 Traceback (most recent call last)",
      "Input \u001B[0;32mIn [5]\u001B[0m, in \u001B[0;36m<cell line: 5>\u001B[0;34m()\u001B[0m\n\u001B[1;32m      2\u001B[0m env\u001B[38;5;241m.\u001B[39maction_space\u001B[38;5;241m.\u001B[39mseed(\u001B[38;5;241m42\u001B[39m)\n\u001B[1;32m      4\u001B[0m o, a, r \u001B[38;5;241m=\u001B[39m random_observation_sequence(env, \u001B[38;5;241m10000\u001B[39m)\n\u001B[0;32m----> 5\u001B[0m o_scaled \u001B[38;5;241m=\u001B[39m \u001B[43mtransform_observations\u001B[49m\u001B[43m(\u001B[49m\u001B[43mo\u001B[49m\u001B[43m)\u001B[49m\n\u001B[1;32m      6\u001B[0m o_scaled\n",
      "\u001B[0;31mTypeError\u001B[0m: transform_observations() missing 1 required positional argument: 'noise_stddev'"
     ]
    }
   ],
   "source": [
    "env = gym.make('MountainCarContinuous-v0')\n",
    "env.action_space.seed(42)\n",
    "\n",
    "o, a, r = random_observation_sequence(env, 10000)\n",
    "o_scaled = transform_observations(o)\n",
    "o_scaled"
   ],
   "metadata": {
    "collapsed": false,
    "pycharm": {
     "name": "#%%\n"
    }
   }
  },
  {
   "cell_type": "code",
   "execution_count": 6,
   "outputs": [
    {
     "ename": "NameError",
     "evalue": "name 'o_scaled' is not defined",
     "output_type": "error",
     "traceback": [
      "\u001B[0;31m---------------------------------------------------------------------------\u001B[0m",
      "\u001B[0;31mNameError\u001B[0m                                 Traceback (most recent call last)",
      "Input \u001B[0;32mIn [6]\u001B[0m, in \u001B[0;36m<cell line: 1>\u001B[0;34m()\u001B[0m\n\u001B[0;32m----> 1\u001B[0m x_train \u001B[38;5;241m=\u001B[39m np\u001B[38;5;241m.\u001B[39mconcatenate([\u001B[43mo_scaled\u001B[49m[\u001B[38;5;241m0\u001B[39m:\u001B[38;5;28mlen\u001B[39m(o_scaled)\u001B[38;5;241m-\u001B[39m\u001B[38;5;241m1\u001B[39m], a], axis\u001B[38;5;241m=\u001B[39m\u001B[38;5;241m1\u001B[39m)\n\u001B[1;32m      2\u001B[0m y_train_mean \u001B[38;5;241m=\u001B[39m o_scaled[\u001B[38;5;241m1\u001B[39m:]\n\u001B[1;32m      3\u001B[0m y_train_stddev \u001B[38;5;241m=\u001B[39m np\u001B[38;5;241m.\u001B[39mones_like(y_train_mean)\n",
      "\u001B[0;31mNameError\u001B[0m: name 'o_scaled' is not defined"
     ]
    }
   ],
   "source": [
    "x_train = np.concatenate([o_scaled[0:len(o_scaled)-1], a], axis=1)\n",
    "y_train_mean = o_scaled[1:]\n",
    "y_train_stddev = np.ones_like(y_train_mean)\n",
    "\n",
    "x_train"
   ],
   "metadata": {
    "collapsed": false,
    "pycharm": {
     "name": "#%%\n"
    }
   }
  },
  {
   "cell_type": "code",
   "execution_count": 7,
   "outputs": [
    {
     "ename": "NameError",
     "evalue": "name 'x_train' is not defined",
     "output_type": "error",
     "traceback": [
      "\u001B[0;31m---------------------------------------------------------------------------\u001B[0m",
      "\u001B[0;31mNameError\u001B[0m                                 Traceback (most recent call last)",
      "Input \u001B[0;32mIn [7]\u001B[0m, in \u001B[0;36m<cell line: 3>\u001B[0;34m()\u001B[0m\n\u001B[1;32m      1\u001B[0m tran\u001B[38;5;241m.\u001B[39mcompile(optimizer\u001B[38;5;241m=\u001B[39mtf\u001B[38;5;241m.\u001B[39mkeras\u001B[38;5;241m.\u001B[39moptimizers\u001B[38;5;241m.\u001B[39mAdam())\n\u001B[0;32m----> 3\u001B[0m tran\u001B[38;5;241m.\u001B[39mfit(\u001B[43mx_train\u001B[49m, (y_train_mean, y_train_stddev), batch_size\u001B[38;5;241m=\u001B[39m\u001B[38;5;241m10\u001B[39m, epochs\u001B[38;5;241m=\u001B[39m\u001B[38;5;241m30\u001B[39m)\n",
      "\u001B[0;31mNameError\u001B[0m: name 'x_train' is not defined"
     ]
    }
   ],
   "source": [
    "tran.compile(optimizer=tf.keras.optimizers.Adam())\n",
    "\n",
    "tran.fit(x_train, (y_train_mean, y_train_stddev), batch_size=10, epochs=30)"
   ],
   "metadata": {
    "collapsed": false,
    "pycharm": {
     "name": "#%%\n"
    }
   }
  },
  {
   "cell_type": "markdown",
   "source": [
    "## Test the VAE model"
   ],
   "metadata": {
    "collapsed": false,
    "pycharm": {
     "name": "#%% md\n"
    }
   }
  },
  {
   "cell_type": "code",
   "execution_count": 8,
   "outputs": [],
   "source": [
    "enc = create_encoder(2, 2, [20])\n",
    "dec = create_decoder(2, 2, [20])\n",
    "tran = TransitionModel(2, 1)\n",
    "\n",
    "# create the prior distribution\n",
    "# prior_observations = tf.convert_to_tensor(np.array([0.5, 100]).astype(\"float\"))\n",
    "# prior = tfp.distributions.MultivariateNormalDiag(loc=prior_observations, scale_diag=np.ones_like())\n",
    "\n",
    "daifa = DAIFAgent(\"test\", enc, dec, tran, 10, 100)"
   ],
   "metadata": {
    "collapsed": false,
    "pycharm": {
     "name": "#%%\n"
    }
   }
  },
  {
   "cell_type": "code",
   "execution_count": 9,
   "outputs": [
    {
     "ename": "NameError",
     "evalue": "name 'y_train_mean' is not defined",
     "output_type": "error",
     "traceback": [
      "\u001B[0;31m---------------------------------------------------------------------------\u001B[0m",
      "\u001B[0;31mNameError\u001B[0m                                 Traceback (most recent call last)",
      "Input \u001B[0;32mIn [9]\u001B[0m, in \u001B[0;36m<cell line: 1>\u001B[0;34m()\u001B[0m\n\u001B[0;32m----> 1\u001B[0m daifa\u001B[38;5;241m.\u001B[39mmodel_vae\u001B[38;5;241m.\u001B[39mfit(\u001B[43my_train_mean\u001B[49m, batch_size\u001B[38;5;241m=\u001B[39m\u001B[38;5;241m10\u001B[39m, epochs\u001B[38;5;241m=\u001B[39m\u001B[38;5;241m10\u001B[39m)\n",
      "\u001B[0;31mNameError\u001B[0m: name 'y_train_mean' is not defined"
     ]
    }
   ],
   "source": [
    "daifa.model_vae.fit(y_train_mean, batch_size=10, epochs=10)"
   ],
   "metadata": {
    "collapsed": false,
    "pycharm": {
     "name": "#%%\n"
    }
   }
  },
  {
   "cell_type": "code",
   "execution_count": 10,
   "outputs": [
    {
     "name": "stdout",
     "output_type": "stream",
     "text": [
      "tf.Tensor(\n",
      "[8.45834744 6.97253126 7.45176529 7.39323376 8.84239961 8.0194043\n",
      " 7.24296769 8.56139991 7.11050548 7.02522314 9.1205567  7.06234085\n",
      " 6.78191898 6.34084347 8.00939453 8.51033093 6.73068413 7.05090782\n",
      " 6.85602492 8.15828836 8.2529087  7.95415945 7.98247929 7.27710926\n",
      " 8.29394296 7.91625148 7.585719   8.64476301 8.10830271 7.24324656\n",
      " 7.8024236  8.40839054 8.35463476 7.7523882  7.12641877 7.60879971\n",
      " 7.08634624 8.54674745 7.75737687 7.1623217  7.63549979 8.82123039\n",
      " 8.20043625 8.09783095 7.15048313 8.22300395 7.51502318 7.15922819\n",
      " 7.52419056 7.8112862  6.99882264 7.7441865  8.1488129  7.80719543\n",
      " 7.42767147 6.61341895 7.40759462 7.5097976  7.33212411 7.80905072\n",
      " 8.78588039 5.81200295 7.81632576 7.04220643 8.59628931 8.60405681\n",
      " 7.52813975 6.74359781 7.2027611  7.3612393  7.97566669 7.73609674\n",
      " 7.88444022 7.97568048 7.1631057  6.66873631 7.8421183  8.40946401\n",
      " 8.5077804  8.36701256 7.35211195 7.58369218 7.59417093 7.72655829\n",
      " 7.66202095 7.46983171 7.92347258 6.31128362 8.04326043 7.77448687\n",
      " 6.91332544 7.29128797 7.60314485 7.1563691  7.85379906 5.91662592\n",
      " 7.65739628 7.35472478 7.77359843 7.1642597 ], shape=(100,), dtype=float64) tf.Tensor(\n",
      "[20.01516708 22.0558737  21.10001255 21.44904451 19.76295682 20.26519548\n",
      " 21.6673489  19.89226396 21.34673936 22.19466377 19.02283413 21.87593825\n",
      " 21.88676333 22.75611997 20.45508197 19.68842831 22.25054237 22.36874584\n",
      " 21.71806859 20.13432405 20.40457093 20.33994075 20.47997916 21.58253854\n",
      " 20.02756844 21.12680643 21.12690037 20.11413605 20.35352634 21.9895472\n",
      " 20.58458637 20.55651754 20.12467276 20.99395713 21.65105357 21.21745372\n",
      " 22.0728054  20.20799553 21.09935182 21.54668711 21.41028094 19.51407415\n",
      " 20.30370626 20.12591028 21.51393161 20.59473958 21.42613665 21.85762333\n",
      " 21.3598025  20.98745396 21.47587086 20.66095111 20.07750228 20.89618362\n",
      " 21.53431539 22.21005892 21.58595709 21.18716854 21.30388268 21.10596801\n",
      " 19.8472844  23.8304501  21.05214601 21.83469453 20.14920542 20.00110429\n",
      " 20.95792279 21.83528914 22.13472526 21.49865392 20.94673926 21.29522175\n",
      " 21.11574775 20.79850375 21.81663626 22.26845744 20.93833435 20.39874868\n",
      " 19.98333544 19.81013183 21.50791264 21.13769569 20.73792599 21.34892613\n",
      " 21.23705646 20.87628056 21.27833391 23.02587638 20.52150725 20.78929317\n",
      " 22.17716728 21.58808898 21.34386262 21.84782274 20.52753747 23.71250575\n",
      " 20.58940229 20.92841182 21.19184885 21.90761736], shape=(100,), dtype=float64)\n"
     ]
    }
   ],
   "source": [
    "batch = 100\n",
    "dim = 40\n",
    "a = np.random.random((batch, dim))\n",
    "a = tf.convert_to_tensor(a)\n",
    "\n",
    "b = np.ones((batch, dim))\n",
    "b = tf.convert_to_tensor(b)\n",
    "rl = keras.losses.binary_crossentropy(a, b)\n",
    "\n",
    "\n",
    "kl_loss = -0.5 * (1 + b - tf.square(a) - tf.exp(b))\n",
    "kl_loss = tf.reduce_sum(kl_loss, axis=1)\n",
    "\n",
    "print(rl, kl_loss)"
   ],
   "metadata": {
    "collapsed": false,
    "pycharm": {
     "name": "#%%\n"
    }
   }
  },
  {
   "cell_type": "markdown",
   "source": [
    "## Action Selection\n",
    "\n",
    "Test the FEEF stuff"
   ],
   "metadata": {
    "collapsed": false,
    "pycharm": {
     "name": "#%% md\n"
    }
   }
  },
  {
   "cell_type": "code",
   "execution_count": 11,
   "outputs": [
    {
     "name": "stdout",
     "output_type": "stream",
     "text": [
      "tf.Tensor(\n",
      "[-0.96444476  0.9348421   0.32520223  0.30133337 -0.5702816   0.85975087\n",
      " -1.0687883  -2.9884071  -1.444941   -1.6965554 ], shape=(10,), dtype=float32)\n",
      "tf.Tensor(\n",
      "[ 0.96444476 -0.9348421  -0.32520223 -0.30133337  0.5702816  -0.85975087\n",
      "  1.0687883   2.9884071   1.444941    1.6965554 ], shape=(10,), dtype=float32)\n",
      "TopKV2(values=<tf.Tensor: shape=(3,), dtype=float32, numpy=array([2.9884071, 1.6965554, 1.444941 ], dtype=float32)>, indices=<tf.Tensor: shape=(3,), dtype=int32, numpy=array([7, 9, 8], dtype=int32)>)\n"
     ]
    }
   ],
   "source": [
    "mean_best_policies = tf.zeros(3)\n",
    "std_best_policies = tf.ones(3)\n",
    "\n",
    "policy_distr = tfp.distributions.MultivariateNormalDiag(loc=mean_best_policies, scale_diag=std_best_policies)\n",
    "\n",
    "ps = tf.reduce_sum(policy_distr.sample(10), axis=1)\n",
    "\n",
    "print(ps)\n",
    "\n",
    "neg_ps = -1*ps\n",
    "\n",
    "print(neg_ps)\n",
    "\n",
    "result = tf.math.top_k(neg_ps, k=3, sorted=False)\n",
    "\n",
    "print(result)\n",
    "\n",
    "#\n",
    "# result = tf.math.top_k(neg_FEEF_sum, self.n_policy_candidates, sorted=False)\n",
    "# min_FEEF_indices = result.indices\n",
    "#\n",
    "# mean_best_policies = policies[:, min_FEEF_indices].mean(1)\n",
    "# std_best_policies = policies[:, min_FEEF_indices].std(1)"
   ],
   "metadata": {
    "collapsed": false,
    "pycharm": {
     "name": "#%%\n"
    }
   }
  },
  {
   "cell_type": "code",
   "execution_count": 12,
   "outputs": [
    {
     "data": {
      "text/plain": "<tf.Tensor: shape=(10, 10), dtype=float32, numpy=\narray([[0., 0., 0., 0., 0., 0., 0., 0., 0., 0.],\n       [0., 0., 0., 0., 0., 0., 0., 0., 0., 0.],\n       [0., 0., 0., 0., 0., 0., 0., 0., 0., 0.],\n       [0., 0., 0., 0., 0., 0., 0., 0., 0., 0.],\n       [0., 0., 0., 0., 0., 0., 0., 0., 0., 0.],\n       [0., 0., 0., 0., 0., 0., 0., 0., 0., 0.],\n       [0., 0., 0., 0., 0., 0., 0., 0., 0., 0.],\n       [0., 0., 0., 0., 0., 0., 0., 0., 0., 0.],\n       [0., 0., 0., 0., 0., 0., 0., 0., 0., 0.],\n       [0., 0., 0., 0., 0., 0., 0., 0., 0., 0.]], dtype=float32)>"
     },
     "execution_count": 12,
     "metadata": {},
     "output_type": "execute_result"
    }
   ],
   "source": [
    "tf.zeros((10,10))"
   ],
   "metadata": {
    "collapsed": false,
    "pycharm": {
     "name": "#%%\n"
    }
   }
  },
  {
   "cell_type": "code",
   "execution_count": 14,
   "outputs": [
    {
     "name": "stdout",
     "output_type": "stream",
     "text": [
      "Epoch 1/30\n"
     ]
    },
    {
     "name": "stderr",
     "output_type": "stream",
     "text": [
      "2022-07-07 06:12:57.292089: W tensorflow/core/platform/profile_utils/cpu_utils.cc:128] Failed to get CPU frequency: 0 Hz\n",
      "2022-07-07 06:12:57.423384: I tensorflow/core/grappler/optimizers/custom_graph_optimizer_registry.cc:113] Plugin optimizer for device_type GPU is enabled.\n"
     ]
    },
    {
     "name": "stdout",
     "output_type": "stream",
     "text": [
      "5/5 [==============================] - 0s 7ms/step - loss: 0.7602 - reconstruction_loss: 0.6785 - kl_loss: 0.0758\n",
      "Epoch 2/30\n",
      "5/5 [==============================] - 0s 7ms/step - loss: 0.7293 - reconstruction_loss: 0.6756 - kl_loss: 0.0495\n",
      "Epoch 3/30\n",
      "5/5 [==============================] - 0s 7ms/step - loss: 0.7056 - reconstruction_loss: 0.6724 - kl_loss: 0.0298\n",
      "Epoch 4/30\n",
      "5/5 [==============================] - 0s 7ms/step - loss: 0.6889 - reconstruction_loss: 0.6703 - kl_loss: 0.0162\n",
      "Epoch 5/30\n",
      "5/5 [==============================] - 0s 7ms/step - loss: 0.6775 - reconstruction_loss: 0.6684 - kl_loss: 0.0076\n",
      "Epoch 6/30\n",
      "5/5 [==============================] - 0s 8ms/step - loss: 0.6700 - reconstruction_loss: 0.6664 - kl_loss: 0.0029\n",
      "Epoch 7/30\n",
      "5/5 [==============================] - 0s 7ms/step - loss: 0.6668 - reconstruction_loss: 0.6654 - kl_loss: 7.7720e-04\n",
      "Epoch 8/30\n",
      "5/5 [==============================] - 0s 7ms/step - loss: 0.6653 - reconstruction_loss: 0.6648 - kl_loss: 1.3243e-04\n",
      "Epoch 9/30\n",
      "5/5 [==============================] - 0s 7ms/step - loss: 0.6637 - reconstruction_loss: 0.6637 - kl_loss: 1.2429e-04\n",
      "Epoch 10/30\n",
      "5/5 [==============================] - 0s 7ms/step - loss: 0.6635 - reconstruction_loss: 0.6627 - kl_loss: 2.6167e-04\n",
      "Epoch 11/30\n",
      "5/5 [==============================] - 0s 7ms/step - loss: 0.6622 - reconstruction_loss: 0.6619 - kl_loss: 3.2994e-04\n",
      "Epoch 12/30\n",
      "5/5 [==============================] - 0s 7ms/step - loss: 0.6620 - reconstruction_loss: 0.6614 - kl_loss: 2.9837e-04\n",
      "Epoch 13/30\n",
      "5/5 [==============================] - 0s 7ms/step - loss: 0.6612 - reconstruction_loss: 0.6611 - kl_loss: 2.1742e-04\n",
      "Epoch 14/30\n",
      "5/5 [==============================] - 0s 7ms/step - loss: 0.6608 - reconstruction_loss: 0.6606 - kl_loss: 1.3944e-04\n",
      "Epoch 15/30\n",
      "5/5 [==============================] - 0s 6ms/step - loss: 0.6598 - reconstruction_loss: 0.6600 - kl_loss: 9.0881e-05\n",
      "Epoch 16/30\n",
      "5/5 [==============================] - 0s 7ms/step - loss: 0.6600 - reconstruction_loss: 0.6602 - kl_loss: 6.9999e-05\n",
      "Epoch 17/30\n",
      "5/5 [==============================] - 0s 7ms/step - loss: 0.6594 - reconstruction_loss: 0.6593 - kl_loss: 6.5877e-05\n",
      "Epoch 18/30\n",
      "5/5 [==============================] - 0s 7ms/step - loss: 0.6591 - reconstruction_loss: 0.6590 - kl_loss: 6.7428e-05\n",
      "Epoch 19/30\n",
      "5/5 [==============================] - 0s 6ms/step - loss: 0.6595 - reconstruction_loss: 0.6591 - kl_loss: 6.8263e-05\n",
      "Epoch 20/30\n",
      "5/5 [==============================] - 0s 6ms/step - loss: 0.6587 - reconstruction_loss: 0.6587 - kl_loss: 6.7424e-05\n",
      "Epoch 21/30\n",
      "5/5 [==============================] - 0s 7ms/step - loss: 0.6581 - reconstruction_loss: 0.6582 - kl_loss: 6.5917e-05\n",
      "Epoch 22/30\n",
      "5/5 [==============================] - 0s 6ms/step - loss: 0.6583 - reconstruction_loss: 0.6581 - kl_loss: 6.4543e-05\n",
      "Epoch 23/30\n",
      "5/5 [==============================] - 0s 6ms/step - loss: 0.6577 - reconstruction_loss: 0.6580 - kl_loss: 6.4410e-05\n",
      "Epoch 24/30\n",
      "5/5 [==============================] - 0s 6ms/step - loss: 0.6578 - reconstruction_loss: 0.6576 - kl_loss: 6.4525e-05\n",
      "Epoch 25/30\n",
      "5/5 [==============================] - 0s 7ms/step - loss: 0.6574 - reconstruction_loss: 0.6572 - kl_loss: 6.4932e-05\n",
      "Epoch 26/30\n",
      "5/5 [==============================] - 0s 7ms/step - loss: 0.6576 - reconstruction_loss: 0.6572 - kl_loss: 6.5177e-05\n",
      "Epoch 27/30\n",
      "5/5 [==============================] - 0s 7ms/step - loss: 0.6572 - reconstruction_loss: 0.6571 - kl_loss: 6.5158e-05\n",
      "Epoch 28/30\n",
      "5/5 [==============================] - 0s 7ms/step - loss: 0.6570 - reconstruction_loss: 0.6570 - kl_loss: 6.4845e-05\n",
      "Epoch 29/30\n",
      "5/5 [==============================] - 0s 7ms/step - loss: 0.6568 - reconstruction_loss: 0.6566 - kl_loss: 6.4449e-05\n",
      "Epoch 30/30\n",
      "5/5 [==============================] - 0s 7ms/step - loss: 0.6565 - reconstruction_loss: 0.6565 - kl_loss: 6.4102e-05\n",
      "Epoch 1/50\n",
      "WARNING:tensorflow:From /Users/Ethan/miniconda3/envs/tf_daif/lib/python3.8/site-packages/tensorflow_probability/python/distributions/distribution.py:345: calling MultivariateNormalDiag.__init__ (from tensorflow_probability.python.distributions.mvn_diag) with scale_identity_multiplier is deprecated and will be removed after 2020-01-01.\n",
      "Instructions for updating:\n",
      "`scale_identity_multiplier` is deprecated; please combine it into `scale_diag` directly instead.\n",
      "10/10 [==============================] - 0s 9ms/step - kl_loss: 0.5820\n",
      "Epoch 2/50\n"
     ]
    },
    {
     "name": "stderr",
     "output_type": "stream",
     "text": [
      "2022-07-07 06:12:58.872920: I tensorflow/core/grappler/optimizers/custom_graph_optimizer_registry.cc:113] Plugin optimizer for device_type GPU is enabled.\n"
     ]
    },
    {
     "name": "stdout",
     "output_type": "stream",
     "text": [
      "10/10 [==============================] - 0s 7ms/step - kl_loss: 0.4317\n",
      "Epoch 3/50\n",
      "10/10 [==============================] - 0s 7ms/step - kl_loss: 0.3275\n",
      "Epoch 4/50\n",
      "10/10 [==============================] - 0s 6ms/step - kl_loss: 0.2600\n",
      "Epoch 5/50\n",
      "10/10 [==============================] - 0s 6ms/step - kl_loss: 0.2147\n",
      "Epoch 6/50\n",
      "10/10 [==============================] - 0s 6ms/step - kl_loss: 0.1803\n",
      "Epoch 7/50\n",
      "10/10 [==============================] - 0s 7ms/step - kl_loss: 0.1556\n",
      "Epoch 8/50\n",
      "10/10 [==============================] - 0s 7ms/step - kl_loss: 0.1354\n",
      "Epoch 9/50\n",
      "10/10 [==============================] - 0s 7ms/step - kl_loss: 0.1188\n",
      "Epoch 10/50\n",
      "10/10 [==============================] - 0s 7ms/step - kl_loss: 0.1046\n",
      "Epoch 11/50\n",
      "10/10 [==============================] - 0s 6ms/step - kl_loss: 0.0919\n",
      "Epoch 12/50\n",
      "10/10 [==============================] - 0s 6ms/step - kl_loss: 0.0811\n",
      "Epoch 13/50\n",
      "10/10 [==============================] - 0s 7ms/step - kl_loss: 0.0714\n",
      "Epoch 14/50\n",
      "10/10 [==============================] - 0s 6ms/step - kl_loss: 0.0628\n",
      "Epoch 15/50\n",
      "10/10 [==============================] - 0s 7ms/step - kl_loss: 0.0552\n",
      "Epoch 16/50\n",
      "10/10 [==============================] - 0s 7ms/step - kl_loss: 0.0484\n",
      "Epoch 17/50\n",
      "10/10 [==============================] - 0s 6ms/step - kl_loss: 0.0422\n",
      "Epoch 18/50\n",
      "10/10 [==============================] - 0s 6ms/step - kl_loss: 0.0367\n",
      "Epoch 19/50\n",
      "10/10 [==============================] - 0s 6ms/step - kl_loss: 0.0316\n",
      "Epoch 20/50\n",
      "10/10 [==============================] - 0s 5ms/step - kl_loss: 0.0271\n",
      "Epoch 21/50\n",
      "10/10 [==============================] - 0s 6ms/step - kl_loss: 0.0230\n",
      "Epoch 22/50\n",
      "10/10 [==============================] - 0s 7ms/step - kl_loss: 0.0194\n",
      "Epoch 23/50\n",
      "10/10 [==============================] - 0s 7ms/step - kl_loss: 0.0163\n",
      "Epoch 24/50\n",
      "10/10 [==============================] - 0s 6ms/step - kl_loss: 0.0136\n",
      "Epoch 25/50\n",
      "10/10 [==============================] - 0s 5ms/step - kl_loss: 0.0112\n",
      "Epoch 26/50\n",
      "10/10 [==============================] - 0s 6ms/step - kl_loss: 0.0093\n",
      "Epoch 27/50\n",
      "10/10 [==============================] - 0s 5ms/step - kl_loss: 0.0078\n",
      "Epoch 28/50\n",
      "10/10 [==============================] - 0s 6ms/step - kl_loss: 0.0066\n",
      "Epoch 29/50\n",
      "10/10 [==============================] - 0s 6ms/step - kl_loss: 0.0057\n",
      "Epoch 30/50\n",
      "10/10 [==============================] - 0s 6ms/step - kl_loss: 0.0050\n",
      "Epoch 31/50\n",
      "10/10 [==============================] - 0s 6ms/step - kl_loss: 0.0045\n",
      "Epoch 32/50\n",
      "10/10 [==============================] - 0s 5ms/step - kl_loss: 0.0041\n",
      "Epoch 33/50\n",
      "10/10 [==============================] - 0s 5ms/step - kl_loss: 0.0039\n",
      "Epoch 34/50\n",
      "10/10 [==============================] - 0s 5ms/step - kl_loss: 0.0037\n",
      "Epoch 35/50\n",
      "10/10 [==============================] - 0s 5ms/step - kl_loss: 0.0036\n",
      "Epoch 36/50\n",
      "10/10 [==============================] - 0s 5ms/step - kl_loss: 0.0035\n",
      "Epoch 37/50\n",
      "10/10 [==============================] - 0s 5ms/step - kl_loss: 0.0035\n",
      "Epoch 38/50\n",
      "10/10 [==============================] - 0s 5ms/step - kl_loss: 0.0034\n",
      "Epoch 39/50\n",
      "10/10 [==============================] - 0s 5ms/step - kl_loss: 0.0034\n",
      "Epoch 40/50\n",
      "10/10 [==============================] - 0s 5ms/step - kl_loss: 0.0034\n",
      "Epoch 41/50\n",
      "10/10 [==============================] - 0s 5ms/step - kl_loss: 0.0033\n",
      "Epoch 42/50\n",
      "10/10 [==============================] - 0s 5ms/step - kl_loss: 0.0033\n",
      "Epoch 43/50\n",
      "10/10 [==============================] - 0s 5ms/step - kl_loss: 0.0033\n",
      "Epoch 44/50\n",
      "10/10 [==============================] - 0s 6ms/step - kl_loss: 0.0033\n",
      "Epoch 45/50\n",
      "10/10 [==============================] - 0s 6ms/step - kl_loss: 0.0033\n",
      "Epoch 46/50\n",
      "10/10 [==============================] - 0s 6ms/step - kl_loss: 0.0032\n",
      "Epoch 47/50\n",
      "10/10 [==============================] - 0s 7ms/step - kl_loss: 0.0032\n",
      "Epoch 48/50\n",
      "10/10 [==============================] - 0s 7ms/step - kl_loss: 0.0032\n",
      "Epoch 49/50\n",
      "10/10 [==============================] - 0s 7ms/step - kl_loss: 0.0032\n",
      "Epoch 50/50\n",
      "10/10 [==============================] - 0s 5ms/step - kl_loss: 0.0032\n"
     ]
    },
    {
     "data": {
      "text/plain": "<keras.callbacks.History at 0x15fb8e970>"
     },
     "execution_count": 14,
     "metadata": {},
     "output_type": "execute_result"
    }
   ],
   "source": [
    "enc = create_encoder(2, 2, [20])\n",
    "dec = create_decoder(2, 2, [20])\n",
    "tran = TransitionModel(2, 1)\n",
    "\n",
    "# create the prior distribution\n",
    "# prior_observations = tf.convert_to_tensor(np.array([0.5, 100]).astype(\"float\"))\n",
    "# prior = tfp.distributions.MultivariateNormalDiag(loc=prior_observations, scale_diag=np.ones_like())\n",
    "\n",
    "daifa = DAIFAgent(None, enc, dec, tran)\n",
    "\n",
    "env = gym.make('MountainCarContinuous-v0')\n",
    "env.action_space.seed(42)\n",
    "\n",
    "o, a, r = random_observation_sequence(env, 10000)\n",
    "\n",
    "o_scaled = transform_observations(o, [0.1, 0.05])\n",
    "o_scaled\n",
    "\n",
    "# Perception\n",
    "daifa.model_vae.fit(o_scaled, batch_size=200, epochs=30)\n",
    "z_mean, z_stddev, z = daifa.model_vae.encoder(o)\n",
    "\n",
    "recon = daifa.model_vae.decoder(z)\n",
    "\n",
    "# transition\n",
    "z_mean, z_stddev, z = daifa.model_vae.encoder(o)\n",
    "\n",
    "# input\n",
    "z_train = np.concatenate([z_mean[0:len(z_mean) - 1], a], axis=1)\n",
    "\n",
    "# output\n",
    "z_plus_one_train_mean = o[1:]\n",
    "z_plus_one_train_stddev = z_stddev[1:]\n",
    "daifa.tran.fit(z_train, (z_plus_one_train_mean, z_plus_one_train_stddev), batch_size=100, epochs=50)"
   ],
   "metadata": {
    "collapsed": false,
    "pycharm": {
     "name": "#%%\n"
    }
   }
  },
  {
   "cell_type": "code",
   "execution_count": 16,
   "outputs": [
    {
     "data": {
      "text/plain": "(<tf.Tensor: shape=(15,), dtype=float32, numpy=\n array([-0.20070818,  0.7253131 , -0.8150349 , -0.4245601 , -0.8902022 ,\n        -0.6787055 , -0.73471665, -0.11469162, -0.7634379 , -0.5958372 ,\n         0.73066735, -0.09735839, -0.8139771 , -0.22439788, -0.39049834],\n       dtype=float32)>,\n <tf.Tensor: shape=(15,), dtype=float32, numpy=\n array([0.1196427 , 0.5445143 , 0.0685593 , 0.30862826, 0.15756068,\n        0.31297576, 0.11279172, 0.2131243 , 0.09952834, 0.14200002,\n        0.51246357, 0.18465346, 0.09358477, 0.21129449, 0.26233423],\n       dtype=float32)>)"
     },
     "execution_count": 16,
     "metadata": {},
     "output_type": "execute_result"
    }
   ],
   "source": [
    "daifa.cem_policy_optimisation(o_scaled[0])\n",
    "# policy = list(daifa.select_action(z_plus_one_train_mean[0]))\n",
    "# policy"
   ],
   "metadata": {
    "collapsed": false,
    "pycharm": {
     "name": "#%%\n"
    }
   }
  },
  {
   "cell_type": "code",
   "execution_count": 297,
   "outputs": [
    {
     "name": "stdout",
     "output_type": "stream",
     "text": [
      "-0.4614573 0.0\n",
      "[49499.965 49499.996 49500.04  49500.047 49500.023 49500.02  49500.008\n",
      " 49499.953 49500.004 49499.984 49499.92  49500.062 49499.992 49500.008\n",
      " 49499.926 49499.965 49500.02  49499.984 49500.008 49500.043 49500.043\n",
      " 49500.04  49499.96  49499.94  49500.008 49499.918 49499.99  49500.055\n",
      " 49500.03  49499.926 49499.953 49499.96  49499.992 49499.957 49500.016\n",
      " 49500.01  49499.984 49499.98  49500.027 49499.992 49500.016 49500.055\n",
      " 49500.082 49499.98  49500.043 49500.047 49499.97  49499.99  49499.953\n",
      " 49500.03  49499.953 49499.953 49499.91  49499.977 49499.977 49500.047\n",
      " 49499.996 49500.06  49500.043 49499.938 49499.984 49500.016 49499.984\n",
      " 49499.984 49499.96  49499.957 49499.98  49500.074 49500.008 49499.996\n",
      " 49499.973 49500.062 49499.938 49499.953 49500.016 49499.984 49499.992\n",
      " 49500.06  49499.883 49500.004 49500.023 49500.008 49500.05  49499.93\n",
      " 49499.95  49499.945 49499.957 49499.914 49499.938 49499.98  49499.99\n",
      " 49499.945 49500.035 49500.05  49499.992 49499.906 49499.934 49499.992\n",
      " 49499.953 49499.97 ]\n",
      "[-0.4605124   0.00094489] -0.08814193814430266 False {}\n",
      "[-0.45937955  0.00113286] -0.019259936009304778 False {}\n",
      "[-0.45879617  0.00058339] -0.0002227853473330166 False {}\n",
      "[-4.5847267e-01  3.2350153e-04] -0.0022117423237694913 False {}\n",
      "[-4.585151e-01 -4.245247e-05] -0.0006335117376847692 False {}\n",
      "[-0.45941976 -0.00090464] -0.006322093107432417 False {}\n",
      "[-0.4602204  -0.00080064] -0.015073690071490651 False {}\n",
      "[-0.46193555 -0.00171516] -0.008684311721660651 False {}\n",
      "[-0.4646594  -0.00272386] -0.013388600891754327 False {}\n",
      "[-0.46777183 -0.00311244] -0.00011632055650039597 False {}\n"
     ]
    }
   ],
   "source": [
    "env = gym.make('MountainCarContinuous-v0')\n",
    "env.action_space.seed(42)\n",
    "\n",
    "observation, info = env.reset()\n",
    "print(observation, info)\n",
    "\n",
    "policy = daifa.select_action(z_plus_one_train_mean[0]).reshape(10, 1)\n",
    "policy\n",
    "\n",
    "# execute the policy\n",
    "for action in policy:\n",
    "\n",
    "    observation, reward, done, info = env.step(action)\n",
    "\n",
    "    print(observation, reward, done, info)\n",
    "\n",
    "    if done:\n",
    "        observation, info = env.reset(return_info=True)\n",
    "\n",
    "env.close()"
   ],
   "metadata": {
    "collapsed": false,
    "pycharm": {
     "name": "#%%\n"
    }
   }
  },
  {
   "cell_type": "code",
   "execution_count": 287,
   "outputs": [
    {
     "data": {
      "text/plain": "array([0.36845294], dtype=float32)"
     },
     "execution_count": 287,
     "metadata": {},
     "output_type": "execute_result"
    }
   ],
   "source": [
    "env.action_space.sample()"
   ],
   "metadata": {
    "collapsed": false,
    "pycharm": {
     "name": "#%%\n"
    }
   }
  },
  {
   "cell_type": "code",
   "execution_count": 28,
   "outputs": [],
   "source": [
    "enc = create_encoder(2, 2, [20])\n",
    "dec = create_decoder(2, 2, [20])\n",
    "tran = TransitionModel(2, 1)\n",
    "\n",
    "# create the prior distribution\n",
    "# prior_observations = tf.convert_to_tensor(np.array([0.5, 100]).astype(\"float\"))\n",
    "# prior = tfp.distributions.MultivariateNormalDiag(loc=prior_observations, scale_diag=np.ones_like())\n",
    "\n",
    "daifa = DAIFAgent(\"test\", enc, dec, tran, 10, 100)"
   ],
   "metadata": {
    "collapsed": false,
    "pycharm": {
     "name": "#%%\n"
    }
   }
  },
  {
   "cell_type": "code",
   "execution_count": 29,
   "outputs": [
    {
     "data": {
      "text/plain": "array([[0.47845995, 0.49991999],\n       [0.51759177, 0.49046143],\n       [0.50813442, 0.51365131],\n       ...,\n       [0.57395726, 0.50586725],\n       [0.57064717, 0.46195592],\n       [0.5754071 , 0.47639147]])"
     },
     "execution_count": 29,
     "metadata": {},
     "output_type": "execute_result"
    }
   ],
   "source": [
    "env = gym.make('MountainCarContinuous-v0')\n",
    "env.action_space.seed(42)\n",
    "\n",
    "o, a, r = random_observation_sequence(env, 10000)\n",
    "o_noisy = o + np.random.normal(loc=0.0, scale=[0.05, 0.005], size=o.shape)\n",
    "\n",
    "o_scaled = transform_observations(o_noisy)\n",
    "o_scaled"
   ],
   "metadata": {
    "collapsed": false,
    "pycharm": {
     "name": "#%%\n"
    }
   }
  },
  {
   "cell_type": "code",
   "execution_count": 30,
   "outputs": [
    {
     "name": "stdout",
     "output_type": "stream",
     "text": [
      "Epoch 1/20\n",
      "5/5 [==============================] - 0s 7ms/step - loss: 0.8552 - reconstruction_loss: 0.7133 - kl_loss: 0.1348\n",
      "Epoch 2/20\n",
      "5/5 [==============================] - 0s 8ms/step - loss: 0.8158 - reconstruction_loss: 0.7098 - kl_loss: 0.1001\n",
      "Epoch 3/20\n",
      "1/5 [=====>........................] - ETA: 0s - loss: 0.7876 - reconstruction_loss: 0.7061 - kl_loss: 0.0815"
     ]
    },
    {
     "name": "stderr",
     "output_type": "stream",
     "text": [
      "2022-07-06 05:54:16.754819: I tensorflow/core/grappler/optimizers/custom_graph_optimizer_registry.cc:113] Plugin optimizer for device_type GPU is enabled.\n"
     ]
    },
    {
     "name": "stdout",
     "output_type": "stream",
     "text": [
      "5/5 [==============================] - 0s 8ms/step - loss: 0.7811 - reconstruction_loss: 0.7061 - kl_loss: 0.0707\n",
      "Epoch 4/20\n",
      "5/5 [==============================] - 0s 7ms/step - loss: 0.7549 - reconstruction_loss: 0.7050 - kl_loss: 0.0470\n",
      "Epoch 5/20\n",
      "5/5 [==============================] - 0s 8ms/step - loss: 0.7359 - reconstruction_loss: 0.7034 - kl_loss: 0.0293\n",
      "Epoch 6/20\n",
      "5/5 [==============================] - 0s 7ms/step - loss: 0.7205 - reconstruction_loss: 0.7013 - kl_loss: 0.0170\n",
      "Epoch 7/20\n",
      "5/5 [==============================] - 0s 7ms/step - loss: 0.7114 - reconstruction_loss: 0.7003 - kl_loss: 0.0090\n",
      "Epoch 8/20\n",
      "5/5 [==============================] - 0s 7ms/step - loss: 0.7035 - reconstruction_loss: 0.6986 - kl_loss: 0.0042\n",
      "Epoch 9/20\n",
      "5/5 [==============================] - 0s 7ms/step - loss: 0.6999 - reconstruction_loss: 0.6978 - kl_loss: 0.0017\n",
      "Epoch 10/20\n",
      "5/5 [==============================] - 0s 8ms/step - loss: 0.6978 - reconstruction_loss: 0.6968 - kl_loss: 6.0820e-04\n",
      "Epoch 11/20\n",
      "5/5 [==============================] - 0s 8ms/step - loss: 0.6960 - reconstruction_loss: 0.6958 - kl_loss: 2.6942e-04\n",
      "Epoch 12/20\n",
      "5/5 [==============================] - 0s 7ms/step - loss: 0.6960 - reconstruction_loss: 0.6955 - kl_loss: 2.5273e-04\n",
      "Epoch 13/20\n",
      "5/5 [==============================] - 0s 7ms/step - loss: 0.6951 - reconstruction_loss: 0.6947 - kl_loss: 3.0811e-04\n",
      "Epoch 14/20\n",
      "5/5 [==============================] - 0s 7ms/step - loss: 0.6948 - reconstruction_loss: 0.6942 - kl_loss: 3.3955e-04\n",
      "Epoch 15/20\n",
      "5/5 [==============================] - 0s 8ms/step - loss: 0.6948 - reconstruction_loss: 0.6943 - kl_loss: 3.2975e-04\n",
      "Epoch 16/20\n",
      "5/5 [==============================] - 0s 7ms/step - loss: 0.6944 - reconstruction_loss: 0.6940 - kl_loss: 2.9495e-04\n",
      "Epoch 17/20\n",
      "5/5 [==============================] - 0s 7ms/step - loss: 0.6940 - reconstruction_loss: 0.6937 - kl_loss: 2.5628e-04\n",
      "Epoch 18/20\n",
      "5/5 [==============================] - 0s 8ms/step - loss: 0.6939 - reconstruction_loss: 0.6936 - kl_loss: 2.2816e-04\n",
      "Epoch 19/20\n",
      "5/5 [==============================] - 0s 7ms/step - loss: 0.6939 - reconstruction_loss: 0.6936 - kl_loss: 2.1259e-04\n",
      "Epoch 20/20\n",
      "5/5 [==============================] - 0s 7ms/step - loss: 0.6937 - reconstruction_loss: 0.6935 - kl_loss: 2.0517e-04\n"
     ]
    },
    {
     "data": {
      "text/plain": "<keras.callbacks.History at 0x175aa1760>"
     },
     "execution_count": 30,
     "metadata": {},
     "output_type": "execute_result"
    }
   ],
   "source": [
    "# Perception\n",
    "daifa.model_vae.fit(o_scaled, batch_size=200, epochs=20)"
   ],
   "metadata": {
    "collapsed": false,
    "pycharm": {
     "name": "#%%\n"
    }
   }
  },
  {
   "cell_type": "code",
   "execution_count": 31,
   "outputs": [
    {
     "name": "stdout",
     "output_type": "stream",
     "text": [
      "tf.Tensor(\n",
      "[[0.5257379  0.5014833 ]\n",
      " [0.5014981  0.5088885 ]\n",
      " [0.5229919  0.49525228]\n",
      " ...\n",
      " [0.4788991  0.4971832 ]\n",
      " [0.5250801  0.5057    ]\n",
      " [0.49217275 0.4854029 ]], shape=(1000, 2), dtype=float32)\n",
      "[[0.47845995 0.49991999]\n",
      " [0.51759177 0.49046143]\n",
      " [0.50813442 0.51365131]\n",
      " ...\n",
      " [0.57395726 0.50586725]\n",
      " [0.57064717 0.46195592]\n",
      " [0.5754071  0.47639147]]\n"
     ]
    }
   ],
   "source": [
    "z_mean, z_stddev, z = daifa.model_vae.encoder(o)\n",
    "\n",
    "recon = daifa.model_vae.decoder(z)\n",
    "print(recon)\n",
    "print(o_scaled)"
   ],
   "metadata": {
    "collapsed": false,
    "pycharm": {
     "name": "#%%\n"
    }
   }
  },
  {
   "cell_type": "code",
   "execution_count": 32,
   "outputs": [],
   "source": [
    "# transition\n",
    "z_mean, z_stddev, z = daifa.model_vae.encoder(o)\n",
    "\n",
    "# input\n",
    "z_train = np.concatenate([z_mean[0:len(z_mean) - 1], a], axis=1)\n",
    "\n",
    "# output\n",
    "z_plus_one_train_mean = o[1:]\n",
    "z_plus_one_train_stddev = z_stddev[1:]"
   ],
   "metadata": {
    "collapsed": false,
    "pycharm": {
     "name": "#%%\n"
    }
   }
  },
  {
   "cell_type": "code",
   "execution_count": 33,
   "outputs": [
    {
     "name": "stdout",
     "output_type": "stream",
     "text": [
      "Epoch 1/20\n",
      "10/10 [==============================] - 0s 9ms/step - kl_loss: 0.3604\n",
      "Epoch 2/20\n",
      " 1/10 [==>...........................] - ETA: 0s - kl_loss: 0.3227"
     ]
    },
    {
     "name": "stderr",
     "output_type": "stream",
     "text": [
      "2022-07-06 05:54:22.898256: I tensorflow/core/grappler/optimizers/custom_graph_optimizer_registry.cc:113] Plugin optimizer for device_type GPU is enabled.\n"
     ]
    },
    {
     "name": "stdout",
     "output_type": "stream",
     "text": [
      "10/10 [==============================] - 0s 7ms/step - kl_loss: 0.2692\n",
      "Epoch 3/20\n",
      "10/10 [==============================] - 0s 5ms/step - kl_loss: 0.2056\n",
      "Epoch 4/20\n",
      "10/10 [==============================] - 0s 6ms/step - kl_loss: 0.1597\n",
      "Epoch 5/20\n",
      "10/10 [==============================] - 0s 6ms/step - kl_loss: 0.1272\n",
      "Epoch 6/20\n",
      "10/10 [==============================] - 0s 6ms/step - kl_loss: 0.1043\n",
      "Epoch 7/20\n",
      "10/10 [==============================] - 0s 6ms/step - kl_loss: 0.0873\n",
      "Epoch 8/20\n",
      "10/10 [==============================] - 0s 6ms/step - kl_loss: 0.0746\n",
      "Epoch 9/20\n",
      "10/10 [==============================] - 0s 6ms/step - kl_loss: 0.0644\n",
      "Epoch 10/20\n",
      "10/10 [==============================] - 0s 5ms/step - kl_loss: 0.0559\n",
      "Epoch 11/20\n",
      "10/10 [==============================] - 0s 6ms/step - kl_loss: 0.0486\n",
      "Epoch 12/20\n",
      "10/10 [==============================] - 0s 5ms/step - kl_loss: 0.0421\n",
      "Epoch 13/20\n",
      "10/10 [==============================] - 0s 5ms/step - kl_loss: 0.0366\n",
      "Epoch 14/20\n",
      "10/10 [==============================] - 0s 5ms/step - kl_loss: 0.0319\n",
      "Epoch 15/20\n",
      "10/10 [==============================] - 0s 5ms/step - kl_loss: 0.0280\n",
      "Epoch 16/20\n",
      "10/10 [==============================] - 0s 5ms/step - kl_loss: 0.0249\n",
      "Epoch 17/20\n",
      "10/10 [==============================] - 0s 5ms/step - kl_loss: 0.0225\n",
      "Epoch 18/20\n",
      "10/10 [==============================] - 0s 5ms/step - kl_loss: 0.0207\n",
      "Epoch 19/20\n",
      "10/10 [==============================] - 0s 5ms/step - kl_loss: 0.0193\n",
      "Epoch 20/20\n",
      "10/10 [==============================] - 0s 6ms/step - kl_loss: 0.0184\n"
     ]
    },
    {
     "data": {
      "text/plain": "<keras.callbacks.History at 0x2ae52afd0>"
     },
     "execution_count": 33,
     "metadata": {},
     "output_type": "execute_result"
    }
   ],
   "source": [
    "daifa.tran.fit(z_train, (z_plus_one_train_mean, z_plus_one_train_stddev), batch_size=100, epochs=20)"
   ],
   "metadata": {
    "collapsed": false,
    "pycharm": {
     "name": "#%%\n"
    }
   }
  },
  {
   "cell_type": "code",
   "execution_count": 34,
   "outputs": [
    {
     "data": {
      "text/plain": "[<tf.Tensor: shape=(999, 2), dtype=float32, numpy=\n array([[-0.5141744 , -0.00226609],\n        [-0.51317906, -0.00211778],\n        [-0.50906724, -0.0015824 ],\n        ...,\n        [-0.5140544 ,  0.00733696],\n        [-0.51738137,  0.00694774],\n        [-0.5164505 ,  0.00712375]], dtype=float32)>,\n <tf.Tensor: shape=(999, 2), dtype=float32, numpy=\n array([[0.861043  , 1.0008498 ],\n        [0.8625715 , 1.0007256 ],\n        [0.8687212 , 1.0001794 ],\n        ...,\n        [0.8321117 , 1.0099009 ],\n        [0.82790154, 1.0103225 ],\n        [0.8303419 , 1.0101273 ]], dtype=float32)>]"
     },
     "execution_count": 34,
     "metadata": {},
     "output_type": "execute_result"
    }
   ],
   "source": [
    "# test action selection\n",
    "daifa.tran(z_train)"
   ],
   "metadata": {
    "collapsed": false,
    "pycharm": {
     "name": "#%%\n"
    }
   }
  },
  {
   "cell_type": "code",
   "execution_count": 35,
   "outputs": [
    {
     "data": {
      "text/plain": "array([[-5.63812613e-01, -7.72724088e-05],\n       [-5.63636005e-01,  1.76615955e-04],\n       [-5.61897516e-01,  1.73848611e-03],\n       ...,\n       [-3.47172916e-01, -2.90909829e-03],\n       [-3.52811098e-01, -5.63819287e-03],\n       [-3.60669792e-01, -7.85868429e-03]])"
     },
     "execution_count": 35,
     "metadata": {},
     "output_type": "execute_result"
    }
   ],
   "source": [
    "z_plus_one_train_mean"
   ],
   "metadata": {
    "collapsed": false,
    "pycharm": {
     "name": "#%%\n"
    }
   }
  },
  {
   "cell_type": "code",
   "execution_count": 37,
   "outputs": [
    {
     "data": {
      "text/plain": "<tf.Tensor: shape=(999, 2), dtype=float32, numpy=\narray([[0.86313003, 1.0035411 ],\n       [0.86315316, 1.0034735 ],\n       [0.8634986 , 1.0030464 ],\n       ...,\n       [0.93430805, 1.0015261 ],\n       [0.9326206 , 1.0020291 ],\n       [0.9301086 , 1.0024189 ]], dtype=float32)>"
     },
     "execution_count": 37,
     "metadata": {},
     "output_type": "execute_result"
    }
   ],
   "source": [
    "z_plus_one_train_stddev"
   ],
   "metadata": {
    "collapsed": false,
    "pycharm": {
     "name": "#%%\n"
    }
   }
  },
  {
   "cell_type": "code",
   "execution_count": 152,
   "outputs": [
    {
     "data": {
      "text/plain": "(10, 2)"
     },
     "execution_count": 152,
     "metadata": {},
     "output_type": "execute_result"
    }
   ],
   "source": [
    "a = np.array([1,2])\n",
    "\n",
    "np.stack([a]*10).shape"
   ],
   "metadata": {
    "collapsed": false,
    "pycharm": {
     "name": "#%%\n"
    }
   }
  },
  {
   "cell_type": "code",
   "execution_count": 89,
   "outputs": [
    {
     "name": "stdout",
     "output_type": "stream",
     "text": [
      "(100, 6, 3)\n"
     ]
    }
   ],
   "source": [
    "a = np.zeros((100, 1, 3))\n",
    "b = np.ones((100, 1, 3))\n",
    "\n",
    "obs = np.ones((100, 1, 2))\n",
    "\n",
    "p = np.random.normal(loc=0, scale=1, size=(100, 10))\n",
    "\n",
    "new_obs = np.concatenate([obs, (p[:, 0]).reshape(100,1,1)], axis=2)\n",
    "\n",
    "new_obs.shape\n",
    "\n",
    "join = np.hstack([a, b, b, b, b, new_obs])\n",
    "print(join.shape)\n",
    "# np.concatenate([join, (p[:, 0]).reshape(100,1,1)], axis=2).shape"
   ],
   "metadata": {
    "collapsed": false,
    "pycharm": {
     "name": "#%%\n"
    }
   }
  },
  {
   "cell_type": "code",
   "execution_count": 43,
   "outputs": [
    {
     "data": {
      "text/plain": "array([[-5.63812613e-01, -7.72724088e-05]])"
     },
     "execution_count": 43,
     "metadata": {},
     "output_type": "execute_result"
    }
   ],
   "source": [
    "z_plus_one_train_mean[0].reshape(1,2)"
   ],
   "metadata": {
    "collapsed": false,
    "pycharm": {
     "name": "#%%\n"
    }
   }
  },
  {
   "cell_type": "markdown",
   "source": [
    "### Run on the env"
   ],
   "metadata": {
    "collapsed": false
   }
  },
  {
   "cell_type": "code",
   "execution_count": 11,
   "outputs": [
    {
     "ename": "IndentationError",
     "evalue": "expected an indented block (2468360782.py, line 14)",
     "output_type": "error",
     "traceback": [
      "\u001B[0;36m  Input \u001B[0;32mIn [11]\u001B[0;36m\u001B[0m\n\u001B[0;31m    observation, reward, done, info = env.step()\u001B[0m\n\u001B[0m    ^\u001B[0m\n\u001B[0;31mIndentationError\u001B[0m\u001B[0;31m:\u001B[0m expected an indented block\n"
     ]
    }
   ],
   "source": [
    "env = gym.make('MountainCar-v0')\n",
    "env.action_space.seed(42)\n",
    "\n",
    "observation, info = env.reset()\n",
    "print(observation, info)\n",
    "\n",
    "for _ in range(1000):\n",
    "\n",
    "    policy = daifa.select_action(observation)\n",
    "\n",
    "    # execute the policy\n",
    "    for _ in range(10):\n",
    "\n",
    "    observation, reward, done, info = env.step()\n",
    "\n",
    "    print(observation, reward, done, info)\n",
    "\n",
    "    if done:\n",
    "        observation, info = env.reset(return_info=True)\n",
    "\n",
    "env.close()"
   ],
   "metadata": {
    "collapsed": false,
    "pycharm": {
     "name": "#%%\n"
    }
   }
  }
 ],
 "metadata": {
  "kernelspec": {
   "display_name": "Python 3",
   "language": "python",
   "name": "python3"
  },
  "language_info": {
   "codemirror_mode": {
    "name": "ipython",
    "version": 2
   },
   "file_extension": ".py",
   "mimetype": "text/x-python",
   "name": "python",
   "nbconvert_exporter": "python",
   "pygments_lexer": "ipython2",
   "version": "2.7.6"
  }
 },
 "nbformat": 4,
 "nbformat_minor": 0
}