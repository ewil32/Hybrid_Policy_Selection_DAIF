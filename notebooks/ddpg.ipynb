{
 "cells": [
  {
   "cell_type": "markdown",
   "metadata": {
    "collapsed": true,
    "pycharm": {
     "name": "#%% md\n"
    }
   },
   "source": [
    "# The Habitual DDPG Network\n",
    "\n",
    "Habitual network\n",
    "\n",
    "Assuming generative model is perfect, then action selected would always be the action that maximises chance of observing prior preferences. Hence habitual network can be trained to output maximally rewarding actions, as these actions are the free energy minimising actions.\n",
    "\n",
    "Also has a nice interpretation as long as the generative models keep training. Eventually the generative model is less sure about old things. Why people eventually revisit old states they were previously certain about.\n",
    "\n",
    "As far as an agent knows, if observations are confirming perfectly to expectations then it has a perfect world model. So why would it change it? It’s only when an uncertain observation comes in that the agent needs to reconsider whether or not it has the best model of the world.\n",
    "\n",
    "\n",
    "I think this network should be performing policy gradient method but instead of minimising the discounted reward sequence it should minimise the discounted external EFE/FEEF component sequence. That way in the end the end the fast and slow thinking methods should be converging as the world model continues to improve\n",
    "\n",
    "\n",
    "What is this network trying to learn?\n",
    "- This network is trying to learn the state action mapping that maximises the probability of being in the preferred states\n",
    "- It is also trying to learn to output actions that minimise the extrinsic part of the EFE/FEEF\n",
    "\n",
    "\n",
    "What does this network take as input?\n",
    "- Current state\n",
    "- Maybe sequence of previous states and actions\n",
    "\n",
    "What should this network output?\n",
    "- The action that leads to the next state that maximally achieves the prior preferences\n",
    "\n",
    "How should this network learn?\n",
    "- It should learn by outputting\n",
    "\n",
    "\n",
    "Okay so new idea! DDPG seems pretty good so far. How about we have the Q function take latent states as input and use the VAEs good latent features as input. Then we'll have\n",
    "- Q(o, a)\n",
    "- p(s|o) and p(o|s)\n",
    "- p(s'|s, a)\n",
    "- V(o) or U(o)\n",
    "\n"
   ]
  },
  {
   "cell_type": "code",
   "execution_count": 1,
   "outputs": [
    {
     "name": "stderr",
     "output_type": "stream",
     "text": [
      "/Users/Ethan/miniconda3/envs/tf_daif_car_race/lib/python3.8/site-packages/tensorflow_probability/python/__init__.py:61: DeprecationWarning: distutils Version classes are deprecated. Use packaging.version instead.\n",
      "  if (distutils.version.LooseVersion(tf.__version__) <\n"
     ]
    }
   ],
   "source": [
    "from util import random_observation_sequence, transform_observations\n",
    "import matplotlib.pyplot as plt\n",
    "import gym\n",
    "\n",
    "from ddpg import *"
   ],
   "metadata": {
    "collapsed": false,
    "pycharm": {
     "name": "#%%\n"
    }
   }
  },
  {
   "cell_type": "code",
   "execution_count": 2,
   "outputs": [],
   "source": [
    "import tensorflow as tf\n",
    "import tensorflow_probability as tfp\n",
    "import keras\n",
    "from keras import layers\n",
    "import numpy as np\n",
    "import matplotlib.pyplot as plt\n",
    "\n",
    "# Hide GPU from visible devices\n",
    "tf.config.set_visible_devices([], 'GPU')"
   ],
   "metadata": {
    "collapsed": false,
    "pycharm": {
     "name": "#%%\n"
    }
   }
  },
  {
   "cell_type": "code",
   "execution_count": 3,
   "outputs": [
    {
     "name": "stdout",
     "output_type": "stream",
     "text": [
      "Size of State Space ->  2\n",
      "Size of Action Space ->  1\n",
      "Max Value of Action ->  1.0\n",
      "Min Value of Action ->  -1.0\n"
     ]
    },
    {
     "name": "stderr",
     "output_type": "stream",
     "text": [
      "/Users/Ethan/python_repos/gym/gym/core.py:330: DeprecationWarning: \u001B[33mWARN: Initializing wrapper in old step API which returns one bool instead of two. It is recommended to set `new_step_api=True` to use new step API. This will be the default behaviour in future.\u001B[0m\n",
      "  deprecation(\n",
      "/Users/Ethan/python_repos/gym/gym/wrappers/step_api_compatibility.py:39: DeprecationWarning: \u001B[33mWARN: Initializing environment in old step API which returns one bool instead of two. It is recommended to set `new_step_api=True` to use new step API. This will be the default behaviour in future.\u001B[0m\n",
      "  deprecation(\n"
     ]
    }
   ],
   "source": [
    "env = gym.make('MountainCarContinuous-v0')\n",
    "\n",
    "num_states = env.observation_space.shape[0]\n",
    "print(\"Size of State Space ->  {}\".format(num_states))\n",
    "num_actions = env.action_space.shape[0]\n",
    "print(\"Size of Action Space ->  {}\".format(num_actions))\n",
    "\n",
    "upper_bound = env.action_space.high[0]\n",
    "lower_bound = env.action_space.low[0]\n",
    "\n",
    "print(\"Max Value of Action ->  {}\".format(upper_bound))\n",
    "print(\"Min Value of Action ->  {}\".format(lower_bound))"
   ],
   "metadata": {
    "collapsed": false,
    "pycharm": {
     "name": "#%%\n"
    }
   }
  },
  {
   "cell_type": "code",
   "execution_count": 4,
   "outputs": [],
   "source": [
    "actor_model = get_actor(2, 1)\n",
    "critic_model = get_critic(2, 1)\n",
    "\n",
    "target_actor = get_actor(2, 1)\n",
    "target_critic = get_critic(2, 1)\n",
    "\n",
    "# Making the weights equal initially\n",
    "target_actor.set_weights(actor_model.get_weights())\n",
    "target_critic.set_weights(critic_model.get_weights())\n",
    "\n",
    "# Learning rate for actor-critic models\n",
    "critic_lr = 0.0001\n",
    "actor_lr = 0.00005\n",
    "\n",
    "critic_optimizer = tf.keras.optimizers.Adam(critic_lr)\n",
    "actor_optimizer = tf.keras.optimizers.Adam(actor_lr)\n",
    "\n",
    "total_episodes = 100\n",
    "# Discount factor for future rewards\n",
    "gamma = 0.99\n",
    "# Used to update target networks\n",
    "tau = 0.005\n",
    "\n",
    "# buffer = Buffer(50000, 64, 0.99, 2, 1, critic_optimizer, actor_optimizer)\n",
    "\n",
    "ddpg = BasicDDPG(actor_model, critic_model, target_actor, target_critic, tau, critic_optimizer=critic_optimizer, actor_optimizer=actor_optimizer)"
   ],
   "metadata": {
    "collapsed": false,
    "pycharm": {
     "name": "#%%\n"
    }
   }
  },
  {
   "cell_type": "code",
   "execution_count": 12,
   "outputs": [
    {
     "name": "stdout",
     "output_type": "stream",
     "text": [
      "-33.04776346421558\n",
      "1.0 0.99998903\n",
      "74.11115526533595\n",
      "1.0 0.9805884\n",
      "-33.21363154655761\n",
      "1.0 0.99988675\n",
      "84.7942343750702\n",
      "1.0 0.9774433\n",
      "-35.26668935817751\n",
      "1.0 0.9674082\n",
      "-33.430041847754104\n",
      "1.0 0.99990267\n",
      "79.92642768907245\n",
      "1.0 0.9904716\n",
      "75.85511048259082\n",
      "1.0 0.97927713\n",
      "73.4471165287704\n",
      "1.0 0.9999975\n",
      "-32.6958885898863\n",
      "1.0 0.99999976\n",
      "-33.23100233740506\n",
      "1.0 0.99997145\n",
      "-29.60730057009701\n",
      "1.0 0.99999976\n",
      "74.55052192384022\n",
      "1.0 0.9999251\n",
      "85.72272065091403\n",
      "1.0 0.9999638\n",
      "77.83197901632163\n",
      "1.0 0.99999964\n",
      "92.95478341957659\n",
      "1.0 0.9999687\n",
      "-32.412052358214915\n",
      "1.0 0.99999756\n",
      "69.74323508267804\n",
      "1.0 0.9999967\n",
      "73.0468521197316\n",
      "1.0 0.999998\n",
      "-31.500069501794567\n",
      "1.0 0.99999386\n",
      "88.67837182234491\n",
      "1.0 0.9999961\n",
      "-30.16829582916364\n",
      "1.0 0.99999976\n",
      "91.92049156465663\n",
      "1.0 0.99998665\n",
      "91.64458096920055\n",
      "1.0 0.99999976\n",
      "-36.31846038803997\n",
      "1.0 0.9999909\n",
      "-29.64909740086122\n",
      "1.0 0.99999976\n",
      "83.31622014330962\n",
      "1.0 0.99999976\n",
      "77.24332674685584\n",
      "1.0 0.99999917\n",
      "90.12593465796877\n",
      "1.0 0.99999976\n",
      "-31.69247455211393\n",
      "1.0 0.9999979\n",
      "75.62464113597366\n",
      "0.99999976 -0.01869033\n",
      "-35.923425657225\n",
      "0.99999976 -0.8801673\n",
      "93.67671354112242\n",
      "0.99999976 -0.93785775\n",
      "79.07692261382591\n",
      "0.99999976 -0.9174915\n",
      "-30.659972642990198\n",
      "1.0 -0.9933293\n",
      "70.74029821047897\n",
      "0.99999976 -0.97939557\n",
      "86.88868479780226\n",
      "1.0 -0.9945631\n",
      "-33.512589633899864\n",
      "0.99999976 -0.9968459\n",
      "-38.28595091116302\n",
      "1.0 -0.9836782\n",
      "-38.52919014932606\n",
      "0.99999976 -0.9930083\n",
      "80.87899870874068\n",
      "0.99999976 -0.9984516\n",
      "89.26151224292272\n",
      "1.0 -0.9973431\n",
      "79.08207529350402\n",
      "1.0 -0.98387414\n",
      "79.88200713159677\n",
      "1.0 -0.99788624\n",
      "93.61857114883996\n",
      "0.99999976 -0.9981679\n",
      "76.20699613363689\n",
      "1.0 -0.99897987\n",
      "-34.9266378946052\n",
      "1.0 -0.99938357\n",
      "82.68907081343356\n",
      "1.0 -0.99767\n",
      "-29.704227348897206\n",
      "1.0 -0.9992965\n",
      "77.58552979815295\n",
      "0.99999976 -0.9992015\n"
     ]
    }
   ],
   "source": [
    "t_max = 1000\n",
    "num_episodes = 50\n",
    "\n",
    "min_reward_cutoff = -1000\n",
    "min_reward_set = -0.5\n",
    "\n",
    "reward_increase = 0\n",
    "\n",
    "observation_max = np.array([0.6, 0.07])\n",
    "observation_min = np.array([-1.2, -0.07])\n",
    "\n",
    "for i in range(num_episodes):\n",
    "\n",
    "    all_observations = []\n",
    "    actions = []\n",
    "    rewards = []\n",
    "\n",
    "    total_reward = 0\n",
    "\n",
    "    o, a, r = random_observation_sequence(env, t_max, epsilon=0.2)\n",
    "    o = transform_observations(o, observation_max, observation_min, [0, 0])\n",
    "    # o = transform_observations(o, observation_max, observation_min, [0.05, 0.05])\n",
    "    # print(o)\n",
    "\n",
    "    for i in range(len(a)):\n",
    "\n",
    "        prev_state = o[i]\n",
    "        state = o[i+1]\n",
    "        action = a[i]\n",
    "        reward = r[i] + reward_increase\n",
    "\n",
    "        # if reward < 0:\n",
    "        #     print(\"yes\")\n",
    "\n",
    "        total_reward += reward\n",
    "\n",
    "        # ddpg.buffer.record((prev_state, action, reward, state))\n",
    "        # # episodic_reward += reward\n",
    "        #\n",
    "        # ddpg.buffer.learn()\n",
    "\n",
    "        ddpg.record((prev_state, action, reward, state))\n",
    "        # episodic_reward += reward\n",
    "\n",
    "        ddpg.train([], [], [], [])\n",
    "\n",
    "    print(total_reward)\n",
    "\n",
    "    acts = ddpg.actor_model((np.random.random(size=(10, 2))*2 - 1))\n",
    "    print(np.max(acts), np.min(acts))\n"
   ],
   "metadata": {
    "collapsed": false,
    "pycharm": {
     "name": "#%%\n"
    }
   }
  },
  {
   "cell_type": "code",
   "execution_count": 13,
   "outputs": [
    {
     "data": {
      "text/plain": "<tf.Tensor: shape=(10, 1), dtype=float32, numpy=\narray([[ 838.5698 ],\n       [ 532.83673],\n       [ 775.032  ],\n       [ 807.1837 ],\n       [ 796.0321 ],\n       [ 798.75635],\n       [ 484.0688 ],\n       [2515.2515 ],\n       [ 623.87976],\n       [ 579.2384 ]], dtype=float32)>"
     },
     "execution_count": 13,
     "metadata": {},
     "output_type": "execute_result"
    }
   ],
   "source": [
    "ddpg.critic_model([(np.random.random(size=(10, 2))*2 - 1), (np.random.random(size=(10, 1))*2 - 1)])"
   ],
   "metadata": {
    "collapsed": false,
    "pycharm": {
     "name": "#%%\n"
    }
   }
  },
  {
   "cell_type": "code",
   "execution_count": 14,
   "outputs": [
    {
     "data": {
      "text/plain": "<tf.Tensor: shape=(10, 1), dtype=float32, numpy=\narray([[ 0.66189045],\n       [ 0.99999976],\n       [ 0.99999976],\n       [ 0.99999976],\n       [ 0.99956656],\n       [-0.99893314],\n       [-0.9954624 ],\n       [-0.9723895 ],\n       [-0.98310494],\n       [ 1.        ]], dtype=float32)>"
     },
     "execution_count": 14,
     "metadata": {},
     "output_type": "execute_result"
    }
   ],
   "source": [
    "ddpg.actor_model((np.random.random(size=(10, 2))*2 - 1))"
   ],
   "metadata": {
    "collapsed": false,
    "pycharm": {
     "name": "#%%\n"
    }
   }
  },
  {
   "cell_type": "code",
   "execution_count": 8,
   "outputs": [
    {
     "data": {
      "text/plain": "[<matplotlib.lines.Line2D at 0x17f9ca760>,\n <matplotlib.lines.Line2D at 0x17f9ca820>]"
     },
     "execution_count": 8,
     "metadata": {},
     "output_type": "execute_result"
    },
    {
     "data": {
      "text/plain": "<Figure size 432x288 with 1 Axes>",
      "image/png": "[encoded data removed]"
     },
     "metadata": {
      "needs_background": "light"
     },
     "output_type": "display_data"
    }
   ],
   "source": [
    "obs_pos = np.vstack([np.linspace(-1, 1, 100), np.zeros(100)]).T\n",
    "actions_pred = ddpg.actor_model(obs_pos)\n",
    "\n",
    "actions_pred\n",
    "\n",
    "\n",
    "plt.plot(obs_pos, actions_pred)"
   ],
   "metadata": {
    "collapsed": false,
    "pycharm": {
     "name": "#%%\n"
    }
   }
  },
  {
   "cell_type": "code",
   "execution_count": 9,
   "outputs": [
    {
     "name": "stdout",
     "output_type": "stream",
     "text": [
      "tf.Tensor(\n",
      "[[0.99999976]\n",
      " [0.99999976]\n",
      " [0.99999976]\n",
      " [0.99999976]\n",
      " [0.99999976]\n",
      " [0.99999976]\n",
      " [0.99999976]\n",
      " [0.99999976]\n",
      " [0.99999976]\n",
      " [0.99999976]\n",
      " [0.99999976]\n",
      " [0.99999976]\n",
      " [0.99999976]\n",
      " [0.99999976]\n",
      " [0.99999976]\n",
      " [0.99999976]\n",
      " [0.99999976]\n",
      " [0.99999976]\n",
      " [0.99999976]\n",
      " [0.99999976]\n",
      " [0.99999976]\n",
      " [0.99999976]\n",
      " [0.99999976]\n",
      " [0.99999976]\n",
      " [0.99999976]\n",
      " [0.99999976]\n",
      " [0.99999976]\n",
      " [0.99999976]\n",
      " [0.99999976]\n",
      " [0.99999976]\n",
      " [0.99999976]\n",
      " [0.99999976]\n",
      " [0.99999976]\n",
      " [0.99999976]\n",
      " [0.99999976]\n",
      " [0.99999976]\n",
      " [0.99999976]\n",
      " [0.99999976]\n",
      " [0.99999976]\n",
      " [0.99999976]\n",
      " [0.99999976]\n",
      " [0.99999976]\n",
      " [0.99999976]\n",
      " [0.99999976]\n",
      " [0.99999976]\n",
      " [0.99999976]\n",
      " [0.99999976]\n",
      " [0.99999976]\n",
      " [0.99999976]\n",
      " [0.99999976]\n",
      " [0.99999976]\n",
      " [0.99999976]\n",
      " [0.99999976]\n",
      " [0.99999976]\n",
      " [0.99999976]\n",
      " [0.99999976]\n",
      " [0.99999976]\n",
      " [0.99999976]\n",
      " [0.99999976]\n",
      " [0.99999976]\n",
      " [0.99999976]\n",
      " [0.99999976]\n",
      " [0.99999976]\n",
      " [0.99999976]\n",
      " [0.99999976]\n",
      " [0.99999976]\n",
      " [0.99999976]\n",
      " [0.99999976]\n",
      " [0.99999976]\n",
      " [0.99999976]\n",
      " [0.99999976]\n",
      " [0.99999976]\n",
      " [0.99999976]\n",
      " [0.99999976]\n",
      " [0.99999976]\n",
      " [0.99999976]\n",
      " [0.99999976]\n",
      " [0.99999976]\n",
      " [0.99999976]\n",
      " [0.99999976]\n",
      " [0.99999976]\n",
      " [0.99999976]\n",
      " [0.99999976]\n",
      " [0.99999976]\n",
      " [0.99999976]\n",
      " [0.99999976]\n",
      " [0.99999976]\n",
      " [0.99999976]\n",
      " [0.99999976]\n",
      " [0.99999976]\n",
      " [0.99999976]\n",
      " [0.99999976]\n",
      " [0.99999976]\n",
      " [0.99999976]\n",
      " [0.99999976]\n",
      " [0.99999976]\n",
      " [0.99999976]\n",
      " [0.99999976]\n",
      " [0.99999976]\n",
      " [0.99999976]], shape=(100, 1), dtype=float32)\n"
     ]
    },
    {
     "data": {
      "text/plain": "[<matplotlib.lines.Line2D at 0x17fef9ca0>,\n <matplotlib.lines.Line2D at 0x17fef9dc0>]"
     },
     "execution_count": 9,
     "metadata": {},
     "output_type": "execute_result"
    },
    {
     "data": {
      "text/plain": "<Figure size 432x288 with 1 Axes>",
      "image/png": "[encoded data removed]"
     },
     "metadata": {
      "needs_background": "light"
     },
     "output_type": "display_data"
    }
   ],
   "source": [
    "vel_pos = np.vstack([np.zeros(100), np.linspace(-1, 1, 100)]).T\n",
    "actions_pred = ddpg.actor_model(vel_pos)\n",
    "print(actions_pred)\n",
    "\n",
    "plt.plot(obs_pos, actions_pred)"
   ],
   "metadata": {
    "collapsed": false,
    "pycharm": {
     "name": "#%%\n"
    }
   }
  },
  {
   "cell_type": "markdown",
   "source": [
    "## Can it solve the environment?"
   ],
   "metadata": {
    "collapsed": false
   }
  },
  {
   "cell_type": "code",
   "execution_count": 10,
   "outputs": [
    {
     "name": "stderr",
     "output_type": "stream",
     "text": [
      "/Users/Ethan/python_repos/gym/gym/core.py:330: DeprecationWarning: \u001B[33mWARN: Initializing wrapper in old step API which returns one bool instead of two. It is recommended to set `new_step_api=True` to use new step API. This will be the default behaviour in future.\u001B[0m\n",
      "  deprecation(\n",
      "/Users/Ethan/python_repos/gym/gym/wrappers/step_api_compatibility.py:39: DeprecationWarning: \u001B[33mWARN: Initializing environment in old step API which returns one bool instead of two. It is recommended to set `new_step_api=True` to use new step API. This will be the default behaviour in future.\u001B[0m\n",
      "  deprecation(\n",
      "/Users/Ethan/python_repos/gym/gym/core.py:57: DeprecationWarning: \u001B[33mWARN: You are calling render method, but you didn't specified the argument render_mode at environment initialization. To maintain backward compatibility, the environment will render in human mode.\n",
      "If you want to render in human mode, initialize the environment in this way: gym.make('EnvName', render_mode='human') and don't call the render method.\n",
      "See here for more information: https://www.gymlibrary.ml/content/api/\u001B[0m\n",
      "  deprecation(\n",
      "/Users/Ethan/python_repos/gym/gym/utils/passive_env_checker.py:165: UserWarning: \u001B[33mWARN: The obs returned by the `step()` method is not within the observation space.\u001B[0m\n",
      "  logger.warn(f\"{pre} is not within the observation space.\")\n"
     ]
    },
    {
     "name": "stdout",
     "output_type": "stream",
     "text": [
      "68\n",
      "success\n",
      "93.44974719718894\n",
      "68\n",
      "success\n",
      "93.44670235530067\n",
      "68\n",
      "success\n",
      "93.44526474662442\n",
      "66\n",
      "success\n",
      "93.64958955736816\n",
      "68\n",
      "success\n",
      "93.44829517462155\n"
     ]
    },
    {
     "name": "stderr",
     "output_type": "stream",
     "text": [
      "\n",
      "KeyboardInterrupt\n",
      "\n"
     ]
    }
   ],
   "source": [
    "num_episodes = 10\n",
    "\n",
    "observation_max = np.array([0.6, 0.07])\n",
    "observation_min = np.array([-1.2, -0.07])\n",
    "\n",
    "# obs_stddev = [0.05, 0.05]\n",
    "obs_stddev = [0, 0]\n",
    "\n",
    "\n",
    "t_max = 1000\n",
    "\n",
    "for i in range(num_episodes):\n",
    "\n",
    "    env = gym.make('MountainCarContinuous-v0')\n",
    "\n",
    "    obs = env.reset()\n",
    "\n",
    "    done = False\n",
    "    rewards = []\n",
    "\n",
    "    t = 0\n",
    "    while not done:\n",
    "\n",
    "        env.render()\n",
    "\n",
    "        obs = obs.reshape(1, obs.shape[0])\n",
    "        obs = transform_observations(obs, observation_max, observation_min, obs_stddev)\n",
    "\n",
    "        # print(obs)\n",
    "\n",
    "        # action = act_net(obs) * 10\n",
    "        # action = np.clip(action.numpy(), -1, 1)\n",
    "\n",
    "        action = ddpg.actor_model(obs)\n",
    "        action = action.numpy()\n",
    "\n",
    "        obs, reward, done, info = env.step(action)\n",
    "\n",
    "        # print(obs)\n",
    "\n",
    "        rewards.append(reward)\n",
    "\n",
    "        t += 1\n",
    "\n",
    "        if t == t_max:\n",
    "            done = True\n",
    "\n",
    "    print(t)\n",
    "    if t < t_max:\n",
    "        print(\"success\")\n",
    "    else:\n",
    "        print(\"Failure\")\n",
    "        print(\"max obs\", obs)\n",
    "\n",
    "    print(np.sum(rewards))\n",
    "    # print(rewards)\n",
    "\n",
    "\n",
    "\n",
    "\n",
    "env.close()"
   ],
   "metadata": {
    "collapsed": false,
    "pycharm": {
     "name": "#%%\n"
    }
   }
  },
  {
   "cell_type": "code",
   "execution_count": 10,
   "outputs": [
    {
     "ename": "NameError",
     "evalue": "name 'act_net' is not defined",
     "output_type": "error",
     "traceback": [
      "\u001B[0;31m---------------------------------------------------------------------------\u001B[0m",
      "\u001B[0;31mNameError\u001B[0m                                 Traceback (most recent call last)",
      "Input \u001B[0;32mIn [10]\u001B[0m, in \u001B[0;36m<cell line: 6>\u001B[0;34m()\u001B[0m\n\u001B[1;32m      3\u001B[0m both \u001B[38;5;241m=\u001B[39m np\u001B[38;5;241m.\u001B[39marray(both)\n\u001B[1;32m      4\u001B[0m both\n\u001B[0;32m----> 6\u001B[0m both_acts \u001B[38;5;241m=\u001B[39m \u001B[43mact_net\u001B[49m(both)\n\u001B[1;32m      8\u001B[0m both_acts\n",
      "\u001B[0;31mNameError\u001B[0m: name 'act_net' is not defined"
     ]
    }
   ],
   "source": [
    "n = 50\n",
    "both = [[i/n, j/n] for i in range(-1*n, n) for j in range(-1*n, n)]\n",
    "both = np.array(both)\n",
    "both\n",
    "\n",
    "both_acts = act_net(both)\n",
    "\n",
    "both_acts"
   ],
   "metadata": {
    "collapsed": false,
    "pycharm": {
     "name": "#%%\n"
    }
   }
  },
  {
   "cell_type": "code",
   "execution_count": null,
   "outputs": [],
   "source": [
    "n = 50\n",
    "coords = [[i/n, j/n] for i in range(-1*n, n) for j in range(-1*n, n)]\n",
    "coords = np.array(coords)\n",
    "coords\n"
   ],
   "metadata": {
    "collapsed": false,
    "pycharm": {
     "name": "#%%\n"
    }
   }
  },
  {
   "cell_type": "code",
   "execution_count": null,
   "outputs": [],
   "source": [
    "x = np.arange(-5, 5.1, 0.5)\n",
    "y = np.arange(-5, 5.1, 0.5)\n",
    "X,Y = np.meshgrid(x,y)\n",
    "\n",
    "X"
   ],
   "metadata": {
    "collapsed": false,
    "pycharm": {
     "name": "#%%\n"
    }
   }
  },
  {
   "cell_type": "code",
   "execution_count": null,
   "outputs": [],
   "source": [],
   "metadata": {
    "collapsed": false,
    "pycharm": {
     "name": "#%%\n"
    }
   }
  }
 ],
 "metadata": {
  "kernelspec": {
   "display_name": "Python 3",
   "language": "python",
   "name": "python3"
  },
  "language_info": {
   "codemirror_mode": {
    "name": "ipython",
    "version": 2
   },
   "file_extension": ".py",
   "mimetype": "text/x-python",
   "name": "python",
   "nbconvert_exporter": "python",
   "pygments_lexer": "ipython2",
   "version": "2.7.6"
  }
 },
 "nbformat": 4,
 "nbformat_minor": 0
}