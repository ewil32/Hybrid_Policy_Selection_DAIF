{
 "cells": [
  {
   "cell_type": "markdown",
   "metadata": {
    "collapsed": true,
    "pycharm": {
     "name": "#%% md\n"
    }
   },
   "source": [
    "# The Habitual DDPG Network\n",
    "\n",
    "Habitual network\n",
    "\n",
    "Assuming generative model is perfect, then action selected would always be the action that maximises chance of observing prior preferences. Hence habitual network can be trained to output maximally rewarding actions, as these actions are the free energy minimising actions.\n",
    "\n",
    "Also has a nice interpretation as long as the generative models keep training. Eventually the generative model is less sure about old things. Why people eventually revisit old states they were previously certain about.\n",
    "\n",
    "As far as an agent knows, if observations are confirming perfectly to expectations then it has a perfect world model. So why would it change it? It’s only when an uncertain observation comes in that the agent needs to reconsider whether or not it has the best model of the world.\n",
    "\n",
    "\n",
    "I think this network should be performing policy gradient method but instead of minimising the discounted reward sequence it should minimise the discounted external EFE/FEEF component sequence. That way in the end the end the fast and slow thinking methods should be converging as the world model continues to improve\n",
    "\n",
    "\n",
    "What is this network trying to learn?\n",
    "- This network is trying to learn the state action mapping that maximises the probability of being in the preferred states\n",
    "- It is also trying to learn to output actions that minimise the extrinsic part of the EFE/FEEF\n",
    "\n",
    "\n",
    "What does this network take as input?\n",
    "- Current state\n",
    "- Maybe sequence of previous states and actions\n",
    "\n",
    "What should this network output?\n",
    "- The action that leads to the next state that maximally achieves the prior preferences\n",
    "\n",
    "How should this network learn?\n",
    "- It should learn by outputting\n",
    "\n",
    "\n",
    "Okay so new idea! DDPG seems pretty good so far. How about we have the Q function take latent states as input and use the VAEs good latent features as input. Then we'll have\n",
    "- Q(o, a)\n",
    "- p(s|o) and p(o|s)\n",
    "- p(s'|s, a)\n",
    "- V(o) or U(o)\n",
    "\n"
   ]
  },
  {
   "cell_type": "code",
   "execution_count": 1,
   "outputs": [],
   "source": [
    "from util import random_observation_sequence, transform_observations, test_policy\n",
    "import matplotlib.pyplot as plt\n",
    "import gym\n",
    "\n",
    "from ddpg import *"
   ],
   "metadata": {
    "collapsed": false,
    "pycharm": {
     "name": "#%%\n"
    }
   }
  },
  {
   "cell_type": "code",
   "execution_count": 2,
   "outputs": [],
   "source": [
    "import tensorflow as tf\n",
    "import tensorflow_probability as tfp\n",
    "import keras\n",
    "from keras import layers\n",
    "import numpy as np\n",
    "import matplotlib.pyplot as plt\n",
    "\n",
    "# Hide GPU from visible devices\n",
    "tf.config.set_visible_devices([], 'GPU')"
   ],
   "metadata": {
    "collapsed": false,
    "pycharm": {
     "name": "#%%\n"
    }
   }
  },
  {
   "cell_type": "code",
   "execution_count": 3,
   "outputs": [
    {
     "name": "stdout",
     "output_type": "stream",
     "text": [
      "Size of State Space ->  2\n",
      "Size of Action Space ->  1\n",
      "Max Value of Action ->  1.0\n",
      "Min Value of Action ->  -1.0\n"
     ]
    }
   ],
   "source": [
    "env = gym.make(\"MountainCarContinuous-v0\")\n",
    "\n",
    "num_states = env.observation_space.shape[0]\n",
    "print(\"Size of State Space ->  {}\".format(num_states))\n",
    "num_actions = env.action_space.shape[0]\n",
    "print(\"Size of Action Space ->  {}\".format(num_actions))\n",
    "\n",
    "upper_bound = env.action_space.high[0]\n",
    "lower_bound = env.action_space.low[0]\n",
    "\n",
    "print(\"Max Value of Action ->  {}\".format(upper_bound))\n",
    "print(\"Min Value of Action ->  {}\".format(lower_bound))"
   ],
   "metadata": {
    "collapsed": false,
    "pycharm": {
     "name": "#%%\n"
    }
   }
  },
  {
   "cell_type": "code",
   "execution_count": 4,
   "outputs": [],
   "source": [
    "actor_model = get_actor(2, 1)\n",
    "critic_model = get_critic(2, 1)\n",
    "\n",
    "target_actor = get_actor(2, 1)\n",
    "target_critic = get_critic(2, 1)\n",
    "\n",
    "# Making the weights equal initially\n",
    "target_actor.set_weights(actor_model.get_weights())\n",
    "target_critic.set_weights(critic_model.get_weights())\n",
    "\n",
    "# Learning rate for actor-critic models\n",
    "critic_lr = 0.0001\n",
    "actor_lr = 0.00005\n",
    "\n",
    "critic_optimizer = tf.keras.optimizers.Adam(critic_lr)\n",
    "actor_optimizer = tf.keras.optimizers.Adam(actor_lr)\n",
    "\n",
    "total_episodes = 140\n",
    "# Discount factor for future rewards\n",
    "gamma = 0.99\n",
    "# Used to update target networks\n",
    "tau = 0.005\n",
    "\n",
    "# buffer = Buffer(50000, 64, 0.99, 2, 1, critic_optimizer, actor_optimizer)\n",
    "\n",
    "ddpg = BasicDDPG(actor_model, critic_model, target_actor, target_critic, tau, observation_dim=2,\n",
    "                 action_dim=1, critic_optimizer=critic_optimizer, actor_optimizer=actor_optimizer)"
   ],
   "metadata": {
    "collapsed": false,
    "pycharm": {
     "name": "#%%\n"
    }
   }
  },
  {
   "cell_type": "code",
   "execution_count": 9,
   "outputs": [
    {
     "name": "stdout",
     "output_type": "stream",
     "text": [
      "84.44388641886108\n",
      "0.09941851 0.029549638\n",
      "-38.812534757239604\n",
      "0.890537 0.13881044\n",
      "83.88063905266861\n",
      "0.9941826 0.61432123\n",
      "-31.29173017468946\n",
      "0.9998344 0.24212939\n",
      "91.7916874990733\n",
      "0.9997858 0.20836897\n",
      "81.93958637911733\n",
      "1.0 0.23748273\n",
      "-32.72215476624443\n",
      "0.99999976 0.18168089\n",
      "86.69541979653674\n",
      "1.0 0.18843022\n",
      "83.05194005663063\n",
      "1.0 0.24568611\n",
      "-32.93906421792623\n",
      "1.0 0.2548205\n",
      "88.19440711095473\n",
      "1.0 0.27552977\n",
      "82.16085391832864\n",
      "1.0 0.27273014\n",
      "85.3222192922964\n",
      "0.99999976 0.3068994\n",
      "83.54091891832152\n",
      "1.0 0.3388399\n",
      "75.39873130901326\n",
      "1.0 0.44147632\n",
      "-28.538820374664294\n",
      "0.99999976 0.53005147\n",
      "85.9702368891426\n",
      "1.0 0.53344774\n",
      "-31.41084784555202\n",
      "1.0 0.5547698\n",
      "-31.735743823628273\n",
      "1.0 0.5744055\n",
      "73.52242460851687\n",
      "0.99999976 0.5961823\n",
      "83.41729897667241\n",
      "1.0 0.5679074\n",
      "77.03998056966181\n",
      "0.99999976 0.6229303\n",
      "84.88782433063233\n",
      "1.0 0.9999685\n",
      "68.2948947492826\n",
      "1.0 0.9978023\n",
      "72.4311911715754\n",
      "1.0 0.806017\n",
      "93.01867253129174\n",
      "1.0 0.99999976\n",
      "82.23043234612781\n",
      "1.0 0.73086965\n",
      "92.8409868790563\n",
      "1.0 0.637782\n",
      "-31.7831750049092\n",
      "1.0 0.7515463\n",
      "89.55524767433243\n",
      "1.0 0.6971889\n",
      "82.37013067817193\n",
      "1.0 0.74465543\n",
      "86.43445702126527\n",
      "1.0 0.7054581\n",
      "-36.64441246827107\n",
      "1.0 0.9999917\n",
      "80.82758545293042\n",
      "1.0 0.86104244\n",
      "-34.620272010899996\n",
      "1.0 0.9999989\n",
      "-33.9601174561996\n",
      "1.0 0.99999976\n",
      "-35.141032936698764\n",
      "1.0 0.99999976\n",
      "77.115142427611\n",
      "1.0 0.99999976\n",
      "82.99166273765007\n",
      "1.0 0.99999976\n",
      "86.47958454739687\n",
      "1.0 0.99999976\n",
      "77.65757105183314\n",
      "1.0 0.9988805\n",
      "93.89765002999587\n",
      "1.0 0.99899507\n",
      "-35.22959196163574\n",
      "1.0 0.7590086\n",
      "79.49911585176392\n",
      "1.0 0.63301486\n",
      "-41.004566968772984\n",
      "1.0 0.18630621\n",
      "82.30528743702752\n",
      "1.0 0.048665516\n",
      "80.44438838355781\n",
      "0.99999976 -0.09066082\n",
      "84.0266848002561\n",
      "1.0 -0.123669334\n",
      "92.18183635206725\n",
      "0.99999976 -0.15788774\n",
      "86.66901207649438\n",
      "0.99999976 -0.18857828\n",
      "86.97600145840727\n",
      "1.0 -0.21172129\n",
      "78.11680261813322\n",
      "1.0 -0.25892255\n",
      "-35.73560671470247\n",
      "1.0 -0.42329013\n",
      "95.21876413078091\n",
      "0.99999976 -0.44820645\n",
      "70.89982711757506\n",
      "0.99999976 -0.6411653\n",
      "-27.442826871645487\n",
      "1.0 -0.8274539\n",
      "75.55505854419978\n",
      "1.0 -0.88605714\n",
      "88.68108985300096\n",
      "1.0 -0.9466715\n",
      "87.31263432335984\n",
      "1.0 -0.94491696\n",
      "75.279973620738\n",
      "1.0 -0.9661348\n",
      "-32.07991370909058\n",
      "1.0 -0.99434644\n",
      "89.65809893299468\n",
      "1.0 -0.99180907\n",
      "-30.41715913405434\n",
      "1.0 -0.9993808\n",
      "-33.90930619776208\n",
      "1.0 -0.9995786\n",
      "-35.59232508670566\n",
      "1.0 -0.9996214\n",
      "84.11888504130968\n",
      "1.0 -0.99957055\n",
      "90.60631274541545\n",
      "0.99999976 -0.99994653\n",
      "-26.699262061801225\n",
      "1.0 -0.999949\n",
      "71.49398475360573\n",
      "0.99999976 -0.99999094\n",
      "-32.69186742816425\n",
      "1.0 -0.9999949\n",
      "61.98370676596219\n",
      "1.0 -0.9999915\n",
      "81.67755090707719\n",
      "1.0 -0.9999979\n",
      "95.03395496400665\n",
      "0.99999976 -0.99998534\n",
      "-28.35408424624372\n",
      "1.0 -0.9999989\n",
      "78.67964264755247\n",
      "1.0 -0.99999946\n",
      "-28.551984036891767\n",
      "1.0 -0.99999464\n",
      "-35.6681435651622\n",
      "1.0 -0.99997777\n",
      "91.26769698462498\n",
      "1.0 -0.9999824\n",
      "-32.50397927915389\n",
      "1.0 -0.99998194\n",
      "85.83826477689072\n",
      "1.0 -0.99999976\n",
      "74.00455100839491\n",
      "0.99999976 -0.99999976\n",
      "77.23662581862243\n",
      "1.0 -0.99999976\n",
      "-28.159794626776755\n",
      "1.0 -0.9999945\n",
      "-32.11027158048571\n",
      "1.0 -0.99999976\n",
      "-31.24167928960946\n",
      "0.99999976 -1.0\n",
      "-38.166413846179886\n",
      "1.0 -0.99999976\n",
      "-31.798165785204674\n",
      "0.99999976 -1.0\n",
      "85.18598893781764\n",
      "1.0 -0.99997914\n",
      "93.5790689593527\n",
      "1.0 -0.99998957\n",
      "-33.32183251159812\n",
      "0.99999976 -0.99999976\n",
      "-30.948274972023082\n",
      "1.0 -0.99999976\n",
      "74.27850321748589\n",
      "1.0 -0.99999976\n",
      "-34.3474526897645\n",
      "1.0 -0.99999976\n",
      "82.40376999366094\n",
      "1.0 -0.9999995\n",
      "-35.64158716713869\n",
      "1.0 -0.99986935\n",
      "-33.97086968527481\n",
      "1.0 -1.0\n",
      "-28.50351795766994\n",
      "1.0 -0.99999976\n",
      "85.5117283601309\n",
      "1.0 -0.99999946\n",
      "-31.4731453125969\n",
      "1.0 -0.99999976\n",
      "76.2144310877619\n",
      "1.0 -0.99999976\n",
      "-35.38031531685658\n",
      "1.0 -1.0\n",
      "-28.82092034425424\n",
      "1.0 -1.0\n",
      "86.33585141141769\n",
      "0.99999976 -0.99999976\n",
      "-35.55131796467079\n",
      "1.0 -0.99999976\n",
      "88.02388020929311\n",
      "1.0 -0.99999976\n",
      "-32.20360422101109\n",
      "1.0 -0.9999993\n",
      "-36.13213137190756\n",
      "0.99999976 -0.99999976\n",
      "89.98021264693608\n",
      "0.99999976 -0.99999976\n",
      "86.44951743152214\n",
      "0.99999976 -1.0\n",
      "76.8343098995213\n",
      "1.0 -0.99999976\n",
      "85.46848057064453\n",
      "1.0 -0.99999976\n",
      "86.99498884734992\n",
      "1.0 -1.0\n",
      "72.53054739072924\n",
      "1.0 -1.0\n",
      "85.54837148121086\n",
      "1.0 -0.99999976\n",
      "-35.22982977112061\n",
      "1.0 -0.99999976\n",
      "-27.843409235123435\n",
      "1.0 -1.0\n",
      "-33.2325193684867\n",
      "0.99999976 -1.0\n",
      "72.58191665760722\n",
      "1.0 -0.99999577\n",
      "79.22480211188457\n",
      "0.99999976 -1.0\n",
      "73.81002940437904\n",
      "1.0 -0.9999969\n",
      "68.50538969857347\n",
      "0.99999976 -0.99999976\n",
      "80.36750333152486\n",
      "1.0 -0.99999976\n",
      "79.9307773514806\n",
      "1.0 -0.99999976\n",
      "-29.078923290375318\n",
      "1.0 -1.0\n",
      "-37.43285430366141\n",
      "-0.9999362 -1.0\n",
      "91.62523806548069\n",
      "0.99999976 -1.0\n",
      "-35.60336247655181\n",
      "1.0 -0.99999976\n",
      "85.48879212177548\n",
      "1.0 -1.0\n",
      "78.22621828294403\n",
      "0.99999976 -1.0\n",
      "94.39965487309638\n",
      "0.99999976 -0.99999976\n",
      "89.58669181880337\n",
      "1.0 -0.99999976\n",
      "85.334489592193\n",
      "1.0 -0.99999976\n",
      "76.40856251125189\n",
      "0.99999976 -1.0\n",
      "87.31655543791959\n",
      "1.0 -0.99999976\n",
      "77.39433157743208\n",
      "1.0 -0.99999976\n",
      "70.4943342282889\n",
      "1.0 -1.0\n",
      "85.504144953568\n",
      "1.0 -0.99999976\n",
      "75.20000417423445\n",
      "0.99999976 -1.0\n",
      "-36.3916639638812\n",
      "1.0 -0.99999976\n",
      "74.66457001821833\n",
      "1.0 -0.99999976\n"
     ]
    }
   ],
   "source": [
    "t_max = 1000\n",
    "num_episodes = 140\n",
    "\n",
    "min_reward_cutoff = -1000\n",
    "min_reward_set = -0.5\n",
    "\n",
    "reward_increase = 0\n",
    "\n",
    "# observation_max = np.array([0.6, 0.07])\n",
    "# observation_min = np.array([-1.2, -0.07])\n",
    "\n",
    "for i in range(num_episodes):\n",
    "\n",
    "    all_observations = []\n",
    "    actions = []\n",
    "    rewards = []\n",
    "\n",
    "    total_reward = 0\n",
    "\n",
    "    o, a, r = random_observation_sequence(env, t_max, epsilon=0.2)\n",
    "    # o = transform_observations(o, observation_max, observation_min, [0, 0, 0])\n",
    "    # o = transform_observations(o, observation_max, observation_min, [0.05, 0.05])\n",
    "    # print(o)\n",
    "    # print(o)\n",
    "    for i in range(len(a)):\n",
    "\n",
    "        prev_state = o[i]\n",
    "        state = o[i+1]\n",
    "        action = a[i]\n",
    "        reward = r[i] + reward_increase\n",
    "\n",
    "\n",
    "        total_reward += reward\n",
    "\n",
    "        # ddpg.buffer.record((prev_state, action, reward, state))\n",
    "        # # episodic_reward += reward\n",
    "        #\n",
    "        # ddpg.buffer.learn()\n",
    "\n",
    "        ddpg.record((prev_state, action, reward, state))\n",
    "        # episodic_reward += reward\n",
    "\n",
    "        ddpg.train([], [], [], [])\n",
    "\n",
    "    print(total_reward)\n",
    "\n",
    "    acts = ddpg.actor_model((np.random.random(size=(10, 2))*2 - 1))\n",
    "    print(np.max(acts), np.min(acts))\n"
   ],
   "metadata": {
    "collapsed": false,
    "pycharm": {
     "name": "#%%\n"
    }
   }
  },
  {
   "cell_type": "code",
   "execution_count": 14,
   "outputs": [
    {
     "data": {
      "text/plain": "<tf.Tensor: shape=(10, 1), dtype=float32, numpy=\narray([[31579944. ],\n       [20385646. ],\n       [ 9055390. ],\n       [ 6340939.5],\n       [69154368. ],\n       [46130672. ],\n       [15956278. ],\n       [40372884. ],\n       [19186736. ],\n       [18231190. ]], dtype=float32)>"
     },
     "execution_count": 14,
     "metadata": {},
     "output_type": "execute_result"
    }
   ],
   "source": [
    "ddpg.critic_model([(np.random.random(size=(10, 2))*2 - 1), (np.random.random(size=(10, 1))*2 - 1)])"
   ],
   "metadata": {
    "collapsed": false,
    "pycharm": {
     "name": "#%%\n"
    }
   }
  },
  {
   "cell_type": "code",
   "execution_count": 15,
   "outputs": [
    {
     "data": {
      "text/plain": "<tf.Tensor: shape=(10, 1), dtype=float32, numpy=\narray([[ 0.99999976],\n       [ 0.99999976],\n       [ 0.99999976],\n       [ 0.99999976],\n       [ 0.99999976],\n       [ 0.99999976],\n       [ 0.99999976],\n       [-0.9999993 ],\n       [ 1.        ],\n       [ 1.        ]], dtype=float32)>"
     },
     "execution_count": 15,
     "metadata": {},
     "output_type": "execute_result"
    }
   ],
   "source": [
    "ddpg.actor_model((np.random.random(size=(10, 2))*2 - 1))"
   ],
   "metadata": {
    "collapsed": false,
    "pycharm": {
     "name": "#%%\n"
    }
   }
  },
  {
   "cell_type": "code",
   "execution_count": 16,
   "outputs": [
    {
     "data": {
      "text/plain": "[<matplotlib.lines.Line2D at 0x2834a6a30>,\n <matplotlib.lines.Line2D at 0x282b3e2e0>]"
     },
     "execution_count": 16,
     "metadata": {},
     "output_type": "execute_result"
    },
    {
     "data": {
      "text/plain": "<Figure size 432x288 with 1 Axes>",
      "image/png": "[encoded data removed]"
     },
     "metadata": {
      "needs_background": "light"
     },
     "output_type": "display_data"
    }
   ],
   "source": [
    "obs_pos = np.vstack([np.linspace(-1, 1, 100), np.zeros(100)]).T\n",
    "actions_pred = ddpg.actor_model(obs_pos)\n",
    "\n",
    "actions_pred\n",
    "\n",
    "\n",
    "plt.plot(obs_pos, actions_pred)"
   ],
   "metadata": {
    "collapsed": false,
    "pycharm": {
     "name": "#%%\n"
    }
   }
  },
  {
   "cell_type": "code",
   "execution_count": 17,
   "outputs": [
    {
     "name": "stdout",
     "output_type": "stream",
     "text": [
      "tf.Tensor(\n",
      "[[-0.99999976]\n",
      " [-0.99999976]\n",
      " [-0.99999976]\n",
      " [-0.99999976]\n",
      " [-0.99999976]\n",
      " [-0.99999976]\n",
      " [-0.99999976]\n",
      " [-0.99999976]\n",
      " [-0.99999976]\n",
      " [-0.99999976]\n",
      " [-0.99999976]\n",
      " [-0.99999976]\n",
      " [-0.99999976]\n",
      " [-0.99999976]\n",
      " [-0.99999976]\n",
      " [-0.99999976]\n",
      " [-0.99999976]\n",
      " [-0.99999976]\n",
      " [-0.99999976]\n",
      " [-0.99999976]\n",
      " [-0.99999976]\n",
      " [-0.99999976]\n",
      " [-0.99999976]\n",
      " [-0.99999976]\n",
      " [-0.99999976]\n",
      " [-0.99999976]\n",
      " [-0.99999976]\n",
      " [-0.99999976]\n",
      " [-0.99999964]\n",
      " [-0.99999946]\n",
      " [-0.9999992 ]\n",
      " [-0.9999989 ]\n",
      " [-0.9999985 ]\n",
      " [-0.9999978 ]\n",
      " [-0.99999684]\n",
      " [-0.9999955 ]\n",
      " [-0.9999936 ]\n",
      " [-0.9999912 ]\n",
      " [-0.9999875 ]\n",
      " [-0.9999827 ]\n",
      " [-0.9999761 ]\n",
      " [-0.99996674]\n",
      " [-0.9999546 ]\n",
      " [-0.9999388 ]\n",
      " [-0.99991745]\n",
      " [-0.999889  ]\n",
      " [-0.9998549 ]\n",
      " [-0.99980015]\n",
      " [-0.9997189 ]\n",
      " [-0.99966556]\n",
      " [ 0.9998297 ]\n",
      " [ 0.99999976]\n",
      " [ 0.99999976]\n",
      " [ 0.99999976]\n",
      " [ 0.99999976]\n",
      " [ 0.99999976]\n",
      " [ 0.99999976]\n",
      " [ 0.99999976]\n",
      " [ 0.99999976]\n",
      " [ 0.99999976]\n",
      " [ 0.99999976]\n",
      " [ 0.99999976]\n",
      " [ 0.99999976]\n",
      " [ 0.99999976]\n",
      " [ 0.99999976]\n",
      " [ 0.99999976]\n",
      " [ 0.99999976]\n",
      " [ 0.99999976]\n",
      " [ 0.99999976]\n",
      " [ 0.99999976]\n",
      " [ 0.99999976]\n",
      " [ 0.99999976]\n",
      " [ 0.99999976]\n",
      " [ 0.99999976]\n",
      " [ 0.99999976]\n",
      " [ 0.99999976]\n",
      " [ 0.99999976]\n",
      " [ 0.99999976]\n",
      " [ 0.99999976]\n",
      " [ 0.99999976]\n",
      " [ 0.99999976]\n",
      " [ 0.99999976]\n",
      " [ 0.99999976]\n",
      " [ 0.99999976]\n",
      " [ 0.99999976]\n",
      " [ 0.99999976]\n",
      " [ 0.99999976]\n",
      " [ 0.99999976]\n",
      " [ 0.99999976]\n",
      " [ 0.99999976]\n",
      " [ 0.99999976]\n",
      " [ 0.99999976]\n",
      " [ 0.99999976]\n",
      " [ 0.99999976]\n",
      " [ 0.99999976]\n",
      " [ 0.99999976]\n",
      " [ 0.99999976]\n",
      " [ 0.99999976]\n",
      " [ 0.99999976]\n",
      " [ 0.99999976]], shape=(100, 1), dtype=float32)\n"
     ]
    },
    {
     "data": {
      "text/plain": "[<matplotlib.lines.Line2D at 0x283547700>,\n <matplotlib.lines.Line2D at 0x283539550>]"
     },
     "execution_count": 17,
     "metadata": {},
     "output_type": "execute_result"
    },
    {
     "data": {
      "text/plain": "<Figure size 432x288 with 1 Axes>",
      "image/png": "[encoded data removed]"
     },
     "metadata": {
      "needs_background": "light"
     },
     "output_type": "display_data"
    }
   ],
   "source": [
    "vel_pos = np.vstack([np.zeros(100), np.linspace(-1, 1, 100)]).T\n",
    "actions_pred = ddpg.actor_model(vel_pos)\n",
    "print(actions_pred)\n",
    "\n",
    "plt.plot(obs_pos, actions_pred)"
   ],
   "metadata": {
    "collapsed": false,
    "pycharm": {
     "name": "#%%\n"
    }
   }
  },
  {
   "cell_type": "markdown",
   "source": [
    "## Can it solve the environment?"
   ],
   "metadata": {
    "collapsed": false
   }
  },
  {
   "cell_type": "code",
   "execution_count": 18,
   "outputs": [
    {
     "data": {
      "text/plain": "      reward  timesteps  num_actions\n0  93.559703         65           65\n1  93.320116         67           67\n2  93.520162         65           65\n3  93.333026         67           67\n4  93.323683         67           67",
      "text/html": "<div>\n<style scoped>\n    .dataframe tbody tr th:only-of-type {\n        vertical-align: middle;\n    }\n\n    .dataframe tbody tr th {\n        vertical-align: top;\n    }\n\n    .dataframe thead th {\n        text-align: right;\n    }\n</style>\n<table border=\"1\" class=\"dataframe\">\n  <thead>\n    <tr style=\"text-align: right;\">\n      <th></th>\n      <th>reward</th>\n      <th>timesteps</th>\n      <th>num_actions</th>\n    </tr>\n  </thead>\n  <tbody>\n    <tr>\n      <th>0</th>\n      <td>93.559703</td>\n      <td>65</td>\n      <td>65</td>\n    </tr>\n    <tr>\n      <th>1</th>\n      <td>93.320116</td>\n      <td>67</td>\n      <td>67</td>\n    </tr>\n    <tr>\n      <th>2</th>\n      <td>93.520162</td>\n      <td>65</td>\n      <td>65</td>\n    </tr>\n    <tr>\n      <th>3</th>\n      <td>93.333026</td>\n      <td>67</td>\n      <td>67</td>\n    </tr>\n    <tr>\n      <th>4</th>\n      <td>93.323683</td>\n      <td>67</td>\n      <td>67</td>\n    </tr>\n  </tbody>\n</table>\n</div>"
     },
     "execution_count": 18,
     "metadata": {},
     "output_type": "execute_result"
    }
   ],
   "source": [
    "test_policy(env, ddpg.actor_model, None, None, None, 5, 1, show_env=True)"
   ],
   "metadata": {
    "collapsed": false,
    "pycharm": {
     "name": "#%%\n"
    }
   }
  },
  {
   "cell_type": "code",
   "execution_count": 19,
   "outputs": [
    {
     "data": {
      "text/plain": "      reward  timesteps  num_actions\n0  93.528787         65           65\n1  93.506153         65           65\n2  93.402073         66           66\n3  93.402295         66           66\n4  93.474632         66           66",
      "text/html": "<div>\n<style scoped>\n    .dataframe tbody tr th:only-of-type {\n        vertical-align: middle;\n    }\n\n    .dataframe tbody tr th {\n        vertical-align: top;\n    }\n\n    .dataframe thead th {\n        text-align: right;\n    }\n</style>\n<table border=\"1\" class=\"dataframe\">\n  <thead>\n    <tr style=\"text-align: right;\">\n      <th></th>\n      <th>reward</th>\n      <th>timesteps</th>\n      <th>num_actions</th>\n    </tr>\n  </thead>\n  <tbody>\n    <tr>\n      <th>0</th>\n      <td>93.528787</td>\n      <td>65</td>\n      <td>65</td>\n    </tr>\n    <tr>\n      <th>1</th>\n      <td>93.506153</td>\n      <td>65</td>\n      <td>65</td>\n    </tr>\n    <tr>\n      <th>2</th>\n      <td>93.402073</td>\n      <td>66</td>\n      <td>66</td>\n    </tr>\n    <tr>\n      <th>3</th>\n      <td>93.402295</td>\n      <td>66</td>\n      <td>66</td>\n    </tr>\n    <tr>\n      <th>4</th>\n      <td>93.474632</td>\n      <td>66</td>\n      <td>66</td>\n    </tr>\n  </tbody>\n</table>\n</div>"
     },
     "execution_count": 19,
     "metadata": {},
     "output_type": "execute_result"
    }
   ],
   "source": [
    "test_policy(env, ddpg.actor_model, None, None, None, 5, 1)"
   ],
   "metadata": {
    "collapsed": false,
    "pycharm": {
     "name": "#%%\n"
    }
   }
  },
  {
   "cell_type": "code",
   "execution_count": 10,
   "outputs": [
    {
     "ename": "NameError",
     "evalue": "name 'act_net' is not defined",
     "output_type": "error",
     "traceback": [
      "\u001B[0;31m---------------------------------------------------------------------------\u001B[0m",
      "\u001B[0;31mNameError\u001B[0m                                 Traceback (most recent call last)",
      "Input \u001B[0;32mIn [10]\u001B[0m, in \u001B[0;36m<cell line: 6>\u001B[0;34m()\u001B[0m\n\u001B[1;32m      3\u001B[0m both \u001B[38;5;241m=\u001B[39m np\u001B[38;5;241m.\u001B[39marray(both)\n\u001B[1;32m      4\u001B[0m both\n\u001B[0;32m----> 6\u001B[0m both_acts \u001B[38;5;241m=\u001B[39m \u001B[43mact_net\u001B[49m(both)\n\u001B[1;32m      8\u001B[0m both_acts\n",
      "\u001B[0;31mNameError\u001B[0m: name 'act_net' is not defined"
     ]
    }
   ],
   "source": [
    "n = 50\n",
    "both = [[i/n, j/n] for i in range(-1*n, n) for j in range(-1*n, n)]\n",
    "both = np.array(both)\n",
    "both\n",
    "\n",
    "both_acts = act_net(both)\n",
    "\n",
    "both_acts"
   ],
   "metadata": {
    "collapsed": false,
    "pycharm": {
     "name": "#%%\n"
    }
   }
  },
  {
   "cell_type": "code",
   "execution_count": null,
   "outputs": [],
   "source": [
    "n = 50\n",
    "coords = [[i/n, j/n] for i in range(-1*n, n) for j in range(-1*n, n)]\n",
    "coords = np.array(coords)\n",
    "coords\n"
   ],
   "metadata": {
    "collapsed": false,
    "pycharm": {
     "name": "#%%\n"
    }
   }
  },
  {
   "cell_type": "code",
   "execution_count": null,
   "outputs": [],
   "source": [
    "x = np.arange(-5, 5.1, 0.5)\n",
    "y = np.arange(-5, 5.1, 0.5)\n",
    "X,Y = np.meshgrid(x,y)\n",
    "\n",
    "X"
   ],
   "metadata": {
    "collapsed": false,
    "pycharm": {
     "name": "#%%\n"
    }
   }
  },
  {
   "cell_type": "code",
   "execution_count": null,
   "outputs": [],
   "source": [],
   "metadata": {
    "collapsed": false,
    "pycharm": {
     "name": "#%%\n"
    }
   }
  }
 ],
 "metadata": {
  "kernelspec": {
   "display_name": "Python 3",
   "language": "python",
   "name": "python3"
  },
  "language_info": {
   "codemirror_mode": {
    "name": "ipython",
    "version": 2
   },
   "file_extension": ".py",
   "mimetype": "text/x-python",
   "name": "python",
   "nbconvert_exporter": "python",
   "pygments_lexer": "ipython2",
   "version": "2.7.6"
  }
 },
 "nbformat": 4,
 "nbformat_minor": 0
}