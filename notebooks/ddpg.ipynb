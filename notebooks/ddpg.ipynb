{
 "cells": [
  {
   "cell_type": "markdown",
   "metadata": {
    "collapsed": true,
    "pycharm": {
     "name": "#%% md\n"
    }
   },
   "source": [
    "# The Habitual DDPG Network\n",
    "\n",
    "Habitual network\n",
    "\n",
    "Assuming generative model is perfect, then action selected would always be the action that maximises chance of observing prior preferences. Hence habitual network can be trained to output maximally rewarding actions, as these actions are the free energy minimising actions.\n",
    "\n",
    "Also has a nice interpretation as long as the generative models keep training. Eventually the generative model is less sure about old things. Why people eventually revisit old states they were previously certain about.\n",
    "\n",
    "As far as an agent knows, if observations are confirming perfectly to expectations then it has a perfect world model. So why would it change it? It’s only when an uncertain observation comes in that the agent needs to reconsider whether or not it has the best model of the world.\n",
    "\n",
    "\n",
    "I think this network should be performing policy gradient method but instead of minimising the discounted reward sequence it should minimise the discounted external EFE/FEEF component sequence. That way in the end the end the fast and slow thinking methods should be converging as the world model continues to improve\n",
    "\n",
    "\n",
    "What is this network trying to learn?\n",
    "- This network is trying to learn the state action mapping that maximises the probability of being in the preferred states\n",
    "- It is also trying to learn to output actions that minimise the extrinsic part of the EFE/FEEF\n",
    "\n",
    "\n",
    "What does this network take as input?\n",
    "- Current state\n",
    "- Maybe sequence of previous states and actions\n",
    "\n",
    "What should this network output?\n",
    "- The action that leads to the next state that maximally achieves the prior preferences\n",
    "\n",
    "How should this network learn?\n",
    "- It should learn by outputting\n",
    "\n",
    "\n",
    "Okay so new idea! DDPG seems pretty good so far. How about we have the Q function take latent states as input and use the VAEs good latent features as input. Then we'll have\n",
    "- Q(o, a)\n",
    "- p(s|o) and p(o|s)\n",
    "- p(s'|s, a)\n",
    "- V(o) or U(o)\n",
    "\n"
   ]
  },
  {
   "cell_type": "code",
   "execution_count": 2,
   "outputs": [],
   "source": [
    "from util import random_observation_sequence, transform_observations, test_policy\n",
    "import gym\n",
    "from train_agent import train_single_model_free_agent\n",
    "\n",
    "from ddpg import *"
   ],
   "metadata": {
    "collapsed": false,
    "pycharm": {
     "name": "#%%\n"
    }
   }
  },
  {
   "cell_type": "code",
   "execution_count": 2,
   "outputs": [],
   "source": [
    "import tensorflow as tf\n",
    "import tensorflow_probability as tfp\n",
    "import keras\n",
    "from keras import layers\n",
    "import numpy as np\n",
    "import matplotlib.pyplot as plt\n",
    "\n",
    "# Hide GPU from visible devices\n",
    "tf.config.set_visible_devices([], 'GPU')"
   ],
   "metadata": {
    "collapsed": false,
    "pycharm": {
     "name": "#%%\n"
    }
   }
  },
  {
   "cell_type": "code",
   "execution_count": 3,
   "outputs": [
    {
     "name": "stdout",
     "output_type": "stream",
     "text": [
      "Size of State Space ->  2\n",
      "Size of Action Space ->  1\n",
      "Max Value of Action ->  1.0\n",
      "Min Value of Action ->  -1.0\n"
     ]
    }
   ],
   "source": [
    "env = gym.make(\"MountainCarContinuous-v0\")\n",
    "\n",
    "num_states = env.observation_space.shape[0]\n",
    "print(\"Size of State Space ->  {}\".format(num_states))\n",
    "num_actions = env.action_space.shape[0]\n",
    "print(\"Size of Action Space ->  {}\".format(num_actions))\n",
    "\n",
    "upper_bound = env.action_space.high[0]\n",
    "lower_bound = env.action_space.low[0]\n",
    "\n",
    "print(\"Max Value of Action ->  {}\".format(upper_bound))\n",
    "print(\"Min Value of Action ->  {}\".format(lower_bound))"
   ],
   "metadata": {
    "collapsed": false,
    "pycharm": {
     "name": "#%%\n"
    }
   }
  },
  {
   "cell_type": "code",
   "execution_count": 4,
   "outputs": [],
   "source": [
    "actor_model = get_actor(2, 1, [16, 16])\n",
    "critic_model = get_critic(2, 1, [16], [16], [20])\n",
    "\n",
    "target_actor = get_actor(2, 1, [16, 16])\n",
    "target_critic = get_critic(2, 1, [16], [16], [20])\n",
    "\n",
    "# Making the weights equal initially\n",
    "target_actor.set_weights(actor_model.get_weights())\n",
    "target_critic.set_weights(critic_model.get_weights())\n",
    "\n",
    "# Learning rate for actor-critic models\n",
    "critic_lr = 0.0001\n",
    "actor_lr = 0.00005\n",
    "\n",
    "critic_optimizer = tf.keras.optimizers.Adam(critic_lr)\n",
    "actor_optimizer = tf.keras.optimizers.Adam(actor_lr)\n",
    "\n",
    "total_episodes = 140\n",
    "# Discount factor for future rewards\n",
    "gamma = 0.99\n",
    "# Used to update target networks\n",
    "tau = 0.005\n",
    "\n",
    "# buffer = Buffer(50000, 64, 0.99, 2, 1, critic_optimizer, actor_optimizer)\n",
    "\n",
    "ddpg = BasicDDPG(actor_model, critic_model, target_actor, target_critic, tau, observation_dim=2,\n",
    "                 action_dim=1, critic_optimizer=critic_optimizer, actor_optimizer=actor_optimizer)"
   ],
   "metadata": {
    "collapsed": false,
    "pycharm": {
     "name": "#%%\n"
    }
   }
  },
  {
   "cell_type": "code",
   "execution_count": 5,
   "outputs": [
    {
     "name": "stderr",
     "output_type": "stream",
     "text": [
      "2022-10-15 18:41:02.876767: W tensorflow/core/platform/profile_utils/cpu_utils.cc:128] Failed to get CPU frequency: 0 Hz\n"
     ]
    },
    {
     "name": "stdout",
     "output_type": "stream",
     "text": [
      "88.67307074412336\n",
      "-0.02411329 -0.055731617\n",
      "-31.357191707353763\n",
      "-0.024899693 -0.03941303\n",
      "90.28567234790687\n",
      "-0.018826136 -0.03544874\n",
      "-33.109628440133875\n",
      "0.079351604 0.028848806\n",
      "-34.57496934587841\n",
      "0.09155329 0.042207506\n",
      "71.02306346644536\n",
      "0.09158766 0.051958494\n",
      "75.63411365741706\n",
      "0.08312993 0.05716828\n",
      "87.41808940046747\n",
      "0.104938954 0.060644038\n",
      "86.48208797019805\n",
      "0.12569404 0.07276759\n",
      "-29.093965242307306\n",
      "0.20851487 0.058963045\n",
      "68.7720415305783\n",
      "0.18429331 0.0824684\n",
      "82.54540745368445\n",
      "0.12886533 0.10073798\n",
      "69.41191550189042\n",
      "0.11564513 0.096917994\n",
      "75.57270291953608\n",
      "0.13140851 0.07464755\n",
      "-35.15399459893552\n",
      "0.12967123 0.09446145\n",
      "87.72688816814056\n",
      "0.15074688 0.0886904\n",
      "85.37244676735845\n",
      "0.19568372 0.09949792\n",
      "84.83112937767676\n",
      "0.23917755 0.1319445\n",
      "-36.91989150616649\n",
      "0.2550646 0.11500997\n",
      "87.82145562860839\n",
      "0.28823477 0.1125123\n",
      "-34.742314208162604\n",
      "0.32859793 0.2281347\n",
      "85.51181926379594\n",
      "0.32682654 0.0728615\n",
      "-35.31545732972517\n",
      "0.35536852 -0.017031742\n",
      "-36.37435354359562\n",
      "0.34429234 0.10098719\n",
      "85.1016976268887\n",
      "0.39435527 0.1295012\n",
      "94.39878105092518\n",
      "0.3858979 0.25142545\n",
      "69.76672723042437\n",
      "0.4615038 0.13558626\n",
      "79.34108610323473\n",
      "0.54917574 0.11108418\n",
      "-34.26589622197292\n",
      "0.97409564 0.19228311\n",
      "-32.46590524554931\n",
      "0.9980112 0.13770981\n",
      "-33.11600130618636\n",
      "0.9999837 0.037476063\n",
      "79.70604818592733\n",
      "0.9999992 0.7389005\n",
      "-31.377425315496012\n",
      "0.9999922 0.003475555\n",
      "85.64595431416475\n",
      "0.99999976 -0.08067084\n",
      "-33.01688342539527\n",
      "1.0 0.6082091\n",
      "86.25289118828077\n",
      "0.99999976 -0.0028344314\n",
      "72.49637582681824\n",
      "1.0 0.020855572\n",
      "78.19765913510551\n",
      "1.0 0.90597737\n",
      "-36.841714486906774\n",
      "1.0 0.995856\n",
      "75.75553292653544\n",
      "1.0 0.9600721\n",
      "-30.1248450575257\n",
      "1.0 0.99978983\n",
      "85.06036475094548\n",
      "1.0 0.9989027\n",
      "82.66052437431362\n",
      "0.99999976 0.99979544\n",
      "86.41232056786723\n",
      "1.0 0.99979216\n",
      "66.13749491166158\n",
      "1.0 0.9999992\n",
      "82.85172825498567\n",
      "1.0 0.9995971\n",
      "83.79670051200911\n",
      "1.0 0.99823\n",
      "-31.20910704267904\n",
      "1.0 0.99999833\n",
      "73.25289616517576\n",
      "1.0 0.9990224\n",
      "91.81806751599322\n",
      "1.0 0.9999993\n",
      "-31.921813293260254\n",
      "1.0 0.9997499\n",
      "-32.50246256040308\n",
      "1.0 0.99999887\n",
      "-28.963572426528255\n",
      "1.0 0.9999986\n",
      "86.35050127549884\n",
      "1.0 0.9998438\n",
      "70.56070063477182\n",
      "1.0 0.9999968\n",
      "-29.80685459139386\n",
      "1.0 0.9999937\n",
      "-33.38835266049933\n",
      "1.0 0.9999989\n",
      "-31.728409535208016\n",
      "1.0 0.99999624\n",
      "92.41041191169643\n",
      "1.0 0.9999989\n",
      "-31.435471386329745\n",
      "1.0 0.99999976\n",
      "72.8497755186289\n",
      "1.0 0.99999976\n",
      "85.26762204170568\n",
      "1.0 0.99999976\n",
      "-35.38846440218143\n",
      "1.0 0.99999976\n",
      "88.49549204966833\n",
      "1.0 0.99999976\n",
      "-33.64523418254996\n",
      "1.0 0.99999976\n",
      "75.12975709864777\n",
      "1.0 0.99999976\n",
      "70.45774646510671\n",
      "1.0 0.99999976\n",
      "87.51676844294917\n",
      "1.0 0.99999976\n",
      "79.25961338993069\n",
      "1.0 0.99999976\n",
      "-30.716511369887566\n",
      "1.0 0.99999976\n",
      "75.85260170897396\n",
      "1.0 0.99999976\n",
      "75.15864882155407\n",
      "1.0 0.99999976\n",
      "-33.60474008954688\n",
      "1.0 0.99999976\n",
      "87.82536212049885\n",
      "1.0 0.99999976\n",
      "-33.27605872977242\n",
      "1.0 0.99999976\n",
      "92.39315020948477\n",
      "1.0 0.99999976\n",
      "-27.84876414117104\n",
      "1.0 0.99999976\n",
      "-30.54426073757777\n",
      "1.0 0.99999976\n",
      "74.85744381513067\n",
      "1.0 0.99999976\n",
      "83.91248549398007\n",
      "1.0 0.99999976\n",
      "83.55050153392926\n",
      "1.0 0.99999976\n",
      "86.08501610889876\n",
      "1.0 0.99999976\n",
      "67.90567348427766\n",
      "1.0 0.99999976\n",
      "71.07412713456354\n",
      "1.0 0.99999976\n",
      "82.78984493868698\n",
      "1.0 0.99999976\n",
      "76.7570867216378\n",
      "1.0 0.99999976\n",
      "-31.61000784938263\n",
      "1.0 0.99999976\n",
      "-35.38529736616464\n",
      "1.0 0.99999976\n",
      "89.6822798679243\n",
      "1.0 0.99999976\n",
      "93.48660870566285\n",
      "1.0 0.99999976\n",
      "71.35132874505672\n",
      "1.0 0.99999976\n",
      "79.60979398708537\n",
      "1.0 0.99999976\n",
      "-28.368736431565313\n",
      "1.0 0.99999976\n",
      "94.63032267743935\n",
      "1.0 0.99999976\n",
      "-34.90132711026544\n",
      "1.0 0.99999976\n",
      "78.56846703378393\n",
      "1.0 0.99999976\n",
      "-33.0968583730631\n",
      "1.0 0.99999976\n",
      "85.26677354334856\n",
      "1.0 0.99999976\n",
      "74.5797404549402\n",
      "1.0 0.99999976\n",
      "-30.266668305742993\n",
      "1.0 0.99999976\n",
      "86.05963520163638\n",
      "1.0 0.99999976\n",
      "79.93527067174068\n",
      "1.0 0.99999976\n",
      "-35.84535693304377\n",
      "1.0 0.99999976\n",
      "69.69478483985395\n",
      "1.0 0.99999976\n",
      "83.80461638850174\n",
      "1.0 0.99999976\n",
      "73.77056788386507\n",
      "1.0 0.99999976\n",
      "-34.57044926049716\n",
      "1.0 0.99999976\n",
      "73.87956058626226\n",
      "1.0 0.99999976\n",
      "84.79970397143569\n",
      "1.0 0.99999976\n",
      "-29.229106488953466\n",
      "1.0 0.99999976\n",
      "89.17108068678128\n",
      "1.0 0.99999976\n",
      "83.66842069354192\n",
      "1.0 0.99999976\n",
      "-34.82914285631987\n",
      "1.0 0.99999976\n",
      "76.64369982447505\n",
      "1.0 0.99999976\n",
      "76.90848879317676\n",
      "1.0 0.99999976\n",
      "92.09370318120759\n",
      "1.0 0.99999976\n",
      "91.38559170655599\n",
      "1.0 0.99999976\n",
      "-35.86875302922815\n",
      "1.0 0.99999976\n",
      "-35.989639752011385\n",
      "1.0 0.99999976\n",
      "90.24800350618635\n",
      "1.0 0.99999976\n",
      "87.44116662409445\n",
      "1.0 0.99999976\n",
      "81.51843915244027\n",
      "1.0 0.99999976\n",
      "85.50101018642182\n",
      "1.0 0.99999976\n",
      "-31.51555918820277\n",
      "1.0 0.99999976\n",
      "-31.56846591952424\n",
      "1.0 0.99999976\n",
      "-33.59166915195142\n",
      "1.0 0.99999976\n",
      "78.98871514971391\n",
      "1.0 0.99999976\n",
      "81.4009222418499\n",
      "1.0 0.99999976\n",
      "85.63505687422179\n",
      "1.0 0.99999976\n",
      "-28.875502722677744\n",
      "1.0 0.99999976\n",
      "75.92046521840865\n",
      "1.0 0.99999976\n",
      "84.12991087197814\n",
      "1.0 0.99999976\n",
      "-32.64968587149268\n",
      "1.0 0.99999976\n",
      "81.2846924129596\n",
      "1.0 0.99999976\n",
      "81.73000115138196\n",
      "1.0 0.99999976\n",
      "92.0318525669033\n",
      "1.0 0.99999976\n",
      "93.6904629478955\n",
      "1.0 0.99999976\n",
      "-32.94803604191776\n",
      "1.0 0.99999976\n",
      "74.10333106868109\n",
      "1.0 0.99999976\n",
      "-32.13440894138074\n",
      "1.0 0.99999976\n",
      "92.64508476491962\n",
      "1.0 0.99999976\n",
      "83.1969462231727\n",
      "1.0 0.99999976\n",
      "-32.73132214151093\n",
      "1.0 0.99999976\n",
      "-32.87478486073627\n",
      "1.0 0.99999976\n",
      "-30.843183889384264\n",
      "1.0 0.99999976\n",
      "82.43529941498247\n",
      "1.0 0.99999976\n",
      "82.68956545843932\n",
      "1.0 0.99999976\n",
      "91.98272654933047\n",
      "1.0 0.99999976\n",
      "-33.45615971021751\n",
      "1.0 0.99999976\n",
      "67.1609672114279\n",
      "1.0 0.99999976\n"
     ]
    }
   ],
   "source": [
    "t_max = 1000\n",
    "num_episodes = 150\n",
    "\n",
    "min_reward_cutoff = -1000\n",
    "min_reward_set = -0.5\n",
    "\n",
    "reward_increase = 0\n",
    "\n",
    "observation_max = np.array([0.6, 0.07])\n",
    "observation_min = np.array([-1.2, -0.07])\n",
    "\n",
    "# observation_max = np.array([0.6, 0.07])\n",
    "# observation_min = np.array([-1.2, -0.07])\n",
    "\n",
    "for i in range(num_episodes):\n",
    "\n",
    "    all_observations = []\n",
    "    actions = []\n",
    "    rewards = []\n",
    "\n",
    "    total_reward = 0\n",
    "\n",
    "    o, a, r = random_observation_sequence(env, t_max, epsilon=0.2)\n",
    "    o = transform_observations(o, observation_max, observation_min, [0, 0])\n",
    "    # o = transform_observations(o, observation_max, observation_min, [0.05, 0.05])\n",
    "    # print(o)\n",
    "    # print(o)\n",
    "    for i in range(len(a)):\n",
    "\n",
    "        prev_state = o[i]\n",
    "        state = o[i+1]\n",
    "        action = a[i]\n",
    "        reward = r[i] + reward_increase\n",
    "\n",
    "\n",
    "        total_reward += reward\n",
    "\n",
    "        # ddpg.buffer.record((prev_state, action, reward, state))\n",
    "        # # episodic_reward += reward\n",
    "        #\n",
    "        # ddpg.buffer.learn()\n",
    "\n",
    "        ddpg.record((prev_state, action, reward, state))\n",
    "        # episodic_reward += reward\n",
    "\n",
    "        ddpg.train([], [], [], [])\n",
    "\n",
    "    print(total_reward)\n",
    "\n",
    "    acts = ddpg.actor_model((np.random.random(size=(10, 2))*2 - 1))\n",
    "    print(np.max(acts), np.min(acts))\n"
   ],
   "metadata": {
    "collapsed": false,
    "pycharm": {
     "name": "#%%\n"
    }
   }
  },
  {
   "cell_type": "code",
   "execution_count": 6,
   "outputs": [
    {
     "data": {
      "text/plain": "<tf.Tensor: shape=(10, 1), dtype=float32, numpy=\narray([[ 98.642235],\n       [220.37552 ],\n       [101.128685],\n       [ 77.02902 ],\n       [161.37643 ],\n       [202.77823 ],\n       [383.27588 ],\n       [327.13275 ],\n       [459.1449  ],\n       [203.4675  ]], dtype=float32)>"
     },
     "execution_count": 6,
     "metadata": {},
     "output_type": "execute_result"
    }
   ],
   "source": [
    "ddpg.critic_model([(np.random.random(size=(10, 2))*2 - 1), (np.random.random(size=(10, 1))*2 - 1)])"
   ],
   "metadata": {
    "collapsed": false,
    "pycharm": {
     "name": "#%%\n"
    }
   }
  },
  {
   "cell_type": "code",
   "execution_count": 7,
   "outputs": [
    {
     "data": {
      "text/plain": "<tf.Tensor: shape=(10, 1), dtype=float32, numpy=\narray([[0.99999976],\n       [0.99999976],\n       [0.99999976],\n       [0.99999976],\n       [0.99999976],\n       [0.99999976],\n       [0.99999976],\n       [0.99999976],\n       [1.        ],\n       [1.        ]], dtype=float32)>"
     },
     "execution_count": 7,
     "metadata": {},
     "output_type": "execute_result"
    }
   ],
   "source": [
    "ddpg.actor_model((np.random.random(size=(10, 2))*2 - 1))"
   ],
   "metadata": {
    "collapsed": false,
    "pycharm": {
     "name": "#%%\n"
    }
   }
  },
  {
   "cell_type": "code",
   "execution_count": 8,
   "outputs": [
    {
     "data": {
      "text/plain": "[<matplotlib.lines.Line2D at 0x175485be0>,\n <matplotlib.lines.Line2D at 0x175485ca0>]"
     },
     "execution_count": 8,
     "metadata": {},
     "output_type": "execute_result"
    },
    {
     "data": {
      "text/plain": "<Figure size 432x288 with 1 Axes>",
      "image/png": "[encoded data removed]"
     },
     "metadata": {
      "needs_background": "light"
     },
     "output_type": "display_data"
    }
   ],
   "source": [
    "obs_pos = np.vstack([np.linspace(-1, 1, 100), np.zeros(100)]).T\n",
    "actions_pred = ddpg.actor_model(obs_pos)\n",
    "\n",
    "actions_pred\n",
    "\n",
    "\n",
    "plt.plot(obs_pos, actions_pred)"
   ],
   "metadata": {
    "collapsed": false,
    "pycharm": {
     "name": "#%%\n"
    }
   }
  },
  {
   "cell_type": "code",
   "execution_count": 9,
   "outputs": [
    {
     "name": "stdout",
     "output_type": "stream",
     "text": [
      "tf.Tensor(\n",
      "[[0.99999976]\n",
      " [0.99999976]\n",
      " [0.99999976]\n",
      " [0.99999976]\n",
      " [0.99999976]\n",
      " [0.99999976]\n",
      " [0.99999976]\n",
      " [0.99999976]\n",
      " [0.99999976]\n",
      " [0.99999976]\n",
      " [0.99999976]\n",
      " [0.99999976]\n",
      " [0.99999976]\n",
      " [0.99999976]\n",
      " [0.99999976]\n",
      " [0.99999976]\n",
      " [0.99999976]\n",
      " [0.99999976]\n",
      " [0.99999976]\n",
      " [0.99999976]\n",
      " [0.99999976]\n",
      " [0.99999976]\n",
      " [0.99999976]\n",
      " [0.99999976]\n",
      " [0.99999976]\n",
      " [0.99999976]\n",
      " [0.99999976]\n",
      " [0.99999976]\n",
      " [0.99999976]\n",
      " [0.99999976]\n",
      " [0.99999976]\n",
      " [0.99999976]\n",
      " [0.99999976]\n",
      " [0.99999976]\n",
      " [0.99999976]\n",
      " [0.99999976]\n",
      " [0.99999976]\n",
      " [0.99999976]\n",
      " [0.99999976]\n",
      " [0.99999976]\n",
      " [0.99999976]\n",
      " [0.99999976]\n",
      " [0.99999976]\n",
      " [0.99999976]\n",
      " [0.99999976]\n",
      " [0.99999976]\n",
      " [0.99999976]\n",
      " [0.99999976]\n",
      " [0.99999976]\n",
      " [0.99999976]\n",
      " [0.99999976]\n",
      " [0.99999976]\n",
      " [0.99999976]\n",
      " [0.99999976]\n",
      " [0.99999976]\n",
      " [0.99999976]\n",
      " [0.99999976]\n",
      " [0.99999976]\n",
      " [0.99999976]\n",
      " [0.99999976]\n",
      " [0.99999976]\n",
      " [0.99999976]\n",
      " [0.99999976]\n",
      " [0.99999976]\n",
      " [0.99999976]\n",
      " [0.99999976]\n",
      " [0.99999976]\n",
      " [0.99999976]\n",
      " [0.99999976]\n",
      " [0.99999976]\n",
      " [0.99999976]\n",
      " [0.99999976]\n",
      " [0.99999976]\n",
      " [0.99999976]\n",
      " [0.99999976]\n",
      " [0.99999976]\n",
      " [0.99999976]\n",
      " [0.99999976]\n",
      " [0.99999976]\n",
      " [0.99999976]\n",
      " [0.99999976]\n",
      " [0.99999976]\n",
      " [0.99999976]\n",
      " [0.99999976]\n",
      " [0.99999976]\n",
      " [0.99999976]\n",
      " [0.99999976]\n",
      " [0.99999976]\n",
      " [0.99999976]\n",
      " [0.99999976]\n",
      " [0.99999976]\n",
      " [0.99999976]\n",
      " [0.99999976]\n",
      " [0.99999976]\n",
      " [0.99999976]\n",
      " [0.99999976]\n",
      " [0.99999976]\n",
      " [0.99999976]\n",
      " [0.99999976]\n",
      " [0.99999976]], shape=(100, 1), dtype=float32)\n"
     ]
    },
    {
     "data": {
      "text/plain": "[<matplotlib.lines.Line2D at 0x17a052100>,\n <matplotlib.lines.Line2D at 0x17a052220>]"
     },
     "execution_count": 9,
     "metadata": {},
     "output_type": "execute_result"
    },
    {
     "data": {
      "text/plain": "<Figure size 432x288 with 1 Axes>",
      "image/png": "[encoded data removed]"
     },
     "metadata": {
      "needs_background": "light"
     },
     "output_type": "display_data"
    }
   ],
   "source": [
    "vel_pos = np.vstack([np.zeros(100), np.linspace(-1, 1, 100)]).T\n",
    "actions_pred = ddpg.actor_model(vel_pos)\n",
    "print(actions_pred)\n",
    "\n",
    "plt.plot(obs_pos, actions_pred)"
   ],
   "metadata": {
    "collapsed": false,
    "pycharm": {
     "name": "#%%\n"
    }
   }
  },
  {
   "cell_type": "markdown",
   "source": [
    "## Can it solve the environment?"
   ],
   "metadata": {
    "collapsed": false
   }
  },
  {
   "cell_type": "code",
   "execution_count": 10,
   "outputs": [
    {
     "name": "stderr",
     "output_type": "stream",
     "text": [
      "\n",
      "KeyboardInterrupt\n",
      "\n"
     ]
    }
   ],
   "source": [
    "test_policy(env, ddpg.actor_model, observation_max, observation_min, None, 5, 1, show_env=True)"
   ],
   "metadata": {
    "collapsed": false,
    "pycharm": {
     "name": "#%%\n"
    }
   }
  },
  {
   "cell_type": "code",
   "execution_count": null,
   "outputs": [],
   "source": [
    "test_policy(env, ddpg.actor_model, None, None, None, 5, 1)"
   ],
   "metadata": {
    "collapsed": false,
    "pycharm": {
     "name": "#%%\n"
    }
   }
  },
  {
   "cell_type": "code",
   "execution_count": 87,
   "outputs": [
    {
     "name": "stdout",
     "output_type": "stream",
     "text": [
      "Episode 1\n",
      "[-0.5882275  0.       ]\n"
     ]
    },
    {
     "name": "stderr",
     "output_type": "stream",
     "text": [
      "2022-10-15 19:55:08.165615: I tensorflow/core/grappler/optimizers/custom_graph_optimizer_registry.cc:113] Plugin optimizer for device_type GPU is enabled.\n"
     ]
    },
    {
     "name": "stdout",
     "output_type": "stream",
     "text": [
      "No Success\n",
      "Episode 1\n",
      "[-0.43519258  0.        ]\n"
     ]
    },
    {
     "name": "stderr",
     "output_type": "stream",
     "text": [
      "2022-10-15 19:55:26.698391: I tensorflow/core/grappler/optimizers/custom_graph_optimizer_registry.cc:113] Plugin optimizer for device_type GPU is enabled.\n"
     ]
    },
    {
     "name": "stdout",
     "output_type": "stream",
     "text": [
      "No Success\n",
      "EXPERIMENT FINISHED\n"
     ]
    }
   ],
   "source": [
    "actor_params = {\n",
    "    \"observation_dim\": 2,\n",
    "    \"action_max\": 1,\n",
    "    \"hidden_units\": [16, 16]\n",
    "}\n",
    "\n",
    "critic_params = {\n",
    "    \"observation_dim\": 2,\n",
    "    \"action_dim\": 1,\n",
    "    \"state_hidden_units\": [16],\n",
    "    \"action_hidden_units\": [16],\n",
    "    \"out_hidden_units\": [20]\n",
    "}\n",
    "\n",
    "\n",
    "\n",
    "\n",
    "observation_max = np.array([0.6, 0.07])\n",
    "observation_min = np.array([-1.2, -0.07])\n",
    "observation_noise_stddev = [0, 0]\n",
    "\n",
    "agent_time_ratio = 6\n",
    "\n",
    "num_agents = 2\n",
    "\n",
    "NORMAL_RUNS = 1\n",
    "TRAN_RUNS = 0\n",
    "HABIT_RUNS = 0\n",
    "FLIP_DYNAMICS_RUNS = 0\n",
    "EPISODES_BETWEEN_HABIT_TESTS = 1\n",
    "\n",
    "env = gym.make('MountainCarContinuous-v0')\n",
    "\n",
    "experiment_model_free_DDPG(\"../experiment_results/experiment_ddpg_mf_test\", env, observation_min, observation_max, observation_noise_stddev, num_agents, NORMAL_RUNS, FLIP_DYNAMICS_RUNS, EPISODES_BETWEEN_HABIT_TESTS, actor_params, critic_params, ddpg_buffer_size=100000, ddpg_agent_time_ratio=6)"
   ],
   "metadata": {
    "collapsed": false,
    "pycharm": {
     "name": "#%%\n"
    }
   }
  },
  {
   "cell_type": "code",
   "execution_count": null,
   "outputs": [],
   "source": [
    "# # make the HABIT ACTION NET\n",
    "actor_model = get_actor(**actor_params)\n",
    "critic_model = get_critic(**critic_params)\n",
    "target_actor = get_actor(**actor_params)\n",
    "target_critic = get_critic(**critic_params)\n",
    "\n",
    "# Making the weights equal initially\n",
    "target_actor.set_weights(actor_model.get_weights())\n",
    "target_critic.set_weights(critic_model.get_weights())\n",
    "critic_optimizer = tf.keras.optimizers.Adam(0.0001)\n",
    "actor_optimizer = tf.keras.optimizers.Adam(0.00005)\n",
    "\n",
    "ou_noise = OUActionNoise(np.zeros(1), np.ones(1)*0.2)\n",
    "\n",
    "ddpg_agent = DDPGAgent(agent_time_ratio=6, ou_noise=ou_noise, actor=actor_model, critic=critic_model, target_actor=target_actor, target_critic=target_critic, tau=0.005, buffer_capacity=500, critic_optimizer=critic_optimizer, actor_optimizer=actor_optimizer)"
   ],
   "metadata": {
    "collapsed": false,
    "pycharm": {
     "name": "#%%\n"
    }
   }
  },
  {
   "cell_type": "code",
   "execution_count": 52,
   "outputs": [
    {
     "data": {
      "text/plain": "0.0"
     },
     "execution_count": 52,
     "metadata": {},
     "output_type": "execute_result"
    }
   ],
   "source": [
    "a = ddpg_agent.select_action(np.array([[0, 0]]))\n",
    "tf.squeeze(a).numpy()"
   ],
   "metadata": {
    "collapsed": false,
    "pycharm": {
     "name": "#%%\n"
    }
   }
  },
  {
   "cell_type": "code",
   "execution_count": 54,
   "outputs": [
    {
     "data": {
      "text/plain": "(array([[-0.45696074],\n        [-0.00075541]], dtype=float32),\n 0.0,\n False,\n {})"
     },
     "execution_count": 54,
     "metadata": {},
     "output_type": "execute_result"
    }
   ],
   "source": [
    "env.step(a)"
   ],
   "metadata": {
    "collapsed": false,
    "pycharm": {
     "name": "#%%\n"
    }
   }
  },
  {
   "cell_type": "code",
   "execution_count": null,
   "outputs": [],
   "source": [
    "observation_noisy = transform_observations(np.array([0, 0]), obs_max, obs_min, observation_noise_stddev)"
   ],
   "metadata": {
    "collapsed": false,
    "pycharm": {
     "name": "#%%\n"
    }
   }
  }
 ],
 "metadata": {
  "kernelspec": {
   "display_name": "Python 3",
   "language": "python",
   "name": "python3"
  },
  "language_info": {
   "codemirror_mode": {
    "name": "ipython",
    "version": 2
   },
   "file_extension": ".py",
   "mimetype": "text/x-python",
   "name": "python",
   "nbconvert_exporter": "python",
   "pygments_lexer": "ipython2",
   "version": "2.7.6"
  }
 },
 "nbformat": 4,
 "nbformat_minor": 0
}