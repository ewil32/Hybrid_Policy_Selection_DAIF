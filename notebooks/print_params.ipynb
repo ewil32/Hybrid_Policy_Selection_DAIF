{
 "cells": [
  {
   "cell_type": "code",
   "execution_count": 5,
   "metadata": {
    "collapsed": true
   },
   "outputs": [],
   "source": [
    "import tensorflow as tf\n",
    "import numpy as np\n",
    "from experiments.agent_experiments import basic_experiment\n",
    "from util import transform_observations\n",
    "\n",
    "# Hide GPU from visible devices\n",
    "tf.config.set_visible_devices([], 'GPU')\n",
    "\n",
    "encoder_params = {\n",
    "    \"input_dim\": 2,\n",
    "    \"latent_dim\": 2,\n",
    "    \"hidden_units\": [20]\n",
    "}\n",
    "\n",
    "decoder_params = {\n",
    "    \"output_dim\": 2,\n",
    "    \"latent_dim\": 2,\n",
    "    \"hidden_units\": [20]\n",
    "}\n",
    "\n",
    "vae_params = {\n",
    "    \"latent_dim\": 2,\n",
    "    \"reg_mean\": [0, 0],\n",
    "    \"reg_stddev\": [0.3, 0.3],\n",
    "    \"recon_stddev\": 0.05,\n",
    "    \"train_epochs\": 2,\n",
    "    \"show_training\": False\n",
    "}\n",
    "\n",
    "tran_params = {\n",
    "    \"latent_dim\": 2,\n",
    "    \"action_dim\": 1,\n",
    "    \"hidden_units\": 20,\n",
    "    \"output_dim\": 2,\n",
    "    \"train_epochs\": 2,\n",
    "    \"show_training\": False\n",
    "}\n",
    "\n",
    "observation_max = np.array([0.6, 0.07])\n",
    "observation_min = np.array([-1.2, -0.07])\n",
    "observation_noise_stddev = [0.05, 0.05]\n",
    "\n",
    "# unscaled prior mean and prior stddev\n",
    "prior_mean = [0.45, 0]\n",
    "prior_stddev = [1, 1]\n",
    "scaled_prior_mean = transform_observations(prior_mean, observation_max, observation_min, [0, 0])  # no noise on prior\n",
    "\n",
    "agent_params = {\n",
    "    \"prior_model\": None,\n",
    "    \"habitual_action_net\": None,\n",
    "    \"given_prior_mean\": scaled_prior_mean,\n",
    "    \"given_prior_stddev\": prior_stddev,\n",
    "    \"agent_time_ratio\": 6,\n",
    "    \"actions_to_execute_when_exploring\": 2,\n",
    "    \"planning_horizon\": 5,\n",
    "    \"n_policies\": 1500,\n",
    "    \"n_cem_policy_iterations\": 2,\n",
    "    \"n_policy_candidates\": 70,\n",
    "    \"train_vae\": True,\n",
    "    'train_tran': True,\n",
    "    \"train_prior_model\": False,\n",
    "    \"train_habit_net\": False,\n",
    "    \"train_with_replay\": False,\n",
    "    \"train_during_episode\": True,\n",
    "    \"use_kl_extrinsic\": True,\n",
    "    \"use_kl_intrinsic\": True,\n",
    "    \"use_FEEF\": False,\n",
    "    \"use_fast_thinking\": False,\n",
    "    \"uncertainty_tolerance\": 0.1,\n",
    "    \"habit_model_type\": None\n",
    "}\n",
    "\n",
    "\n",
    "prior_params = {\n",
    "    \"observation_dim\": 2,\n",
    "    \"output_dim\": 1,\n",
    "    \"iterate_train\": 1,\n",
    "    \"discount_factor\": 0.99,\n",
    "    \"training_epochs\": 1,\n",
    "    \"show_training\": False,\n",
    "    \"use_tanh_on_output\": False\n",
    "}\n",
    "\n",
    "\n",
    "a2c_model_params = {\n",
    "    \"latent_dim\": 2,\n",
    "    \"action_dim\": 1,\n",
    "    \"dense_units\": [16, 16],\n",
    "    \"action_std_dev\": 0.05,\n",
    "    \"train_epochs\": 2,\n",
    "    \"show_training\": False,\n",
    "    \"discount_factor\": 0.99\n",
    "}"
   ]
  },
  {
   "cell_type": "code",
   "execution_count": 6,
   "outputs": [
    {
     "name": "stdout",
     "output_type": "stream",
     "text": [
      "latent_dim\n",
      "action_dim\n",
      "dense_units\n",
      "action_std_dev\n",
      "train_epochs\n",
      "show_training\n",
      "discount_factor\n"
     ]
    }
   ],
   "source": [
    "for k, it in list(a2c_model_params.items()):\n",
    "    print(k)"
   ],
   "metadata": {
    "collapsed": false,
    "pycharm": {
     "name": "#%%\n"
    }
   }
  },
  {
   "cell_type": "code",
   "execution_count": 7,
   "outputs": [
    {
     "name": "stdout",
     "output_type": "stream",
     "text": [
      "2\n",
      "1\n",
      "[16, 16]\n",
      "0.05\n",
      "2\n",
      "False\n",
      "0.99\n"
     ]
    }
   ],
   "source": [
    "for k, it in list(a2c_model_params.items()):\n",
    "    print(it)"
   ],
   "metadata": {
    "collapsed": false,
    "pycharm": {
     "name": "#%%\n"
    }
   }
  },
  {
   "cell_type": "code",
   "execution_count": null,
   "outputs": [],
   "source": [],
   "metadata": {
    "collapsed": false,
    "pycharm": {
     "name": "#%%\n"
    }
   }
  }
 ],
 "metadata": {
  "kernelspec": {
   "display_name": "Python 3",
   "language": "python",
   "name": "python3"
  },
  "language_info": {
   "codemirror_mode": {
    "name": "ipython",
    "version": 2
   },
   "file_extension": ".py",
   "mimetype": "text/x-python",
   "name": "python",
   "nbconvert_exporter": "python",
   "pygments_lexer": "ipython2",
   "version": "2.7.6"
  }
 },
 "nbformat": 4,
 "nbformat_minor": 0
}