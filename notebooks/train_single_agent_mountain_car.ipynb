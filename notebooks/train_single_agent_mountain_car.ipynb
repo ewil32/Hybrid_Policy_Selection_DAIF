{
 "cells": [
  {
   "cell_type": "markdown",
   "source": [
    "# Train Single Agent on Mountain Car"
   ],
   "metadata": {
    "collapsed": false
   }
  },
  {
   "cell_type": "code",
   "execution_count": 1,
   "outputs": [],
   "source": [
    "import gym\n",
    "import pandas as pd\n",
    "\n",
    "from vae import VAE, create_decoder, create_encoder\n",
    "from transition_gru import TransitionGRU\n",
    "from daif_agent import DAIFAgent\n",
    "from prior_preferences_model import PriorPreferencesModel\n",
    "from a2c import PolicyGradientNetwork, compute_discounted_cumulative_reward\n",
    "from ddpg import *"
   ],
   "metadata": {
    "collapsed": false,
    "pycharm": {
     "name": "#%%\n"
    }
   }
  },
  {
   "cell_type": "code",
   "execution_count": 2,
   "outputs": [],
   "source": [
    "from util import transform_observations, test_policy, habit_policy\n",
    "from train_agent import train_single_agent"
   ],
   "metadata": {
    "collapsed": false,
    "pycharm": {
     "name": "#%%\n"
    }
   }
  },
  {
   "cell_type": "markdown",
   "source": [
    "What does the agent do?\n",
    "- The agent plans using a policy then executes that policy for 12 simulation timesteps, the first two actions of the policy are executed for 6 steps each\n",
    "\n",
    "What data does it accumulate?\n",
    "- It accumulates 12 observation actions pairs\n",
    "\n",
    "How is it trained?\n",
    "- VAE is trained to reproduce observations using the latent states\n",
    "- Transition is trained by taking previous hidden state and previous latent state and trying to predict the next latent state"
   ],
   "metadata": {
    "collapsed": false
   }
  },
  {
   "cell_type": "markdown",
   "source": [
    "\n",
    "Online learning For all tasks, we initialize all the agents with random weights and learn online only. Training an agent for 150 epochs takes about 3 minutes on a single CPU core (Intel I7-4870HQ). In contrast, previous approaches using active inference [Ueltzhöffer, 2018, Tschantz et al., 2019, 2020] and policy gradient methods (e.g., [Liu et al., 2017]) use (offline) policy replay and typically need hours of GPU-accelerated compute while achieving similar convergence. To our knowledge, this is the first model-based RL method to learn online using neural network representations. This is afforded by the high sample efficiency of the FEEF, which directs exploration towards states that are uncertain for both the encoder and transition models.\n",
    "\n",
    "\n",
    "Why this is true?"
   ],
   "metadata": {
    "collapsed": false
   }
  },
  {
   "cell_type": "code",
   "execution_count": 3,
   "outputs": [],
   "source": [
    "# Hide GPU from visible devices\n",
    "tf.config.set_visible_devices([], 'GPU')"
   ],
   "metadata": {
    "collapsed": false,
    "pycharm": {
     "name": "#%%\n"
    }
   }
  },
  {
   "cell_type": "markdown",
   "source": [
    "## Test with no prior model FEEF"
   ],
   "metadata": {
    "collapsed": false
   }
  },
  {
   "cell_type": "code",
   "execution_count": 4,
   "outputs": [],
   "source": [
    "pln_hrzn = 5\n",
    "latent_dim = 2\n",
    "obs_dim = 2\n",
    "\n",
    "# make the VAE\n",
    "enc = create_encoder(2, latent_dim, [20])\n",
    "dec = create_decoder(latent_dim, 2, [20])\n",
    "vae = VAE(enc, dec, latent_dim,  [0]*latent_dim, [0.3]*latent_dim, train_epochs=2, show_training=False)\n",
    "vae.compile(optimizer=tf.keras.optimizers.Adam())\n",
    "\n",
    "# make the TRANSITION\n",
    "tran = TransitionGRU(latent_dim, 1, 2*pln_hrzn*latent_dim, 2, train_epochs=2, show_training=False)\n",
    "tran.compile(optimizer=tf.keras.optimizers.Adam())\n",
    "\n",
    "# make the PRIOR NET\n",
    "prior_model = PriorPreferencesModel(latent_dim, output_dim=1, show_training=False, use_tanh_on_output=False)\n",
    "\n",
    "# unscaled prior mean and prior stddev\n",
    "prior_mean = [0.45, 0]\n",
    "prior_stddev = [1, 1]\n",
    "\n",
    "observation_max = np.array([0.6, 0.07])\n",
    "observation_min = np.array([-1.2, -0.07])\n",
    "\n",
    "# observation_noise_stddev = [0, 0]\n",
    "observation_noise_stddev = [0.05, 0.05]\n",
    "\n",
    "scaled_prior_mean = transform_observations(prior_mean, observation_max, observation_min, [0,0])  # no noise on prior"
   ],
   "metadata": {
    "collapsed": false,
    "pycharm": {
     "name": "#%%\n"
    }
   }
  },
  {
   "cell_type": "markdown",
   "source": [
    "## Uncomment for using A2C"
   ],
   "metadata": {
    "collapsed": false,
    "pycharm": {
     "name": "#%% md\n"
    }
   }
  },
  {
   "cell_type": "code",
   "execution_count": 5,
   "outputs": [],
   "source": [
    "# make the HABIT ACTION NET\n",
    "habit_net = PolicyGradientNetwork(latent_dim, 1, [16, 16], train_epochs=2, show_training=False)\n",
    "habit_net.compile(optimizer=tf.keras.optimizers.Adam())\n",
    "\n",
    "daifa = DAIFAgent(prior_model,\n",
    "                           vae,\n",
    "                           tran,\n",
    "                           habit_net,\n",
    "                           planning_horizon=pln_hrzn,\n",
    "                           use_efe_extrinsic=True,\n",
    "                           use_kl_intrinsic=True,\n",
    "                           use_FEEF=False,\n",
    "                           train_habit_net=True,\n",
    "                           train_prior_model=True,\n",
    "                           train_tran=True,\n",
    "                           train_during_episode=True,\n",
    "                           train_with_replay=True,\n",
    "                           use_habit_policy=True,\n",
    "                           habit_model_type=\"A2C\",\n",
    "                           uncertainty_tolerance=0.1,\n",
    "                           min_rewards_needed_to_train_prior=-10,\n",
    "                           prior_model_scaling_factor=1)"
   ],
   "metadata": {
    "collapsed": false,
    "pycharm": {
     "name": "#%%\n"
    }
   }
  },
  {
   "cell_type": "markdown",
   "source": [
    "## Uncomment for using DDPG"
   ],
   "metadata": {
    "collapsed": false,
    "pycharm": {
     "name": "#%% md\n"
    }
   }
  },
  {
   "cell_type": "code",
   "execution_count": 6,
   "outputs": [],
   "source": [
    "# # # make the DDPG HABIT ACTION NET\n",
    "# actor_model = get_actor(2, 1)\n",
    "# critic_model = get_critic(2, 1)\n",
    "# target_actor = get_actor(2, 1)\n",
    "# target_critic = get_critic(2, 1)\n",
    "#\n",
    "# # Making the weights equal initially\n",
    "# target_actor.set_weights(actor_model.get_weights())\n",
    "# target_critic.set_weights(critic_model.get_weights())\n",
    "# critic_optimizer = tf.keras.optimizers.Adam(0.0001)\n",
    "# actor_optimizer = tf.keras.optimizers.Adam(0.00005)\n",
    "# habit_net = BasicDDPG(actor_model, critic_model, target_actor, target_critic, tau=0.005, critic_optimizer=critic_optimizer, actor_optimizer=actor_optimizer)\n",
    "#\n",
    "#\n",
    "# daifa = DAIFAgent(prior_model,\n",
    "#                            vae,\n",
    "#                            tran,\n",
    "#                            habit_net,\n",
    "#                            planning_horizon=pln_hrzn,\n",
    "#                            use_efe_extrinsic=True,\n",
    "#                            use_kl_intrinsic=True,\n",
    "#                            use_FEEF=False,\n",
    "#                            train_habit_net=True,\n",
    "#                            train_prior_model=True,\n",
    "#                            train_tran=True,\n",
    "#                            train_during_episode=True,\n",
    "#                            train_with_replay=True,\n",
    "#                            use_habit_policy=True,\n",
    "#                            habit_model_type=\"DDPG\",\n",
    "#                            uncertainty_tolerance=0.1,\n",
    "#                            min_rewards_needed_to_train_prior=-10,\n",
    "#                            prior_model_scaling_factor=1)"
   ],
   "metadata": {
    "collapsed": false,
    "pycharm": {
     "name": "#%%\n"
    }
   }
  },
  {
   "cell_type": "code",
   "execution_count": 7,
   "outputs": [
    {
     "name": "stdout",
     "output_type": "stream",
     "text": [
      "Episode 1\n"
     ]
    },
    {
     "name": "stderr",
     "output_type": "stream",
     "text": [
      "2022-10-19 12:26:12.525379: W tensorflow/core/platform/profile_utils/cpu_utils.cc:128] Failed to get CPU frequency: 0 Hz\n"
     ]
    },
    {
     "name": "stdout",
     "output_type": "stream",
     "text": [
      "WARNING:tensorflow:From /Users/Ethan/miniconda3/envs/tf_daif/lib/python3.8/site-packages/tensorflow_probability/python/distributions/distribution.py:345: calling MultivariateNormalDiag.__init__ (from tensorflow_probability.python.distributions.mvn_diag) with scale_identity_multiplier is deprecated and will be removed after 2020-01-01.\n",
      "Instructions for updating:\n",
      "`scale_identity_multiplier` is deprecated; please combine it into `scale_diag` directly instead.\n",
      "WARNING:tensorflow:5 out of the last 8 calls to <function Model.make_train_function.<locals>.train_function at 0x1654b2ca0> triggered tf.function retracing. Tracing is expensive and the excessive number of tracings could be due to (1) creating @tf.function repeatedly in a loop, (2) passing tensors with different shapes, (3) passing Python objects instead of tensors. For (1), please define your @tf.function outside of the loop. For (2), @tf.function has experimental_relax_shapes=True option that relaxes argument shapes that can avoid unnecessary retracing. For (3), please refer to https://www.tensorflow.org/guide/function#controlling_retracing and https://www.tensorflow.org/api_docs/python/tf/function for  more details.\n",
      "WARNING:tensorflow:6 out of the last 9 calls to <function Model.make_train_function.<locals>.train_function at 0x16563b1f0> triggered tf.function retracing. Tracing is expensive and the excessive number of tracings could be due to (1) creating @tf.function repeatedly in a loop, (2) passing tensors with different shapes, (3) passing Python objects instead of tensors. For (1), please define your @tf.function outside of the loop. For (2), @tf.function has experimental_relax_shapes=True option that relaxes argument shapes that can avoid unnecessary retracing. For (3), please refer to https://www.tensorflow.org/guide/function#controlling_retracing and https://www.tensorflow.org/api_docs/python/tf/function for  more details.\n",
      "Number of habit choices: 2\n",
      "Number of actions total: 75\n",
      "training on full data\n",
      "Success in episode 1 at time step 448 with reward 92.90467716121393\n",
      "Episode 2\n",
      "Number of habit choices: 5\n",
      "Number of actions total: 167\n",
      "training on full data\n",
      "No Success\n",
      "Episode 3\n",
      "Number of habit choices: 7\n",
      "Number of actions total: 167\n",
      "training on full data\n",
      "No Success\n",
      "Episode 4\n",
      "Number of habit choices: 1\n",
      "Number of actions total: 122\n",
      "training on full data\n",
      "Success in episode 4 at time step 730 with reward 89.20720985645785\n",
      "Episode 5\n",
      "Number of habit choices: 10\n",
      "Number of actions total: 167\n",
      "training on full data\n",
      "No Success\n",
      "Episode 6\n",
      "Number of habit choices: 17\n",
      "Number of actions total: 109\n",
      "training on full data\n",
      "Success in episode 6 at time step 652 with reward 91.88045334346792\n",
      "Episode 7\n",
      "Number of habit choices: 2\n",
      "Number of actions total: 51\n",
      "training on full data\n",
      "Success in episode 7 at time step 303 with reward 95.95437354500824\n",
      "Episode 8\n",
      "Number of habit choices: 8\n",
      "Number of actions total: 79\n",
      "training on full data\n",
      "Success in episode 8 at time step 470 with reward 93.82992124768347\n",
      "Episode 9\n",
      "Number of habit choices: 10\n",
      "Number of actions total: 46\n",
      "training on full data\n",
      "Success in episode 9 at time step 274 with reward 96.80414137610344\n",
      "Episode 10\n",
      "Number of habit choices: 11\n",
      "Number of actions total: 40\n",
      "training on full data\n",
      "Success in episode 10 at time step 239 with reward 96.96736108942578\n",
      "Episode 11\n",
      "Number of habit choices: 2\n",
      "Number of actions total: 16\n",
      "training on full data\n",
      "Success in episode 11 at time step 91 with reward 98.75814858914391\n",
      "Episode 12\n",
      "Number of habit choices: 3\n",
      "Number of actions total: 20\n",
      "training on full data\n",
      "Success in episode 12 at time step 115 with reward 98.39554626658945\n",
      "Episode 13\n",
      "Number of habit choices: 3\n",
      "Number of actions total: 19\n",
      "training on full data\n",
      "Success in episode 13 at time step 109 with reward 98.44415271669736\n",
      "Episode 14\n",
      "Number of habit choices: 2\n",
      "Number of actions total: 58\n",
      "training on full data\n",
      "Success in episode 14 at time step 346 with reward 94.69973526092048\n",
      "Episode 15\n",
      "Number of habit choices: 1\n",
      "Number of actions total: 14\n",
      "training on full data\n",
      "Success in episode 15 at time step 81 with reward 98.82519264442783\n",
      "Episode 16\n",
      "Number of habit choices: 3\n",
      "Number of actions total: 16\n",
      "training on full data\n",
      "Success in episode 16 at time step 91 with reward 98.9323015406295\n",
      "Episode 17\n",
      "Number of habit choices: 3\n",
      "Number of actions total: 15\n",
      "training on full data\n",
      "Success in episode 17 at time step 89 with reward 98.94330969114249\n",
      "Episode 18\n",
      "Number of habit choices: 1\n",
      "Number of actions total: 23\n",
      "training on full data\n",
      "Success in episode 18 at time step 138 with reward 98.2860965244975\n",
      "Episode 19\n",
      "Number of habit choices: 0\n",
      "Number of actions total: 13\n",
      "training on full data\n",
      "Success in episode 19 at time step 75 with reward 98.96587801096422\n",
      "Episode 20\n",
      "Number of habit choices: 0\n",
      "Number of actions total: 12\n",
      "training on full data\n",
      "Success in episode 20 at time step 70 with reward 99.02307587436631\n",
      "Episode 21\n",
      "Number of habit choices: 0\n",
      "Number of actions total: 13\n",
      "training on full data\n",
      "Success in episode 21 at time step 78 with reward 98.83766143411553\n",
      "Episode 22\n",
      "Number of habit choices: 4\n",
      "Number of actions total: 22\n",
      "training on full data\n",
      "Success in episode 22 at time step 132 with reward 98.21148218441334\n",
      "Episode 23\n",
      "Number of habit choices: 3\n",
      "Number of actions total: 52\n",
      "training on full data\n",
      "Success in episode 23 at time step 310 with reward 95.90340798838307\n",
      "Episode 24\n",
      "Number of habit choices: 0\n",
      "Number of actions total: 13\n",
      "training on full data\n",
      "Success in episode 24 at time step 73 with reward 98.9809374558203\n",
      "Episode 25\n",
      "Number of habit choices: 4\n",
      "Number of actions total: 23\n",
      "training on full data\n",
      "Success in episode 25 at time step 134 with reward 98.48021080745916\n",
      "Episode 26\n",
      "Number of habit choices: 2\n",
      "Number of actions total: 14\n",
      "training on full data\n",
      "Success in episode 26 at time step 79 with reward 98.94530981949029\n",
      "Episode 27\n",
      "Number of habit choices: 3\n",
      "Number of actions total: 16\n",
      "training on full data\n",
      "Success in episode 27 at time step 92 with reward 98.96156033917453\n",
      "Episode 28\n",
      "Number of habit choices: 1\n",
      "Number of actions total: 14\n",
      "training on full data\n",
      "Success in episode 28 at time step 80 with reward 99.0231983794875\n",
      "Episode 29\n",
      "Number of habit choices: 1\n",
      "Number of actions total: 22\n",
      "training on full data\n",
      "Success in episode 29 at time step 132 with reward 98.2701655809849\n",
      "Episode 30\n",
      "Number of habit choices: 2\n",
      "Number of actions total: 28\n",
      "training on full data\n",
      "Success in episode 30 at time step 165 with reward 97.77513869152877\n",
      "Episode 31\n",
      "Number of habit choices: 6\n",
      "Number of actions total: 24\n",
      "training on full data\n",
      "Success in episode 31 at time step 139 with reward 98.24954586981954\n",
      "Episode 32\n",
      "Number of habit choices: 3\n",
      "Number of actions total: 27\n",
      "training on full data\n",
      "Success in episode 32 at time step 160 with reward 97.68442852329703\n",
      "Episode 33\n",
      "Number of habit choices: 0\n",
      "Number of actions total: 13\n",
      "training on full data\n",
      "Success in episode 33 at time step 76 with reward 99.11868671393638\n",
      "Episode 34\n",
      "Number of habit choices: 7\n",
      "Number of actions total: 23\n",
      "training on full data\n",
      "Success in episode 34 at time step 138 with reward 98.71998774099463\n",
      "Episode 35\n",
      "Number of habit choices: 4\n",
      "Number of actions total: 21\n",
      "training on full data\n",
      "Success in episode 35 at time step 125 with reward 98.73242255154307\n",
      "Episode 36\n",
      "Number of habit choices: 5\n",
      "Number of actions total: 39\n",
      "training on full data\n",
      "Success in episode 36 at time step 232 with reward 97.58214349314595\n",
      "Episode 37\n",
      "Number of habit choices: 4\n",
      "Number of actions total: 35\n",
      "training on full data\n",
      "Success in episode 37 at time step 208 with reward 97.14360942863476\n",
      "Episode 38\n",
      "Number of habit choices: 7\n",
      "Number of actions total: 30\n",
      "training on full data\n",
      "Success in episode 38 at time step 175 with reward 98.12662051093467\n",
      "Episode 39\n",
      "Number of habit choices: 9\n",
      "Number of actions total: 25\n",
      "training on full data\n",
      "Success in episode 39 at time step 149 with reward 98.71102271708149\n",
      "Episode 40\n",
      "Number of habit choices: 3\n",
      "Number of actions total: 27\n",
      "training on full data\n",
      "Success in episode 40 at time step 161 with reward 98.02370702898614\n",
      "Episode 41\n",
      "Number of habit choices: 10\n",
      "Number of actions total: 28\n",
      "training on full data\n",
      "Success in episode 41 at time step 165 with reward 98.4514928801524\n",
      "Episode 42\n",
      "Number of habit choices: 12\n",
      "Number of actions total: 35\n",
      "training on full data\n",
      "Success in episode 42 at time step 209 with reward 98.15541644365442\n",
      "Episode 43\n",
      "Number of habit choices: 4\n",
      "Number of actions total: 29\n",
      "training on full data\n",
      "Success in episode 43 at time step 169 with reward 98.05539008356357\n",
      "Episode 44\n",
      "Number of habit choices: 11\n",
      "Number of actions total: 33\n",
      "training on full data\n",
      "Success in episode 44 at time step 195 with reward 98.21344666893286\n",
      "Episode 45\n",
      "Number of habit choices: 11\n",
      "Number of actions total: 31\n",
      "training on full data\n",
      "Success in episode 45 at time step 183 with reward 98.10231584934665\n",
      "Episode 46\n",
      "Number of habit choices: 13\n",
      "Number of actions total: 24\n",
      "training on full data\n",
      "Success in episode 46 at time step 143 with reward 99.06531598068763\n",
      "Episode 47\n",
      "Number of habit choices: 19\n",
      "Number of actions total: 41\n",
      "training on full data\n",
      "Success in episode 47 at time step 245 with reward 97.7078598074646\n",
      "Episode 48\n",
      "Number of habit choices: 6\n",
      "Number of actions total: 26\n",
      "training on full data\n",
      "Success in episode 48 at time step 152 with reward 98.80199305147707\n",
      "Episode 49\n",
      "Number of habit choices: 18\n",
      "Number of actions total: 40\n",
      "training on full data\n",
      "Success in episode 49 at time step 239 with reward 98.20889365295524\n",
      "Episode 50\n",
      "Number of habit choices: 5\n",
      "Number of actions total: 30\n",
      "training on full data\n",
      "Success in episode 50 at time step 180 with reward 97.83955802405576\n",
      "Episode 51\n",
      "Number of habit choices: 11\n",
      "Number of actions total: 26\n",
      "training on full data\n",
      "Success in episode 51 at time step 152 with reward 98.7285330034369\n",
      "Episode 52\n",
      "Number of habit choices: 8\n",
      "Number of actions total: 21\n",
      "training on full data\n",
      "Success in episode 52 at time step 123 with reward 98.99545181144315\n",
      "Episode 53\n",
      "Number of habit choices: 10\n",
      "Number of actions total: 30\n",
      "training on full data\n",
      "Success in episode 53 at time step 176 with reward 98.35366520797024\n",
      "Episode 54\n",
      "Number of habit choices: 10\n",
      "Number of actions total: 28\n",
      "training on full data\n",
      "Success in episode 54 at time step 164 with reward 98.41625333843841\n",
      "Episode 55\n",
      "Number of habit choices: 9\n",
      "Number of actions total: 27\n",
      "training on full data\n",
      "Success in episode 55 at time step 162 with reward 98.5767664081352\n",
      "Episode 56\n",
      "Number of habit choices: 17\n",
      "Number of actions total: 40\n",
      "training on full data\n",
      "Success in episode 56 at time step 240 with reward 98.12492274000354\n",
      "Episode 57\n",
      "Number of habit choices: 21\n",
      "Number of actions total: 41\n",
      "training on full data\n",
      "Success in episode 57 at time step 243 with reward 98.16076008383197\n",
      "Episode 58\n",
      "Number of habit choices: 11\n",
      "Number of actions total: 29\n",
      "training on full data\n",
      "Success in episode 58 at time step 169 with reward 98.5241364638865\n",
      "Episode 59\n",
      "Number of habit choices: 4\n",
      "Number of actions total: 16\n",
      "training on full data\n",
      "Success in episode 59 at time step 92 with reward 99.08381401179524\n",
      "Episode 60\n",
      "Number of habit choices: 3\n",
      "Number of actions total: 16\n",
      "training on full data\n",
      "Success in episode 60 at time step 95 with reward 98.52786418015553\n"
     ]
    }
   ],
   "source": [
    "# train the agent on the env\n",
    "env = gym.make('MountainCarContinuous-v0')\n",
    "daifa, results_one = train_single_agent(env, daifa, observation_max, observation_min, observation_noise_stddev, num_episodes=60, render_env=False)"
   ],
   "metadata": {
    "collapsed": false,
    "pycharm": {
     "name": "#%%\n"
    }
   }
  },
  {
   "cell_type": "code",
   "execution_count": 8,
   "outputs": [
    {
     "data": {
      "text/plain": "       reward  timesteps  num_actions\n0   99.723082        498           83\n1   99.716250        522           87\n2   99.728707        336           56\n3   99.779378        330           55\n4   99.683068        504           84\n5   99.736179        522           87\n6   99.751778        414           69\n7   99.712205        468           78\n8   99.708471        498           83\n9   99.738913        426           71\n10  99.705432        438           73\n11  99.607727        564           94\n12  99.629715        618          103\n13  99.743247        492           82\n14  99.726613        492           82\n15  99.696772        474           79\n16  99.494668        648          108\n17  99.561050        570           95\n18  99.732076        420           70\n19  99.496598        672          112",
      "text/html": "<div>\n<style scoped>\n    .dataframe tbody tr th:only-of-type {\n        vertical-align: middle;\n    }\n\n    .dataframe tbody tr th {\n        vertical-align: top;\n    }\n\n    .dataframe thead th {\n        text-align: right;\n    }\n</style>\n<table border=\"1\" class=\"dataframe\">\n  <thead>\n    <tr style=\"text-align: right;\">\n      <th></th>\n      <th>reward</th>\n      <th>timesteps</th>\n      <th>num_actions</th>\n    </tr>\n  </thead>\n  <tbody>\n    <tr>\n      <th>0</th>\n      <td>99.723082</td>\n      <td>498</td>\n      <td>83</td>\n    </tr>\n    <tr>\n      <th>1</th>\n      <td>99.716250</td>\n      <td>522</td>\n      <td>87</td>\n    </tr>\n    <tr>\n      <th>2</th>\n      <td>99.728707</td>\n      <td>336</td>\n      <td>56</td>\n    </tr>\n    <tr>\n      <th>3</th>\n      <td>99.779378</td>\n      <td>330</td>\n      <td>55</td>\n    </tr>\n    <tr>\n      <th>4</th>\n      <td>99.683068</td>\n      <td>504</td>\n      <td>84</td>\n    </tr>\n    <tr>\n      <th>5</th>\n      <td>99.736179</td>\n      <td>522</td>\n      <td>87</td>\n    </tr>\n    <tr>\n      <th>6</th>\n      <td>99.751778</td>\n      <td>414</td>\n      <td>69</td>\n    </tr>\n    <tr>\n      <th>7</th>\n      <td>99.712205</td>\n      <td>468</td>\n      <td>78</td>\n    </tr>\n    <tr>\n      <th>8</th>\n      <td>99.708471</td>\n      <td>498</td>\n      <td>83</td>\n    </tr>\n    <tr>\n      <th>9</th>\n      <td>99.738913</td>\n      <td>426</td>\n      <td>71</td>\n    </tr>\n    <tr>\n      <th>10</th>\n      <td>99.705432</td>\n      <td>438</td>\n      <td>73</td>\n    </tr>\n    <tr>\n      <th>11</th>\n      <td>99.607727</td>\n      <td>564</td>\n      <td>94</td>\n    </tr>\n    <tr>\n      <th>12</th>\n      <td>99.629715</td>\n      <td>618</td>\n      <td>103</td>\n    </tr>\n    <tr>\n      <th>13</th>\n      <td>99.743247</td>\n      <td>492</td>\n      <td>82</td>\n    </tr>\n    <tr>\n      <th>14</th>\n      <td>99.726613</td>\n      <td>492</td>\n      <td>82</td>\n    </tr>\n    <tr>\n      <th>15</th>\n      <td>99.696772</td>\n      <td>474</td>\n      <td>79</td>\n    </tr>\n    <tr>\n      <th>16</th>\n      <td>99.494668</td>\n      <td>648</td>\n      <td>108</td>\n    </tr>\n    <tr>\n      <th>17</th>\n      <td>99.561050</td>\n      <td>570</td>\n      <td>95</td>\n    </tr>\n    <tr>\n      <th>18</th>\n      <td>99.732076</td>\n      <td>420</td>\n      <td>70</td>\n    </tr>\n    <tr>\n      <th>19</th>\n      <td>99.496598</td>\n      <td>672</td>\n      <td>112</td>\n    </tr>\n  </tbody>\n</table>\n</div>"
     },
     "execution_count": 8,
     "metadata": {},
     "output_type": "execute_result"
    }
   ],
   "source": [
    "p = habit_policy(daifa)\n",
    "res = test_policy(env, p, observation_max, observation_min, observation_noise_stddev, 20, daifa.agent_time_ratio)\n",
    "res"
   ],
   "metadata": {
    "collapsed": false,
    "pycharm": {
     "name": "#%%\n"
    }
   }
  },
  {
   "cell_type": "code",
   "execution_count": 9,
   "outputs": [],
   "source": [
    "daifa.train_vae = False\n",
    "daifa.model_vae.show_training = False\n",
    "\n",
    "daifa.train_habit_net = True\n",
    "daifa.train_after_exploring = True\n",
    "daifa.use_fast_thinking = True\n",
    "daifa.uncertainty_tolerance = 0.1"
   ],
   "metadata": {
    "collapsed": false,
    "pycharm": {
     "name": "#%%\n"
    }
   }
  },
  {
   "cell_type": "code",
   "execution_count": 10,
   "outputs": [
    {
     "name": "stdout",
     "output_type": "stream",
     "text": [
      "Episode 1\n",
      "Number of habit choices: 3\n",
      "Number of actions total: 14\n",
      "training on full data\n",
      "Success in episode 1 at time step 83 with reward 98.90270555807845\n",
      "Episode 2\n",
      "Number of habit choices: 4\n",
      "Number of actions total: 26\n",
      "training on full data\n",
      "Success in episode 2 at time step 153 with reward 98.04720462934894\n",
      "Episode 3\n",
      "Number of habit choices: 12\n",
      "Number of actions total: 28\n",
      "training on full data\n",
      "Success in episode 3 at time step 163 with reward 98.5187119396215\n",
      "Episode 4\n",
      "Number of habit choices: 13\n",
      "Number of actions total: 27\n",
      "training on full data\n",
      "Success in episode 4 at time step 158 with reward 98.98440179547069\n",
      "Episode 5\n",
      "Number of habit choices: 16\n",
      "Number of actions total: 29\n",
      "training on full data\n",
      "Success in episode 5 at time step 173 with reward 98.7866964257831\n",
      "Episode 6\n",
      "Number of habit choices: 10\n",
      "Number of actions total: 44\n",
      "training on full data\n",
      "Success in episode 6 at time step 260 with reward 97.1033114197972\n",
      "Episode 7\n",
      "Number of habit choices: 13\n",
      "Number of actions total: 26\n",
      "training on full data\n",
      "Success in episode 7 at time step 156 with reward 98.98340422823873\n",
      "Episode 8\n",
      "Number of habit choices: 10\n",
      "Number of actions total: 36\n",
      "training on full data\n",
      "Success in episode 8 at time step 211 with reward 98.0658004480701\n",
      "Episode 9\n",
      "Number of habit choices: 6\n",
      "Number of actions total: 28\n",
      "training on full data\n",
      "Success in episode 9 at time step 163 with reward 97.8868872153234\n",
      "Episode 10\n",
      "Number of habit choices: 11\n",
      "Number of actions total: 26\n",
      "training on full data\n",
      "Success in episode 10 at time step 153 with reward 98.9143028847804\n",
      "Episode 11\n",
      "Number of habit choices: 9\n",
      "Number of actions total: 31\n",
      "training on full data\n",
      "Success in episode 11 at time step 184 with reward 98.17059858070515\n",
      "Episode 12\n",
      "Number of habit choices: 9\n",
      "Number of actions total: 27\n",
      "training on full data\n",
      "Success in episode 12 at time step 160 with reward 98.44753046292587\n",
      "Episode 13\n",
      "Number of habit choices: 9\n",
      "Number of actions total: 27\n",
      "training on full data\n",
      "Success in episode 13 at time step 159 with reward 98.48442201587181\n",
      "Episode 14\n",
      "Number of habit choices: 12\n",
      "Number of actions total: 27\n",
      "training on full data\n",
      "Success in episode 14 at time step 162 with reward 98.74093393640786\n",
      "Episode 15\n",
      "Number of habit choices: 9\n",
      "Number of actions total: 29\n",
      "training on full data\n",
      "Success in episode 15 at time step 171 with reward 98.07187289358264\n",
      "Episode 16\n",
      "Number of habit choices: 12\n",
      "Number of actions total: 25\n",
      "training on full data\n",
      "Success in episode 16 at time step 150 with reward 98.71899136148741\n",
      "Episode 17\n",
      "Number of habit choices: 21\n",
      "Number of actions total: 31\n",
      "training on full data\n",
      "Success in episode 17 at time step 183 with reward 98.92677249599572\n",
      "Episode 18\n",
      "Number of habit choices: 8\n",
      "Number of actions total: 30\n",
      "training on full data\n",
      "Success in episode 18 at time step 175 with reward 98.02904073482925\n",
      "Episode 19\n",
      "Number of habit choices: 3\n",
      "Number of actions total: 17\n",
      "training on full data\n",
      "Success in episode 19 at time step 102 with reward 98.88349199883726\n",
      "Episode 20\n",
      "Number of habit choices: 2\n",
      "Number of actions total: 13\n",
      "training on full data\n",
      "Success in episode 20 at time step 78 with reward 99.07916417704642\n",
      "Episode 21\n",
      "Number of habit choices: 14\n",
      "Number of actions total: 30\n",
      "training on full data\n",
      "Success in episode 21 at time step 179 with reward 98.53389633532285\n",
      "Episode 22\n",
      "Number of habit choices: 7\n",
      "Number of actions total: 27\n",
      "training on full data\n",
      "Success in episode 22 at time step 157 with reward 98.37829787259555\n",
      "Episode 23\n",
      "Number of habit choices: 9\n",
      "Number of actions total: 30\n",
      "training on full data\n",
      "Success in episode 23 at time step 180 with reward 97.72823188689176\n",
      "Episode 24\n",
      "Number of habit choices: 9\n",
      "Number of actions total: 24\n",
      "training on full data\n",
      "Success in episode 24 at time step 144 with reward 98.68908057394974\n",
      "Episode 25\n",
      "Number of habit choices: 5\n",
      "Number of actions total: 29\n",
      "training on full data\n",
      "Success in episode 25 at time step 174 with reward 97.91780938270487\n",
      "Episode 26\n",
      "Number of habit choices: 14\n",
      "Number of actions total: 28\n",
      "training on full data\n",
      "Success in episode 26 at time step 165 with reward 98.6315356384135\n",
      "Episode 27\n",
      "Number of habit choices: 1\n",
      "Number of actions total: 13\n",
      "training on full data\n",
      "Success in episode 27 at time step 73 with reward 98.95242960988277\n",
      "Episode 28\n",
      "Number of habit choices: 7\n",
      "Number of actions total: 31\n",
      "training on full data\n",
      "Success in episode 28 at time step 184 with reward 97.9591344420149\n",
      "Episode 29\n",
      "Number of habit choices: 2\n",
      "Number of actions total: 15\n",
      "training on full data\n",
      "Success in episode 29 at time step 88 with reward 99.00618171767717\n",
      "Episode 30\n",
      "Number of habit choices: 5\n",
      "Number of actions total: 18\n",
      "training on full data\n",
      "Success in episode 30 at time step 106 with reward 98.75021037339782\n",
      "Episode 31\n",
      "Number of habit choices: 11\n",
      "Number of actions total: 27\n",
      "training on full data\n",
      "Success in episode 31 at time step 160 with reward 98.56439883582979\n",
      "Episode 32\n",
      "Number of habit choices: 10\n",
      "Number of actions total: 30\n",
      "training on full data\n",
      "Success in episode 32 at time step 180 with reward 97.8876065784643\n",
      "Episode 33\n",
      "Number of habit choices: 14\n",
      "Number of actions total: 34\n",
      "training on full data\n",
      "Success in episode 33 at time step 199 with reward 98.19390902042358\n",
      "Episode 34\n",
      "Number of habit choices: 24\n",
      "Number of actions total: 37\n",
      "training on full data\n",
      "Success in episode 34 at time step 220 with reward 98.85660187470656\n",
      "Episode 35\n",
      "Number of habit choices: 12\n",
      "Number of actions total: 29\n",
      "training on full data\n",
      "Success in episode 35 at time step 171 with reward 98.45090919641763\n",
      "Episode 36\n",
      "Number of habit choices: 9\n",
      "Number of actions total: 24\n",
      "training on full data\n",
      "Success in episode 36 at time step 140 with reward 98.44070821932621\n",
      "Episode 37\n",
      "Number of habit choices: 9\n",
      "Number of actions total: 23\n",
      "training on full data\n",
      "Success in episode 37 at time step 138 with reward 98.82289832403758\n",
      "Episode 38\n",
      "Number of habit choices: 12\n",
      "Number of actions total: 37\n",
      "training on full data\n",
      "Success in episode 38 at time step 222 with reward 97.77728987189252\n",
      "Episode 39\n",
      "Number of habit choices: 18\n",
      "Number of actions total: 26\n",
      "training on full data\n",
      "Success in episode 39 at time step 152 with reward 99.11507023344755\n",
      "Episode 40\n",
      "Number of habit choices: 17\n",
      "Number of actions total: 30\n",
      "training on full data\n",
      "Success in episode 40 at time step 179 with reward 98.74793649006985\n",
      "Episode 41\n",
      "Number of habit choices: 20\n",
      "Number of actions total: 38\n",
      "training on full data\n",
      "Success in episode 41 at time step 224 with reward 98.13239091445956\n",
      "Episode 42\n",
      "Number of habit choices: 11\n",
      "Number of actions total: 33\n",
      "training on full data\n",
      "Success in episode 42 at time step 193 with reward 98.01761906874937\n",
      "Episode 43\n",
      "Number of habit choices: 9\n",
      "Number of actions total: 27\n",
      "training on full data\n",
      "Success in episode 43 at time step 158 with reward 98.2909459946319\n",
      "Episode 44\n",
      "Number of habit choices: 10\n",
      "Number of actions total: 21\n",
      "training on full data\n",
      "Success in episode 44 at time step 126 with reward 99.01031885291295\n",
      "Episode 45\n",
      "Number of habit choices: 16\n",
      "Number of actions total: 29\n",
      "training on full data\n",
      "Success in episode 45 at time step 172 with reward 98.63795999867035\n",
      "Episode 46\n",
      "Number of habit choices: 5\n",
      "Number of actions total: 14\n",
      "training on full data\n",
      "Success in episode 46 at time step 79 with reward 99.25996987600321\n",
      "Episode 47\n",
      "Number of habit choices: 13\n",
      "Number of actions total: 26\n",
      "training on full data\n",
      "Success in episode 47 at time step 156 with reward 99.00420281868573\n",
      "Episode 48\n",
      "Number of habit choices: 9\n",
      "Number of actions total: 29\n",
      "training on full data\n",
      "Success in episode 48 at time step 169 with reward 98.12568360842675\n",
      "Episode 49\n",
      "Number of habit choices: 15\n",
      "Number of actions total: 29\n",
      "training on full data\n",
      "Success in episode 49 at time step 174 with reward 98.52346987977862\n",
      "Episode 50\n",
      "Number of habit choices: 14\n",
      "Number of actions total: 25\n",
      "training on full data\n",
      "Success in episode 50 at time step 150 with reward 98.63767571487234\n",
      "Episode 51\n",
      "Number of habit choices: 18\n",
      "Number of actions total: 29\n",
      "training on full data\n",
      "Success in episode 51 at time step 170 with reward 98.95786740240744\n",
      "Episode 52\n",
      "Number of habit choices: 13\n",
      "Number of actions total: 30\n",
      "training on full data\n",
      "Success in episode 52 at time step 177 with reward 98.54647008453613\n",
      "Episode 53\n",
      "Number of habit choices: 19\n",
      "Number of actions total: 29\n",
      "training on full data\n",
      "Success in episode 53 at time step 172 with reward 98.99205802954532\n",
      "Episode 54\n",
      "Number of habit choices: 18\n",
      "Number of actions total: 30\n",
      "training on full data\n",
      "Success in episode 54 at time step 178 with reward 98.59077168443756\n",
      "Episode 55\n",
      "Number of habit choices: 14\n",
      "Number of actions total: 28\n",
      "training on full data\n",
      "Success in episode 55 at time step 165 with reward 98.81995468088827\n",
      "Episode 56\n",
      "Number of habit choices: 14\n",
      "Number of actions total: 43\n",
      "training on full data\n",
      "Success in episode 56 at time step 257 with reward 97.29249201053481\n",
      "Episode 57\n",
      "Number of habit choices: 6\n",
      "Number of actions total: 19\n",
      "training on full data\n",
      "Success in episode 57 at time step 109 with reward 98.88235641351515\n",
      "Episode 58\n",
      "Number of habit choices: 15\n",
      "Number of actions total: 34\n",
      "training on full data\n",
      "Success in episode 58 at time step 203 with reward 97.85955247284153\n",
      "Episode 59\n",
      "Number of habit choices: 5\n",
      "Number of actions total: 14\n",
      "training on full data\n",
      "Success in episode 59 at time step 83 with reward 99.13998681708625\n",
      "Episode 60\n",
      "Number of habit choices: 17\n",
      "Number of actions total: 29\n",
      "training on full data\n",
      "Success in episode 60 at time step 171 with reward 99.00619857550552\n",
      "Episode 61\n",
      "Number of habit choices: 19\n",
      "Number of actions total: 39\n",
      "training on full data\n",
      "Success in episode 61 at time step 229 with reward 97.8577527206715\n",
      "Episode 62\n",
      "Number of habit choices: 6\n",
      "Number of actions total: 17\n",
      "training on full data\n",
      "Success in episode 62 at time step 100 with reward 98.98631094424896\n",
      "Episode 63\n",
      "Number of habit choices: 7\n",
      "Number of actions total: 15\n",
      "training on full data\n",
      "Success in episode 63 at time step 88 with reward 99.15129422764717\n",
      "Episode 64\n",
      "Number of habit choices: 14\n",
      "Number of actions total: 34\n",
      "training on full data\n",
      "Success in episode 64 at time step 201 with reward 98.08062804680475\n",
      "Episode 65\n",
      "Number of habit choices: 3\n",
      "Number of actions total: 17\n",
      "training on full data\n",
      "Success in episode 65 at time step 101 with reward 98.79119287516029\n",
      "Episode 66\n",
      "Number of habit choices: 13\n",
      "Number of actions total: 33\n",
      "training on full data\n",
      "Success in episode 66 at time step 194 with reward 97.99641228051233\n",
      "Episode 67\n",
      "Number of habit choices: 12\n",
      "Number of actions total: 26\n",
      "training on full data\n",
      "Success in episode 67 at time step 153 with reward 98.84413185657952\n",
      "Episode 68\n",
      "Number of habit choices: 6\n",
      "Number of actions total: 19\n",
      "training on full data\n",
      "Success in episode 68 at time step 112 with reward 98.9623699767301\n",
      "Episode 69\n",
      "Number of habit choices: 9\n",
      "Number of actions total: 19\n",
      "training on full data\n",
      "Success in episode 69 at time step 112 with reward 99.04663662780703\n",
      "Episode 70\n",
      "Number of habit choices: 12\n",
      "Number of actions total: 30\n",
      "training on full data\n",
      "Success in episode 70 at time step 178 with reward 97.92708576356829\n",
      "Episode 71\n",
      "Number of habit choices: 12\n",
      "Number of actions total: 31\n",
      "training on full data\n",
      "Success in episode 71 at time step 186 with reward 98.17553260839912\n",
      "Episode 72\n",
      "Number of habit choices: 18\n",
      "Number of actions total: 26\n",
      "training on full data\n",
      "Success in episode 72 at time step 153 with reward 99.12102198161028\n",
      "Episode 73\n",
      "Number of habit choices: 11\n",
      "Number of actions total: 36\n",
      "training on full data\n",
      "Success in episode 73 at time step 215 with reward 97.65239228307408\n",
      "Episode 74\n",
      "Number of habit choices: 6\n",
      "Number of actions total: 19\n",
      "training on full data\n",
      "Success in episode 74 at time step 111 with reward 99.02191604888964\n",
      "Episode 75\n",
      "Number of habit choices: 16\n",
      "Number of actions total: 27\n",
      "training on full data\n",
      "Success in episode 75 at time step 160 with reward 98.53920545545387\n",
      "Episode 76\n",
      "Number of habit choices: 10\n",
      "Number of actions total: 31\n",
      "training on full data\n",
      "Success in episode 76 at time step 185 with reward 98.09796286205095\n",
      "Episode 77\n",
      "Number of habit choices: 13\n",
      "Number of actions total: 26\n",
      "training on full data\n",
      "Success in episode 77 at time step 156 with reward 98.43209226172266\n",
      "Episode 78\n",
      "Number of habit choices: 17\n",
      "Number of actions total: 30\n",
      "training on full data\n",
      "Success in episode 78 at time step 175 with reward 98.52389977268734\n",
      "Episode 79\n",
      "Number of habit choices: 8\n",
      "Number of actions total: 34\n",
      "training on full data\n",
      "Success in episode 79 at time step 201 with reward 97.32372873869848\n",
      "Episode 80\n",
      "Number of habit choices: 5\n",
      "Number of actions total: 13\n",
      "training on full data\n",
      "Success in episode 80 at time step 77 with reward 99.06717744788597\n",
      "Episode 81\n",
      "Number of habit choices: 13\n",
      "Number of actions total: 27\n",
      "training on full data\n",
      "Success in episode 81 at time step 158 with reward 98.3124950928627\n",
      "Episode 82\n",
      "Number of habit choices: 10\n",
      "Number of actions total: 31\n",
      "training on full data\n",
      "Success in episode 82 at time step 184 with reward 97.7451102921049\n",
      "Episode 83\n",
      "Number of habit choices: 13\n",
      "Number of actions total: 27\n",
      "training on full data\n",
      "Success in episode 83 at time step 158 with reward 98.63289696603856\n",
      "Episode 84\n",
      "Number of habit choices: 25\n",
      "Number of actions total: 36\n",
      "training on full data\n",
      "Success in episode 84 at time step 212 with reward 98.40240040951173\n",
      "Episode 85\n",
      "Number of habit choices: 10\n",
      "Number of actions total: 29\n",
      "training on full data\n",
      "Success in episode 85 at time step 170 with reward 98.32575496029209\n",
      "Episode 86\n",
      "Number of habit choices: 3\n",
      "Number of actions total: 17\n",
      "training on full data\n",
      "Success in episode 86 at time step 101 with reward 98.66209508490448\n",
      "Episode 87\n",
      "Number of habit choices: 16\n",
      "Number of actions total: 27\n",
      "training on full data\n",
      "Success in episode 87 at time step 157 with reward 98.66411627925038\n",
      "Episode 88\n",
      "Number of habit choices: 10\n",
      "Number of actions total: 28\n",
      "training on full data\n",
      "Success in episode 88 at time step 166 with reward 98.44351086148843\n",
      "Episode 89\n",
      "Number of habit choices: 12\n",
      "Number of actions total: 29\n",
      "training on full data\n",
      "Success in episode 89 at time step 170 with reward 98.27015890092107\n",
      "Episode 90\n",
      "Number of habit choices: 11\n",
      "Number of actions total: 27\n",
      "training on full data\n",
      "Success in episode 90 at time step 162 with reward 98.34808868802796\n"
     ]
    }
   ],
   "source": [
    "# train the agent on the env\n",
    "env = gym.make('MountainCarContinuous-v0')\n",
    "daifa, results_two = train_single_agent(env, daifa, observation_max, observation_min, observation_noise_stddev, num_episodes=90, render_env=False)"
   ],
   "metadata": {
    "collapsed": false,
    "pycharm": {
     "name": "#%%\n"
    }
   }
  },
  {
   "cell_type": "code",
   "execution_count": 11,
   "outputs": [
    {
     "data": {
      "text/plain": "       reward  timesteps  num_actions\n0   99.240390        204           34\n1   99.122402        168           28\n2   98.959626        162           27\n3   98.983720        162           27\n4   99.178452        168           28\n5   99.325392        186           31\n6   99.195279        174           29\n7   99.174323        162           27\n8   99.190015        198           33\n9   99.166602        168           28\n10  99.287513        198           33\n11  99.032033        168           28\n12  99.204954        210           35\n13  99.276980        168           28\n14  99.101838        168           28\n15  99.057768        222           37\n16  99.169522        174           29\n17  99.287439        174           29\n18  99.350026        180           30\n19  98.975255        168           28",
      "text/html": "<div>\n<style scoped>\n    .dataframe tbody tr th:only-of-type {\n        vertical-align: middle;\n    }\n\n    .dataframe tbody tr th {\n        vertical-align: top;\n    }\n\n    .dataframe thead th {\n        text-align: right;\n    }\n</style>\n<table border=\"1\" class=\"dataframe\">\n  <thead>\n    <tr style=\"text-align: right;\">\n      <th></th>\n      <th>reward</th>\n      <th>timesteps</th>\n      <th>num_actions</th>\n    </tr>\n  </thead>\n  <tbody>\n    <tr>\n      <th>0</th>\n      <td>99.240390</td>\n      <td>204</td>\n      <td>34</td>\n    </tr>\n    <tr>\n      <th>1</th>\n      <td>99.122402</td>\n      <td>168</td>\n      <td>28</td>\n    </tr>\n    <tr>\n      <th>2</th>\n      <td>98.959626</td>\n      <td>162</td>\n      <td>27</td>\n    </tr>\n    <tr>\n      <th>3</th>\n      <td>98.983720</td>\n      <td>162</td>\n      <td>27</td>\n    </tr>\n    <tr>\n      <th>4</th>\n      <td>99.178452</td>\n      <td>168</td>\n      <td>28</td>\n    </tr>\n    <tr>\n      <th>5</th>\n      <td>99.325392</td>\n      <td>186</td>\n      <td>31</td>\n    </tr>\n    <tr>\n      <th>6</th>\n      <td>99.195279</td>\n      <td>174</td>\n      <td>29</td>\n    </tr>\n    <tr>\n      <th>7</th>\n      <td>99.174323</td>\n      <td>162</td>\n      <td>27</td>\n    </tr>\n    <tr>\n      <th>8</th>\n      <td>99.190015</td>\n      <td>198</td>\n      <td>33</td>\n    </tr>\n    <tr>\n      <th>9</th>\n      <td>99.166602</td>\n      <td>168</td>\n      <td>28</td>\n    </tr>\n    <tr>\n      <th>10</th>\n      <td>99.287513</td>\n      <td>198</td>\n      <td>33</td>\n    </tr>\n    <tr>\n      <th>11</th>\n      <td>99.032033</td>\n      <td>168</td>\n      <td>28</td>\n    </tr>\n    <tr>\n      <th>12</th>\n      <td>99.204954</td>\n      <td>210</td>\n      <td>35</td>\n    </tr>\n    <tr>\n      <th>13</th>\n      <td>99.276980</td>\n      <td>168</td>\n      <td>28</td>\n    </tr>\n    <tr>\n      <th>14</th>\n      <td>99.101838</td>\n      <td>168</td>\n      <td>28</td>\n    </tr>\n    <tr>\n      <th>15</th>\n      <td>99.057768</td>\n      <td>222</td>\n      <td>37</td>\n    </tr>\n    <tr>\n      <th>16</th>\n      <td>99.169522</td>\n      <td>174</td>\n      <td>29</td>\n    </tr>\n    <tr>\n      <th>17</th>\n      <td>99.287439</td>\n      <td>174</td>\n      <td>29</td>\n    </tr>\n    <tr>\n      <th>18</th>\n      <td>99.350026</td>\n      <td>180</td>\n      <td>30</td>\n    </tr>\n    <tr>\n      <th>19</th>\n      <td>98.975255</td>\n      <td>168</td>\n      <td>28</td>\n    </tr>\n  </tbody>\n</table>\n</div>"
     },
     "execution_count": 11,
     "metadata": {},
     "output_type": "execute_result"
    }
   ],
   "source": [
    "p = habit_policy(daifa)\n",
    "res = test_policy(env, p, observation_max, observation_min, observation_noise_stddev, 20, daifa.agent_time_ratio)\n",
    "res"
   ],
   "metadata": {
    "collapsed": false,
    "pycharm": {
     "name": "#%%\n"
    }
   }
  },
  {
   "cell_type": "code",
   "execution_count": 12,
   "outputs": [
    {
     "data": {
      "text/plain": "[<matplotlib.lines.Line2D at 0x1656ef8e0>,\n <matplotlib.lines.Line2D at 0x1656eff40>]"
     },
     "execution_count": 12,
     "metadata": {},
     "output_type": "execute_result"
    },
    {
     "data": {
      "text/plain": "<Figure size 432x288 with 1 Axes>",
      "image/png": "[encoded data removed]"
     },
     "metadata": {
      "needs_background": "light"
     },
     "output_type": "display_data"
    }
   ],
   "source": [
    "obs_pos = np.vstack([np.linspace(-1, 1, 100), np.zeros(100)]).T\n",
    "\n",
    "latent_mean, _ , _ = daifa.model_vae.encoder(obs_pos)\n",
    "\n",
    "utils = daifa.prior_model(latent_mean)\n",
    "# print(utils)\n",
    "\n",
    "plt.plot(obs_pos, utils)"
   ],
   "metadata": {
    "collapsed": false,
    "pycharm": {
     "name": "#%%\n"
    }
   }
  },
  {
   "cell_type": "code",
   "execution_count": 13,
   "outputs": [
    {
     "data": {
      "text/plain": "[<matplotlib.lines.Line2D at 0x168a120a0>,\n <matplotlib.lines.Line2D at 0x168a129d0>]"
     },
     "execution_count": 13,
     "metadata": {},
     "output_type": "execute_result"
    },
    {
     "data": {
      "text/plain": "<Figure size 432x288 with 1 Axes>",
      "image/png": "[encoded data removed]"
     },
     "metadata": {
      "needs_background": "light"
     },
     "output_type": "display_data"
    }
   ],
   "source": [
    "vel_pos = np.vstack([np.zeros(100), np.linspace(-1, 1, 100)]).T\n",
    "\n",
    "latent_mean, _ , _ = daifa.model_vae.encoder(vel_pos)\n",
    "\n",
    "utils = daifa.prior_model(latent_mean)\n",
    "# print(utils)\n",
    "\n",
    "plt.plot(vel_pos, utils)"
   ],
   "metadata": {
    "collapsed": false,
    "pycharm": {
     "name": "#%%\n"
    }
   }
  },
  {
   "cell_type": "code",
   "execution_count": 14,
   "outputs": [
    {
     "data": {
      "text/plain": "[<matplotlib.lines.Line2D at 0x1658afd60>,\n <matplotlib.lines.Line2D at 0x1658af220>]"
     },
     "execution_count": 14,
     "metadata": {},
     "output_type": "execute_result"
    },
    {
     "data": {
      "text/plain": "<Figure size 432x288 with 1 Axes>",
      "image/png": "[encoded data removed]"
     },
     "metadata": {
      "needs_background": "light"
     },
     "output_type": "display_data"
    }
   ],
   "source": [
    "obs_pos = np.vstack([np.linspace(-1, 1, 100), np.zeros(100)]).T\n",
    "\n",
    "latent_mean, _ , _ = daifa.model_vae.encoder(obs_pos)\n",
    "\n",
    "# utils = daifa.habit_action_model.actor_model(latent_mean)\n",
    "utils = daifa.select_habit_policy(latent_mean)\n",
    "# print(utils)\n",
    "\n",
    "plt.plot(obs_pos, utils)"
   ],
   "metadata": {
    "collapsed": false,
    "pycharm": {
     "name": "#%%\n"
    }
   }
  },
  {
   "cell_type": "code",
   "execution_count": 15,
   "outputs": [
    {
     "data": {
      "text/plain": "[<matplotlib.lines.Line2D at 0x165b88850>,\n <matplotlib.lines.Line2D at 0x165b88ac0>]"
     },
     "execution_count": 15,
     "metadata": {},
     "output_type": "execute_result"
    },
    {
     "data": {
      "text/plain": "<Figure size 432x288 with 1 Axes>",
      "image/png": "[encoded data removed]"
     },
     "metadata": {
      "needs_background": "light"
     },
     "output_type": "display_data"
    }
   ],
   "source": [
    "vel_pos = np.vstack([np.zeros(100), np.linspace(-1, 1, 100)]).T\n",
    "\n",
    "latent_mean, _ , _ = daifa.model_vae.encoder(vel_pos)\n",
    "\n",
    "# utils = daifa.habit_action_model.actor_model(latent_mean)\n",
    "utils = daifa.select_habit_policy(latent_mean)\n",
    "# print(utils)\n",
    "\n",
    "plt.plot(vel_pos, utils)"
   ],
   "metadata": {
    "collapsed": false,
    "pycharm": {
     "name": "#%%\n"
    }
   }
  },
  {
   "cell_type": "code",
   "execution_count": 16,
   "outputs": [
    {
     "data": {
      "text/plain": "      reward  timesteps  num_actions\n0  99.011801        162           27\n1  98.891502        168           28\n2  99.106953        156           26\n3  99.028153        294           49\n4  98.999495        162           27",
      "text/html": "<div>\n<style scoped>\n    .dataframe tbody tr th:only-of-type {\n        vertical-align: middle;\n    }\n\n    .dataframe tbody tr th {\n        vertical-align: top;\n    }\n\n    .dataframe thead th {\n        text-align: right;\n    }\n</style>\n<table border=\"1\" class=\"dataframe\">\n  <thead>\n    <tr style=\"text-align: right;\">\n      <th></th>\n      <th>reward</th>\n      <th>timesteps</th>\n      <th>num_actions</th>\n    </tr>\n  </thead>\n  <tbody>\n    <tr>\n      <th>0</th>\n      <td>99.011801</td>\n      <td>162</td>\n      <td>27</td>\n    </tr>\n    <tr>\n      <th>1</th>\n      <td>98.891502</td>\n      <td>168</td>\n      <td>28</td>\n    </tr>\n    <tr>\n      <th>2</th>\n      <td>99.106953</td>\n      <td>156</td>\n      <td>26</td>\n    </tr>\n    <tr>\n      <th>3</th>\n      <td>99.028153</td>\n      <td>294</td>\n      <td>49</td>\n    </tr>\n    <tr>\n      <th>4</th>\n      <td>98.999495</td>\n      <td>162</td>\n      <td>27</td>\n    </tr>\n  </tbody>\n</table>\n</div>"
     },
     "execution_count": 16,
     "metadata": {},
     "output_type": "execute_result"
    }
   ],
   "source": [
    "env = gym.make('MountainCarContinuous-v0')\n",
    "res = test_policy(env, p, observation_max, observation_min, observation_noise_stddev, 5, daifa.agent_time_ratio, show_env=True)\n",
    "res"
   ],
   "metadata": {
    "collapsed": false,
    "pycharm": {
     "name": "#%%\n"
    }
   }
  },
  {
   "cell_type": "code",
   "execution_count": 17,
   "outputs": [
    {
     "data": {
      "text/plain": "     episode  success  sim_steps  VFE_post_run  noise_stddev  \\\n0          0     True        448     58.387444  [0.05, 0.05]   \n1          1    False        999     53.060280  [0.05, 0.05]   \n2          2    False        999     33.161640  [0.05, 0.05]   \n3          3     True        730     57.308117  [0.05, 0.05]   \n4          4    False        999     32.116009  [0.05, 0.05]   \n..       ...      ...        ...           ...           ...   \n145       85     True        101      9.476604  [0.05, 0.05]   \n146       86     True        157      8.395175  [0.05, 0.05]   \n147       87     True        166      9.066815  [0.05, 0.05]   \n148       88     True        170     10.281216  [0.05, 0.05]   \n149       89     True        162     12.189769  [0.05, 0.05]   \n\n     percent_use_fast_thinking  total_reward  agent_time_ratio  \n0                     0.026667     92.904677                 6  \n1                     0.029940    -14.631364                 6  \n2                     0.041916    -14.142330                 6  \n3                     0.008197     89.207210                 6  \n4                     0.059880    -14.109293                 6  \n..                         ...           ...               ...  \n145                   0.176471     98.662095                 6  \n146                   0.592593     98.664116                 6  \n147                   0.357143     98.443511                 6  \n148                   0.413793     98.270159                 6  \n149                   0.407407     98.348089                 6  \n\n[150 rows x 8 columns]",
      "text/html": "<div>\n<style scoped>\n    .dataframe tbody tr th:only-of-type {\n        vertical-align: middle;\n    }\n\n    .dataframe tbody tr th {\n        vertical-align: top;\n    }\n\n    .dataframe thead th {\n        text-align: right;\n    }\n</style>\n<table border=\"1\" class=\"dataframe\">\n  <thead>\n    <tr style=\"text-align: right;\">\n      <th></th>\n      <th>episode</th>\n      <th>success</th>\n      <th>sim_steps</th>\n      <th>VFE_post_run</th>\n      <th>noise_stddev</th>\n      <th>percent_use_fast_thinking</th>\n      <th>total_reward</th>\n      <th>agent_time_ratio</th>\n    </tr>\n  </thead>\n  <tbody>\n    <tr>\n      <th>0</th>\n      <td>0</td>\n      <td>True</td>\n      <td>448</td>\n      <td>58.387444</td>\n      <td>[0.05, 0.05]</td>\n      <td>0.026667</td>\n      <td>92.904677</td>\n      <td>6</td>\n    </tr>\n    <tr>\n      <th>1</th>\n      <td>1</td>\n      <td>False</td>\n      <td>999</td>\n      <td>53.060280</td>\n      <td>[0.05, 0.05]</td>\n      <td>0.029940</td>\n      <td>-14.631364</td>\n      <td>6</td>\n    </tr>\n    <tr>\n      <th>2</th>\n      <td>2</td>\n      <td>False</td>\n      <td>999</td>\n      <td>33.161640</td>\n      <td>[0.05, 0.05]</td>\n      <td>0.041916</td>\n      <td>-14.142330</td>\n      <td>6</td>\n    </tr>\n    <tr>\n      <th>3</th>\n      <td>3</td>\n      <td>True</td>\n      <td>730</td>\n      <td>57.308117</td>\n      <td>[0.05, 0.05]</td>\n      <td>0.008197</td>\n      <td>89.207210</td>\n      <td>6</td>\n    </tr>\n    <tr>\n      <th>4</th>\n      <td>4</td>\n      <td>False</td>\n      <td>999</td>\n      <td>32.116009</td>\n      <td>[0.05, 0.05]</td>\n      <td>0.059880</td>\n      <td>-14.109293</td>\n      <td>6</td>\n    </tr>\n    <tr>\n      <th>...</th>\n      <td>...</td>\n      <td>...</td>\n      <td>...</td>\n      <td>...</td>\n      <td>...</td>\n      <td>...</td>\n      <td>...</td>\n      <td>...</td>\n    </tr>\n    <tr>\n      <th>145</th>\n      <td>85</td>\n      <td>True</td>\n      <td>101</td>\n      <td>9.476604</td>\n      <td>[0.05, 0.05]</td>\n      <td>0.176471</td>\n      <td>98.662095</td>\n      <td>6</td>\n    </tr>\n    <tr>\n      <th>146</th>\n      <td>86</td>\n      <td>True</td>\n      <td>157</td>\n      <td>8.395175</td>\n      <td>[0.05, 0.05]</td>\n      <td>0.592593</td>\n      <td>98.664116</td>\n      <td>6</td>\n    </tr>\n    <tr>\n      <th>147</th>\n      <td>87</td>\n      <td>True</td>\n      <td>166</td>\n      <td>9.066815</td>\n      <td>[0.05, 0.05]</td>\n      <td>0.357143</td>\n      <td>98.443511</td>\n      <td>6</td>\n    </tr>\n    <tr>\n      <th>148</th>\n      <td>88</td>\n      <td>True</td>\n      <td>170</td>\n      <td>10.281216</td>\n      <td>[0.05, 0.05]</td>\n      <td>0.413793</td>\n      <td>98.270159</td>\n      <td>6</td>\n    </tr>\n    <tr>\n      <th>149</th>\n      <td>89</td>\n      <td>True</td>\n      <td>162</td>\n      <td>12.189769</td>\n      <td>[0.05, 0.05]</td>\n      <td>0.407407</td>\n      <td>98.348089</td>\n      <td>6</td>\n    </tr>\n  </tbody>\n</table>\n<p>150 rows × 8 columns</p>\n</div>"
     },
     "execution_count": 17,
     "metadata": {},
     "output_type": "execute_result"
    }
   ],
   "source": [
    "full_results = pd.concat([results_one, results_two])\n",
    "full_results = full_results.reset_index(drop=True)\n",
    "full_results"
   ],
   "metadata": {
    "collapsed": false,
    "pycharm": {
     "name": "#%%\n"
    }
   }
  },
  {
   "cell_type": "code",
   "execution_count": 18,
   "outputs": [],
   "source": [
    "T = np.arange(len(full_results))"
   ],
   "metadata": {
    "collapsed": false,
    "pycharm": {
     "name": "#%%\n"
    }
   }
  },
  {
   "cell_type": "code",
   "execution_count": 19,
   "outputs": [
    {
     "data": {
      "text/plain": "[<matplotlib.lines.Line2D at 0x17dd0b3d0>]"
     },
     "execution_count": 19,
     "metadata": {},
     "output_type": "execute_result"
    },
    {
     "data": {
      "text/plain": "<Figure size 432x288 with 1 Axes>",
      "image/png": "[encoded data removed]"
     },
     "metadata": {
      "needs_background": "light"
     },
     "output_type": "display_data"
    }
   ],
   "source": [
    "plt.plot(T, full_results.VFE_post_run)"
   ],
   "metadata": {
    "collapsed": false,
    "pycharm": {
     "name": "#%%\n"
    }
   }
  },
  {
   "cell_type": "code",
   "execution_count": 20,
   "outputs": [
    {
     "data": {
      "text/plain": "[<matplotlib.lines.Line2D at 0x1785a0130>]"
     },
     "execution_count": 20,
     "metadata": {},
     "output_type": "execute_result"
    },
    {
     "data": {
      "text/plain": "<Figure size 432x288 with 1 Axes>",
      "image/png": "[encoded data removed]"
     },
     "metadata": {
      "needs_background": "light"
     },
     "output_type": "display_data"
    }
   ],
   "source": [
    "T = np.arange(len(full_results))\n",
    "plt.plot(T, full_results.percent_use_fast_thinking)"
   ],
   "metadata": {
    "collapsed": false,
    "pycharm": {
     "name": "#%%\n"
    }
   }
  },
  {
   "cell_type": "code",
   "execution_count": 21,
   "outputs": [
    {
     "data": {
      "text/plain": "[<matplotlib.lines.Line2D at 0x1785f5ee0>]"
     },
     "execution_count": 21,
     "metadata": {},
     "output_type": "execute_result"
    },
    {
     "data": {
      "text/plain": "<Figure size 432x288 with 1 Axes>",
      "image/png": "[encoded data removed]"
     },
     "metadata": {
      "needs_background": "light"
     },
     "output_type": "display_data"
    }
   ],
   "source": [
    "plt.plot(T, full_results.total_reward)"
   ],
   "metadata": {
    "collapsed": false,
    "pycharm": {
     "name": "#%%\n"
    }
   }
  },
  {
   "cell_type": "code",
   "execution_count": 22,
   "outputs": [
    {
     "data": {
      "text/plain": "[<matplotlib.lines.Line2D at 0x178665730>]"
     },
     "execution_count": 22,
     "metadata": {},
     "output_type": "execute_result"
    },
    {
     "data": {
      "text/plain": "<Figure size 432x288 with 1 Axes>",
      "image/png": "[encoded data removed]"
     },
     "metadata": {
      "needs_background": "light"
     },
     "output_type": "display_data"
    }
   ],
   "source": [
    "plt.plot(T, full_results.sim_steps)"
   ],
   "metadata": {
    "collapsed": false,
    "pycharm": {
     "name": "#%%\n"
    }
   }
  },
  {
   "cell_type": "code",
   "execution_count": 22,
   "outputs": [],
   "source": [],
   "metadata": {
    "collapsed": false,
    "pycharm": {
     "name": "#%%\n"
    }
   }
  }
 ],
 "metadata": {
  "kernelspec": {
   "display_name": "Python 3",
   "language": "python",
   "name": "python3"
  },
  "language_info": {
   "codemirror_mode": {
    "name": "ipython",
    "version": 2
   },
   "file_extension": ".py",
   "mimetype": "text/x-python",
   "name": "python",
   "nbconvert_exporter": "python",
   "pygments_lexer": "ipython2",
   "version": "2.7.6"
  }
 },
 "nbformat": 4,
 "nbformat_minor": 0
}