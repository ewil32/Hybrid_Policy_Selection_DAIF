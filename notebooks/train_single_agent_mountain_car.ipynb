{
 "cells": [
  {
   "cell_type": "markdown",
   "source": [
    "# Train Single Agent on Mountain Car\n",
    "\n",
    "This notebook can be used to train a single DAIF agent on the Mountain Car environment. Code cells to use either the DDPG or A2C for habitual action are available and deciding between each is a matter of commenting out the appropriate cell."
   ],
   "metadata": {
    "collapsed": false
   }
  },
  {
   "cell_type": "code",
   "execution_count": 1,
   "outputs": [],
   "source": [
    "import gym\n",
    "import pandas as pd\n",
    "\n",
    "from agent_and_models.vae import VAE, create_decoder, create_encoder\n",
    "from agent_and_models.transition_gru import TransitionGRU\n",
    "from agent_and_models.daif_agent import DAIFAgent\n",
    "from agent_and_models.prior_preferences_model import PriorPreferencesModel\n",
    "from agent_and_models.a2c import PolicyGradientNetwork\n",
    "from agent_and_models.ddpg import *"
   ],
   "metadata": {
    "collapsed": false,
    "pycharm": {
     "name": "#%%\n"
    }
   }
  },
  {
   "cell_type": "code",
   "execution_count": 2,
   "outputs": [],
   "source": [
    "from util import transform_observations, test_policy, habit_policy\n",
    "from train_agent import train_single_agent"
   ],
   "metadata": {
    "collapsed": false,
    "pycharm": {
     "name": "#%%\n"
    }
   }
  },
  {
   "cell_type": "code",
   "execution_count": 3,
   "outputs": [],
   "source": [
    "# Hide GPU from visible devices\n",
    "tf.config.set_visible_devices([], 'GPU')"
   ],
   "metadata": {
    "collapsed": false,
    "pycharm": {
     "name": "#%%\n"
    }
   }
  },
  {
   "cell_type": "code",
   "execution_count": 4,
   "outputs": [],
   "source": [
    "pln_hrzn = 5\n",
    "latent_dim = 2\n",
    "obs_dim = 2\n",
    "\n",
    "# make the VAE\n",
    "enc = create_encoder(2, latent_dim, [20])\n",
    "dec = create_decoder(latent_dim, 2, [20])\n",
    "vae = VAE(enc, dec, latent_dim,  [0]*latent_dim, [0.3]*latent_dim, train_epochs=2, show_training=False)\n",
    "vae.compile(optimizer=tf.keras.optimizers.Adam())\n",
    "\n",
    "# make the TRANSITION\n",
    "tran = TransitionGRU(latent_dim, 1, 2*pln_hrzn*latent_dim, 2, train_epochs=2, show_training=False)\n",
    "tran.compile(optimizer=tf.keras.optimizers.Adam())\n",
    "\n",
    "# make the PRIOR NET\n",
    "prior_model = PriorPreferencesModel(latent_dim, output_dim=1, show_training=False, use_tanh_on_output=False)\n",
    "\n",
    "# unscaled prior mean and prior stddev\n",
    "prior_mean = [0.45, 0]\n",
    "prior_stddev = [1, 1]\n",
    "\n",
    "observation_max = np.array([0.6, 0.07])\n",
    "observation_min = np.array([-1.2, -0.07])\n",
    "\n",
    "# observation_noise_stddev = [0, 0]\n",
    "observation_noise_stddev = [0.05, 0.05]\n",
    "\n",
    "scaled_prior_mean = transform_observations(prior_mean, observation_max, observation_min, [0,0])  # no noise on prior"
   ],
   "metadata": {
    "collapsed": false,
    "pycharm": {
     "name": "#%%\n"
    }
   }
  },
  {
   "cell_type": "markdown",
   "source": [
    "## Uncomment for using A2C"
   ],
   "metadata": {
    "collapsed": false,
    "pycharm": {
     "name": "#%% md\n"
    }
   }
  },
  {
   "cell_type": "code",
   "execution_count": 5,
   "outputs": [],
   "source": [
    "# make the HABIT ACTION NET\n",
    "habit_net = PolicyGradientNetwork(latent_dim, 1, [16, 16], train_epochs=2, show_training=False)\n",
    "habit_net.compile(optimizer=tf.keras.optimizers.Adam())\n",
    "\n",
    "daifa = DAIFAgent(prior_model,\n",
    "                           vae,\n",
    "                           tran,\n",
    "                           habit_net,\n",
    "                           planning_horizon=pln_hrzn,\n",
    "                           use_efe_extrinsic=True,\n",
    "                           use_kl_intrinsic=True,\n",
    "                           use_FEEF=False,\n",
    "                           train_habit_net=True,\n",
    "                           train_prior_model=True,\n",
    "                           train_tran=True,\n",
    "                           train_during_episode=True,\n",
    "                           train_with_replay=True,\n",
    "                           use_habit_policy=True,\n",
    "                           habit_model_type=\"A2C\",\n",
    "                           uncertainty_tolerance=0.1,\n",
    "                           min_rewards_needed_to_train_prior=-10,\n",
    "                           prior_model_scaling_factor=1)"
   ],
   "metadata": {
    "collapsed": false,
    "pycharm": {
     "name": "#%%\n"
    }
   }
  },
  {
   "cell_type": "markdown",
   "source": [
    "## Uncomment for using DDPG"
   ],
   "metadata": {
    "collapsed": false,
    "pycharm": {
     "name": "#%% md\n"
    }
   }
  },
  {
   "cell_type": "code",
   "execution_count": 6,
   "outputs": [],
   "source": [
    "# # # make the DDPG HABIT ACTION NET\n",
    "# actor_model = get_actor(2, 1)\n",
    "# critic_model = get_critic(2, 1)\n",
    "# target_actor = get_actor(2, 1)\n",
    "# target_critic = get_critic(2, 1)\n",
    "#\n",
    "# # Making the weights equal initially\n",
    "# target_actor.set_weights(actor_model.get_weights())\n",
    "# target_critic.set_weights(critic_model.get_weights())\n",
    "# critic_optimizer = tf.keras.optimizers.Adam(0.0001)\n",
    "# actor_optimizer = tf.keras.optimizers.Adam(0.00005)\n",
    "# habit_net = BasicDDPG(actor_model, critic_model, target_actor, target_critic, tau=0.005, critic_optimizer=critic_optimizer, actor_optimizer=actor_optimizer)\n",
    "#\n",
    "#\n",
    "# daifa = DAIFAgent(prior_model,\n",
    "#                            vae,\n",
    "#                            tran,\n",
    "#                            habit_net,\n",
    "#                            planning_horizon=pln_hrzn,\n",
    "#                            use_efe_extrinsic=True,\n",
    "#                            use_kl_intrinsic=True,\n",
    "#                            use_FEEF=False,\n",
    "#                            train_habit_net=True,\n",
    "#                            train_prior_model=True,\n",
    "#                            train_tran=True,\n",
    "#                            train_during_episode=True,\n",
    "#                            train_with_replay=True,\n",
    "#                            use_habit_policy=True,\n",
    "#                            habit_model_type=\"DDPG\",\n",
    "#                            uncertainty_tolerance=0.1,\n",
    "#                            min_rewards_needed_to_train_prior=-10,\n",
    "#                            prior_model_scaling_factor=1)"
   ],
   "metadata": {
    "collapsed": false,
    "pycharm": {
     "name": "#%%\n"
    }
   }
  },
  {
   "cell_type": "code",
   "execution_count": 7,
   "outputs": [
    {
     "name": "stdout",
     "output_type": "stream",
     "text": [
      "Episode 1\n"
     ]
    },
    {
     "name": "stderr",
     "output_type": "stream",
     "text": [
      "2022-10-21 13:40:37.018003: W tensorflow/core/platform/profile_utils/cpu_utils.cc:128] Failed to get CPU frequency: 0 Hz\n"
     ]
    },
    {
     "name": "stdout",
     "output_type": "stream",
     "text": [
      "WARNING:tensorflow:From /Users/Ethan/miniconda3/envs/tf_daif/lib/python3.8/site-packages/tensorflow_probability/python/distributions/distribution.py:345: calling MultivariateNormalDiag.__init__ (from tensorflow_probability.python.distributions.mvn_diag) with scale_identity_multiplier is deprecated and will be removed after 2020-01-01.\n",
      "Instructions for updating:\n",
      "`scale_identity_multiplier` is deprecated; please combine it into `scale_diag` directly instead.\n",
      "WARNING:tensorflow:5 out of the last 8 calls to <function Model.make_train_function.<locals>.train_function at 0x166336ee0> triggered tf.function retracing. Tracing is expensive and the excessive number of tracings could be due to (1) creating @tf.function repeatedly in a loop, (2) passing tensors with different shapes, (3) passing Python objects instead of tensors. For (1), please define your @tf.function outside of the loop. For (2), @tf.function has experimental_relax_shapes=True option that relaxes argument shapes that can avoid unnecessary retracing. For (3), please refer to https://www.tensorflow.org/guide/function#controlling_retracing and https://www.tensorflow.org/api_docs/python/tf/function for  more details.\n",
      "WARNING:tensorflow:6 out of the last 9 calls to <function Model.make_train_function.<locals>.train_function at 0x1664a30d0> triggered tf.function retracing. Tracing is expensive and the excessive number of tracings could be due to (1) creating @tf.function repeatedly in a loop, (2) passing tensors with different shapes, (3) passing Python objects instead of tensors. For (1), please define your @tf.function outside of the loop. For (2), @tf.function has experimental_relax_shapes=True option that relaxes argument shapes that can avoid unnecessary retracing. For (3), please refer to https://www.tensorflow.org/guide/function#controlling_retracing and https://www.tensorflow.org/api_docs/python/tf/function for  more details.\n",
      "Number of habit choices: 10\n",
      "Number of actions total: 167\n",
      "training on full data\n",
      "No Success\n",
      "Episode 2\n",
      "Number of habit choices: 5\n",
      "Number of actions total: 49\n",
      "training on full data\n",
      "Success in episode 2 at time step 289 with reward 95.86361524353285\n",
      "Episode 3\n",
      "Number of habit choices: 10\n",
      "Number of actions total: 167\n",
      "training on full data\n",
      "No Success\n",
      "Episode 4\n",
      "Number of habit choices: 1\n",
      "Number of actions total: 58\n",
      "training on full data\n",
      "Success in episode 4 at time step 346 with reward 94.85523349568679\n",
      "Episode 5\n",
      "Number of habit choices: 0\n",
      "Number of actions total: 15\n",
      "training on full data\n",
      "Success in episode 5 at time step 88 with reward 98.86584516765541\n",
      "Episode 6\n",
      "Number of habit choices: 5\n",
      "Number of actions total: 22\n",
      "training on full data\n",
      "Success in episode 6 at time step 128 with reward 98.42783387695783\n",
      "Episode 7\n",
      "Number of habit choices: 3\n",
      "Number of actions total: 79\n",
      "training on full data\n",
      "Success in episode 7 at time step 472 with reward 92.91321367415337\n",
      "Episode 8\n",
      "Number of habit choices: 1\n",
      "Number of actions total: 15\n",
      "training on full data\n",
      "Success in episode 8 at time step 90 with reward 98.8502717157329\n",
      "Episode 9\n",
      "Number of habit choices: 0\n",
      "Number of actions total: 19\n",
      "training on full data\n",
      "Success in episode 9 at time step 110 with reward 98.25787456996068\n",
      "Episode 10\n",
      "Number of habit choices: 1\n",
      "Number of actions total: 30\n",
      "training on full data\n",
      "Success in episode 10 at time step 176 with reward 97.47133173909442\n",
      "Episode 11\n",
      "Number of habit choices: 2\n",
      "Number of actions total: 21\n",
      "training on full data\n",
      "Success in episode 11 at time step 126 with reward 98.31352963876631\n",
      "Episode 12\n",
      "Number of habit choices: 3\n",
      "Number of actions total: 31\n",
      "training on full data\n",
      "Success in episode 12 at time step 182 with reward 97.54149659468347\n",
      "Episode 13\n",
      "Number of habit choices: 3\n",
      "Number of actions total: 34\n",
      "training on full data\n",
      "Success in episode 13 at time step 199 with reward 97.1744126882865\n",
      "Episode 14\n",
      "Number of habit choices: 9\n",
      "Number of actions total: 36\n",
      "training on full data\n",
      "Success in episode 14 at time step 211 with reward 97.52297306910349\n",
      "Episode 15\n",
      "Number of habit choices: 2\n",
      "Number of actions total: 21\n",
      "training on full data\n",
      "Success in episode 15 at time step 125 with reward 98.62501738419365\n",
      "Episode 16\n",
      "Number of habit choices: 2\n",
      "Number of actions total: 20\n",
      "training on full data\n",
      "Success in episode 16 at time step 120 with reward 98.36458500891676\n",
      "Episode 17\n",
      "Number of habit choices: 3\n",
      "Number of actions total: 17\n",
      "training on full data\n",
      "Success in episode 17 at time step 101 with reward 98.91201957051786\n",
      "Episode 18\n",
      "Number of habit choices: 5\n",
      "Number of actions total: 19\n",
      "training on full data\n",
      "Success in episode 18 at time step 109 with reward 98.9155784249256\n",
      "Episode 19\n",
      "Number of habit choices: 4\n",
      "Number of actions total: 22\n",
      "training on full data\n",
      "Success in episode 19 at time step 129 with reward 98.68106470265198\n",
      "Episode 20\n",
      "Number of habit choices: 5\n",
      "Number of actions total: 18\n",
      "training on full data\n",
      "Success in episode 20 at time step 106 with reward 98.86297021966917\n",
      "Episode 21\n",
      "Number of habit choices: 2\n",
      "Number of actions total: 22\n",
      "training on full data\n",
      "Success in episode 21 at time step 132 with reward 98.30108195846603\n",
      "Episode 22\n",
      "Number of habit choices: 2\n",
      "Number of actions total: 25\n",
      "training on full data\n",
      "Success in episode 22 at time step 148 with reward 98.18510513168184\n",
      "Episode 23\n",
      "Number of habit choices: 2\n",
      "Number of actions total: 18\n",
      "training on full data\n",
      "Success in episode 23 at time step 104 with reward 98.69521951619103\n",
      "Episode 24\n",
      "Number of habit choices: 4\n",
      "Number of actions total: 18\n",
      "training on full data\n",
      "Success in episode 24 at time step 105 with reward 98.75871145551908\n",
      "Episode 25\n",
      "Number of habit choices: 5\n",
      "Number of actions total: 21\n",
      "training on full data\n",
      "Success in episode 25 at time step 122 with reward 98.72735008427657\n",
      "Episode 26\n",
      "Number of habit choices: 4\n",
      "Number of actions total: 19\n",
      "training on full data\n",
      "Success in episode 26 at time step 112 with reward 98.82622985025682\n",
      "Episode 27\n",
      "Number of habit choices: 2\n",
      "Number of actions total: 15\n",
      "training on full data\n",
      "Success in episode 27 at time step 89 with reward 99.09529400821245\n",
      "Episode 28\n",
      "Number of habit choices: 13\n",
      "Number of actions total: 35\n",
      "training on full data\n",
      "Success in episode 28 at time step 208 with reward 98.24419949087093\n",
      "Episode 29\n",
      "Number of habit choices: 5\n",
      "Number of actions total: 18\n",
      "training on full data\n",
      "Success in episode 29 at time step 105 with reward 99.01024387535047\n",
      "Episode 30\n",
      "Number of habit choices: 8\n",
      "Number of actions total: 23\n",
      "training on full data\n",
      "Success in episode 30 at time step 133 with reward 98.85674353987768\n",
      "Episode 31\n",
      "Number of habit choices: 10\n",
      "Number of actions total: 28\n",
      "training on full data\n",
      "Success in episode 31 at time step 164 with reward 98.35627532256689\n",
      "Episode 32\n",
      "Number of habit choices: 9\n",
      "Number of actions total: 22\n",
      "training on full data\n",
      "Success in episode 32 at time step 130 with reward 98.80895821119395\n",
      "Episode 33\n",
      "Number of habit choices: 13\n",
      "Number of actions total: 28\n",
      "training on full data\n",
      "Success in episode 33 at time step 163 with reward 98.55027286793765\n",
      "Episode 34\n",
      "Number of habit choices: 6\n",
      "Number of actions total: 34\n",
      "training on full data\n",
      "Success in episode 34 at time step 204 with reward 97.68674653914127\n",
      "Episode 35\n",
      "Number of habit choices: 6\n",
      "Number of actions total: 28\n",
      "training on full data\n",
      "Success in episode 35 at time step 164 with reward 98.16888490261881\n",
      "Episode 36\n",
      "Number of habit choices: 5\n",
      "Number of actions total: 16\n",
      "training on full data\n",
      "Success in episode 36 at time step 91 with reward 98.92751111033921\n",
      "Episode 37\n",
      "Number of habit choices: 11\n",
      "Number of actions total: 33\n",
      "training on full data\n",
      "Success in episode 37 at time step 196 with reward 98.56211788104937\n",
      "Episode 38\n",
      "Number of habit choices: 24\n",
      "Number of actions total: 35\n",
      "training on full data\n",
      "Success in episode 38 at time step 207 with reward 98.93756259012808\n",
      "Episode 39\n",
      "Number of habit choices: 20\n",
      "Number of actions total: 43\n",
      "training on full data\n",
      "Success in episode 39 at time step 253 with reward 98.18533341504587\n",
      "Episode 40\n",
      "Number of habit choices: 11\n",
      "Number of actions total: 26\n",
      "training on full data\n",
      "Success in episode 40 at time step 153 with reward 98.7889803952488\n",
      "Episode 41\n",
      "Number of habit choices: 32\n",
      "Number of actions total: 52\n",
      "training on full data\n",
      "Success in episode 41 at time step 311 with reward 98.58413140950753\n",
      "Episode 42\n",
      "Number of habit choices: 10\n",
      "Number of actions total: 27\n",
      "training on full data\n",
      "Success in episode 42 at time step 160 with reward 98.82555004705381\n",
      "Episode 43\n",
      "Number of habit choices: 15\n",
      "Number of actions total: 33\n",
      "training on full data\n",
      "Success in episode 43 at time step 196 with reward 98.07882108429638\n",
      "Episode 44\n",
      "Number of habit choices: 4\n",
      "Number of actions total: 20\n",
      "training on full data\n",
      "Success in episode 44 at time step 116 with reward 98.6972935782783\n",
      "Episode 45\n",
      "Number of habit choices: 6\n",
      "Number of actions total: 15\n",
      "training on full data\n",
      "Success in episode 45 at time step 86 with reward 99.22261277574357\n",
      "Episode 46\n",
      "Number of habit choices: 18\n",
      "Number of actions total: 39\n",
      "training on full data\n",
      "Success in episode 46 at time step 234 with reward 98.18055446674988\n",
      "Episode 47\n",
      "Number of habit choices: 6\n",
      "Number of actions total: 17\n",
      "training on full data\n",
      "Success in episode 47 at time step 101 with reward 99.07808883439124\n",
      "Episode 48\n",
      "Number of habit choices: 30\n",
      "Number of actions total: 48\n",
      "training on full data\n",
      "Success in episode 48 at time step 283 with reward 98.02821888793235\n",
      "Episode 49\n",
      "Number of habit choices: 30\n",
      "Number of actions total: 90\n",
      "training on full data\n",
      "Success in episode 49 at time step 537 with reward 95.28033928126928\n",
      "Episode 50\n",
      "Number of habit choices: 67\n",
      "Number of actions total: 112\n",
      "training on full data\n",
      "Success in episode 50 at time step 671 with reward 97.23892128394436\n",
      "Episode 51\n",
      "Number of habit choices: 4\n",
      "Number of actions total: 14\n",
      "training on full data\n",
      "Success in episode 51 at time step 80 with reward 99.30392289641333\n",
      "Episode 52\n",
      "Number of habit choices: 9\n",
      "Number of actions total: 20\n",
      "training on full data\n",
      "Success in episode 52 at time step 118 with reward 99.03345058085516\n",
      "Episode 53\n",
      "Number of habit choices: 9\n",
      "Number of actions total: 25\n",
      "training on full data\n",
      "Success in episode 53 at time step 150 with reward 98.62831374794756\n",
      "Episode 54\n",
      "Number of habit choices: 12\n",
      "Number of actions total: 40\n",
      "training on full data\n",
      "Success in episode 54 at time step 236 with reward 97.76955185885312\n",
      "Episode 55\n",
      "Number of habit choices: 5\n",
      "Number of actions total: 18\n",
      "training on full data\n",
      "Success in episode 55 at time step 103 with reward 98.89504077586506\n",
      "Episode 56\n",
      "Number of habit choices: 24\n",
      "Number of actions total: 45\n",
      "training on full data\n",
      "Success in episode 56 at time step 266 with reward 98.23180060020577\n",
      "Episode 57\n",
      "Number of habit choices: 14\n",
      "Number of actions total: 31\n",
      "training on full data\n",
      "Success in episode 57 at time step 184 with reward 98.75078553382217\n",
      "Episode 58\n",
      "Number of habit choices: 9\n",
      "Number of actions total: 25\n",
      "training on full data\n",
      "Success in episode 58 at time step 150 with reward 98.8263958529417\n",
      "Episode 59\n",
      "Number of habit choices: 11\n",
      "Number of actions total: 24\n",
      "training on full data\n",
      "Success in episode 59 at time step 142 with reward 98.87595911205094\n",
      "Episode 60\n",
      "Number of habit choices: 14\n",
      "Number of actions total: 29\n",
      "training on full data\n",
      "Success in episode 60 at time step 173 with reward 98.57387308479973\n"
     ]
    }
   ],
   "source": [
    "# train the agent on the env\n",
    "env = gym.make('MountainCarContinuous-v0')\n",
    "daifa, results_one = train_single_agent(env, daifa, observation_max, observation_min, observation_noise_stddev, num_episodes=60, render_env=False)"
   ],
   "metadata": {
    "collapsed": false,
    "pycharm": {
     "name": "#%%\n"
    }
   }
  },
  {
   "cell_type": "code",
   "execution_count": 8,
   "outputs": [
    {
     "data": {
      "text/plain": "       reward  timesteps  num_actions\n0   99.601244        414           69\n1   99.621316        510           85\n2   99.641981        474           79\n3   99.728005        720          120\n4   99.756397        648          108\n5   99.580927        594           99\n6   -0.244416       1002          167\n7   99.762964        474           79\n8   99.597877        546           91\n9   99.738045        318           53\n10  99.560050        774          129\n11  -0.086930       1002          167\n12  99.643075        582           97\n13  -0.167965       1002          167\n14  99.694050        762          127\n15  99.741386        468           78\n16  99.583040        954          159\n17  99.709914        396           66\n18  99.587811        612          102\n19  99.650922        492           82",
      "text/html": "<div>\n<style scoped>\n    .dataframe tbody tr th:only-of-type {\n        vertical-align: middle;\n    }\n\n    .dataframe tbody tr th {\n        vertical-align: top;\n    }\n\n    .dataframe thead th {\n        text-align: right;\n    }\n</style>\n<table border=\"1\" class=\"dataframe\">\n  <thead>\n    <tr style=\"text-align: right;\">\n      <th></th>\n      <th>reward</th>\n      <th>timesteps</th>\n      <th>num_actions</th>\n    </tr>\n  </thead>\n  <tbody>\n    <tr>\n      <th>0</th>\n      <td>99.601244</td>\n      <td>414</td>\n      <td>69</td>\n    </tr>\n    <tr>\n      <th>1</th>\n      <td>99.621316</td>\n      <td>510</td>\n      <td>85</td>\n    </tr>\n    <tr>\n      <th>2</th>\n      <td>99.641981</td>\n      <td>474</td>\n      <td>79</td>\n    </tr>\n    <tr>\n      <th>3</th>\n      <td>99.728005</td>\n      <td>720</td>\n      <td>120</td>\n    </tr>\n    <tr>\n      <th>4</th>\n      <td>99.756397</td>\n      <td>648</td>\n      <td>108</td>\n    </tr>\n    <tr>\n      <th>5</th>\n      <td>99.580927</td>\n      <td>594</td>\n      <td>99</td>\n    </tr>\n    <tr>\n      <th>6</th>\n      <td>-0.244416</td>\n      <td>1002</td>\n      <td>167</td>\n    </tr>\n    <tr>\n      <th>7</th>\n      <td>99.762964</td>\n      <td>474</td>\n      <td>79</td>\n    </tr>\n    <tr>\n      <th>8</th>\n      <td>99.597877</td>\n      <td>546</td>\n      <td>91</td>\n    </tr>\n    <tr>\n      <th>9</th>\n      <td>99.738045</td>\n      <td>318</td>\n      <td>53</td>\n    </tr>\n    <tr>\n      <th>10</th>\n      <td>99.560050</td>\n      <td>774</td>\n      <td>129</td>\n    </tr>\n    <tr>\n      <th>11</th>\n      <td>-0.086930</td>\n      <td>1002</td>\n      <td>167</td>\n    </tr>\n    <tr>\n      <th>12</th>\n      <td>99.643075</td>\n      <td>582</td>\n      <td>97</td>\n    </tr>\n    <tr>\n      <th>13</th>\n      <td>-0.167965</td>\n      <td>1002</td>\n      <td>167</td>\n    </tr>\n    <tr>\n      <th>14</th>\n      <td>99.694050</td>\n      <td>762</td>\n      <td>127</td>\n    </tr>\n    <tr>\n      <th>15</th>\n      <td>99.741386</td>\n      <td>468</td>\n      <td>78</td>\n    </tr>\n    <tr>\n      <th>16</th>\n      <td>99.583040</td>\n      <td>954</td>\n      <td>159</td>\n    </tr>\n    <tr>\n      <th>17</th>\n      <td>99.709914</td>\n      <td>396</td>\n      <td>66</td>\n    </tr>\n    <tr>\n      <th>18</th>\n      <td>99.587811</td>\n      <td>612</td>\n      <td>102</td>\n    </tr>\n    <tr>\n      <th>19</th>\n      <td>99.650922</td>\n      <td>492</td>\n      <td>82</td>\n    </tr>\n  </tbody>\n</table>\n</div>"
     },
     "execution_count": 8,
     "metadata": {},
     "output_type": "execute_result"
    }
   ],
   "source": [
    "p = habit_policy(daifa)\n",
    "res = test_policy(env, p, observation_max, observation_min, observation_noise_stddev, 20, daifa.agent_time_ratio)\n",
    "res"
   ],
   "metadata": {
    "collapsed": false,
    "pycharm": {
     "name": "#%%\n"
    }
   }
  },
  {
   "cell_type": "code",
   "execution_count": 9,
   "outputs": [],
   "source": [
    "daifa.train_vae = False\n",
    "daifa.model_vae.show_training = False\n",
    "\n",
    "daifa.train_habit_net = True\n",
    "daifa.train_after_exploring = True\n",
    "daifa.use_fast_thinking = True\n",
    "daifa.uncertainty_tolerance = 0.1"
   ],
   "metadata": {
    "collapsed": false,
    "pycharm": {
     "name": "#%%\n"
    }
   }
  },
  {
   "cell_type": "code",
   "execution_count": 10,
   "outputs": [
    {
     "name": "stdout",
     "output_type": "stream",
     "text": [
      "Episode 1\n",
      "Number of habit choices: 12\n",
      "Number of actions total: 28\n",
      "training on full data\n",
      "Success in episode 1 at time step 164 with reward 98.78494618445629\n",
      "Episode 2\n",
      "Number of habit choices: 5\n",
      "Number of actions total: 14\n",
      "training on full data\n",
      "Success in episode 2 at time step 81 with reward 99.32998263593984\n",
      "Episode 3\n",
      "Number of habit choices: 17\n",
      "Number of actions total: 28\n",
      "training on full data\n",
      "Success in episode 3 at time step 163 with reward 99.00106241943816\n",
      "Episode 4\n",
      "Number of habit choices: 12\n",
      "Number of actions total: 28\n",
      "training on full data\n",
      "Success in episode 4 at time step 166 with reward 98.58665893839922\n",
      "Episode 5\n",
      "Number of habit choices: 7\n",
      "Number of actions total: 14\n",
      "training on full data\n",
      "Success in episode 5 at time step 81 with reward 99.33437649424982\n",
      "Episode 6\n",
      "Number of habit choices: 13\n",
      "Number of actions total: 32\n",
      "training on full data\n",
      "Success in episode 6 at time step 191 with reward 98.35535931955931\n",
      "Episode 7\n",
      "Number of habit choices: 18\n",
      "Number of actions total: 28\n",
      "training on full data\n",
      "Success in episode 7 at time step 165 with reward 99.08372370523068\n",
      "Episode 8\n",
      "Number of habit choices: 9\n",
      "Number of actions total: 28\n",
      "training on full data\n",
      "Success in episode 8 at time step 166 with reward 98.20667390564422\n",
      "Episode 9\n",
      "Number of habit choices: 9\n",
      "Number of actions total: 21\n",
      "training on full data\n",
      "Success in episode 9 at time step 122 with reward 99.0287229437499\n",
      "Episode 10\n",
      "Number of habit choices: 15\n",
      "Number of actions total: 28\n",
      "training on full data\n",
      "Success in episode 10 at time step 165 with reward 98.90547127797664\n",
      "Episode 11\n",
      "Number of habit choices: 2\n",
      "Number of actions total: 17\n",
      "training on full data\n",
      "Success in episode 11 at time step 99 with reward 98.63097117515873\n",
      "Episode 12\n",
      "Number of habit choices: 17\n",
      "Number of actions total: 33\n",
      "training on full data\n",
      "Success in episode 12 at time step 197 with reward 98.59529164213164\n",
      "Episode 13\n",
      "Number of habit choices: 18\n",
      "Number of actions total: 33\n",
      "training on full data\n",
      "Success in episode 13 at time step 198 with reward 98.65448125253178\n",
      "Episode 14\n",
      "Number of habit choices: 9\n",
      "Number of actions total: 26\n",
      "training on full data\n",
      "Success in episode 14 at time step 156 with reward 98.59086503760238\n",
      "Episode 15\n",
      "Number of habit choices: 13\n",
      "Number of actions total: 27\n",
      "training on full data\n",
      "Success in episode 15 at time step 159 with reward 98.81370732958277\n",
      "Episode 16\n",
      "Number of habit choices: 11\n",
      "Number of actions total: 30\n",
      "training on full data\n",
      "Success in episode 16 at time step 179 with reward 98.55335659453154\n",
      "Episode 17\n",
      "Number of habit choices: 11\n",
      "Number of actions total: 24\n",
      "training on full data\n",
      "Success in episode 17 at time step 143 with reward 98.87717354639462\n",
      "Episode 18\n",
      "Number of habit choices: 13\n",
      "Number of actions total: 27\n",
      "training on full data\n",
      "Success in episode 18 at time step 160 with reward 98.55711303611552\n",
      "Episode 19\n",
      "Number of habit choices: 21\n",
      "Number of actions total: 29\n",
      "training on full data\n",
      "Success in episode 19 at time step 173 with reward 99.25976887326243\n",
      "Episode 20\n",
      "Number of habit choices: 20\n",
      "Number of actions total: 31\n",
      "training on full data\n",
      "Success in episode 20 at time step 183 with reward 99.01611239119961\n",
      "Episode 21\n",
      "Number of habit choices: 13\n",
      "Number of actions total: 26\n",
      "training on full data\n",
      "Success in episode 21 at time step 156 with reward 98.71244431832578\n",
      "Episode 22\n",
      "Number of habit choices: 7\n",
      "Number of actions total: 14\n",
      "training on full data\n",
      "Success in episode 22 at time step 83 with reward 99.26328525651796\n",
      "Episode 23\n",
      "Number of habit choices: 8\n",
      "Number of actions total: 33\n",
      "training on full data\n",
      "Success in episode 23 at time step 193 with reward 97.96716886540214\n",
      "Episode 24\n",
      "Number of habit choices: 20\n",
      "Number of actions total: 37\n",
      "training on full data\n",
      "Success in episode 24 at time step 221 with reward 98.18444198038401\n",
      "Episode 25\n",
      "Number of habit choices: 6\n",
      "Number of actions total: 15\n",
      "training on full data\n",
      "Success in episode 25 at time step 88 with reward 99.08737570521477\n",
      "Episode 26\n",
      "Number of habit choices: 7\n",
      "Number of actions total: 19\n",
      "training on full data\n",
      "Success in episode 26 at time step 110 with reward 99.04057276623116\n",
      "Episode 27\n",
      "Number of habit choices: 11\n",
      "Number of actions total: 27\n",
      "training on full data\n",
      "Success in episode 27 at time step 162 with reward 98.4761861615168\n",
      "Episode 28\n",
      "Number of habit choices: 5\n",
      "Number of actions total: 15\n",
      "training on full data\n",
      "Success in episode 28 at time step 90 with reward 99.10472236446826\n",
      "Episode 29\n",
      "Number of habit choices: 7\n",
      "Number of actions total: 15\n",
      "training on full data\n",
      "Success in episode 29 at time step 89 with reward 99.1751532772473\n",
      "Episode 30\n",
      "Number of habit choices: 11\n",
      "Number of actions total: 24\n",
      "training on full data\n",
      "Success in episode 30 at time step 143 with reward 98.76575112771266\n",
      "Episode 31\n",
      "Number of habit choices: 6\n",
      "Number of actions total: 16\n",
      "training on full data\n",
      "Success in episode 31 at time step 95 with reward 99.15647057343375\n",
      "Episode 32\n",
      "Number of habit choices: 20\n",
      "Number of actions total: 27\n",
      "training on full data\n",
      "Success in episode 32 at time step 160 with reward 99.25549036724456\n",
      "Episode 33\n",
      "Number of habit choices: 10\n",
      "Number of actions total: 26\n",
      "training on full data\n",
      "Success in episode 33 at time step 154 with reward 98.68637131701259\n",
      "Episode 34\n",
      "Number of habit choices: 27\n",
      "Number of actions total: 46\n",
      "training on full data\n",
      "Success in episode 34 at time step 272 with reward 98.21456767062537\n",
      "Episode 35\n",
      "Number of habit choices: 26\n",
      "Number of actions total: 36\n",
      "training on full data\n",
      "Success in episode 35 at time step 212 with reward 98.79817350181298\n",
      "Episode 36\n",
      "Number of habit choices: 16\n",
      "Number of actions total: 30\n",
      "training on full data\n",
      "Success in episode 36 at time step 179 with reward 98.67108650997055\n",
      "Episode 37\n",
      "Number of habit choices: 13\n",
      "Number of actions total: 26\n",
      "training on full data\n",
      "Success in episode 37 at time step 156 with reward 98.71050750132991\n",
      "Episode 38\n",
      "Number of habit choices: 12\n",
      "Number of actions total: 25\n",
      "training on full data\n",
      "Success in episode 38 at time step 148 with reward 98.70231584716672\n",
      "Episode 39\n",
      "Number of habit choices: 16\n",
      "Number of actions total: 27\n",
      "training on full data\n",
      "Success in episode 39 at time step 160 with reward 98.6178666507656\n",
      "Episode 40\n",
      "Number of habit choices: 15\n",
      "Number of actions total: 28\n",
      "training on full data\n",
      "Success in episode 40 at time step 167 with reward 98.8797508385004\n",
      "Episode 41\n",
      "Number of habit choices: 17\n",
      "Number of actions total: 27\n",
      "training on full data\n",
      "Success in episode 41 at time step 157 with reward 99.08697750002229\n",
      "Episode 42\n",
      "Number of habit choices: 9\n",
      "Number of actions total: 17\n",
      "training on full data\n",
      "Success in episode 42 at time step 100 with reward 99.18640597287133\n",
      "Episode 43\n",
      "Number of habit choices: 15\n",
      "Number of actions total: 26\n",
      "training on full data\n",
      "Success in episode 43 at time step 156 with reward 98.96734721413337\n",
      "Episode 44\n",
      "Number of habit choices: 10\n",
      "Number of actions total: 26\n",
      "training on full data\n",
      "Success in episode 44 at time step 156 with reward 98.58925803284254\n",
      "Episode 45\n",
      "Number of habit choices: 25\n",
      "Number of actions total: 33\n",
      "training on full data\n",
      "Success in episode 45 at time step 195 with reward 99.0118803057184\n",
      "Episode 46\n",
      "Number of habit choices: 10\n",
      "Number of actions total: 33\n",
      "training on full data\n",
      "Success in episode 46 at time step 195 with reward 97.99543409311248\n",
      "Episode 47\n",
      "Number of habit choices: 15\n",
      "Number of actions total: 30\n",
      "training on full data\n",
      "Success in episode 47 at time step 179 with reward 98.75789306941793\n",
      "Episode 48\n",
      "Number of habit choices: 41\n",
      "Number of actions total: 52\n",
      "training on full data\n",
      "Success in episode 48 at time step 310 with reward 99.05078793864654\n",
      "Episode 49\n",
      "Number of habit choices: 25\n",
      "Number of actions total: 36\n",
      "training on full data\n",
      "Success in episode 49 at time step 215 with reward 98.73980645881896\n",
      "Episode 50\n",
      "Number of habit choices: 13\n",
      "Number of actions total: 28\n",
      "training on full data\n",
      "Success in episode 50 at time step 168 with reward 98.50483811793174\n",
      "Episode 51\n",
      "Number of habit choices: 11\n",
      "Number of actions total: 30\n",
      "training on full data\n",
      "Success in episode 51 at time step 176 with reward 98.33598876153344\n",
      "Episode 52\n",
      "Number of habit choices: 26\n",
      "Number of actions total: 40\n",
      "training on full data\n",
      "Success in episode 52 at time step 236 with reward 98.90405487058476\n",
      "Episode 53\n",
      "Number of habit choices: 8\n",
      "Number of actions total: 15\n",
      "training on full data\n",
      "Success in episode 53 at time step 90 with reward 99.29494518828896\n",
      "Episode 54\n",
      "Number of habit choices: 21\n",
      "Number of actions total: 31\n",
      "training on full data\n",
      "Success in episode 54 at time step 185 with reward 99.0348215047304\n",
      "Episode 55\n",
      "Number of habit choices: 13\n",
      "Number of actions total: 28\n",
      "training on full data\n",
      "Success in episode 55 at time step 168 with reward 98.61178181691483\n",
      "Episode 56\n",
      "Number of habit choices: 12\n",
      "Number of actions total: 31\n",
      "training on full data\n",
      "Success in episode 56 at time step 185 with reward 98.26430904064183\n",
      "Episode 57\n",
      "Number of habit choices: 5\n",
      "Number of actions total: 14\n",
      "training on full data\n",
      "Success in episode 57 at time step 84 with reward 99.15416002195013\n",
      "Episode 58\n",
      "Number of habit choices: 7\n",
      "Number of actions total: 18\n",
      "training on full data\n",
      "Success in episode 58 at time step 107 with reward 98.91634396364728\n",
      "Episode 59\n",
      "Number of habit choices: 6\n",
      "Number of actions total: 13\n",
      "training on full data\n",
      "Success in episode 59 at time step 77 with reward 99.201673574953\n",
      "Episode 60\n",
      "Number of habit choices: 15\n",
      "Number of actions total: 27\n",
      "training on full data\n",
      "Success in episode 60 at time step 161 with reward 98.93692703899896\n",
      "Episode 61\n",
      "Number of habit choices: 15\n",
      "Number of actions total: 39\n",
      "training on full data\n",
      "Success in episode 61 at time step 231 with reward 97.78951896910799\n",
      "Episode 62\n",
      "Number of habit choices: 23\n",
      "Number of actions total: 40\n",
      "training on full data\n",
      "Success in episode 62 at time step 239 with reward 98.29321404721566\n",
      "Episode 63\n",
      "Number of habit choices: 8\n",
      "Number of actions total: 14\n",
      "training on full data\n",
      "Success in episode 63 at time step 81 with reward 99.10039262662677\n",
      "Episode 64\n",
      "Number of habit choices: 14\n",
      "Number of actions total: 24\n",
      "training on full data\n",
      "Success in episode 64 at time step 141 with reward 98.97605298452285\n",
      "Episode 65\n",
      "Number of habit choices: 16\n",
      "Number of actions total: 26\n",
      "training on full data\n",
      "Success in episode 65 at time step 155 with reward 99.08910647351927\n",
      "Episode 66\n",
      "Number of habit choices: 6\n",
      "Number of actions total: 14\n",
      "training on full data\n",
      "Success in episode 66 at time step 80 with reward 99.22321689041365\n",
      "Episode 67\n",
      "Number of habit choices: 28\n",
      "Number of actions total: 36\n",
      "training on full data\n",
      "Success in episode 67 at time step 214 with reward 99.06677905071113\n",
      "Episode 68\n",
      "Number of habit choices: 4\n",
      "Number of actions total: 14\n",
      "training on full data\n",
      "Success in episode 68 at time step 81 with reward 99.02953728704969\n",
      "Episode 69\n",
      "Number of habit choices: 7\n",
      "Number of actions total: 14\n",
      "training on full data\n",
      "Success in episode 69 at time step 82 with reward 99.28973575931376\n",
      "Episode 70\n",
      "Number of habit choices: 14\n",
      "Number of actions total: 29\n",
      "training on full data\n",
      "Success in episode 70 at time step 173 with reward 98.35689423149424\n",
      "Episode 71\n",
      "Number of habit choices: 5\n",
      "Number of actions total: 14\n",
      "training on full data\n",
      "Success in episode 71 at time step 80 with reward 99.1750472105369\n",
      "Episode 72\n",
      "Number of habit choices: 15\n",
      "Number of actions total: 25\n",
      "training on full data\n",
      "Success in episode 72 at time step 148 with reward 98.96444074952933\n",
      "Episode 73\n",
      "Number of habit choices: 19\n",
      "Number of actions total: 28\n",
      "training on full data\n",
      "Success in episode 73 at time step 168 with reward 98.96679670790098\n",
      "Episode 74\n",
      "Number of habit choices: 9\n",
      "Number of actions total: 18\n",
      "training on full data\n",
      "Success in episode 74 at time step 108 with reward 99.02048823578423\n",
      "Episode 75\n",
      "Number of habit choices: 15\n",
      "Number of actions total: 27\n",
      "training on full data\n",
      "Success in episode 75 at time step 161 with reward 98.81325014909594\n",
      "Episode 76\n",
      "Number of habit choices: 19\n",
      "Number of actions total: 32\n",
      "training on full data\n",
      "Success in episode 76 at time step 191 with reward 98.58384374685589\n",
      "Episode 77\n",
      "Number of habit choices: 11\n",
      "Number of actions total: 28\n",
      "training on full data\n",
      "Success in episode 77 at time step 163 with reward 98.34568470393239\n",
      "Episode 78\n",
      "Number of habit choices: 17\n",
      "Number of actions total: 26\n",
      "training on full data\n",
      "Success in episode 78 at time step 153 with reward 98.92456967921513\n",
      "Episode 79\n",
      "Number of habit choices: 8\n",
      "Number of actions total: 26\n",
      "training on full data\n",
      "Success in episode 79 at time step 152 with reward 98.35662721032868\n",
      "Episode 80\n",
      "Number of habit choices: 6\n",
      "Number of actions total: 15\n",
      "training on full data\n",
      "Success in episode 80 at time step 85 with reward 99.01303371570917\n",
      "Episode 81\n",
      "Number of habit choices: 7\n",
      "Number of actions total: 16\n",
      "training on full data\n",
      "Success in episode 81 at time step 91 with reward 99.20245829936304\n",
      "Episode 82\n",
      "Number of habit choices: 6\n",
      "Number of actions total: 16\n",
      "training on full data\n",
      "Success in episode 82 at time step 93 with reward 99.08731676412057\n",
      "Episode 83\n",
      "Number of habit choices: 13\n",
      "Number of actions total: 27\n",
      "training on full data\n",
      "Success in episode 83 at time step 160 with reward 98.54561299748089\n",
      "Episode 84\n",
      "Number of habit choices: 19\n",
      "Number of actions total: 27\n",
      "training on full data\n",
      "Success in episode 84 at time step 162 with reward 99.09302248149964\n",
      "Episode 85\n",
      "Number of habit choices: 7\n",
      "Number of actions total: 15\n",
      "training on full data\n",
      "Success in episode 85 at time step 88 with reward 99.16637727736887\n",
      "Episode 86\n",
      "Number of habit choices: 18\n",
      "Number of actions total: 27\n",
      "training on full data\n",
      "Success in episode 86 at time step 162 with reward 98.84576603108935\n",
      "Episode 87\n",
      "Number of habit choices: 16\n",
      "Number of actions total: 29\n",
      "training on full data\n",
      "Success in episode 87 at time step 171 with reward 98.3019722804287\n",
      "Episode 88\n",
      "Number of habit choices: 12\n",
      "Number of actions total: 26\n",
      "training on full data\n",
      "Success in episode 88 at time step 152 with reward 98.51402982650283\n",
      "Episode 89\n",
      "Number of habit choices: 7\n",
      "Number of actions total: 15\n",
      "training on full data\n",
      "Success in episode 89 at time step 86 with reward 99.11742384019857\n",
      "Episode 90\n",
      "Number of habit choices: 14\n",
      "Number of actions total: 29\n",
      "training on full data\n",
      "Success in episode 90 at time step 169 with reward 98.60740798212488\n"
     ]
    }
   ],
   "source": [
    "# train the agent on the env\n",
    "env = gym.make('MountainCarContinuous-v0')\n",
    "daifa, results_two = train_single_agent(env, daifa, observation_max, observation_min, observation_noise_stddev, num_episodes=90, render_env=False)"
   ],
   "metadata": {
    "collapsed": false,
    "pycharm": {
     "name": "#%%\n"
    }
   }
  },
  {
   "cell_type": "code",
   "execution_count": 11,
   "outputs": [
    {
     "data": {
      "text/plain": "       reward  timesteps  num_actions\n0   99.278257        246           41\n1   99.255963        324           54\n2   99.354313        246           41\n3   98.990015        480           80\n4   99.035129        462           77\n5   99.262183        246           41\n6   99.123786        690          115\n7   99.309068        240           40\n8   99.236442        318           53\n9   99.416598        294           49\n10  99.193192        456           76\n11  99.052207        474           79\n12  99.100686        600          100\n13  99.034111        438           73\n14  98.933664        504           84\n15  99.288080        240           40\n16  99.114084        252           42\n17  99.309068        360           60\n18  99.337607        246           41\n19  99.387525        174           29",
      "text/html": "<div>\n<style scoped>\n    .dataframe tbody tr th:only-of-type {\n        vertical-align: middle;\n    }\n\n    .dataframe tbody tr th {\n        vertical-align: top;\n    }\n\n    .dataframe thead th {\n        text-align: right;\n    }\n</style>\n<table border=\"1\" class=\"dataframe\">\n  <thead>\n    <tr style=\"text-align: right;\">\n      <th></th>\n      <th>reward</th>\n      <th>timesteps</th>\n      <th>num_actions</th>\n    </tr>\n  </thead>\n  <tbody>\n    <tr>\n      <th>0</th>\n      <td>99.278257</td>\n      <td>246</td>\n      <td>41</td>\n    </tr>\n    <tr>\n      <th>1</th>\n      <td>99.255963</td>\n      <td>324</td>\n      <td>54</td>\n    </tr>\n    <tr>\n      <th>2</th>\n      <td>99.354313</td>\n      <td>246</td>\n      <td>41</td>\n    </tr>\n    <tr>\n      <th>3</th>\n      <td>98.990015</td>\n      <td>480</td>\n      <td>80</td>\n    </tr>\n    <tr>\n      <th>4</th>\n      <td>99.035129</td>\n      <td>462</td>\n      <td>77</td>\n    </tr>\n    <tr>\n      <th>5</th>\n      <td>99.262183</td>\n      <td>246</td>\n      <td>41</td>\n    </tr>\n    <tr>\n      <th>6</th>\n      <td>99.123786</td>\n      <td>690</td>\n      <td>115</td>\n    </tr>\n    <tr>\n      <th>7</th>\n      <td>99.309068</td>\n      <td>240</td>\n      <td>40</td>\n    </tr>\n    <tr>\n      <th>8</th>\n      <td>99.236442</td>\n      <td>318</td>\n      <td>53</td>\n    </tr>\n    <tr>\n      <th>9</th>\n      <td>99.416598</td>\n      <td>294</td>\n      <td>49</td>\n    </tr>\n    <tr>\n      <th>10</th>\n      <td>99.193192</td>\n      <td>456</td>\n      <td>76</td>\n    </tr>\n    <tr>\n      <th>11</th>\n      <td>99.052207</td>\n      <td>474</td>\n      <td>79</td>\n    </tr>\n    <tr>\n      <th>12</th>\n      <td>99.100686</td>\n      <td>600</td>\n      <td>100</td>\n    </tr>\n    <tr>\n      <th>13</th>\n      <td>99.034111</td>\n      <td>438</td>\n      <td>73</td>\n    </tr>\n    <tr>\n      <th>14</th>\n      <td>98.933664</td>\n      <td>504</td>\n      <td>84</td>\n    </tr>\n    <tr>\n      <th>15</th>\n      <td>99.288080</td>\n      <td>240</td>\n      <td>40</td>\n    </tr>\n    <tr>\n      <th>16</th>\n      <td>99.114084</td>\n      <td>252</td>\n      <td>42</td>\n    </tr>\n    <tr>\n      <th>17</th>\n      <td>99.309068</td>\n      <td>360</td>\n      <td>60</td>\n    </tr>\n    <tr>\n      <th>18</th>\n      <td>99.337607</td>\n      <td>246</td>\n      <td>41</td>\n    </tr>\n    <tr>\n      <th>19</th>\n      <td>99.387525</td>\n      <td>174</td>\n      <td>29</td>\n    </tr>\n  </tbody>\n</table>\n</div>"
     },
     "execution_count": 11,
     "metadata": {},
     "output_type": "execute_result"
    }
   ],
   "source": [
    "p = habit_policy(daifa)\n",
    "res = test_policy(env, p, observation_max, observation_min, observation_noise_stddev, 20, daifa.agent_time_ratio)\n",
    "res"
   ],
   "metadata": {
    "collapsed": false,
    "pycharm": {
     "name": "#%%\n"
    }
   }
  },
  {
   "cell_type": "code",
   "execution_count": 12,
   "outputs": [
    {
     "data": {
      "text/plain": "[<matplotlib.lines.Line2D at 0x16652b550>,\n <matplotlib.lines.Line2D at 0x1663b8eb0>]"
     },
     "execution_count": 12,
     "metadata": {},
     "output_type": "execute_result"
    },
    {
     "data": {
      "text/plain": "<Figure size 432x288 with 1 Axes>",
      "image/png": "[encoded data removed]"
     },
     "metadata": {
      "needs_background": "light"
     },
     "output_type": "display_data"
    }
   ],
   "source": [
    "obs_pos = np.vstack([np.linspace(-1, 1, 100), np.zeros(100)]).T\n",
    "\n",
    "latent_mean, _ , _ = daifa.model_vae.encoder(obs_pos)\n",
    "\n",
    "utils = daifa.prior_model(latent_mean)\n",
    "# print(utils)\n",
    "\n",
    "plt.plot(obs_pos, utils)"
   ],
   "metadata": {
    "collapsed": false,
    "pycharm": {
     "name": "#%%\n"
    }
   }
  },
  {
   "cell_type": "code",
   "execution_count": 13,
   "outputs": [
    {
     "data": {
      "text/plain": "[<matplotlib.lines.Line2D at 0x167cd6130>,\n <matplotlib.lines.Line2D at 0x167cd61c0>]"
     },
     "execution_count": 13,
     "metadata": {},
     "output_type": "execute_result"
    },
    {
     "data": {
      "text/plain": "<Figure size 432x288 with 1 Axes>",
      "image/png": "[encoded data removed]"
     },
     "metadata": {
      "needs_background": "light"
     },
     "output_type": "display_data"
    }
   ],
   "source": [
    "vel_pos = np.vstack([np.zeros(100), np.linspace(-1, 1, 100)]).T\n",
    "\n",
    "latent_mean, _ , _ = daifa.model_vae.encoder(vel_pos)\n",
    "\n",
    "utils = daifa.prior_model(latent_mean)\n",
    "# print(utils)\n",
    "\n",
    "plt.plot(vel_pos, utils)"
   ],
   "metadata": {
    "collapsed": false,
    "pycharm": {
     "name": "#%%\n"
    }
   }
  },
  {
   "cell_type": "code",
   "execution_count": 14,
   "outputs": [
    {
     "data": {
      "text/plain": "[<matplotlib.lines.Line2D at 0x168f94df0>,\n <matplotlib.lines.Line2D at 0x168f94700>]"
     },
     "execution_count": 14,
     "metadata": {},
     "output_type": "execute_result"
    },
    {
     "data": {
      "text/plain": "<Figure size 432x288 with 1 Axes>",
      "image/png": "[encoded data removed]"
     },
     "metadata": {
      "needs_background": "light"
     },
     "output_type": "display_data"
    }
   ],
   "source": [
    "obs_pos = np.vstack([np.linspace(-1, 1, 100), np.zeros(100)]).T\n",
    "\n",
    "latent_mean, _ , _ = daifa.model_vae.encoder(obs_pos)\n",
    "\n",
    "# utils = daifa.habit_action_model.actor_model(latent_mean)\n",
    "utils = daifa.select_habit_policy(latent_mean)\n",
    "# print(utils)\n",
    "\n",
    "plt.plot(obs_pos, utils)"
   ],
   "metadata": {
    "collapsed": false,
    "pycharm": {
     "name": "#%%\n"
    }
   }
  },
  {
   "cell_type": "code",
   "execution_count": 15,
   "outputs": [
    {
     "data": {
      "text/plain": "[<matplotlib.lines.Line2D at 0x168921610>,\n <matplotlib.lines.Line2D at 0x168921160>]"
     },
     "execution_count": 15,
     "metadata": {},
     "output_type": "execute_result"
    },
    {
     "data": {
      "text/plain": "<Figure size 432x288 with 1 Axes>",
      "image/png": "[encoded data removed]"
     },
     "metadata": {
      "needs_background": "light"
     },
     "output_type": "display_data"
    }
   ],
   "source": [
    "vel_pos = np.vstack([np.zeros(100), np.linspace(-1, 1, 100)]).T\n",
    "\n",
    "latent_mean, _ , _ = daifa.model_vae.encoder(vel_pos)\n",
    "\n",
    "# utils = daifa.habit_action_model.actor_model(latent_mean)\n",
    "utils = daifa.select_habit_policy(latent_mean)\n",
    "# print(utils)\n",
    "\n",
    "plt.plot(vel_pos, utils)"
   ],
   "metadata": {
    "collapsed": false,
    "pycharm": {
     "name": "#%%\n"
    }
   }
  },
  {
   "cell_type": "code",
   "execution_count": 16,
   "outputs": [
    {
     "name": "stderr",
     "output_type": "stream",
     "text": [
      "\n",
      "KeyboardInterrupt\n",
      "\n"
     ]
    }
   ],
   "source": [
    "env = gym.make('MountainCarContinuous-v0')\n",
    "res = test_policy(env, p, observation_max, observation_min, observation_noise_stddev, 5, daifa.agent_time_ratio, show_env=True)\n",
    "res"
   ],
   "metadata": {
    "collapsed": false,
    "pycharm": {
     "name": "#%%\n"
    }
   }
  },
  {
   "cell_type": "code",
   "execution_count": 17,
   "outputs": [
    {
     "data": {
      "text/plain": "     episode  success  sim_steps  VFE_post_run  noise_stddev  \\\n0          0    False        999     53.088947  [0.05, 0.05]   \n1          1     True        289     68.332474  [0.05, 0.05]   \n2          2    False        999     51.360619  [0.05, 0.05]   \n3          3     True        346     65.760208  [0.05, 0.05]   \n4          4     True         88     69.523987  [0.05, 0.05]   \n..       ...      ...        ...           ...           ...   \n145       85     True        162      7.457077  [0.05, 0.05]   \n146       86     True        171     10.279743  [0.05, 0.05]   \n147       87     True        152      8.516612  [0.05, 0.05]   \n148       88     True         86      7.471054  [0.05, 0.05]   \n149       89     True        169      8.910236  [0.05, 0.05]   \n\n     percent_use_fast_thinking  total_reward  agent_time_ratio  \n0                     0.059880    -14.746116                 6  \n1                     0.102041     95.863615                 6  \n2                     0.059880    -14.382629                 6  \n3                     0.017241     94.855233                 6  \n4                     0.000000     98.865845                 6  \n..                         ...           ...               ...  \n145                   0.666667     98.845766                 6  \n146                   0.551724     98.301972                 6  \n147                   0.461538     98.514030                 6  \n148                   0.466667     99.117424                 6  \n149                   0.482759     98.607408                 6  \n\n[150 rows x 8 columns]",
      "text/html": "<div>\n<style scoped>\n    .dataframe tbody tr th:only-of-type {\n        vertical-align: middle;\n    }\n\n    .dataframe tbody tr th {\n        vertical-align: top;\n    }\n\n    .dataframe thead th {\n        text-align: right;\n    }\n</style>\n<table border=\"1\" class=\"dataframe\">\n  <thead>\n    <tr style=\"text-align: right;\">\n      <th></th>\n      <th>episode</th>\n      <th>success</th>\n      <th>sim_steps</th>\n      <th>VFE_post_run</th>\n      <th>noise_stddev</th>\n      <th>percent_use_fast_thinking</th>\n      <th>total_reward</th>\n      <th>agent_time_ratio</th>\n    </tr>\n  </thead>\n  <tbody>\n    <tr>\n      <th>0</th>\n      <td>0</td>\n      <td>False</td>\n      <td>999</td>\n      <td>53.088947</td>\n      <td>[0.05, 0.05]</td>\n      <td>0.059880</td>\n      <td>-14.746116</td>\n      <td>6</td>\n    </tr>\n    <tr>\n      <th>1</th>\n      <td>1</td>\n      <td>True</td>\n      <td>289</td>\n      <td>68.332474</td>\n      <td>[0.05, 0.05]</td>\n      <td>0.102041</td>\n      <td>95.863615</td>\n      <td>6</td>\n    </tr>\n    <tr>\n      <th>2</th>\n      <td>2</td>\n      <td>False</td>\n      <td>999</td>\n      <td>51.360619</td>\n      <td>[0.05, 0.05]</td>\n      <td>0.059880</td>\n      <td>-14.382629</td>\n      <td>6</td>\n    </tr>\n    <tr>\n      <th>3</th>\n      <td>3</td>\n      <td>True</td>\n      <td>346</td>\n      <td>65.760208</td>\n      <td>[0.05, 0.05]</td>\n      <td>0.017241</td>\n      <td>94.855233</td>\n      <td>6</td>\n    </tr>\n    <tr>\n      <th>4</th>\n      <td>4</td>\n      <td>True</td>\n      <td>88</td>\n      <td>69.523987</td>\n      <td>[0.05, 0.05]</td>\n      <td>0.000000</td>\n      <td>98.865845</td>\n      <td>6</td>\n    </tr>\n    <tr>\n      <th>...</th>\n      <td>...</td>\n      <td>...</td>\n      <td>...</td>\n      <td>...</td>\n      <td>...</td>\n      <td>...</td>\n      <td>...</td>\n      <td>...</td>\n    </tr>\n    <tr>\n      <th>145</th>\n      <td>85</td>\n      <td>True</td>\n      <td>162</td>\n      <td>7.457077</td>\n      <td>[0.05, 0.05]</td>\n      <td>0.666667</td>\n      <td>98.845766</td>\n      <td>6</td>\n    </tr>\n    <tr>\n      <th>146</th>\n      <td>86</td>\n      <td>True</td>\n      <td>171</td>\n      <td>10.279743</td>\n      <td>[0.05, 0.05]</td>\n      <td>0.551724</td>\n      <td>98.301972</td>\n      <td>6</td>\n    </tr>\n    <tr>\n      <th>147</th>\n      <td>87</td>\n      <td>True</td>\n      <td>152</td>\n      <td>8.516612</td>\n      <td>[0.05, 0.05]</td>\n      <td>0.461538</td>\n      <td>98.514030</td>\n      <td>6</td>\n    </tr>\n    <tr>\n      <th>148</th>\n      <td>88</td>\n      <td>True</td>\n      <td>86</td>\n      <td>7.471054</td>\n      <td>[0.05, 0.05]</td>\n      <td>0.466667</td>\n      <td>99.117424</td>\n      <td>6</td>\n    </tr>\n    <tr>\n      <th>149</th>\n      <td>89</td>\n      <td>True</td>\n      <td>169</td>\n      <td>8.910236</td>\n      <td>[0.05, 0.05]</td>\n      <td>0.482759</td>\n      <td>98.607408</td>\n      <td>6</td>\n    </tr>\n  </tbody>\n</table>\n<p>150 rows × 8 columns</p>\n</div>"
     },
     "execution_count": 17,
     "metadata": {},
     "output_type": "execute_result"
    }
   ],
   "source": [
    "full_results = pd.concat([results_one, results_two])\n",
    "full_results = full_results.reset_index(drop=True)\n",
    "full_results"
   ],
   "metadata": {
    "collapsed": false,
    "pycharm": {
     "name": "#%%\n"
    }
   }
  },
  {
   "cell_type": "code",
   "execution_count": 18,
   "outputs": [],
   "source": [
    "T = np.arange(len(full_results))"
   ],
   "metadata": {
    "collapsed": false,
    "pycharm": {
     "name": "#%%\n"
    }
   }
  },
  {
   "cell_type": "code",
   "execution_count": 19,
   "outputs": [
    {
     "data": {
      "text/plain": "[<matplotlib.lines.Line2D at 0x169d19670>]"
     },
     "execution_count": 19,
     "metadata": {},
     "output_type": "execute_result"
    },
    {
     "data": {
      "text/plain": "<Figure size 432x288 with 1 Axes>",
      "image/png": "[encoded data removed]"
     },
     "metadata": {
      "needs_background": "light"
     },
     "output_type": "display_data"
    }
   ],
   "source": [
    "plt.plot(T, full_results.VFE_post_run)"
   ],
   "metadata": {
    "collapsed": false,
    "pycharm": {
     "name": "#%%\n"
    }
   }
  },
  {
   "cell_type": "code",
   "execution_count": 20,
   "outputs": [
    {
     "data": {
      "text/plain": "[<matplotlib.lines.Line2D at 0x168ce7100>]"
     },
     "execution_count": 20,
     "metadata": {},
     "output_type": "execute_result"
    },
    {
     "data": {
      "text/plain": "<Figure size 432x288 with 1 Axes>",
      "image/png": "[encoded data removed]"
     },
     "metadata": {
      "needs_background": "light"
     },
     "output_type": "display_data"
    }
   ],
   "source": [
    "T = np.arange(len(full_results))\n",
    "plt.plot(T, full_results.percent_use_fast_thinking)"
   ],
   "metadata": {
    "collapsed": false,
    "pycharm": {
     "name": "#%%\n"
    }
   }
  },
  {
   "cell_type": "code",
   "execution_count": 21,
   "outputs": [
    {
     "data": {
      "text/plain": "[<matplotlib.lines.Line2D at 0x2baacbaf0>]"
     },
     "execution_count": 21,
     "metadata": {},
     "output_type": "execute_result"
    },
    {
     "data": {
      "text/plain": "<Figure size 432x288 with 1 Axes>",
      "image/png": "[encoded data removed]"
     },
     "metadata": {
      "needs_background": "light"
     },
     "output_type": "display_data"
    }
   ],
   "source": [
    "plt.plot(T, full_results.total_reward)"
   ],
   "metadata": {
    "collapsed": false,
    "pycharm": {
     "name": "#%%\n"
    }
   }
  },
  {
   "cell_type": "code",
   "execution_count": 22,
   "outputs": [
    {
     "data": {
      "text/plain": "[<matplotlib.lines.Line2D at 0x1736dab20>]"
     },
     "execution_count": 22,
     "metadata": {},
     "output_type": "execute_result"
    },
    {
     "data": {
      "text/plain": "<Figure size 432x288 with 1 Axes>",
      "image/png": "[encoded data removed]"
     },
     "metadata": {
      "needs_background": "light"
     },
     "output_type": "display_data"
    }
   ],
   "source": [
    "plt.plot(T, full_results.sim_steps)"
   ],
   "metadata": {
    "collapsed": false,
    "pycharm": {
     "name": "#%%\n"
    }
   }
  },
  {
   "cell_type": "code",
   "execution_count": null,
   "outputs": [],
   "source": [],
   "metadata": {
    "collapsed": false,
    "pycharm": {
     "name": "#%%\n"
    }
   }
  }
 ],
 "metadata": {
  "kernelspec": {
   "display_name": "Python 3",
   "language": "python",
   "name": "python3"
  },
  "language_info": {
   "codemirror_mode": {
    "name": "ipython",
    "version": 2
   },
   "file_extension": ".py",
   "mimetype": "text/x-python",
   "name": "python",
   "nbconvert_exporter": "python",
   "pygments_lexer": "ipython2",
   "version": "2.7.6"
  }
 },
 "nbformat": 4,
 "nbformat_minor": 0
}